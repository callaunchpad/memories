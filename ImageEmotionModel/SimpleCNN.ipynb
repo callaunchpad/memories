{
 "cells": [
  {
   "cell_type": "code",
   "execution_count": 16,
   "metadata": {},
   "outputs": [],
   "source": [
    "import torch\n",
    "import torch.nn as nn\n",
    "import torch.nn.functional as F\n",
    "import torch.optim as optim\n",
    "from torch.utils.data import Dataset, DataLoader\n",
    "\n",
    "import torchvision\n",
    "import torchvision.transforms as transforms\n",
    "import torchvision.datasets as datasets\n",
    "\n",
    "import matplotlib.pyplot as plt\n",
    "import numpy as np"
   ]
  },
  {
   "cell_type": "code",
   "execution_count": 20,
   "metadata": {},
   "outputs": [
    {
     "data": {
      "text/plain": [
       "['amusement', 'awe', 'contentment', 'excitement', 'sadness']"
      ]
     },
     "execution_count": 20,
     "metadata": {},
     "output_type": "execute_result"
    }
   ],
   "source": [
    "transform = transforms.Compose([\n",
    "        transforms.Resize((32, 32)),\n",
    "        transforms.ToTensor(),\n",
    "        transforms.Normalize([0.485, 0.456, 0.406], [0.229, 0.224, 0.225])\n",
    "    ]\n",
    ")\n",
    "\n",
    "train_dir = './ImageEmotionDatasetMid/train'\n",
    "train_dataset = datasets.ImageFolder(train_dir, transform=transform)\n",
    "\n",
    "train_dataset.classes"
   ]
  },
  {
   "cell_type": "code",
   "execution_count": 21,
   "metadata": {},
   "outputs": [],
   "source": [
    "train_loader = DataLoader(train_dataset, batch_size=16, shuffle=True, num_workers=2)"
   ]
  },
  {
   "cell_type": "code",
   "execution_count": 22,
   "metadata": {},
   "outputs": [],
   "source": [
    "class Net(nn.Module):\n",
    "    def __init__(self):\n",
    "        super(Net, self).__init__()\n",
    "        self.conv1 = nn.Conv2d(3, 6, 5)  # in channel: 3, out channel: 6, kernel size: 5, output size: 28\n",
    "        self.pool = nn.MaxPool2d(2, 2)  # size 14\n",
    "        self.conv2 = nn.Conv2d(6, 16, 5)  # in: 6, out: 16, kernel: 5, output size: 10\n",
    "        # self.pool again, size 5\n",
    "        self.fc1 = nn.Linear(16 * 5 * 5, 120)\n",
    "        self.fc2 = nn.Linear(120, 84)\n",
    "        self.fc3 = nn.Linear(84, 10)\n",
    "        \n",
    "    def forward(self, x):\n",
    "        x = self.conv1(x)\n",
    "        x = F.relu(x)\n",
    "        x = self.pool(x)\n",
    "        x = self.conv2(x)\n",
    "        x = F.relu(x)\n",
    "        x = self.pool(x)\n",
    "        x = x.view(-1, 16 * 5 * 5)\n",
    "        x = F.relu(self.fc1(x))\n",
    "        x = F.relu(self.fc2(x))\n",
    "        x = self.fc3(x)\n",
    "        return x\n",
    "        \n",
    "net = Net()"
   ]
  },
  {
   "cell_type": "code",
   "execution_count": 23,
   "metadata": {},
   "outputs": [],
   "source": [
    "criterion = nn.CrossEntropyLoss()\n",
    "optimizer = optim.Adam(net.parameters(), lr=0.001)"
   ]
  },
  {
   "cell_type": "code",
   "execution_count": 25,
   "metadata": {},
   "outputs": [
    {
     "name": "stdout",
     "output_type": "stream",
     "text": [
      "Epoch 0 - loss: 80.4298586845398\n",
      "Epoch 1 - loss: 77.50597900152206\n",
      "Epoch 2 - loss: 73.64729934930801\n",
      "Epoch 3 - loss: 71.42421662807465\n",
      "Epoch 4 - loss: 68.16079822182655\n",
      "Epoch 5 - loss: 64.7278288602829\n",
      "Epoch 6 - loss: 61.95002228021622\n",
      "Epoch 7 - loss: 57.252868473529816\n",
      "Epoch 8 - loss: 54.784678012132645\n",
      "Epoch 9 - loss: 46.57884230837226\n",
      "Epoch 10 - loss: 41.52404676750302\n",
      "Epoch 11 - loss: 34.58390332758427\n",
      "Epoch 12 - loss: 32.69490644335747\n",
      "Epoch 13 - loss: 25.054055124521255\n",
      "Epoch 14 - loss: 20.09164310246706\n",
      "Epoch 15 - loss: 22.135679356055334\n",
      "Epoch 16 - loss: 13.098901857272722\n",
      "Epoch 17 - loss: 10.304568413645029\n",
      "Epoch 18 - loss: 7.4331253338605165\n",
      "Epoch 19 - loss: 5.582169453584356\n",
      "Epoch 20 - loss: 2.7078596958658636\n",
      "Epoch 21 - loss: 2.145105203613639\n",
      "Epoch 22 - loss: 1.5484713953919709\n",
      "Epoch 23 - loss: 1.2439634518232197\n",
      "Epoch 24 - loss: 0.872355937026434\n",
      "Epoch 25 - loss: 0.645902048330754\n",
      "Epoch 26 - loss: 0.4110079776728526\n",
      "Epoch 27 - loss: 0.3292241853196174\n",
      "Epoch 28 - loss: 0.18757634721987415\n",
      "Epoch 29 - loss: 0.16362054710043594\n",
      "Epoch 30 - loss: 0.1357481091599766\n",
      "Epoch 31 - loss: 0.11541858525015414\n",
      "Epoch 32 - loss: 0.10064464312745258\n",
      "Epoch 33 - loss: 0.09231055157783885\n",
      "Epoch 34 - loss: 0.08428746070421766\n",
      "Epoch 35 - loss: 0.09716684762679506\n",
      "Epoch 36 - loss: 0.08265430646133609\n",
      "Epoch 37 - loss: 0.06512773937811289\n",
      "Epoch 38 - loss: 0.05817987925547641\n",
      "Epoch 39 - loss: 0.05306260308123001\n",
      "Epoch 40 - loss: 0.04950804097461514\n",
      "Epoch 41 - loss: 0.045977434478118084\n",
      "Epoch 42 - loss: 0.04284776957865688\n",
      "Epoch 43 - loss: 0.03982474305666983\n",
      "Epoch 44 - loss: 0.037176793947310216\n",
      "Epoch 45 - loss: 0.03556083462899551\n",
      "Epoch 46 - loss: 0.03284193441277239\n",
      "Epoch 47 - loss: 0.03264096008206252\n",
      "Epoch 48 - loss: 0.030291492876131088\n",
      "Epoch 49 - loss: 0.027271179385934374\n",
      "Finished training\n"
     ]
    }
   ],
   "source": [
    "epochs = 50\n",
    "\n",
    "for epoch in range(epochs):\n",
    "    running_loss = 0.0\n",
    "    for i, data in enumerate(train_loader, 0):\n",
    "        inputs, labels = data\n",
    "        \n",
    "        optimizer.zero_grad()\n",
    "        \n",
    "        outputs = net(inputs)\n",
    "        loss = criterion(outputs, labels)\n",
    "        loss.backward()\n",
    "        optimizer.step()\n",
    "        \n",
    "        # stats\n",
    "        running_loss += loss.item()\n",
    "    \n",
    "    # end of epoch\n",
    "    print(f'Epoch {epoch} - loss: {running_loss}')\n",
    "\n",
    "print('Finished training')"
   ]
  },
  {
   "cell_type": "code",
   "execution_count": 26,
   "metadata": {},
   "outputs": [],
   "source": [
    "save_dir = './test_model.pth'\n",
    "torch.save(net.state_dict(), save_dir)"
   ]
  },
  {
   "cell_type": "code",
   "execution_count": 27,
   "metadata": {},
   "outputs": [
    {
     "data": {
      "text/plain": [
       "['amusement', 'awe', 'contentment', 'excitement', 'sadness']"
      ]
     },
     "execution_count": 27,
     "metadata": {},
     "output_type": "execute_result"
    }
   ],
   "source": [
    "test_dir = './ImageEmotionDatasetMid/test'\n",
    "test_dataset = datasets.ImageFolder(test_dir, transform=transform)\n",
    "\n",
    "test_dataset.classes"
   ]
  },
  {
   "cell_type": "code",
   "execution_count": 31,
   "metadata": {},
   "outputs": [],
   "source": [
    "# copied this from the sample lol\n",
    "def imshow(inp, title=None):\n",
    "    \"\"\"Imshow for Tensor.\"\"\"\n",
    "    inp = inp.numpy().transpose((1, 2, 0))\n",
    "    mean = np.array([0.485, 0.456, 0.406])\n",
    "    std = np.array([0.229, 0.224, 0.225])\n",
    "    inp = std * inp + mean\n",
    "    inp = np.clip(inp, 0, 1)\n",
    "    plt.imshow(inp)\n",
    "    if title is not None:\n",
    "        plt.title(title)\n",
    "    plt.pause(0.001)  # pause a bit so that plots are updated"
   ]
  },
  {
   "cell_type": "code",
   "execution_count": 37,
   "metadata": {},
   "outputs": [],
   "source": [
    "test_loader = DataLoader(test_dataset, batch_size=4, shuffle=True, num_workers=2)"
   ]
  },
  {
   "cell_type": "code",
   "execution_count": 38,
   "metadata": {},
   "outputs": [
    {
     "data": {
      "image/png": "[encoded data removed]",
      "text/plain": [
       "<Figure size 432x288 with 1 Axes>"
      ]
     },
     "metadata": {
      "needs_background": "light"
     },
     "output_type": "display_data"
    },
    {
     "name": "stdout",
     "output_type": "stream",
     "text": [
      "Ground Truth:    awe   awe contentment sadness\n"
     ]
    }
   ],
   "source": [
    "dataiter = iter(test_loader)\n",
    "\n",
    "images, labels = dataiter.next()\n",
    "imshow(torchvision.utils.make_grid(images))\n",
    "print('Ground Truth: ', ' '.join('%5s' % test_dataset.classes[labels[j]] for j in range(4)))"
   ]
  },
  {
   "cell_type": "code",
   "execution_count": 39,
   "metadata": {},
   "outputs": [
    {
     "name": "stdout",
     "output_type": "stream",
     "text": [
      "Predicted:    awe   awe excitement sadness\n"
     ]
    }
   ],
   "source": [
    "with torch.no_grad():\n",
    "    outputs = net(images)\n",
    "    _, predicted = torch.max(outputs, 1)\n",
    "    print('Predicted: ', ' '.join('%5s' % test_dataset.classes[predicted[j]] for j in range(4)))"
   ]
  },
  {
   "cell_type": "code",
   "execution_count": 41,
   "metadata": {},
   "outputs": [
    {
     "name": "stdout",
     "output_type": "stream",
     "text": [
      "Accuracy of the network on all test images: 30 %\n"
     ]
    }
   ],
   "source": [
    "correct = 0\n",
    "total = 0\n",
    "with torch.no_grad():\n",
    "    for data in test_loader:\n",
    "        images, labels = data\n",
    "        outputs = net(images)\n",
    "        _, predicted = torch.max(outputs.data, 1)\n",
    "        total += labels.size(0)\n",
    "        correct += (predicted == labels).sum().item()\n",
    "\n",
    "print('Accuracy of the network on all test images: %d %%' % (100 * correct / total))"
   ]
  },
  {
   "cell_type": "code",
   "execution_count": 43,
   "metadata": {},
   "outputs": [
    {
     "name": "stdout",
     "output_type": "stream",
     "text": [
      "Accuracy of the network on all train images: 100 %\n"
     ]
    }
   ],
   "source": [
    "correct = 0\n",
    "total = 0\n",
    "with torch.no_grad():\n",
    "    for data in train_loader:\n",
    "        images, labels = data\n",
    "        outputs = net(images)\n",
    "        _, predicted = torch.max(outputs.data, 1)\n",
    "        total += labels.size(0)\n",
    "        correct += (predicted == labels).sum().item()\n",
    "\n",
    "print('Accuracy of the network on all train images: %d %%' % (100 * correct / total))"
   ]
  },
  {
   "cell_type": "markdown",
   "metadata": {},
   "source": [
    "lmao completely overfitted"
   ]
  },
  {
   "cell_type": "code",
   "execution_count": null,
   "metadata": {},
   "outputs": [],
   "source": []
  }
 ],
 "metadata": {
  "kernelspec": {
   "display_name": "memories",
   "language": "python",
   "name": "memories"
  },
  "language_info": {
   "codemirror_mode": {
    "name": "ipython",
    "version": 3
   },
   "file_extension": ".py",
   "mimetype": "text/x-python",
   "name": "python",
   "nbconvert_exporter": "python",
   "pygments_lexer": "ipython3",
   "version": "3.6.9"
  }
 },
 "nbformat": 4,
 "nbformat_minor": 2
}
