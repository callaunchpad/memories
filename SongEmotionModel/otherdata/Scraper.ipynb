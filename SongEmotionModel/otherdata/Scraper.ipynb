{
 "cells": [
  {
   "cell_type": "code",
   "execution_count": 2,
   "metadata": {},
   "outputs": [],
   "source": [
    "import csv\n",
    "\n",
    "song_to_urls = {}\n",
    "\n",
    "with open('YouTubeURLs.csv') as csv_file:\n",
    "    csv_reader = csv.reader(csv_file, delimiter=',')\n",
    "    line_count = 0\n",
    "    for row in csv_reader:\n",
    "        song_to_urls[row[0]] = row[1:]"
   ]
  },
  {
   "cell_type": "code",
   "execution_count": 13,
   "metadata": {},
   "outputs": [],
   "source": [
    "def save_song(url_raw, song_id):\n",
    "    URL = url_raw.strip()\n",
    "    try:\n",
    "        video = pafy.new(URL)\n",
    "        # Check that the duration of the video is less than 10 minutes\n",
    "        duration =  video.duration.split(':')\n",
    "        if int(duration[0]) == 0 and int(duration[1]) <= 10:\n",
    "            bestaudio = video.getbestaudio(preftype=\"m4a\")\n",
    "            bestaudio.download(filepath = './songs/' + song_id + '.m4a')\n",
    "            return True\n",
    "        else:\n",
    "            return False\n",
    "    except:\n",
    "        print(\"Failed!\")\n",
    "        time.sleep(21)\n",
    "        return False"
   ]
  },
  {
   "cell_type": "code",
   "execution_count": 7,
   "metadata": {},
   "outputs": [],
   "source": [
    "# armaan: TRAVMHF128F1474B21 - TRBNXIL128F92FE771\n",
    "# carly: TRBNYQI128F422BC52 - TRBZZKG128F4259A48"
   ]
  },
  {
   "cell_type": "code",
   "execution_count": 8,
   "metadata": {},
   "outputs": [
    {
     "name": "stderr",
     "output_type": "stream",
     "text": [
      "ERROR: Video unavailable\n"
     ]
    },
    {
     "name": "stdout",
     "output_type": "stream",
     "text": [
      "Failed!\n"
     ]
    },
    {
     "name": "stderr",
     "output_type": "stream",
     "text": [
      "ERROR: Video unavailable\n"
     ]
    },
    {
     "name": "stdout",
     "output_type": "stream",
     "text": [
      "Failed!\n"
     ]
    },
    {
     "name": "stderr",
     "output_type": "stream",
     "text": [
      "ERROR: Video unavailable\n"
     ]
    },
    {
     "name": "stdout",
     "output_type": "stream",
     "text": [
      "Failed!\n",
      "\n",
      "\n",
      "\n",
      "\n",
      "\n",
      "\n",
      "\n",
      "\n",
      "\n",
      "\n",
      "\n"
     ]
    },
    {
     "name": "stderr",
     "output_type": "stream",
     "text": [
      "ERROR: Video unavailable\n"
     ]
    },
    {
     "name": "stdout",
     "output_type": "stream",
     "text": [
      "Failed!\n"
     ]
    },
    {
     "name": "stderr",
     "output_type": "stream",
     "text": [
      "ERROR: Video unavailable\n"
     ]
    },
    {
     "name": "stdout",
     "output_type": "stream",
     "text": [
      "Failed!\n"
     ]
    },
    {
     "name": "stderr",
     "output_type": "stream",
     "text": [
      "ERROR: Video unavailable\n"
     ]
    },
    {
     "name": "stdout",
     "output_type": "stream",
     "text": [
      "Failed!\n"
     ]
    },
    {
     "name": "stderr",
     "output_type": "stream",
     "text": [
      "ERROR: Video unavailable\n"
     ]
    },
    {
     "name": "stdout",
     "output_type": "stream",
     "text": [
      "Failed!\n",
      "  2,335,351.0 Bytes [100.00%] received. Rate: [13484 KB/s].  ETA: [0 secs]    \n",
      "  3,268,984.0 Bytes [100.00%] received. Rate: [16701 KB/s].  ETA: [0 secs]    \n",
      "  3,750,415.0 Bytes [100.00%] received. Rate: [14326 KB/s].  ETA: [0 secs]    \n",
      "  3,262,255.0 Bytes [100.00%] received. Rate: [19109 KB/s].  ETA: [0 secs]    \n"
     ]
    },
    {
     "name": "stderr",
     "output_type": "stream",
     "text": [
      "ERROR: Video unavailable\n"
     ]
    },
    {
     "name": "stdout",
     "output_type": "stream",
     "text": [
      "Failed!\n",
      "  7,884,675.0 Bytes [100.00%] received. Rate: [13108 KB/s].  ETA: [0 secs]    \n"
     ]
    }
   ],
   "source": [
    "import pafy\n",
    "import time\n",
    "\n",
    "sample_URLs = ['wdPAIXBmcF0', 'FiiA9OSm5lc']\n",
    "first_id = 'TRBNQYY12903D021D4'\n",
    "last_id = 'TRBNXIL128F92FE771'\n",
    "\n",
    "running = False\n",
    "\n",
    "for song in song_to_urls.keys():\n",
    "    if song == first_id:\n",
    "        running = True\n",
    "    \n",
    "    if running:\n",
    "        urls = song_to_urls[song]\n",
    "    \n",
    "        url_num = 0\n",
    "        while url_num < len(urls) and not save_song(urls[url_num], song):\n",
    "            url_num += 1\n",
    "        \n",
    "    if song == last_id:\n",
    "        running = False\n",
    "        break"
   ]
  },
  {
   "cell_type": "code",
   "execution_count": 6,
   "metadata": {},
   "outputs": [],
   "source": [
    "from os import listdir\n",
    "from os.path import isfile, join\n",
    "mypath = \"./songs\"\n",
    "onlyfiles = [f for f in listdir(mypath) if isfile(join(mypath, f))]"
   ]
  },
  {
   "cell_type": "code",
   "execution_count": 7,
   "metadata": {},
   "outputs": [
    {
     "data": {
      "text/plain": [
       "['TRALRLW12903CC37A7.m4a',\n",
       " 'TRBDCUD128F4265049.m4a',\n",
       " 'TRAPYHT128E0785F68.m4a',\n",
       " 'TRAKYHF128F42944ED.m4a',\n",
       " 'TRALTBO128F1461DC1.m4a',\n",
       " 'TRAZPYA128F1491C19.m4a',\n",
       " 'TRAKLEZ128F4270649.m4a',\n",
       " 'TRBLSVS128F428038D.m4a',\n",
       " 'TRBFAES12903CE2660.m4a',\n",
       " 'TRAFDIU128F145CB16.m4a',\n",
       " 'TRANMGR128F9307086.m4a',\n",
       " 'TRAAPKQ128F4234DFE.m4a',\n",
       " 'TRAVFAZ128F42626D2.m4a',\n",
       " 'TRACPZA128F933A56C.m4a',\n",
       " 'TRACMSK128F428FF9B.m4a',\n",
       " 'TRAFUNV128F92CFEB2.m4a',\n",
       " 'TRBBAHD128F428E0FE.m4a',\n",
       " 'TRBATXY128E07937B5.m4a',\n",
       " 'TRAUJEV128F42AACAA.m4a',\n",
       " 'TRBMKVF128E0789440.m4a',\n",
       " 'TRACFQR128E0793D87.m4a',\n",
       " 'TRBMDFK128F933365B.m4a',\n",
       " 'TRAYREC128F4288888.m4a',\n",
       " 'TRBJJNC128F92E8C10.m4a',\n",
       " 'TRAVJTJ128F42BC4DA.m4a',\n",
       " 'TRABYQX128F427CF08.m4a',\n",
       " 'TRAOWMF128C7196B43.m4a',\n",
       " 'TRAATEV128F92F8000.m4a',\n",
       " 'TRBANSV128F93131DD.m4a',\n",
       " 'TRAPJFL128F42AA7B4.m4a',\n",
       " 'TRBEIZM128F145BA2D.m4a',\n",
       " 'TRBFESF12903CD889B.m4a',\n",
       " 'TRBKHAD128F92DE59A.m4a',\n",
       " 'TRAADKW128E079503A.m4a',\n",
       " 'TRADQHV128F92CD663.m4a',\n",
       " 'TRALSSG128F933D4D2.m4a',\n",
       " 'TRBLMJP128F14988B7.m4a',\n",
       " 'TRAWKWI128F427D2A3.m4a',\n",
       " 'TRBNIDH128F429810A.m4a',\n",
       " 'TRANGCR128F148CF28.m4a',\n",
       " 'TRBBJAO128F424C295.m4a',\n",
       " 'TRAFSAN128F42759C6.m4a',\n",
       " 'TRAARCW12903CEB779.m4a',\n",
       " 'TRASHSN12903CA9E34.m4a',\n",
       " 'TRARVKL128F42AF84C.m4a',\n",
       " 'TRAFAIB128F426E636.m4a',\n",
       " 'TRAWWQR128F9342954.m4a',\n",
       " 'TRAFXVL128EF34E0EF.m4a',\n",
       " 'TRBJXRM128F92EF3AD.m4a',\n",
       " 'TRASJNI128F92FDB29.m4a',\n",
       " 'TRADBAZ128F428B657.m4a',\n",
       " 'TRBIMCW128EF34A1EA.m4a',\n",
       " 'TRABGNX128F92ECF1C.m4a',\n",
       " 'TRBCBXZ128F14628C3.m4a',\n",
       " 'TRADNZM128F9300DF3.m4a',\n",
       " 'TRAJCVW128F429223D.m4a',\n",
       " 'TRBCEKQ12903CDDF56.m4a',\n",
       " 'TRATSJC128E078A706.m4a',\n",
       " 'TRACLBE128F1485B63.m4a',\n",
       " 'TRAGZKE128F92C4890.m4a',\n",
       " 'TRAFHZD128F428142B.m4a',\n",
       " 'TRALZYZ128F426F24B.m4a',\n",
       " 'TRAJWPS128F9319E3A.m4a',\n",
       " 'TRBBWUG128F9325CAF.m4a',\n",
       " 'TRAOTFW128F92E36A9.m4a',\n",
       " 'TRBDASV128F426B8A7.m4a',\n",
       " 'TRAZYAU12903CBAC78.m4a',\n",
       " 'TRBEGGR128F931E6AC.m4a',\n",
       " 'TRAASED12903CEE1C5.m4a',\n",
       " 'TRAWZHY128F932C2AF.m4a',\n",
       " 'TRAAOIK128F424BFED.m4a',\n",
       " 'TRBJBSX128F428CD65.m4a',\n",
       " 'TRAAMCQ128F4259A2F.m4a',\n",
       " 'TRANJTV128F933E6D9.m4a',\n",
       " 'TRBMHIO128F428AE9E.m4a',\n",
       " 'TRAEHEI128E07844B9.m4a',\n",
       " 'TRAOFIS128E07958B0.m4a',\n",
       " 'TRAEFGO128F92F7E9F.m4a',\n",
       " 'TRBATIF128F149246C.m4a',\n",
       " 'TRAIHPX128F428081B.m4a',\n",
       " 'TRBIUAL128F92EFD12.m4a',\n",
       " 'TRALHLH128F1464D23.m4a',\n",
       " 'TRAKWUV128F42699BD.m4a',\n",
       " 'TRAMIHQ128F4262218.m4a',\n",
       " 'TRBEMRG128E0786BB8.m4a',\n",
       " 'TRAWOYN128F92F2D34.m4a',\n",
       " 'TRBHRDQ128F42B0D06.m4a',\n",
       " 'TRAHOGS12903D0A074.m4a',\n",
       " 'TRBEVCZ128E0781059.m4a',\n",
       " 'TRAFSGL128F42ADA3E.m4a',\n",
       " 'TRALLSG128F425A685.m4a',\n",
       " 'TRAVJDN128F92EA542.m4a',\n",
       " 'TRBGMSR128F42482AA.m4a',\n",
       " 'TRAAZVG128F425A9BD.m4a',\n",
       " 'TRBHCXR128F92E7D0E.m4a',\n",
       " 'TRAULQH128F4296B5E.m4a',\n",
       " 'TRAAHXF128F146D23E.m4a',\n",
       " 'TRAEXIY12903D123B0.m4a',\n",
       " 'TRACGHI128F427EC93.m4a',\n",
       " 'TRAIAIV128F4281D34.m4a',\n",
       " 'TRABBFC128F428DFC5.m4a',\n",
       " 'TRBKUZK128F92F069C.m4a',\n",
       " 'TRANYIH128F425DE5D.m4a',\n",
       " 'TRBKMAL128F92D5092.m4a',\n",
       " 'TRBIUKI128EF349898.m4a',\n",
       " 'TRBLCGI12903CFC8A1.m4a',\n",
       " 'TRAZKBJ128F931A3ED.m4a',\n",
       " 'TRAZRKI128F426A244.m4a',\n",
       " 'TRBAWIU128F1458397.m4a',\n",
       " 'TRBFKOV128F426DDF1.m4a',\n",
       " 'TRAZDPO128E078ECE6.m4a',\n",
       " 'TRAKXMS12903CB36F2.m4a',\n",
       " 'TRABUML128F4214EBB.m4a',\n",
       " 'TRAHKLC12903CC632E.m4a',\n",
       " 'TRAPTYG128F9349F04.m4a',\n",
       " 'TRATYUK128F932A6F7.m4a',\n",
       " 'TRATSMR128E07984F1.m4a',\n",
       " 'TRBEIVK128F9350952.m4a',\n",
       " 'TRAHRFD12903CD8E86.m4a',\n",
       " 'TRAKHLM128F9351DD5.m4a',\n",
       " 'TRACDRB128F93617EE.m4a',\n",
       " 'TRAABHO12903D08576.m4a',\n",
       " 'TRAGREL12903CC2F14.m4a',\n",
       " 'TRANANL128E0791ECF.m4a',\n",
       " 'TRAWGWO12903D0E5C4.m4a',\n",
       " 'TRAADLN128F14832E9.m4a',\n",
       " 'TRBIFGK128F92F23A2.m4a',\n",
       " 'TRAZLTE12903CF167E.m4a',\n",
       " 'TRAGSGF128E0780CA7.m4a',\n",
       " 'TRAAFGQ128F427D884.m4a',\n",
       " 'TRAMNJB128F92EFDC7.m4a',\n",
       " 'TRBGCIG128E0799AEA.m4a',\n",
       " 'TRBEXHF128F4266092.m4a',\n",
       " 'TRBFBJF128F425A989.m4a',\n",
       " 'TRAACZN128F93236B1.m4a',\n",
       " 'TRAGCDU128F421C35F.m4a',\n",
       " 'TRAWOYD128F4215DDD.m4a',\n",
       " 'TRBGGOS128F9307FC5.m4a',\n",
       " 'TRATMBD128F92D3CC5.m4a',\n",
       " 'TRBMEYM128F42622AD.m4a',\n",
       " 'TRAXVZB128E0786351.m4a',\n",
       " 'TRBNFAC12903CFB7B9.m4a',\n",
       " 'TRAZURS128F14A1CD2.m4a',\n",
       " 'TRAWXBP128F14A1431.m4a',\n",
       " 'TRBAZFJ128F423AB5C.m4a',\n",
       " 'TRBERKL128F92FACFF.m4a',\n",
       " 'TRBESFS128F1488415.m4a',\n",
       " 'TRAZCMI128F14557B9.m4a',\n",
       " 'TRBLQKO128F9322DAC.m4a',\n",
       " 'TRBBSPM128F930D34F.m4a',\n",
       " 'TRADVGV128F42BCACE.m4a',\n",
       " 'TRBKCYQ128F42527C9.m4a',\n",
       " 'TRAHFUR128F4294277.m4a',\n",
       " 'TRAKTWZ128EF35E206.m4a',\n",
       " 'TRBDYYV12903CB0077.m4a',\n",
       " 'TRBLEMW128F9343BC3.m4a',\n",
       " 'TRAXZSK128F930EDE3.m4a',\n",
       " 'TRATLLI128F92FDCAA.m4a',\n",
       " 'TRAHRGA12903CBB8AA.m4a',\n",
       " 'TRBBXKB128F423EE51.m4a',\n",
       " 'TRATNTM128F92CB1AB.m4a',\n",
       " 'TRBHCSV12903CFCC54.m4a',\n",
       " 'TRBAVIJ12903CACB00.m4a',\n",
       " 'TRBNLRU128F4228AE7.m4a',\n",
       " 'TRBDEBY128F427C0B0.m4a',\n",
       " 'TRBAZWU128F9331B4D.m4a',\n",
       " 'TRARTGG128F424ABCD.m4a',\n",
       " 'TRAJGEP12903CAFC1F.m4a',\n",
       " 'TRBDWDQ128F1455787.m4a',\n",
       " 'TRBKNBF128F92F372A.m4a',\n",
       " 'TRAOMYU12903CF2C83.m4a',\n",
       " 'TRAURHT128E0780FAB.m4a',\n",
       " 'TRAUVBB128F4240632.m4a',\n",
       " 'TRAYOXN128E07926A8.m4a',\n",
       " 'TRBCGSK128EF342C1B.m4a',\n",
       " 'TRBNEAD128F428B5F5.m4a',\n",
       " 'TRBHAZW128F933B1CE.m4a',\n",
       " 'TRAZEWB128F92D5D2F.m4a',\n",
       " 'TRAYLIR128F422B8FC.m4a',\n",
       " 'TRAJKQZ128F1465490.m4a',\n",
       " 'TRARZLY128F147F7D9.m4a',\n",
       " 'TRAEUFF128F424EAAF.m4a',\n",
       " 'TRAINSA12903D0CEB9.m4a',\n",
       " 'TRBFXWP128F92F3673.m4a',\n",
       " 'TRBFDOG128F149968A.m4a',\n",
       " 'TRAAWZV128F42BC229.m4a',\n",
       " 'TRADGJI128F425A744.m4a',\n",
       " 'TRAVEAA12903CED030.m4a',\n",
       " 'TRAVNUK128F92F274F.m4a',\n",
       " 'TRBHWNU128F42B460C.m4a',\n",
       " 'TRAAAGR128F425B14B.m4a',\n",
       " 'TRBGQHZ128F424EA56.m4a',\n",
       " 'TRAVPVH12903CB87BB.m4a',\n",
       " 'TRBENDL128F92F8578.m4a',\n",
       " 'TRASNOT128E0791785.m4a',\n",
       " 'TRAHSJI128F1496F12.m4a',\n",
       " 'TRAEUIW12903D018F0.m4a',\n",
       " 'TRAIYAK128F146ECE7.m4a',\n",
       " 'TRBHUBJ128E0782174.m4a',\n",
       " 'TRARLZW128F429E9AB.m4a',\n",
       " 'TRBJSBA12903CAC442.m4a',\n",
       " 'TRBIAIK12903CC660E.m4a',\n",
       " 'TRBBIDV128E0781AC5.m4a',\n",
       " 'TRAEIOW128F92DE535.m4a',\n",
       " 'TRADZXK128F429DB92.m4a',\n",
       " 'TRBFSUW12903CD5257.m4a',\n",
       " 'TRAGUHD128F92DE226.m4a',\n",
       " 'TRAKIGU128F933F1FD.m4a',\n",
       " 'TRBKCJT128F930C9D4.m4a',\n",
       " 'TRBMZGI128F1469A05.m4a',\n",
       " 'TRACOQS128F92FFA9B.m4a',\n",
       " 'TRBCOXO128F93586BB.m4a',\n",
       " 'TRATIVO128F148B651.m4a',\n",
       " 'TRBCRNY128F931D755.m4a',\n",
       " 'TRATZTJ12903CE7F25.m4a',\n",
       " 'TRBHKLU128E079654B.m4a',\n",
       " 'TRBGZLP128F4282281.m4a',\n",
       " 'TRBJPXD128EF3518F4.m4a',\n",
       " 'TRAHMHQ12903CEC9A9.m4a',\n",
       " 'TRACGCT128F42BA91B.m4a',\n",
       " 'TRAEFVO128F9348BCF.m4a',\n",
       " 'TRABQDP128F42921F8.m4a',\n",
       " 'TRANTVV128F9317B7B.m4a',\n",
       " 'TRANOQH128F14949EC.m4a',\n",
       " 'TRAASJJ128F933E26E.m4a',\n",
       " 'TRAKXQO128F1497D94.m4a',\n",
       " 'TRBKLDM128F427D0DA.m4a',\n",
       " 'TRBGNCL128F428F56F.m4a',\n",
       " 'TRANSON128F4290353.m4a',\n",
       " 'TRARTPH128E0789C05.m4a',\n",
       " 'TRAKGVY128F42AC92D.m4a',\n",
       " 'TRBKJAG128E0799B32.m4a',\n",
       " 'TRADISH128F42583CA.m4a',\n",
       " 'TRBAOKR128F4235EA9.m4a',\n",
       " 'TRAJVOI12903D02C04.m4a',\n",
       " 'TRAOWBP128F4257C64.m4a',\n",
       " 'TRBINRY128F146229A.m4a',\n",
       " 'TRAHTSR12903D0681A.m4a',\n",
       " 'TRAJTWO128F1463699.m4a',\n",
       " 'TRBLANS128F92FD3FF.m4a',\n",
       " 'TRASYGN128F4284C76.m4a',\n",
       " 'TRAGMKE128E078543E.m4a',\n",
       " 'TRAWVGU128F92FC762.m4a',\n",
       " 'TRBGKGR128F92EE206.m4a',\n",
       " 'TRATANL128F92E3FC5.m4a',\n",
       " 'TRBEAMO128F425B75F.m4a',\n",
       " 'TRAQJAM128F14AC5E8.m4a',\n",
       " 'TRAPAPE128F428192F.m4a',\n",
       " 'TRAWGHQ128F933A356.m4a',\n",
       " 'TRBLNCW128F147E4EE.m4a',\n",
       " 'TRADTYX128F9310F00.m4a',\n",
       " 'TRBKXNW12903CDCB32.m4a',\n",
       " 'TRAJHHH128F932B5E4.m4a',\n",
       " 'TRAYVMU128F92EC210.m4a',\n",
       " 'TRAJHVJ128F1455849.m4a',\n",
       " 'TRALYFC128F9354A52.m4a',\n",
       " 'TRBCSDW128F424D686.m4a',\n",
       " 'TRAGDLM128F4233397.m4a',\n",
       " 'TRBDBAO128F9306B96.m4a',\n",
       " 'TRBGXJB128F930459C.m4a',\n",
       " 'TRBMJHE128F930EAAD.m4a',\n",
       " 'TRAAQKX128F428E76C.m4a',\n",
       " 'TRAQTVG128F427F936.m4a',\n",
       " 'TRAKIMN12903CCDE90.m4a',\n",
       " 'TRBMOHI128E0793E92.m4a',\n",
       " 'TRBCANP128F92FA6B9.m4a',\n",
       " 'TRBMLDM12903CE5D08.m4a',\n",
       " 'TRATVXI128F428AE11.m4a',\n",
       " 'TRBBLCU128F423C5DA.m4a',\n",
       " 'TRBHFWZ128F42A2196.m4a',\n",
       " 'TRBDIOP128EF35F99C.m4a',\n",
       " 'TRBBLKO128F425A1C3.m4a',\n",
       " 'TRAJPVA128F931AEF9.m4a',\n",
       " 'TRAKULS128F92D4888.m4a',\n",
       " 'TRAOKIN128F92F21C4.m4a',\n",
       " 'TRBAUDF128F424F551.m4a',\n",
       " 'TRARBNI12903CF7972.m4a',\n",
       " 'TRBDOOK128F92D0038.m4a',\n",
       " 'TRAWGXL128F93583ED.m4a',\n",
       " 'TRAFZML128F149CB52.m4a',\n",
       " 'TRAZCZJ128F4272BF4.m4a',\n",
       " 'TRAPJGX128F92F43A7.m4a',\n",
       " 'TRBEAGP128F146A5C2.m4a',\n",
       " 'TRBGDLB128F42456F5.m4a',\n",
       " 'TRBBHOE128F9305BF5.m4a',\n",
       " 'TRAKWXS128F92CF385.m4a',\n",
       " 'TRADMOG128F932CCFB.m4a',\n",
       " 'TRASIUQ128F145A3D7.m4a',\n",
       " 'TRAHIYG128F93269E0.m4a',\n",
       " 'TRAANUW128F42A1B64.m4a',\n",
       " 'TRBFHEB128F1494DF9.m4a',\n",
       " 'TRAHXIY128F148B19B.m4a',\n",
       " 'TRBAJLA12903CDDF6C.m4a',\n",
       " 'TRBENRH128F429FE75.m4a',\n",
       " 'TRBMEPC128F1485838.m4a',\n",
       " 'TRBCADY128F149A327.m4a',\n",
       " 'TRBFGWQ128E0781EC3.m4a',\n",
       " 'TRAFPKJ12903CC6148.m4a',\n",
       " 'TRBIROE128F428F546.m4a',\n",
       " 'TRBLKER128F92FD1E1.m4a',\n",
       " 'TRADUTA128F931418A.m4a',\n",
       " 'TRAMGWB12903CB75DF.m4a',\n",
       " 'TRAJOUI128F9313732.m4a',\n",
       " 'TRAQRHA128F93001EB.m4a',\n",
       " 'TRAXPVN128E0793933.m4a',\n",
       " 'TRBGQMA128F9316ADD.m4a',\n",
       " 'TRBKFNX12903CE8591.m4a',\n",
       " 'TRAZJHJ128F9310D14.m4a',\n",
       " 'TRBFUUV12903CF1AD1.m4a',\n",
       " 'TRBNWDR128F92EC8FD.m4a',\n",
       " 'TRBMSYK128F42914EE.m4a',\n",
       " 'TRADVZX128F426BF79.m4a',\n",
       " 'TRBFVWP128F92F896C.m4a',\n",
       " 'TRAEXHJ128F149048F.m4a',\n",
       " 'TRAWYLQ128EF35E225.m4a',\n",
       " 'TRBCHEF128F427B11B.m4a',\n",
       " 'TRBDXIM128F427ABDA.m4a',\n",
       " 'TRBGMVH128F9303A5D.m4a',\n",
       " 'TRBBGHS128F1491578.m4a',\n",
       " 'TRBHVLH128F92F2369.m4a',\n",
       " 'TRAURRP128F4261B94.m4a',\n",
       " 'TRBFGKA12903CA3170.m4a',\n",
       " 'TRAWLUP128F1453812.m4a',\n",
       " 'TRAEAEC128F93337F9.m4a',\n",
       " 'TRARRTI128F93112F1.m4a',\n",
       " 'TRAWKTA128F9311F14.m4a',\n",
       " 'TRBKHKB128F93258A6.m4a',\n",
       " 'TRAACIE128F428495B.m4a',\n",
       " 'TRAAPYK12903CFBC16.m4a',\n",
       " 'TRBDEDL12903CBD007.m4a',\n",
       " 'TRBKFAL128E078105C.m4a',\n",
       " 'TRAIORV128E0783A39.m4a',\n",
       " 'TRBIURK128F92E2309.m4a',\n",
       " 'TRAMDAK128E0791DEC.m4a',\n",
       " 'TRAJAMC128E0798C2B.m4a',\n",
       " 'TRALDRH128F92F3B2C.m4a',\n",
       " 'TRBFEPS128F4238696.m4a',\n",
       " 'TRASMWV128F933D2A8.m4a',\n",
       " 'TRAQZEN128F425A58B.m4a',\n",
       " 'TRBMLFZ128F1475785.m4a',\n",
       " 'TRAFISO128E07965C7.m4a',\n",
       " 'TRAMWLK128F1485B5E.m4a',\n",
       " 'TRAAXVV128F426FAA7.m4a',\n",
       " 'TRATCLI128F422BCF8.m4a',\n",
       " 'TRBDWFR128F145EAC4.m4a',\n",
       " 'TRAFEZC128F933697E.m4a',\n",
       " 'TRBJMWU128F425A5C3.m4a',\n",
       " 'TRAXJHG128F427EA02.m4a',\n",
       " 'TRBLRGD12903CC921E.m4a',\n",
       " 'TRBDLKP128F92D03EB.m4a',\n",
       " 'TRASIFT128F1465691.m4a',\n",
       " 'TRALHMQ128F42AB59C.m4a',\n",
       " 'TRABNRF128F42712C0.m4a',\n",
       " 'TRASSZI128F146EC5F.m4a',\n",
       " 'TRBJDLX128F92FADBE.m4a',\n",
       " 'TRBKPRF128F148418E.m4a',\n",
       " 'TRAXMNY12903CB5207.m4a',\n",
       " 'TRAGSKH12903CCCAA9.m4a',\n",
       " 'TRBGBQR128F148663C.m4a',\n",
       " 'TRAOBIS128F9310CD7.m4a',\n",
       " 'TRBABFJ128F92F4195.m4a',\n",
       " 'TRARIZK128F92FF27A.m4a',\n",
       " 'TRARPSY128F9314D72.m4a',\n",
       " 'TRAFEPZ128F42902A8.m4a',\n",
       " 'TRBGSUZ128F42728B7.m4a',\n",
       " 'TRBFVVP128F425A56F.m4a',\n",
       " 'TRBNKEI128F422EC4B.m4a',\n",
       " 'TRBHBSN128F427164E.m4a',\n",
       " 'TRBBSOD12903CA3BA7.m4a',\n",
       " 'TRAZHUK128E0789114.m4a',\n",
       " 'TRARKGW128F92EB8F9.m4a',\n",
       " 'TRBBUDT128F92E1693.m4a',\n",
       " 'TRBMHMM128F426A5AD.m4a',\n",
       " 'TRBMZBP12903CD60D0.m4a',\n",
       " 'TRBCQWT128F92DF6F2.m4a',\n",
       " 'TRADPQP128F930854D.m4a',\n",
       " 'TRANRFT128F4263D57.m4a',\n",
       " 'TRAYXAL128F9309341.m4a',\n",
       " 'TRBAHID128F4278EAF.m4a',\n",
       " 'TRASYKK128F4259836.m4a',\n",
       " 'TRBCMYX128F92EB4BA.m4a',\n",
       " 'TRBESBZ12903CA0A95.m4a',\n",
       " 'TRAFKMT128F428941B.m4a',\n",
       " 'TRBLEXE12903CFE350.m4a',\n",
       " 'TRBNIJI128F42ACF89.m4a',\n",
       " 'TRAECHJ12903CC36DA.m4a',\n",
       " 'TRAYNBW12903CBBD05.m4a',\n",
       " 'TRBEKMX128F92D7B75.m4a',\n",
       " 'TRAXMGL128F427CA3F.m4a',\n",
       " 'TRBGNBG12903CE1038.m4a',\n",
       " 'TRACEYZ128F424D66A.m4a',\n",
       " 'TRBLPUK128F42597AB.m4a',\n",
       " 'TRAYQKM128F92E95F5.m4a',\n",
       " 'TRAOQWU128F9355248.m4a',\n",
       " 'TRACOVU128EF34B7F4.m4a',\n",
       " 'TRAJNDU128F4258A72.m4a',\n",
       " 'TRBAMAL128F421431D.m4a',\n",
       " 'TRAQEOP12903CA65E2.m4a',\n",
       " 'TRBIUFE128F92FF4D1.m4a',\n",
       " 'TRBEISD128F14765F0.m4a',\n",
       " 'TRBHAAD128F9341700.m4a',\n",
       " 'TRAFGKY128F931BD96.m4a',\n",
       " '.DS_Store',\n",
       " 'TRBMRAI128F427B204.m4a',\n",
       " 'TRBCSJN128F14541C2.m4a',\n",
       " 'TRAKAMD128F146DA74.m4a',\n",
       " 'TRBLQJA128F423EE42.m4a',\n",
       " 'TRAQYFL12903D138CF.m4a',\n",
       " 'TRAEWXY128E0786183.m4a',\n",
       " 'TRBKOPS128F421C508.m4a',\n",
       " 'TRAUCEW128EF356822.m4a',\n",
       " 'TRAZSDN128F42B65CD.m4a',\n",
       " 'TRAHUEV128F428A43D.m4a',\n",
       " 'TRAWEQX128F4293E7E.m4a',\n",
       " 'TRABCIX128F4265903.m4a',\n",
       " 'TRAIFVW128F9339909.m4a',\n",
       " 'TRAMESI128F93509F7.m4a',\n",
       " 'TRAUGGQ128E0793462.m4a',\n",
       " 'TRBBANR128F4277C5B.m4a',\n",
       " 'TRBJEIX128F42BA5F1.m4a',\n",
       " 'TRBHOCW12903CAF16D.m4a',\n",
       " 'TRBJHJX128F9354DBC.m4a',\n",
       " 'TRAJLZT128F92F9FE7.m4a',\n",
       " 'TRAVCET128E0794BF8.m4a',\n",
       " 'TRAHWNG128F932AFB7.m4a',\n",
       " 'TRATAXN128F4267A14.m4a',\n",
       " 'TRBEAWP128F422B4D1.m4a',\n",
       " 'TRAGRNA12903CC9082.m4a',\n",
       " 'TRAYQTP128EF35EE80.m4a',\n",
       " 'TRARQSD128F427E2AA.m4a',\n",
       " 'TRBKRVA128F92E6247.m4a',\n",
       " 'TRAIWAR128F92C49C0.m4a',\n",
       " 'TRBHYEH128F427F9AB.m4a',\n",
       " 'TRAFEFH128F427F2FA.m4a',\n",
       " 'TRAGZSA128F92FC5CA.m4a',\n",
       " 'TRBHXRO128F1474D6C.m4a',\n",
       " 'TRAETGN128F92EBACB.m4a',\n",
       " 'TRBAXMX128F42932C2.m4a',\n",
       " 'TRAOHNR128F428CD58.m4a',\n",
       " 'TRAZCMM12903D05ECD.m4a',\n",
       " 'TRAUACO128F932B5EB.m4a',\n",
       " 'TRACESB128F92F0EDD.m4a',\n",
       " 'TRBNMXL12903CBFB9A.m4a',\n",
       " 'TRASZCF128F4260947.m4a',\n",
       " 'TRABNCD128F425F1B2.m4a',\n",
       " 'TRANVZT128F42AE134.m4a',\n",
       " 'TRAJBIZ128F4252408.m4a',\n",
       " 'TRAPVRU128F9302300.m4a',\n",
       " 'TRASUJG128F92D6316.m4a',\n",
       " 'TRAEWXQ128F4277C57.m4a',\n",
       " 'TRBDLDP128F14659F1.m4a',\n",
       " 'TRBAUJY12903CC5AEB.m4a',\n",
       " 'TRAIGLE128F9309645.m4a',\n",
       " 'TRBKJGP128F424345D.m4a',\n",
       " 'TRBJKDQ128F930C335.m4a',\n",
       " 'TRBJVLR128F148724D.m4a',\n",
       " 'TRAOHYY128F42456EF.m4a',\n",
       " 'TRBKKKZ12903CDAA2E.m4a',\n",
       " 'TRBHTEN128F93450CB.m4a',\n",
       " 'TRBJRVR128F931EAEE.m4a',\n",
       " 'TRAFIGC128EF342BAF.m4a',\n",
       " 'TRBLHDF128E0780E71.m4a',\n",
       " 'TRANIHP128F9328EED.m4a',\n",
       " 'TRBIELE128F92F6358.m4a',\n",
       " 'TRBHZUL12903CB5F6F.m4a',\n",
       " 'TRAJSQT128EF34334B.m4a',\n",
       " 'TRAWULX128F4291255.m4a',\n",
       " 'TRBBIOI128F92D454C.m4a',\n",
       " 'TRAAJCQ12903CF53D5.m4a',\n",
       " 'TRAXNOE128F149158A.m4a',\n",
       " 'TRARQUR128F4240FCB.m4a',\n",
       " 'TRAFUBQ128F92EB825.m4a',\n",
       " 'TRBAKVW128F423D130.m4a',\n",
       " 'TRAKGSR128F42BAEB9.m4a',\n",
       " 'TRBEOAG128E0796558.m4a',\n",
       " 'TRAYDOS128F1478062.m4a',\n",
       " 'TRBDJUQ128F148C4A5.m4a',\n",
       " 'TRBNCJS128F426D7A4.m4a',\n",
       " 'TRBJXJI12903D055D2.m4a',\n",
       " 'TRASDOI128F1480E28.m4a',\n",
       " 'TRACDUX128F429B303.m4a',\n",
       " 'TRBISTC128F92F52E6.m4a',\n",
       " 'TRAALUZ128F932B42B.m4a',\n",
       " 'TRBMKLU128F427205B.m4a',\n",
       " 'TRAZYCV128F9332B23.m4a',\n",
       " 'TRARFWJ128F9339D70.m4a',\n",
       " 'TRBHLVJ12903CD1994.m4a',\n",
       " 'TRAREDZ12903CFB6E3.m4a',\n",
       " 'TRAHZAT128EF33EF50.m4a',\n",
       " 'TRAUJZG12903CD43B4.m4a',\n",
       " 'TRAMDRT12903CA121C.m4a',\n",
       " 'TRARRWQ12903CF4707.m4a',\n",
       " 'TRBLFRH128F429F8A0.m4a',\n",
       " 'TRAVNND128F9302957.m4a',\n",
       " 'TRAPRCR128F425DA9C.m4a',\n",
       " 'TRADQSY128F425BB59.m4a',\n",
       " 'TRBARSX12903D03AE5.m4a',\n",
       " 'TRAALYN128F1452482.m4a',\n",
       " 'TRAFBIE12903CC915D.m4a',\n",
       " 'TRBKILU128EF342C27.m4a',\n",
       " 'TRAIJWM128F425B50A.m4a',\n",
       " 'TRAEDQF128F4260069.m4a',\n",
       " 'TRAGNHJ128F427ECA5.m4a',\n",
       " 'TRAOXYO128F4298612.m4a',\n",
       " 'TRAGIIH128F92E4B1A.m4a',\n",
       " 'TRALMRC12903CE0470.m4a',\n",
       " 'TRALGCA128E078EC5F.m4a',\n",
       " 'TRAPULX12903CDE273.m4a',\n",
       " 'TRABZJE128F4259835.m4a',\n",
       " 'TRBJBOJ128E0792E41.m4a',\n",
       " 'TRBNFXC12903CB89B0.m4a',\n",
       " 'TRBLNFC128F146D5E8.m4a',\n",
       " 'TRACKAP128F425B741.m4a',\n",
       " 'TRAAZDV128F93206B1.m4a',\n",
       " 'TRBHGUA128F42ADB61.m4a',\n",
       " 'TRANRAH128F426F40C.m4a',\n",
       " 'TRBHOSU128F1480936.m4a',\n",
       " 'TRASNPB128F92F9A0B.m4a',\n",
       " 'TRBHJPQ128E078ED8F.m4a',\n",
       " 'TRARIBY128F4273287.m4a',\n",
       " 'TRAFUHB128F427AB74.m4a',\n",
       " 'TRAALRZ128F429024E.m4a',\n",
       " 'TRAAAJN128F428E437.m4a',\n",
       " 'TRAPQGC128F421431B.m4a',\n",
       " 'TRAFOKY128F4276D91.m4a',\n",
       " 'TRBCXWE12903CD2A4D.m4a',\n",
       " 'TRAKUIZ128F4233991.m4a',\n",
       " 'TRAIOWX128F14750E5.m4a',\n",
       " 'TRAXJQM128F42903F2.m4a',\n",
       " 'TRBMCRO128F42749E0.m4a',\n",
       " 'TRBIBGN128F42ADC66.m4a',\n",
       " 'TRASPZI128F4288F53.m4a',\n",
       " 'TRAJUPG128F4291D94.m4a',\n",
       " 'TRAAEWG128F930B3A4.m4a',\n",
       " 'TRAWVMF128F42BBD2E.m4a',\n",
       " 'TRALABL128F1477672.m4a',\n",
       " 'TRAIXSL12903CD1974.m4a',\n",
       " 'TRBKNWN128F4262198.m4a',\n",
       " 'TRAINQO128F92EB88D.m4a',\n",
       " 'TRBAQWN128F42539EA.m4a',\n",
       " 'TRBHCWD128E0786384.m4a',\n",
       " 'TRAWFGF128E0792FE0.m4a',\n",
       " 'TRBCSVE12903D13D5C.m4a',\n",
       " 'TRATMCI128F92F814D.m4a',\n",
       " 'TRBLGZP12903CFA983.m4a',\n",
       " 'TRANOZY128F92DEF12.m4a',\n",
       " 'TRAAPCL128F930CB6C.m4a',\n",
       " 'TRABDVD128F4292CDF.m4a',\n",
       " 'TRAOMVQ128F93156A1.m4a',\n",
       " 'TRBMIBX128F1485FA6.m4a',\n",
       " 'TRATMDD12903D11C7A.m4a',\n",
       " 'TRAFJDB128F932EB99.m4a',\n",
       " 'TRBNNJV128F92C78A6.m4a',\n",
       " 'TRADMGV128F92CC8BB.m4a',\n",
       " 'TRALZBV128F4250E60.m4a',\n",
       " 'TRARDJY128F14750EA.m4a',\n",
       " 'TRAJLOR128F428CCC9.m4a',\n",
       " 'TRBEXEL128F427FC2E.m4a',\n",
       " 'TRBCKSF128F932FA70.m4a',\n",
       " 'TRBKRCX128F932864B.m4a',\n",
       " 'TRAEIVO128F931212E.m4a',\n",
       " 'TRAXDFG128F4288804.m4a',\n",
       " 'TRAIERR128F425A7EC.m4a',\n",
       " 'TRAEGLM12903CE5A60.m4a',\n",
       " 'TRARCSJ12903CA71D8.m4a',\n",
       " 'TRBBIBK128F931CE5D.m4a',\n",
       " 'TRBLXEF128F93398FD.m4a',\n",
       " 'TRAXXWU12903CF2094.m4a',\n",
       " 'TRBAPQS128F429B973.m4a',\n",
       " 'TRBEEQB128F424C671.m4a',\n",
       " 'TRBIAHA128F42A4C9B.m4a',\n",
       " 'TRALILH128F4280C53.m4a',\n",
       " 'TRAABJS128F9325C99.m4a',\n",
       " 'TRAKJOI12903D0563E.m4a',\n",
       " 'TRAIAXU128F428BCE1.m4a',\n",
       " 'TRAWRKT128E0788857.m4a',\n",
       " 'TRAEYSI128E078F5DB.m4a',\n",
       " 'TRABIOA128F42A6DB1.m4a',\n",
       " 'TRBBWTO128F42B1096.m4a',\n",
       " 'TRBGGBL128F4262CEE.m4a',\n",
       " 'TRAEWBN12903D08720.m4a',\n",
       " 'TRBDVJF128E078894B.m4a',\n",
       " 'TRAEVZO128F933323C.m4a',\n",
       " 'TRAKUYZ128F422BC4B.m4a',\n",
       " 'TRAZTKR128F92EC654.m4a',\n",
       " 'TRAPZTV128F92CAA4E.m4a',\n",
       " 'TRAULGR128F4290558.m4a',\n",
       " 'TRAKZTG128E078F7BE.m4a',\n",
       " 'TRASBJU128F9324EFA.m4a',\n",
       " 'TRBATGA128F9316F88.m4a',\n",
       " 'TRALQAP128F1478487.m4a',\n",
       " 'TRBBCKU128F14568C5.m4a',\n",
       " 'TRBBXLT128F931B880.m4a',\n",
       " 'TRASRJM128EF3553D9.m4a',\n",
       " 'TRBEZRB128F149216D.m4a',\n",
       " 'TRBFBZW128F4241849.m4a',\n",
       " 'TRBHBYD128F92F84ED.m4a',\n",
       " 'TRBHHDJ128F427CD27.m4a',\n",
       " 'TRBJPJS128F932F173.m4a',\n",
       " 'TRBHQMK128F42ACF82.m4a',\n",
       " 'TRAVWPM128F92F3DCC.m4a',\n",
       " 'TRAPGGP128F92E83B3.m4a',\n",
       " 'TRAVDAF128F92F2EA0.m4a',\n",
       " 'TRBDWFL128F92F901D.m4a',\n",
       " 'TRAHAOV128F92F145F.m4a',\n",
       " 'TRBCELF12903CDF2C1.m4a',\n",
       " 'TRAQYMZ12903CBA3FD.m4a',\n",
       " 'TRBCMVP128F4272637.m4a',\n",
       " 'TRBLDQQ128F92E58B4.m4a',\n",
       " 'TRBNPKJ128F9365253.m4a',\n",
       " 'TRAVCHB128F92D3135.m4a',\n",
       " 'TRAVVBW128F42819B2.m4a',\n",
       " 'TRAUFCU128F42882B7.m4a',\n",
       " 'TRBDZKL128F9344CA1.m4a',\n",
       " 'TRAQRTK128F42842E4.m4a',\n",
       " 'TRAVDUK128F425D044.m4a',\n",
       " 'TRAUZVU12903CC050D.m4a',\n",
       " 'TRBCNJZ128F92FA047.m4a',\n",
       " 'TRADSQZ128F42707D7.m4a',\n",
       " 'TRATJHI128E078B4DD.m4a',\n",
       " 'TRBLIMO128F42A0765.m4a',\n",
       " 'TRBIWGS128F931BCCB.m4a',\n",
       " 'TRAYSHO128F42887F7.m4a',\n",
       " 'TRAEZLQ128F427F954.m4a',\n",
       " 'TRANFUR128F92D30FC.m4a',\n",
       " 'TRAOWWH128F92EA113.m4a',\n",
       " 'TRBGNJF128F423C327.m4a',\n",
       " 'TRAAUEO128E0780CB9.m4a',\n",
       " 'TRAJMGT12903CE439E.m4a',\n",
       " 'TRAANSZ128F425DD63.m4a',\n",
       " 'TRBDFCJ128F4281A5C.m4a',\n",
       " 'TRBEKRE128EF342D69.m4a',\n",
       " 'TRAVRZW128F932016E.m4a',\n",
       " 'TRBFQVH128F42619C1.m4a',\n",
       " 'TRALMRJ128F932CA91.m4a',\n",
       " 'TRAKYDL12903CC99A6.m4a',\n",
       " 'TRBCLDH128F4293B4F.m4a',\n",
       " 'TRAXFFL12903CF7C22.m4a',\n",
       " 'TRAIPST128F9302AE9.m4a',\n",
       " 'TRANQQZ128E079224E.m4a',\n",
       " 'TRAHVXE128F9339BAD.m4a',\n",
       " 'TRAKISN128E07819A1.m4a',\n",
       " 'TRBHPHQ128F42843DC.m4a',\n",
       " 'TRAPBHY128F148946F.m4a',\n",
       " 'TRBHNID128F42B0D21.m4a',\n",
       " 'TRAEUPC128F423CCAC.m4a',\n",
       " 'TRBELAZ128F422B87F.m4a',\n",
       " 'TRAAVJY128F932F932.m4a',\n",
       " 'TRAWDRA128F1464B55.m4a',\n",
       " 'TRALDEV128F9306D23.m4a',\n",
       " 'TRBBZRR128F92E53F5.m4a',\n",
       " 'TRAYQTI128F92EE02C.m4a',\n",
       " 'TRAJMBU128F149332A.m4a',\n",
       " 'TRAXLJR128F9319F63.m4a',\n",
       " 'TRAALSG128F42B180D.m4a',\n",
       " 'TRADGXK12903D01A3C.m4a',\n",
       " 'TRAXOFV12903D07DC8.m4a',\n",
       " 'TRAMYBB128F424D86D.m4a',\n",
       " 'TRABNLJ128F930C5E0.m4a',\n",
       " 'TRBKRYI128F1452172.m4a',\n",
       " 'TRAPFBE128F92F491D.m4a',\n",
       " 'TRAXPDF12903CDE7AC.m4a',\n",
       " 'TRAVPOX128F1486662.m4a',\n",
       " 'TRBDRJX128F427F035.m4a',\n",
       " 'TRAFYGO128F42727E7.m4a',\n",
       " 'TRBNBAU128F4272F7C.m4a',\n",
       " 'TRBFJGB128F42612B1.m4a',\n",
       " 'TRAOGDO128F42B9A6F.m4a',\n",
       " 'TRBMTUJ12903CAD822.m4a',\n",
       " 'TRABTDP128F424D00B.m4a',\n",
       " 'TRAIOSE12903CE063A.m4a',\n",
       " 'TRBHUNB12903D080AF.m4a',\n",
       " 'TRAEVZX128F1498A3D.m4a',\n",
       " 'TRAMERQ12903CD298D.m4a',\n",
       " 'TRANCFS12903C9B61B.m4a',\n",
       " 'TRAJTZA128F92EDC0A.m4a',\n",
       " 'TRALPID128F9310C22.m4a',\n",
       " 'TRBHGCK128F933A618.m4a',\n",
       " 'TRBCIUH128F9350408.m4a',\n",
       " 'TRBJVHH128F1455840.m4a',\n",
       " 'TRALCPF128F4277A69.m4a',\n",
       " 'TRBJIKG128F4272AFE.m4a',\n",
       " 'TRBKOCY128F93335EF.m4a',\n",
       " 'TRACTRN12903D0D6C2.m4a',\n",
       " 'TRAGJGR128E078FE0C.m4a',\n",
       " 'TRAAQYH128F92D5C30.m4a',\n",
       " 'TRAJXQL128F428CAF0.m4a',\n",
       " 'TRAIQNE128F423851B.m4a',\n",
       " 'TRAICVY128F92F586F.m4a',\n",
       " 'TRAHFLW128F934B11D.m4a',\n",
       " 'TRBCSBD128F4261C06.m4a',\n",
       " 'TRBNLYB128F92FD055.m4a',\n",
       " 'TRAYEDG128F429A6D0.m4a',\n",
       " 'TRAVDBM128EF35E257.m4a',\n",
       " 'TRAQELD128F4274F52.m4a',\n",
       " 'TRAWNCE128F4278892.m4a',\n",
       " 'TRACWHF128F14557BB.m4a',\n",
       " 'TRAZLLR128F42A8DCC.m4a',\n",
       " 'TRASOFS128F4243346.m4a',\n",
       " 'TRALNPL128F4292551.m4a',\n",
       " 'TRAFNKN128F429CF99.m4a',\n",
       " 'TRBAZUV128F4271992.m4a',\n",
       " 'TRBCZEN12903D07333.m4a',\n",
       " 'TRAUNQT128F426DDF5.m4a',\n",
       " 'TRAJZAZ128F92FCCA0.m4a',\n",
       " 'TRAGYFM128F42555B8.m4a',\n",
       " 'TRBCIRO128F42B0277.m4a',\n",
       " 'TRAYCSU12903CF0538.m4a',\n",
       " 'TRATYSM128F427FEF9.m4a',\n",
       " 'TRAGZTX12903CA07A3.m4a',\n",
       " 'TRBCSWE128F930B1C1.m4a',\n",
       " 'TRBHQZM128F42A52D2.m4a',\n",
       " 'TRBGBVD128F92EDAC1.m4a',\n",
       " 'TRAMMDM128F425EAA9.m4a',\n",
       " 'TRANMSC128F426AE28.m4a',\n",
       " 'TRADZEA128EF344C0C.m4a',\n",
       " 'TRBNQIA128F92E5076.m4a',\n",
       " 'TRBHKKK128F427E9FF.m4a',\n",
       " 'TRATGLZ128F92EB4E9.m4a',\n",
       " 'TRAOYNU128F4241B5E.m4a',\n",
       " 'TRAUTBP128F14542E9.m4a',\n",
       " 'TRAEJBF12903CDD2D5.m4a',\n",
       " 'TRAVQPH12903CBCCBD.m4a',\n",
       " 'TRASTNG12903CE7D31.m4a',\n",
       " 'TRBFURI128F1455498.m4a',\n",
       " 'TRAXTFA128E0792E8B.m4a',\n",
       " 'TRBEJBE128F4298F19.m4a',\n",
       " 'TRASTRY12903CB4B0A.m4a',\n",
       " 'TRAFYVC128F4268F8B.m4a',\n",
       " 'TRAGPXZ12903C9E880.m4a',\n",
       " 'TRBNIYZ128F9305C92.m4a',\n",
       " 'TRANJGV128F930818A.m4a',\n",
       " 'TRAGINP128F425A0A8.m4a',\n",
       " 'TRACNBK128F423277B.m4a',\n",
       " 'TRBCSPT128F9314D53.m4a',\n",
       " 'TRAJTRI128F146525B.m4a',\n",
       " 'TRAPITV128F42706C5.m4a',\n",
       " 'TRAHZAG128EF340637.m4a',\n",
       " 'TRAUKTC128F425B508.m4a',\n",
       " 'TRAIHFF128EF351817.m4a',\n",
       " 'TRAPCVT128F428A9D0.m4a',\n",
       " 'TRAZUUL128F92EBBBF.m4a',\n",
       " 'TRALMGF128F421C4FA.m4a',\n",
       " 'TRAQLHL128F148E0CB.m4a',\n",
       " 'TRBGASN128F427BF8F.m4a',\n",
       " 'TRARGCC128F423B449.m4a',\n",
       " 'TRAJILF128E0781AA8.m4a',\n",
       " 'TRAKLHN128F4217BD4.m4a',\n",
       " 'TRBIVWU128F92CA9D2.m4a',\n",
       " 'TRBIJOF128F1463D71.m4a',\n",
       " 'TRBBMPH128F1469775.m4a',\n",
       " 'TRASCBY12903CD6F44.m4a',\n",
       " 'TRBEBWG128F93214A4.m4a',\n",
       " 'TRAPOAM128F92CD89B.m4a',\n",
       " 'TRAISYO128E07888A6.m4a',\n",
       " 'TRBGXQP128F4290B22.m4a',\n",
       " 'TRAOMDT12903CF73C3.m4a',\n",
       " 'TRAXMAK128E07822CB.m4a',\n",
       " 'TRAFCGE128F42BC38D.m4a',\n",
       " 'TRAWGTL128F932D4F9.m4a',\n",
       " 'TRACHLU128F4259F9B.m4a',\n",
       " 'TRADPIA128E078EE1B.m4a',\n",
       " 'TRAIBEQ12903CCB48D.m4a',\n",
       " 'TRAPUGS128F42A04EA.m4a',\n",
       " 'TRAGNHG128F42ADB16.m4a',\n",
       " 'TRAISCV128F92E099B.m4a',\n",
       " 'TRAIPJT128F9308A4E.m4a',\n",
       " 'TRADJBZ128F1491A61.m4a',\n",
       " 'TRASCWR12903CCC575.m4a',\n",
       " 'TRADJNN128EF351F1F.m4a',\n",
       " 'TRAMDRZ128F423B2CF.m4a',\n",
       " 'TRAQMOW128F14922DF.m4a',\n",
       " 'TRBKEUP128E078105D.m4a',\n",
       " 'TRBMQWG128F9309517.m4a',\n",
       " 'TRADQJL128F92D9957.m4a',\n",
       " 'TRAUQUN128F146978F.m4a',\n",
       " 'TRAPKAJ12903CE3DB7.m4a',\n",
       " 'TRATQHP128F421CDBA.m4a',\n",
       " 'TRBLISS128F4288D27.m4a',\n",
       " 'TRBFKHT128F427215E.m4a',\n",
       " 'TRBIYPS128F4263483.m4a',\n",
       " 'TRABZOP128F9316E24.m4a',\n",
       " 'TRBHSDS128F92E142B.m4a',\n",
       " 'TRALPJJ128F9311763.m4a',\n",
       " 'TRAGNDY128F4240C08.m4a',\n",
       " 'TRAZPWZ128F14613F0.m4a',\n",
       " 'TRAPNMI128F428BCD8.m4a',\n",
       " 'TRAHZUK128F424BF7E.m4a',\n",
       " 'TRAIBAI128F92E4FF8.m4a',\n",
       " 'TRAHCQZ128F428FA38.m4a',\n",
       " 'TRASYNO128F146EDB3.m4a',\n",
       " 'TRAQGPC128C7196DB7.m4a',\n",
       " 'TRAMNNN128F42BBA86.m4a',\n",
       " 'TRAJZWM128F4262BBD.m4a',\n",
       " 'TRAPEHR128E0786D5A.m4a',\n",
       " 'TRAJRQN128F42530FC.m4a',\n",
       " 'TRBKUZW128F149C442.m4a',\n",
       " 'TRAEPDL128F9310CE7.m4a',\n",
       " 'TRANBUW128F933C645.m4a',\n",
       " 'TRBCNGI128F42597B4.m4a',\n",
       " 'TRBDMIN128F147FCBB.m4a',\n",
       " 'TRAVOYI128F9348BC7.m4a',\n",
       " 'TRBNEHE12903CA4FB5.m4a',\n",
       " 'TRBNLBX128F92CB2B5.m4a',\n",
       " 'TRASCXI12903CAC5DA.m4a',\n",
       " 'TRBCUQC128F42563EC.m4a',\n",
       " 'TRAPXNJ128F4252EB5.m4a',\n",
       " 'TRASUWA128F933E6F7.m4a',\n",
       " 'TRBKWOH128F426257E.m4a',\n",
       " 'TRAVIBR128E078A453.m4a',\n",
       " 'TRBFVKN128F425A150.m4a',\n",
       " 'TRBHHVO128F93090B0.m4a',\n",
       " 'TRATGTU128F149D948.m4a',\n",
       " 'TRBIUPK128F427F4F0.m4a',\n",
       " 'TRAFYTT128F4244FC6.m4a',\n",
       " 'TRAIIRD128F92E4A52.m4a',\n",
       " 'TRBFNZT128F429201E.m4a',\n",
       " 'TRASVEM128E0796553.m4a',\n",
       " 'TRBHDSW128F42ABC12.m4a',\n",
       " 'TRAGLXF128E078703E.m4a',\n",
       " 'TRBCVWC128F932F321.m4a',\n",
       " 'TRAPNYW128F4294F3E.m4a',\n",
       " 'TRBECNW128F426BE82.m4a',\n",
       " 'TRAUGHI128F92E5041.m4a',\n",
       " 'TRAOWRJ128F4274629.m4a',\n",
       " 'TRAEBXS128F429933A.m4a',\n",
       " 'TRAEPQE128F9353909.m4a',\n",
       " 'TRALHRB128F4267197.m4a',\n",
       " 'TRAFWCL128F4241815.m4a',\n",
       " 'TRAJNYD128F9340A32.m4a',\n",
       " 'TRALSBI12903CCEEA0.m4a',\n",
       " 'TRABZKL128F931C0CE.m4a',\n",
       " 'TRAALAH128E078234A.m4a',\n",
       " 'TRACQOD128F42A8237.m4a',\n",
       " 'TRBGHRA128F42B90E6.m4a',\n",
       " 'TRBFJBJ128F92F9589.m4a',\n",
       " 'TRAPLMD128F932FF43.m4a',\n",
       " 'TRAUJWD128F9309CC7.m4a',\n",
       " 'TRANEGJ128F428617E.m4a',\n",
       " 'TRBECIB128F423EB13.m4a',\n",
       " 'TRADTGP128F1497D8C.m4a',\n",
       " 'TRAITXM128F428E1F0.m4a',\n",
       " 'TRAOHTE128F92FD51A.m4a',\n",
       " 'TRAGACS128E078E74D.m4a',\n",
       " 'TRAQUPJ128E07993B0.m4a',\n",
       " 'TRAHGEY128F42841C0.m4a',\n",
       " 'TRAFYAV128F42ACA8C.m4a',\n",
       " 'TRAZGQQ128F4278C1A.m4a',\n",
       " 'TRASGVG128F92E8E0F.m4a',\n",
       " 'TRBICLD128F146A3F8.m4a',\n",
       " 'TRANXZZ128F4230613.m4a',\n",
       " 'TRAMOWH128F149DB40.m4a',\n",
       " 'TRAUSJF128F92FC51C.m4a',\n",
       " 'TRADJXM128F42950DD.m4a',\n",
       " 'TRBHAZK128F42A65D9.m4a',\n",
       " 'TRAZOSB128F9302A07.m4a',\n",
       " 'TRBMLHW128F4281AE9.m4a',\n",
       " 'TRAKYWS128F92DE3C5.m4a',\n",
       " 'TRBMGTF12903CBBBAB.m4a',\n",
       " 'TRACAVB128F425F643.m4a',\n",
       " 'TRAYZHO128EF35E579.m4a',\n",
       " 'TRAOOYZ128F92E2D6E.m4a',\n",
       " 'TRABJIX128C7196953.m4a',\n",
       " 'TRALKSQ128F92F13A8.m4a',\n",
       " 'TRBKHKC128F4284DB6.m4a',\n",
       " 'TRAECPC12903CD7308.m4a',\n",
       " 'TRAEVHU128F92D9EA0.m4a',\n",
       " 'TRBHKXX128F4252D02.m4a',\n",
       " 'TRAPUGG128F424D3D5.m4a',\n",
       " 'TRAVZVB128F1468346.m4a',\n",
       " 'TRAIXSB12903CC662C.m4a',\n",
       " 'TRBILZA128F4238569.m4a',\n",
       " 'TRAWUSU12903C95366.m4a',\n",
       " 'TRASZCZ128F145529A.m4a',\n",
       " 'TRBAJTM128F14736F6.m4a',\n",
       " 'TRBKDXS128F93044F4.m4a',\n",
       " 'TRBNJSP128F423EE8B.m4a',\n",
       " 'TRAKMOW128F4272618.m4a',\n",
       " 'TRACHHV128F932357F.m4a',\n",
       " 'TRABZFP12903D0945A.m4a',\n",
       " 'TRAYESE128F42B09FE.m4a',\n",
       " 'TRALWUY128F92FB0E1.m4a',\n",
       " 'TRBAKKG12903CE896B.m4a',\n",
       " 'TRBBCWY128F145B248.m4a',\n",
       " 'TRAQDSH128F423B6A2.m4a',\n",
       " 'TRAZRBR128E0782989.m4a',\n",
       " 'TRAHCVC128F146373C.m4a',\n",
       " 'TRAOHPG12903CE4155.m4a',\n",
       " 'TRAVRKY128F429EA68.m4a',\n",
       " 'TRAYLTC128F4259B31.m4a',\n",
       " 'TRAVMND128F4275780.m4a',\n",
       " 'TRAUMPH128F1494962.m4a',\n",
       " 'TRARNJX12903CD4875.m4a',\n",
       " 'TRAZAUK128F427BDD1.m4a',\n",
       " 'TRBISHG128F93458D9.m4a',\n",
       " 'TRACQAU128F4284DC7.m4a',\n",
       " 'TRBHLBZ128F9300586.m4a',\n",
       " 'TRBMXVQ128F14995EB.m4a',\n",
       " 'TRAYWLI128F9300223.m4a',\n",
       " 'TRAUZXD128F42384A9.m4a',\n",
       " 'TRAXLTZ128F932B86D.m4a',\n",
       " 'TRABIQP128F427D0DD.m4a',\n",
       " 'TRAEVHZ128F1462293.m4a',\n",
       " 'TRBLKNL128F427ADB7.m4a',\n",
       " 'TRAQHLX128F4266FEB.m4a',\n",
       " 'TRBAKLJ128F92F9A46.m4a',\n",
       " 'TRBKOEM128F149A237.m4a',\n",
       " 'TRARFVY128F93086DE.m4a',\n",
       " 'TRBFCSV128F92EF7B9.m4a',\n",
       " 'TRABSPE128F92EC08F.m4a',\n",
       " 'TRALFQE128F9329392.m4a',\n",
       " 'TRBHDYS128F426BEF3.m4a',\n",
       " 'TRBNUKP128F93122F1.m4a',\n",
       " 'TRARPCK128F92FEA7F.m4a',\n",
       " 'TRBGRAN128F9339A1B.m4a',\n",
       " 'TRBFMTO128F9322AE7.m4a',\n",
       " 'TRAYMNI128F92DCFC5.m4a',\n",
       " 'TRAIOAF128F428E7D6.m4a',\n",
       " 'TRAJKPU128F4247273.m4a',\n",
       " 'TRAELUY128F93147BA.m4a',\n",
       " 'TRBAYLZ128F933841B.m4a',\n",
       " 'TRAYGYO128E0780EB2.m4a',\n",
       " 'TRAZUXK128F42359FA.m4a',\n",
       " 'TRAAQLF128F427822C.m4a',\n",
       " 'TRAMKUA128F92ED3E1.m4a',\n",
       " 'TRBDQHC128F427CA11.m4a',\n",
       " 'TRBKMCQ128F9354D22.m4a',\n",
       " 'TRBGABI12903CDF3E1.m4a',\n",
       " 'TRBASBG128F424888D.m4a',\n",
       " 'TRBKNKK12903CDA3EC.m4a',\n",
       " 'TRALMEF128F92E273F.m4a',\n",
       " 'TRBJVVL128F931E1BF.m4a',\n",
       " 'TRBMYQZ128EF343BFF.m4a',\n",
       " 'TRANPHW128F428A31B.m4a',\n",
       " 'TRBMSXZ128F92F8CF8.m4a',\n",
       " 'TRAXQYX128EF3434C6.m4a',\n",
       " 'TRBAFJQ128F4259FB5.m4a',\n",
       " 'TRBBBHG128F1464E82.m4a',\n",
       " 'TRAMAQG12903D06E17.m4a',\n",
       " 'TRAQMKV128F423747A.m4a',\n",
       " 'TRBAOSL12903CA4519.m4a',\n",
       " 'TRBHUYM128E07989DB.m4a',\n",
       " 'TRADEAN12903CA464D.m4a',\n",
       " 'TRAAIDR128F145A5C2.m4a',\n",
       " 'TRASDYZ128F92FB0DF.m4a',\n",
       " 'TRBHSQC128F426570A.m4a',\n",
       " 'TRAQGNV128C7196894.m4a',\n",
       " 'TRASAQI128F426EEA3.m4a',\n",
       " 'TRBGNON128F4271147.m4a',\n",
       " 'TRBAOZS128F93091CA.m4a',\n",
       " 'TRANPQR128F932C2DF.m4a',\n",
       " 'TRBICHK12903CFB574.m4a',\n",
       " 'TRBCTCG128F92EB1B7.m4a',\n",
       " 'TRACZWR128F92FFA26.m4a',\n",
       " 'TRADLDY128F930CB07.m4a',\n",
       " 'TRACZSS128F424E1D9.m4a',\n",
       " 'TRAXILB128F42278B5.m4a',\n",
       " 'TRAKQUP12903CDCE00.m4a',\n",
       " 'TRAKWIT128E0792CC8.m4a',\n",
       " 'TRBDSCX128F92D0D71.m4a',\n",
       " 'TRAEXWM128F4297C85.m4a',\n",
       " 'TRASNDA12903CB1B4B.m4a',\n",
       " 'TRBGFXV128F9324C87.m4a',\n",
       " 'TRAZFCF128F92F4F56.m4a',\n",
       " 'TRBHETN128F42A0B69.m4a',\n",
       " 'TRBGHEP128F14AD194.m4a',\n",
       " 'TRAERXQ128F4294114.m4a',\n",
       " 'TRAPHZT128F147A02B.m4a',\n",
       " 'TRBACXM12903CF5624.m4a',\n",
       " 'TRBIODP12903CF86DA.m4a',\n",
       " 'TRALBDM128F427F90A.m4a',\n",
       " 'TRARHVS128F93129F3.m4a',\n",
       " 'TRAZMVZ128F42658B0.m4a',\n",
       " 'TRAOBMY12903CAA8DF.m4a',\n",
       " 'TRAZORC128F426C323.m4a',\n",
       " 'TRATSLE128F4272CD9.m4a',\n",
       " 'TRAOUBO128F429E9B6.m4a',\n",
       " 'TRASPRW128F422E759.m4a',\n",
       " 'TRABFWK128F9322F59.m4a',\n",
       " 'TRAIJIP128F42671BD.m4a',\n",
       " 'TRASDAP128F932E2AD.m4a',\n",
       " 'TRACYSI128F146CC11.m4a',\n",
       " 'TRBFXVN128E078CF62.m4a',\n",
       " 'TRAFWPQ128F4253C53.m4a',\n",
       " 'TRAJLIV128F42882D8.m4a',\n",
       " 'TRAWGMU128F4258328.m4a',\n",
       " 'TRBGRIP128F147FCA6.m4a',\n",
       " 'TRBFNVA12903CE42D7.m4a',\n",
       " 'TRAOYLQ128F14995DA.m4a',\n",
       " 'TRADXCF128EF357134.m4a',\n",
       " 'TRBGGUT12903CB81E1.m4a',\n",
       " 'TRBGHDW128F426F8A1.m4a',\n",
       " 'TRAHNCE128F426FC80.m4a',\n",
       " 'TRBNJHB128F149FE7E.m4a',\n",
       " 'TRASKHL128F1476819.m4a',\n",
       " 'TRABVVN12903CB6445.m4a',\n",
       " 'TRALXIM128F92CA4F1.m4a',\n",
       " 'TRBMCEO128F934BC1E.m4a',\n",
       " 'TRAKCAE128F92DACD8.m4a',\n",
       " 'TRATBLI128F92F78F8.m4a',\n",
       " ...]"
      ]
     },
     "execution_count": 7,
     "metadata": {},
     "output_type": "execute_result"
    }
   ],
   "source": [
    "onlyfiles"
   ]
  },
  {
   "cell_type": "code",
   "execution_count": 18,
   "metadata": {},
   "outputs": [
    {
     "name": "stdout",
     "output_type": "stream",
     "text": [
      "['TRADJNG128F932814A', 'TRAEJFS128F92DE220', 'TRAHERP128E0791BDC', 'TRAIHVO12903CE4504', 'TRAJDTG128F148F3FC', 'TRAKWIA12903C93C6D', 'TRALERZ128F931DD74', 'TRAOQVC128F930B50A', 'TRATIAH128F426B422', 'TRAVAHX128F92FB64F', 'TRAVMIV128F4271A24', 'TRAWQOW128F42687DD', 'TRAYBYE128E0784626', 'TRBBAIU128F92F3FB3', 'TRBDYEF128F423DC43', 'TRBEJUI12903CAF175', 'TRBEWDT128F148463D', 'TRBGQLE128F42851D8', 'TRBHBWU128F934454D', 'TRBLMUP128F423C14B']\n"
     ]
    }
   ],
   "source": [
    "running = True\n",
    "last_id = 'TRBNXIL128F92FE771'\n",
    "\n",
    "missing_songs = []\n",
    "\n",
    "for song in song_to_urls.keys():\n",
    "    if running:\n",
    "        filename = song + \".m4a\"\n",
    "        \n",
    "        if filename not in onlyfiles:\n",
    "            missing_songs.append(song)\n",
    "        \n",
    "    if song == last_id:\n",
    "        running = False\n",
    "        break\n",
    "        \n",
    "print(missing_songs)"
   ]
  },
  {
   "cell_type": "code",
   "execution_count": 17,
   "metadata": {},
   "outputs": [
    {
     "name": "stderr",
     "output_type": "stream",
     "text": [
      "ERROR: Video unavailable\n"
     ]
    },
    {
     "name": "stdout",
     "output_type": "stream",
     "text": [
      "Failed!\n"
     ]
    },
    {
     "name": "stderr",
     "output_type": "stream",
     "text": [
      "ERROR: ZpAVbYhI9I0: YouTube said: Unable to extract video data\n"
     ]
    },
    {
     "name": "stdout",
     "output_type": "stream",
     "text": [
      "Failed!\n",
      "\n",
      "\n",
      "\n"
     ]
    },
    {
     "name": "stderr",
     "output_type": "stream",
     "text": [
      "ERROR: t8N7UjnIrv8: YouTube said: Unable to extract video data\n"
     ]
    },
    {
     "name": "stdout",
     "output_type": "stream",
     "text": [
      "Failed!\n",
      "\n",
      "Failed!\n"
     ]
    },
    {
     "name": "stderr",
     "output_type": "stream",
     "text": [
      "ERROR: TR0_I3ABOHI: YouTube said: Unable to extract video data\n"
     ]
    },
    {
     "name": "stdout",
     "output_type": "stream",
     "text": [
      "Failed!\n"
     ]
    },
    {
     "name": "stderr",
     "output_type": "stream",
     "text": [
      "ERROR: ybkTkCBF24Y: YouTube said: Unable to extract video data\n"
     ]
    },
    {
     "name": "stdout",
     "output_type": "stream",
     "text": [
      "Failed!\n"
     ]
    },
    {
     "name": "stderr",
     "output_type": "stream",
     "text": [
      "ERROR: FWAWbmBm6lw: YouTube said: Unable to extract video data\n"
     ]
    },
    {
     "name": "stdout",
     "output_type": "stream",
     "text": [
      "Failed!\n"
     ]
    },
    {
     "name": "stderr",
     "output_type": "stream",
     "text": [
      "ERROR: rc84d1_jlUY: YouTube said: Unable to extract video data\n"
     ]
    },
    {
     "name": "stdout",
     "output_type": "stream",
     "text": [
      "Failed!\n"
     ]
    },
    {
     "name": "stderr",
     "output_type": "stream",
     "text": [
      "ERROR: hOX15agZ3-0: YouTube said: Unable to extract video data\n"
     ]
    },
    {
     "name": "stdout",
     "output_type": "stream",
     "text": [
      "Failed!\n"
     ]
    },
    {
     "name": "stderr",
     "output_type": "stream",
     "text": [
      "ERROR: r3ntHpYocc0: YouTube said: Unable to extract video data\n"
     ]
    },
    {
     "name": "stdout",
     "output_type": "stream",
     "text": [
      "Failed!\n"
     ]
    },
    {
     "name": "stderr",
     "output_type": "stream",
     "text": [
      "ERROR: 3Y6MiMpCeAk: YouTube said: Unable to extract video data\n"
     ]
    },
    {
     "name": "stdout",
     "output_type": "stream",
     "text": [
      "Failed!\n"
     ]
    },
    {
     "name": "stderr",
     "output_type": "stream",
     "text": [
      "ERROR: 6tMf1XqJiVk: YouTube said: Unable to extract video data\n"
     ]
    },
    {
     "name": "stdout",
     "output_type": "stream",
     "text": [
      "Failed!\n"
     ]
    },
    {
     "name": "stderr",
     "output_type": "stream",
     "text": [
      "ERROR: Video unavailable\n"
     ]
    },
    {
     "name": "stdout",
     "output_type": "stream",
     "text": [
      "Failed!\n"
     ]
    },
    {
     "name": "stderr",
     "output_type": "stream",
     "text": [
      "ERROR: Video unavailable\n"
     ]
    },
    {
     "name": "stdout",
     "output_type": "stream",
     "text": [
      "Failed!\n"
     ]
    },
    {
     "name": "stderr",
     "output_type": "stream",
     "text": [
      "ERROR: Video unavailable\n"
     ]
    },
    {
     "name": "stdout",
     "output_type": "stream",
     "text": [
      "Failed!\n"
     ]
    },
    {
     "name": "stderr",
     "output_type": "stream",
     "text": [
      "ERROR: Video unavailable\n"
     ]
    },
    {
     "name": "stdout",
     "output_type": "stream",
     "text": [
      "Failed!\n"
     ]
    },
    {
     "name": "stderr",
     "output_type": "stream",
     "text": [
      "ERROR: Video unavailable\n"
     ]
    },
    {
     "name": "stdout",
     "output_type": "stream",
     "text": [
      "Failed!\n"
     ]
    },
    {
     "name": "stderr",
     "output_type": "stream",
     "text": [
      "ERROR: cXNIU8I0rl0: YouTube said: Unable to extract video data\n"
     ]
    },
    {
     "name": "stdout",
     "output_type": "stream",
     "text": [
      "Failed!\n",
      "  6,546,344.0 Bytes [100.00%] received. Rate: [20825 KB/s].  ETA: [0 secs]    \n",
      "Failed!\n"
     ]
    },
    {
     "name": "stderr",
     "output_type": "stream",
     "text": [
      "ERROR: p4CUa-GOo1g: YouTube said: Unable to extract video data\n"
     ]
    },
    {
     "name": "stdout",
     "output_type": "stream",
     "text": [
      "Failed!\n"
     ]
    },
    {
     "name": "stderr",
     "output_type": "stream",
     "text": [
      "ERROR: 301w_flI0oI: YouTube said: Unable to extract video data\n"
     ]
    },
    {
     "name": "stdout",
     "output_type": "stream",
     "text": [
      "Failed!\n"
     ]
    },
    {
     "name": "stderr",
     "output_type": "stream",
     "text": [
      "ERROR: dmNlUnsWZOQ: YouTube said: Unable to extract video data\n"
     ]
    },
    {
     "name": "stdout",
     "output_type": "stream",
     "text": [
      "Failed!\n"
     ]
    },
    {
     "name": "stderr",
     "output_type": "stream",
     "text": [
      "ERROR: OWUhHXgZ_dw: YouTube said: Unable to extract video data\n"
     ]
    },
    {
     "name": "stdout",
     "output_type": "stream",
     "text": [
      "Failed!\n"
     ]
    },
    {
     "name": "stderr",
     "output_type": "stream",
     "text": [
      "ERROR: xw6bbTxbTds: YouTube said: Unable to extract video data\n"
     ]
    },
    {
     "name": "stdout",
     "output_type": "stream",
     "text": [
      "Failed!\n"
     ]
    },
    {
     "name": "stderr",
     "output_type": "stream",
     "text": [
      "ERROR: KyRKh5Czbmo: YouTube said: Unable to extract video data\n"
     ]
    },
    {
     "name": "stdout",
     "output_type": "stream",
     "text": [
      "Failed!\n"
     ]
    },
    {
     "name": "stderr",
     "output_type": "stream",
     "text": [
      "ERROR: GDXP-WFm8WU: YouTube said: Unable to extract video data\n"
     ]
    },
    {
     "name": "stdout",
     "output_type": "stream",
     "text": [
      "Failed!\n"
     ]
    },
    {
     "name": "stderr",
     "output_type": "stream",
     "text": [
      "ERROR: GH-TLcpvgdA: YouTube said: Unable to extract video data\n"
     ]
    },
    {
     "name": "stdout",
     "output_type": "stream",
     "text": [
      "Failed!\n"
     ]
    },
    {
     "name": "stderr",
     "output_type": "stream",
     "text": [
      "ERROR: cjrJXLtO-IQ: YouTube said: Unable to extract video data\n"
     ]
    },
    {
     "name": "stdout",
     "output_type": "stream",
     "text": [
      "Failed!\n"
     ]
    },
    {
     "name": "stderr",
     "output_type": "stream",
     "text": [
      "ERROR: 1rHbmUexRBI: YouTube said: Unable to extract video data\n"
     ]
    },
    {
     "name": "stdout",
     "output_type": "stream",
     "text": [
      "Failed!\n"
     ]
    },
    {
     "name": "stderr",
     "output_type": "stream",
     "text": [
      "ERROR: Video unavailable\n"
     ]
    },
    {
     "name": "stdout",
     "output_type": "stream",
     "text": [
      "Failed!\n",
      "  4,536,194.0 Bytes [100.00%] received. Rate: [19099 KB/s].  ETA: [0 secs]    \n"
     ]
    },
    {
     "name": "stderr",
     "output_type": "stream",
     "text": [
      "ERROR: 5s_IHUuDGnU: YouTube said: Unable to extract video data\n"
     ]
    },
    {
     "name": "stdout",
     "output_type": "stream",
     "text": [
      "Failed!\n"
     ]
    },
    {
     "name": "stderr",
     "output_type": "stream",
     "text": [
      "ERROR: RFB7cDBabmg: YouTube said: Unable to extract video data\n"
     ]
    },
    {
     "name": "stdout",
     "output_type": "stream",
     "text": [
      "Failed!\n"
     ]
    },
    {
     "name": "stderr",
     "output_type": "stream",
     "text": [
      "ERROR: 9SncXfNaW6E: YouTube said: Unable to extract video data\n"
     ]
    },
    {
     "name": "stdout",
     "output_type": "stream",
     "text": [
      "Failed!\n"
     ]
    },
    {
     "name": "stderr",
     "output_type": "stream",
     "text": [
      "ERROR: sj0MXmashes: YouTube said: Unable to extract video data\n"
     ]
    },
    {
     "name": "stdout",
     "output_type": "stream",
     "text": [
      "Failed!\n"
     ]
    },
    {
     "name": "stderr",
     "output_type": "stream",
     "text": [
      "ERROR: gCQxRwRcflA: YouTube said: Unable to extract video data\n"
     ]
    },
    {
     "name": "stdout",
     "output_type": "stream",
     "text": [
      "Failed!\n"
     ]
    },
    {
     "name": "stderr",
     "output_type": "stream",
     "text": [
      "ERROR: eMA4oSHAUDA: YouTube said: Unable to extract video data\n"
     ]
    },
    {
     "name": "stdout",
     "output_type": "stream",
     "text": [
      "Failed!\n"
     ]
    },
    {
     "name": "stderr",
     "output_type": "stream",
     "text": [
      "ERROR: Video unavailable\n"
     ]
    },
    {
     "name": "stdout",
     "output_type": "stream",
     "text": [
      "Failed!\n"
     ]
    },
    {
     "name": "stderr",
     "output_type": "stream",
     "text": [
      "ERROR: XuSaLnaDRqU: YouTube said: Unable to extract video data\n"
     ]
    },
    {
     "name": "stdout",
     "output_type": "stream",
     "text": [
      "Failed!\n"
     ]
    },
    {
     "name": "stderr",
     "output_type": "stream",
     "text": [
      "ERROR: 8LLgSY-b3DA: YouTube said: Unable to extract video data\n"
     ]
    },
    {
     "name": "stdout",
     "output_type": "stream",
     "text": [
      "Failed!\n",
      "Failed!\n",
      "Failed!\n"
     ]
    },
    {
     "name": "stderr",
     "output_type": "stream",
     "text": [
      "ERROR: 0UlWWe3HV_w: YouTube said: Unable to extract video data\n"
     ]
    },
    {
     "name": "stdout",
     "output_type": "stream",
     "text": [
      "Failed!\n"
     ]
    },
    {
     "name": "stderr",
     "output_type": "stream",
     "text": [
      "ERROR: uOS-2WCBoE0: YouTube said: Unable to extract video data\n"
     ]
    },
    {
     "name": "stdout",
     "output_type": "stream",
     "text": [
      "Failed!\n"
     ]
    },
    {
     "name": "stderr",
     "output_type": "stream",
     "text": [
      "ERROR: LCkSLqXv4rY: YouTube said: Unable to extract video data\n"
     ]
    },
    {
     "name": "stdout",
     "output_type": "stream",
     "text": [
      "Failed!\n"
     ]
    },
    {
     "name": "stderr",
     "output_type": "stream",
     "text": [
      "ERROR: bJ6XT_MDQrE: YouTube said: Unable to extract video data\n"
     ]
    },
    {
     "name": "stdout",
     "output_type": "stream",
     "text": [
      "Failed!\n"
     ]
    },
    {
     "name": "stderr",
     "output_type": "stream",
     "text": [
      "ERROR: Sv2o0nobfGA: YouTube said: Unable to extract video data\n"
     ]
    },
    {
     "name": "stdout",
     "output_type": "stream",
     "text": [
      "Failed!\n"
     ]
    },
    {
     "name": "stderr",
     "output_type": "stream",
     "text": [
      "ERROR: X3OTfYw02sk: YouTube said: Unable to extract video data\n"
     ]
    },
    {
     "name": "stdout",
     "output_type": "stream",
     "text": [
      "Failed!\n"
     ]
    },
    {
     "name": "stderr",
     "output_type": "stream",
     "text": [
      "ERROR: G3qo8kDU1WE: YouTube said: Unable to extract video data\n"
     ]
    },
    {
     "name": "stdout",
     "output_type": "stream",
     "text": [
      "Failed!\n"
     ]
    },
    {
     "name": "stderr",
     "output_type": "stream",
     "text": [
      "ERROR: fsUZ2eIE6oc: YouTube said: Unable to extract video data\n"
     ]
    },
    {
     "name": "stdout",
     "output_type": "stream",
     "text": [
      "Failed!\n"
     ]
    },
    {
     "name": "stderr",
     "output_type": "stream",
     "text": [
      "ERROR: JRKQAnurce8: YouTube said: Unable to extract video data\n"
     ]
    },
    {
     "name": "stdout",
     "output_type": "stream",
     "text": [
      "Failed!\n"
     ]
    }
   ],
   "source": [
    "import pafy\n",
    "import time\n",
    "\n",
    "sample_URLs = ['wdPAIXBmcF0', 'FiiA9OSm5lc']\n",
    "\n",
    "for song in song_to_urls.keys():\n",
    "    if song in missing_songs:\n",
    "        urls = song_to_urls[song]\n",
    "    \n",
    "        url_num = 0\n",
    "        while url_num < len(urls) and not save_song(urls[url_num], song):\n",
    "            url_num += 1"
   ]
  },
  {
   "cell_type": "code",
   "execution_count": null,
   "metadata": {},
   "outputs": [],
   "source": []
  }
 ],
 "metadata": {
  "kernelspec": {
   "display_name": "Python 3",
   "language": "python",
   "name": "python3"
  },
  "language_info": {
   "codemirror_mode": {
    "name": "ipython",
    "version": 3
   },
   "file_extension": ".py",
   "mimetype": "text/x-python",
   "name": "python",
   "nbconvert_exporter": "python",
   "pygments_lexer": "ipython3",
   "version": "3.7.0"
  }
 },
 "nbformat": 4,
 "nbformat_minor": 2
}
