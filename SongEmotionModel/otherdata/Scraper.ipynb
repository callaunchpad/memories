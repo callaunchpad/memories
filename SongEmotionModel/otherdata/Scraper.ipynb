{
 "cells": [
  {
   "cell_type": "code",
   "execution_count": 40,
   "metadata": {},
   "outputs": [],
   "source": [
    "import csv\n",
    "\n",
    "song_to_urls = {}\n",
    "\n",
    "with open('YouTubeURLs.csv') as csv_file:\n",
    "    csv_reader = csv.reader(csv_file, delimiter=',')\n",
    "    line_count = 0\n",
    "    for row in csv_reader:\n",
    "        song_to_urls[row[0]] = row[1:]"
   ]
  },
  {
   "cell_type": "code",
   "execution_count": 41,
   "metadata": {},
   "outputs": [],
   "source": [
    "def save_song(url_raw, song_id):\n",
    "    URL = url_raw.strip()\n",
    "    try:\n",
    "        video = pafy.new(URL)\n",
    "        # Check that the duration of the video is less than 10 minutes\n",
    "        duration =  video.duration.split(':')\n",
    "        if int(duration[0]) == 0 and int(duration[1]) <= 10:\n",
    "            bestaudio = video.getbestaudio(preftype=\"m4a\")\n",
    "            bestaudio.download(filepath = './songs/' + song_id + '.m4a')\n",
    "            return True\n",
    "        else:\n",
    "            return False\n",
    "    except:\n",
    "        print(\"Failed!\")\n",
    "        time.sleep(21)\n",
    "        return False"
   ]
  },
  {
   "cell_type": "code",
   "execution_count": 42,
   "metadata": {},
   "outputs": [
    {
     "name": "stdout",
     "output_type": "stream",
     "text": [
      "  7,662,876.0 Bytes [100.00%] received. Rate: [6600 KB/s].  ETA: [0 secs]    \n",
      "  2,985,266.0 Bytes [100.00%] received. Rate: [5595 KB/s].  ETA: [0 secs]    \n",
      "  3,110,667.0 Bytes [100.00%] received. Rate: [ 423 KB/s].  ETA: [0 secs]    \n",
      "  3,814,921.0 Bytes [100.00%] received. Rate: [10193 KB/s].  ETA: [0 secs]    \n",
      "  3,966,794.0 Bytes [100.00%] received. Rate: [1826 KB/s].  ETA: [0 secs]    \n",
      "  26,296.0 Bytes [100.00%] received. Rate: [ 943 KB/s].  ETA: [0 secs]    \n",
      "  4,700,763.0 Bytes [100.00%] received. Rate: [6082 KB/s].  ETA: [0 secs]    \n",
      "  4,291,850.0 Bytes [100.00%] received. Rate: [3587 KB/s].  ETA: [0 secs]    \n",
      "  2,555,599.0 Bytes [100.00%] received. Rate: [3496 KB/s].  ETA: [0 secs]    \n"
     ]
    },
    {
     "name": "stderr",
     "output_type": "stream",
     "text": [
      "ERROR: 7DgsvfiyUYo: YouTube said: Unable to extract video data\n"
     ]
    },
    {
     "name": "stdout",
     "output_type": "stream",
     "text": [
      "Failed!\n",
      "  2,923,972.0 Bytes [100.00%] received. Rate: [8831 KB/s].  ETA: [0 secs]    \n",
      "  5,662,660.0 Bytes [100.00%] received. Rate: [8956 KB/s].  ETA: [0 secs]    \n",
      "  13,032.0 Bytes [100.00%] received. Rate: [1399 KB/s].  ETA: [0 secs]    \n",
      "  5,597,304.0 Bytes [100.00%] received. Rate: [13903 KB/s].  ETA: [0 secs]    \n"
     ]
    },
    {
     "name": "stderr",
     "output_type": "stream",
     "text": [
      "ERROR: Video unavailable\n"
     ]
    },
    {
     "name": "stdout",
     "output_type": "stream",
     "text": [
      "Failed!\n",
      "  2,384,752.0 Bytes [100.00%] received. Rate: [ 676 KB/s].  ETA: [0 secs]    \n"
     ]
    },
    {
     "name": "stderr",
     "output_type": "stream",
     "text": [
      "ERROR: 9m-XEE9bdT8: YouTube said: Unable to extract video data\n"
     ]
    },
    {
     "name": "stdout",
     "output_type": "stream",
     "text": [
      "Failed!\n",
      "  4,282,069.0 Bytes [100.00%] received. Rate: [9783 KB/s].  ETA: [0 secs]    \n"
     ]
    },
    {
     "name": "stderr",
     "output_type": "stream",
     "text": [
      "ERROR: 5PICq0IMX1s: YouTube said: Unable to extract video data\n"
     ]
    },
    {
     "name": "stdout",
     "output_type": "stream",
     "text": [
      "Failed!\n",
      "  4,805,908.0 Bytes [100.00%] received. Rate: [14073 KB/s].  ETA: [0 secs]    \n",
      "  4,372,049.0 Bytes [100.00%] received. Rate: [10212 KB/s].  ETA: [0 secs]    \n",
      "  2,818,989.0 Bytes [100.00%] received. Rate: [ 377 KB/s].  ETA: [0 secs]    \n",
      "  3,973,698.0 Bytes [100.00%] received. Rate: [ 324 KB/s].  ETA: [0 secs]    \n"
     ]
    },
    {
     "name": "stderr",
     "output_type": "stream",
     "text": [
      "ERROR: T2iQxedZJcI: YouTube said: Unable to extract video data\n"
     ]
    },
    {
     "name": "stdout",
     "output_type": "stream",
     "text": [
      "Failed!\n",
      "  3,239,784.0 Bytes [100.00%] received. Rate: [6862 KB/s].  ETA: [0 secs]    \n",
      "  3,892,441.0 Bytes [100.00%] received. Rate: [9657 KB/s].  ETA: [0 secs]    \n",
      "  7,656,927.0 Bytes [100.00%] received. Rate: [9648 KB/s].  ETA: [0 secs]    \n",
      "  2,522,783.0 Bytes [100.00%] received. Rate: [7983 KB/s].  ETA: [0 secs]    \n",
      "  4,710,463.0 Bytes [100.00%] received. Rate: [10692 KB/s].  ETA: [0 secs]    \n",
      "  4,896,900.0 Bytes [100.00%] received. Rate: [5492 KB/s].  ETA: [0 secs]    \n",
      "  3,535,825.0 Bytes [100.00%] received. Rate: [8913 KB/s].  ETA: [0 secs]    \n",
      "  2,141,133.0 Bytes [100.00%] received. Rate: [6745 KB/s].  ETA: [0 secs]    \n",
      "  4,103,416.0 Bytes [100.00%] received. Rate: [8607 KB/s].  ETA: [0 secs]    \n",
      "  3,712,711.0 Bytes [100.00%] received. Rate: [ 820 KB/s].  ETA: [0 secs]    \n"
     ]
    },
    {
     "name": "stderr",
     "output_type": "stream",
     "text": [
      "ERROR: 5eIiu1CjrTE: YouTube said: Unable to extract video data\n"
     ]
    },
    {
     "name": "stdout",
     "output_type": "stream",
     "text": [
      "Failed!\n",
      "  5,489,376.0 Bytes [100.00%] received. Rate: [6644 KB/s].  ETA: [0 secs]    \n",
      "  2,379,990.0 Bytes [100.00%] received. Rate: [5095 KB/s].  ETA: [0 secs]    \n",
      "  4,972,634.0 Bytes [100.00%] received. Rate: [ 406 KB/s].  ETA: [0 secs]    \n",
      "  3,704,815.0 Bytes [100.00%] received. Rate: [7405 KB/s].  ETA: [0 secs]    \n",
      "  4,903,308.0 Bytes [100.00%] received. Rate: [7032 KB/s].  ETA: [0 secs]    \n",
      "  5,700,340.0 Bytes [100.00%] received. Rate: [9383 KB/s].  ETA: [0 secs]    \n"
     ]
    },
    {
     "name": "stderr",
     "output_type": "stream",
     "text": [
      "ERROR: Video unavailable\n"
     ]
    },
    {
     "name": "stdout",
     "output_type": "stream",
     "text": [
      "Failed!\n"
     ]
    },
    {
     "name": "stderr",
     "output_type": "stream",
     "text": [
      "ERROR: Video unavailable\n"
     ]
    },
    {
     "name": "stdout",
     "output_type": "stream",
     "text": [
      "Failed!\n"
     ]
    },
    {
     "name": "stderr",
     "output_type": "stream",
     "text": [
      "ERROR: Video unavailable\n"
     ]
    },
    {
     "name": "stdout",
     "output_type": "stream",
     "text": [
      "Failed!\n",
      "  23,515.0 Bytes [100.00%] received. Rate: [ 525 KB/s].  ETA: [0 secs]    \n",
      "  2,711,697.0 Bytes [100.00%] received. Rate: [6002 KB/s].  ETA: [0 secs]    \n"
     ]
    },
    {
     "name": "stderr",
     "output_type": "stream",
     "text": [
      "ERROR: Al5qTPdhbgI: YouTube said: Unable to extract video data\n"
     ]
    },
    {
     "name": "stdout",
     "output_type": "stream",
     "text": [
      "Failed!\n",
      "  5,186,166.0 Bytes [100.00%] received. Rate: [6443 KB/s].  ETA: [0 secs]    \n"
     ]
    },
    {
     "name": "stderr",
     "output_type": "stream",
     "text": [
      "ERROR: Video unavailable\n"
     ]
    },
    {
     "name": "stdout",
     "output_type": "stream",
     "text": [
      "Failed!\n",
      "  3,550,290.0 Bytes [100.00%] received. Rate: [5492 KB/s].  ETA: [0 secs]    \n",
      "  3,544,303.0 Bytes [100.00%] received. Rate: [8634 KB/s].  ETA: [0 secs]    \n",
      "  4,211,032.0 Bytes [100.00%] received. Rate: [2992 KB/s].  ETA: [0 secs]    \n",
      "  5,938,040.0 Bytes [100.00%] received. Rate: [5581 KB/s].  ETA: [0 secs]    \n",
      "  2,850,780.0 Bytes [100.00%] received. Rate: [10876 KB/s].  ETA: [0 secs]    \n",
      "  4,536,170.0 Bytes [100.00%] received. Rate: [7275 KB/s].  ETA: [0 secs]    \n",
      "  2,994,254.0 Bytes [100.00%] received. Rate: [3599 KB/s].  ETA: [0 secs]    \n",
      "  4,256,551.0 Bytes [100.00%] received. Rate: [7341 KB/s].  ETA: [0 secs]    \n",
      "  4,458,791.0 Bytes [100.00%] received. Rate: [11353 KB/s].  ETA: [0 secs]    \n",
      "  4,641,620.0 Bytes [100.00%] received. Rate: [6171 KB/s].  ETA: [0 secs]    \n",
      "  3,817,972.0 Bytes [100.00%] received. Rate: [12135 KB/s].  ETA: [0 secs]    \n",
      "  6,937,386.0 Bytes [100.00%] received. Rate: [11402 KB/s].  ETA: [0 secs]    \n"
     ]
    },
    {
     "name": "stderr",
     "output_type": "stream",
     "text": [
      "ERROR: 0TY0LMsyyjA: YouTube said: Unable to extract video data\n"
     ]
    },
    {
     "name": "stdout",
     "output_type": "stream",
     "text": [
      "Failed!\n"
     ]
    },
    {
     "name": "stderr",
     "output_type": "stream",
     "text": [
      "ERROR: 5ZRAGaxmPbI: YouTube said: Unable to extract video data\n"
     ]
    },
    {
     "name": "stdout",
     "output_type": "stream",
     "text": [
      "Failed!\n",
      "  5,051,343.0 Bytes [100.00%] received. Rate: [6747 KB/s].  ETA: [0 secs]    \n",
      "  4,091,151.0 Bytes [100.00%] received. Rate: [ 800 KB/s].  ETA: [0 secs]    \n"
     ]
    },
    {
     "name": "stderr",
     "output_type": "stream",
     "text": [
      "ERROR: 23BpU8ZrGAc: YouTube said: Unable to extract video data\n"
     ]
    },
    {
     "name": "stdout",
     "output_type": "stream",
     "text": [
      "Failed!\n"
     ]
    },
    {
     "name": "stderr",
     "output_type": "stream",
     "text": [
      "ERROR: zHyGxrJrux8: YouTube said: Unable to extract video data\n"
     ]
    },
    {
     "name": "stdout",
     "output_type": "stream",
     "text": [
      "Failed!\n"
     ]
    },
    {
     "name": "stderr",
     "output_type": "stream",
     "text": [
      "ERROR: qGYjwfqKpYI: YouTube said: Unable to extract video data\n"
     ]
    },
    {
     "name": "stdout",
     "output_type": "stream",
     "text": [
      "Failed!\n",
      "  2,910,188.0 Bytes [100.00%] received. Rate: [2708 KB/s].  ETA: [0 secs]    \n",
      "  7,889,624.0 Bytes [100.00%] received. Rate: [3611 KB/s].  ETA: [0 secs]    \n",
      "  4,743,610.0 Bytes [100.00%] received. Rate: [2499 KB/s].  ETA: [0 secs]    \n",
      "  4,485,734.0 Bytes [100.00%] received. Rate: [3786 KB/s].  ETA: [0 secs]    \n"
     ]
    },
    {
     "name": "stderr",
     "output_type": "stream",
     "text": [
      "ERROR: Jb_MCzuFtg8: YouTube said: Unable to extract video data\n"
     ]
    },
    {
     "name": "stdout",
     "output_type": "stream",
     "text": [
      "Failed!\n",
      "  7,154,723.0 Bytes [100.00%] received. Rate: [8586 KB/s].  ETA: [0 secs]    \n",
      "  4,166,181.0 Bytes [100.00%] received. Rate: [ 789 KB/s].  ETA: [0 secs]    \n",
      "  5,720,461.0 Bytes [100.00%] received. Rate: [7226 KB/s].  ETA: [0 secs]    \n"
     ]
    },
    {
     "name": "stderr",
     "output_type": "stream",
     "text": [
      "ERROR: kjfAyalicgg: YouTube said: Unable to extract video data\n"
     ]
    },
    {
     "name": "stdout",
     "output_type": "stream",
     "text": [
      "Failed!\n",
      "  4,710,527.0 Bytes [100.00%] received. Rate: [12152 KB/s].  ETA: [0 secs]    \n",
      "  4,511,269.0 Bytes [100.00%] received. Rate: [9129 KB/s].  ETA: [0 secs]    \n",
      "  3,661,330.0 Bytes [100.00%] received. Rate: [10516 KB/s].  ETA: [0 secs]    \n",
      "  4,660,960.0 Bytes [100.00%] received. Rate: [10743 KB/s].  ETA: [0 secs]    \n",
      "  3,797,954.0 Bytes [100.00%] received. Rate: [7034 KB/s].  ETA: [0 secs]    \n",
      "  3,078,111.0 Bytes [100.00%] received. Rate: [8186 KB/s].  ETA: [0 secs]    \n",
      "  4,945,810.0 Bytes [100.00%] received. Rate: [10380 KB/s].  ETA: [0 secs]    \n",
      "  41,581.0 Bytes [100.00%] received. Rate: [1279 KB/s].  ETA: [0 secs]    \n",
      "  2,047,782.0 Bytes [100.00%] received. Rate: [5658 KB/s].  ETA: [0 secs]    \n",
      "  4,618,784.0 Bytes [100.00%] received. Rate: [9022 KB/s].  ETA: [0 secs]    \n",
      "  2,789,086.0 Bytes [100.00%] received. Rate: [5282 KB/s].  ETA: [0 secs]    \n",
      "  4,358,341.0 Bytes [100.00%] received. Rate: [11275 KB/s].  ETA: [0 secs]    \n"
     ]
    },
    {
     "name": "stderr",
     "output_type": "stream",
     "text": [
      "ERROR: Video unavailable\n"
     ]
    },
    {
     "name": "stdout",
     "output_type": "stream",
     "text": [
      "Failed!\n",
      "  3,029,177.0 Bytes [100.00%] received. Rate: [6024 KB/s].  ETA: [0 secs]    \n"
     ]
    },
    {
     "name": "stderr",
     "output_type": "stream",
     "text": [
      "ERROR: krwZSbNwEs8: YouTube said: Unable to extract video data\n"
     ]
    },
    {
     "name": "stdout",
     "output_type": "stream",
     "text": [
      "Failed!\n"
     ]
    },
    {
     "name": "stderr",
     "output_type": "stream",
     "text": [
      "ERROR: Video unavailable\n"
     ]
    },
    {
     "name": "stdout",
     "output_type": "stream",
     "text": [
      "Failed!\n"
     ]
    },
    {
     "name": "stderr",
     "output_type": "stream",
     "text": [
      "ERROR: wgr8_QE7oMw: YouTube said: Unable to extract video data\n"
     ]
    },
    {
     "name": "stdout",
     "output_type": "stream",
     "text": [
      "Failed!\n",
      "  6,106,197.0 Bytes [100.00%] received. Rate: [5427 KB/s].  ETA: [0 secs]    \n",
      "  3,048,755.0 Bytes [100.00%] received. Rate: [3984 KB/s].  ETA: [0 secs]    \n",
      "  59,497.0 Bytes [100.00%] received. Rate: [1253 KB/s].  ETA: [0 secs]    \n",
      "  7,369,956.0 Bytes [100.00%] received. Rate: [11086 KB/s].  ETA: [0 secs]    \n",
      "  4,191,869.0 Bytes [100.00%] received. Rate: [7947 KB/s].  ETA: [0 secs]    \n",
      "  2,646,721.0 Bytes [100.00%] received. Rate: [6597 KB/s].  ETA: [0 secs]    \n",
      "  4,077,989.0 Bytes [100.00%] received. Rate: [9567 KB/s].  ETA: [0 secs]    \n",
      "  5,735,663.0 Bytes [100.00%] received. Rate: [7763 KB/s].  ETA: [0 secs]    \n",
      "  2,534,520.0 Bytes [100.00%] received. Rate: [4365 KB/s].  ETA: [0 secs]    \n",
      "  3,909,363.0 Bytes [100.00%] received. Rate: [7839 KB/s].  ETA: [0 secs]    \n",
      "  2,023,384.0 Bytes [100.00%] received. Rate: [8720 KB/s].  ETA: [0 secs]    \n"
     ]
    },
    {
     "name": "stderr",
     "output_type": "stream",
     "text": [
      "ERROR: 3UiMpJVxTHE: YouTube said: Unable to extract video data\n"
     ]
    },
    {
     "name": "stdout",
     "output_type": "stream",
     "text": [
      "Failed!\n",
      "  3,086,147.0 Bytes [100.00%] received. Rate: [ 713 KB/s].  ETA: [0 secs]    \n",
      "  2,280,303.0 Bytes [100.00%] received. Rate: [6323 KB/s].  ETA: [0 secs]    \n"
     ]
    },
    {
     "name": "stderr",
     "output_type": "stream",
     "text": [
      "ERROR: Zm5utwjH3Tc: YouTube said: Unable to extract video data\n"
     ]
    },
    {
     "name": "stdout",
     "output_type": "stream",
     "text": [
      "Failed!\n",
      "  5,760,447.0 Bytes [100.00%] received. Rate: [10227 KB/s].  ETA: [0 secs]    \n",
      "  2,892,372.0 Bytes [100.00%] received. Rate: [7867 KB/s].  ETA: [0 secs]    \n",
      "  3,389,131.0 Bytes [100.00%] received. Rate: [5325 KB/s].  ETA: [0 secs]    \n",
      "  1,133,201.0 Bytes [100.00%] received. Rate: [3908 KB/s].  ETA: [0 secs]    \n",
      "  3,512,599.0 Bytes [100.00%] received. Rate: [7304 KB/s].  ETA: [0 secs]    \n",
      "  3,280,586.0 Bytes [100.00%] received. Rate: [7430 KB/s].  ETA: [0 secs]    \n",
      "  5,058,794.0 Bytes [100.00%] received. Rate: [6675 KB/s].  ETA: [0 secs]    \n",
      "  2,564,842.0 Bytes [100.00%] received. Rate: [4976 KB/s].  ETA: [0 secs]    \n",
      "  3,886,008.0 Bytes [100.00%] received. Rate: [5527 KB/s].  ETA: [0 secs]    \n",
      "  3,463,626.0 Bytes [100.00%] received. Rate: [7326 KB/s].  ETA: [0 secs]    \n",
      "  3,400,555.0 Bytes [100.00%] received. Rate: [11013 KB/s].  ETA: [0 secs]    \n",
      "  5,147,863.0 Bytes [100.00%] received. Rate: [11095 KB/s].  ETA: [0 secs]    \n",
      "  4,547,459.0 Bytes [100.00%] received. Rate: [7280 KB/s].  ETA: [0 secs]    \n",
      "  4,273,074.0 Bytes [100.00%] received. Rate: [10205 KB/s].  ETA: [0 secs]    \n",
      "  3,924,929.0 Bytes [100.00%] received. Rate: [7795 KB/s].  ETA: [0 secs]    \n",
      "  3,953,675.0 Bytes [100.00%] received. Rate: [3733 KB/s].  ETA: [0 secs]    \n",
      "  5,903,237.0 Bytes [100.00%] received. Rate: [10029 KB/s].  ETA: [0 secs]    \n",
      "  49,693.0 Bytes [100.00%] received. Rate: [ 809 KB/s].  ETA: [0 secs]    \n",
      "  2,559,314.0 Bytes [100.00%] received. Rate: [8400 KB/s].  ETA: [0 secs]    \n",
      "  8,715,595.0 Bytes [100.00%] received. Rate: [12441 KB/s].  ETA: [0 secs]    \n",
      "  9,114,768.0 Bytes [100.00%] received. Rate: [11270 KB/s].  ETA: [0 secs]    \n",
      "  3,191,518.0 Bytes [100.00%] received. Rate: [7120 KB/s].  ETA: [0 secs]    \n",
      "  2,625,279.0 Bytes [100.00%] received. Rate: [6850 KB/s].  ETA: [0 secs]    \n",
      "  3,525,467.0 Bytes [100.00%] received. Rate: [10308 KB/s].  ETA: [0 secs]    \n",
      "  1,979,606.0 Bytes [100.00%] received. Rate: [ 276 KB/s].  ETA: [0 secs]    \n"
     ]
    },
    {
     "name": "stderr",
     "output_type": "stream",
     "text": [
      "ERROR: 3TRF2q-zrj0: YouTube said: Unable to extract video data\n"
     ]
    },
    {
     "name": "stdout",
     "output_type": "stream",
     "text": [
      "Failed!\n",
      "  3,675,760.0 Bytes [100.00%] received. Rate: [9514 KB/s].  ETA: [0 secs]    \n"
     ]
    },
    {
     "name": "stderr",
     "output_type": "stream",
     "text": [
      "ERROR: zkfkJCyqCBc: YouTube said: Unable to extract video data\n"
     ]
    },
    {
     "name": "stdout",
     "output_type": "stream",
     "text": [
      "Failed!\n",
      "  3,177,369.0 Bytes [100.00%] received. Rate: [9988 KB/s].  ETA: [0 secs]    \n",
      "  3,191,542.0 Bytes [100.00%] received. Rate: [10476 KB/s].  ETA: [0 secs]    \n",
      "  3,890,196.0 Bytes [100.00%] received. Rate: [6624 KB/s].  ETA: [0 secs]    \n",
      "  3,120,025.0 Bytes [100.00%] received. Rate: [9547 KB/s].  ETA: [0 secs]    \n",
      "  2,730,807.0 Bytes [100.00%] received. Rate: [7639 KB/s].  ETA: [0 secs]    \n",
      "  5,105,805.0 Bytes [100.00%] received. Rate: [7751 KB/s].  ETA: [0 secs]    \n",
      "  3,252,578.0 Bytes [100.00%] received. Rate: [10838 KB/s].  ETA: [0 secs]    \n",
      "  4,701,538.0 Bytes [100.00%] received. Rate: [13516 KB/s].  ETA: [0 secs]    \n",
      "  3,749,772.0 Bytes [100.00%] received. Rate: [8858 KB/s].  ETA: [0 secs]    \n",
      "  3,670,514.0 Bytes [100.00%] received. Rate: [10300 KB/s].  ETA: [0 secs]    \n",
      "  3,569,638.0 Bytes [100.00%] received. Rate: [10301 KB/s].  ETA: [0 secs]    \n",
      "  3,081,115.0 Bytes [100.00%] received. Rate: [7144 KB/s].  ETA: [0 secs]    \n",
      "  5,175,382.0 Bytes [100.00%] received. Rate: [6836 KB/s].  ETA: [0 secs]    \n",
      "  5,248,597.0 Bytes [100.00%] received. Rate: [6478 KB/s].  ETA: [0 secs]    \n",
      "  3,780,420.0 Bytes [100.00%] received. Rate: [6892 KB/s].  ETA: [0 secs]    \n",
      "  2,419,345.0 Bytes [100.00%] received. Rate: [6989 KB/s].  ETA: [0 secs]    \n",
      "  3,540,708.0 Bytes [100.00%] received. Rate: [6240 KB/s].  ETA: [0 secs]    \n",
      "  3,358,545.0 Bytes [100.00%] received. Rate: [8915 KB/s].  ETA: [0 secs]    \n",
      "  4,558,549.0 Bytes [100.00%] received. Rate: [5294 KB/s].  ETA: [0 secs]    \n"
     ]
    },
    {
     "name": "stderr",
     "output_type": "stream",
     "text": [
      "ERROR: dT1TDf700EA: YouTube said: Unable to extract video data\n"
     ]
    },
    {
     "name": "stdout",
     "output_type": "stream",
     "text": [
      "Failed!\n",
      "  5,554,075.0 Bytes [100.00%] received. Rate: [7924 KB/s].  ETA: [0 secs]    \n",
      "  2,090,458.0 Bytes [100.00%] received. Rate: [8560 KB/s].  ETA: [0 secs]    \n",
      "  2,888,994.0 Bytes [100.00%] received. Rate: [11009 KB/s].  ETA: [0 secs]    \n",
      "  2,984,216.0 Bytes [100.00%] received. Rate: [13266 KB/s].  ETA: [0 secs]    \n"
     ]
    },
    {
     "name": "stderr",
     "output_type": "stream",
     "text": [
      "ERROR: Video unavailable\n"
     ]
    },
    {
     "name": "stdout",
     "output_type": "stream",
     "text": [
      "Failed!\n",
      "  2,604,710.0 Bytes [100.00%] received. Rate: [8553 KB/s].  ETA: [0 secs]    \n",
      "  3,078,894.0 Bytes [100.00%] received. Rate: [1867 KB/s].  ETA: [0 secs]    \n",
      "  2,430,252.0 Bytes [100.00%] received. Rate: [7508 KB/s].  ETA: [0 secs]    \n",
      "  2,602,272.0 Bytes [100.00%] received. Rate: [5288 KB/s].  ETA: [0 secs]    \n",
      "  2,440,234.0 Bytes [100.00%] received. Rate: [8379 KB/s].  ETA: [0 secs]    \n",
      "  4,914,174.0 Bytes [100.00%] received. Rate: [11232 KB/s].  ETA: [0 secs]    \n",
      "  3,427,369.0 Bytes [100.00%] received. Rate: [6745 KB/s].  ETA: [0 secs]    \n",
      "  6,446,610.0 Bytes [100.00%] received. Rate: [10181 KB/s].  ETA: [0 secs]    \n",
      "  4,900,788.0 Bytes [100.00%] received. Rate: [12405 KB/s].  ETA: [0 secs]    \n",
      "  3,045,727.0 Bytes [100.00%] received. Rate: [12502 KB/s].  ETA: [0 secs]    \n",
      "  5,569,544.0 Bytes [100.00%] received. Rate: [5733 KB/s].  ETA: [0 secs]    \n",
      "  3,087,370.0 Bytes [100.00%] received. Rate: [11057 KB/s].  ETA: [0 secs]    \n",
      "  15,435.0 Bytes [100.00%] received. Rate: [1699 KB/s].  ETA: [0 secs]    \n",
      "  5,868,689.0 Bytes [100.00%] received. Rate: [9720 KB/s].  ETA: [0 secs]    \n"
     ]
    },
    {
     "name": "stderr",
     "output_type": "stream",
     "text": [
      "ERROR: Video unavailable\n"
     ]
    },
    {
     "name": "stdout",
     "output_type": "stream",
     "text": [
      "Failed!\n"
     ]
    },
    {
     "name": "stderr",
     "output_type": "stream",
     "text": [
      "ERROR: jK8JGpCmDw8: YouTube said: Unable to extract video data\n"
     ]
    },
    {
     "name": "stdout",
     "output_type": "stream",
     "text": [
      "Failed!\n",
      "  6,266,072.0 Bytes [100.00%] received. Rate: [10299 KB/s].  ETA: [0 secs]    \n",
      "  4,163,723.0 Bytes [100.00%] received. Rate: [6193 KB/s].  ETA: [0 secs]    \n",
      "  7,667,627.0 Bytes [100.00%] received. Rate: [6905 KB/s].  ETA: [0 secs]    \n",
      "  3,448,831.0 Bytes [100.00%] received. Rate: [11466 KB/s].  ETA: [0 secs]    \n",
      "  1,014,235.0 Bytes [100.00%] received. Rate: [4183 KB/s].  ETA: [0 secs]    \n",
      "  4,311,352.0 Bytes [100.00%] received. Rate: [8728 KB/s].  ETA: [0 secs]    \n",
      "  4,205,481.0 Bytes [100.00%] received. Rate: [9562 KB/s].  ETA: [0 secs]    \n",
      "  2,540,712.0 Bytes [100.00%] received. Rate: [6347 KB/s].  ETA: [0 secs]    \n",
      "  3,796,943.0 Bytes [100.00%] received. Rate: [11219 KB/s].  ETA: [0 secs]    \n",
      "  6,590,156.0 Bytes [100.00%] received. Rate: [13389 KB/s].  ETA: [0 secs]    \n"
     ]
    },
    {
     "name": "stderr",
     "output_type": "stream",
     "text": [
      "ERROR: Video unavailable\n"
     ]
    },
    {
     "name": "stdout",
     "output_type": "stream",
     "text": [
      "Failed!\n"
     ]
    },
    {
     "name": "stderr",
     "output_type": "stream",
     "text": [
      "ERROR: Video unavailable\n"
     ]
    },
    {
     "name": "stdout",
     "output_type": "stream",
     "text": [
      "Failed!\n",
      "  3,112,141.0 Bytes [100.00%] received. Rate: [2140 KB/s].  ETA: [0 secs]    \n",
      "  2,551,944.0 Bytes [100.00%] received. Rate: [7110 KB/s].  ETA: [0 secs]    \n",
      "  5,132,766.0 Bytes [100.00%] received. Rate: [7274 KB/s].  ETA: [0 secs]    \n",
      "  3,749,276.0 Bytes [100.00%] received. Rate: [8036 KB/s].  ETA: [0 secs]    \n",
      "  2,677,835.0 Bytes [100.00%] received. Rate: [ 267 KB/s].  ETA: [0 secs]    \n",
      "  4,210,664.0 Bytes [100.00%] received. Rate: [6563 KB/s].  ETA: [0 secs]    \n",
      "  3,036,594.0 Bytes [100.00%] received. Rate: [1902 KB/s].  ETA: [0 secs]    \n",
      "  3,419,714.0 Bytes [100.00%] received. Rate: [8125 KB/s].  ETA: [0 secs]    \n",
      "  4,924,951.0 Bytes [100.00%] received. Rate: [6578 KB/s].  ETA: [0 secs]    \n",
      "  3,543,196.0 Bytes [100.00%] received. Rate: [7197 KB/s].  ETA: [0 secs]    \n",
      "  3,970,265.0 Bytes [100.00%] received. Rate: [8124 KB/s].  ETA: [0 secs]    \n",
      "  3,399,036.0 Bytes [100.00%] received. Rate: [4081 KB/s].  ETA: [0 secs]    \n",
      "  2,524,131.0 Bytes [100.00%] received. Rate: [2328 KB/s].  ETA: [0 secs]    \n",
      "  3,819,172.0 Bytes [100.00%] received. Rate: [2556 KB/s].  ETA: [0 secs]    \n"
     ]
    },
    {
     "name": "stderr",
     "output_type": "stream",
     "text": [
      "ERROR: z-G2c5HRswg: YouTube said: Unable to extract video data\n"
     ]
    },
    {
     "name": "stdout",
     "output_type": "stream",
     "text": [
      "Failed!\n",
      "  2,339,260.0 Bytes [100.00%] received. Rate: [4190 KB/s].  ETA: [0 secs]    \n",
      "  3,145,676.0 Bytes [100.00%] received. Rate: [4738 KB/s].  ETA: [0 secs]    \n",
      "  2,757,936.0 Bytes [100.00%] received. Rate: [7408 KB/s].  ETA: [0 secs]    \n",
      "  4,179,829.0 Bytes [100.00%] received. Rate: [6617 KB/s].  ETA: [0 secs]    \n",
      "  5,221,956.0 Bytes [100.00%] received. Rate: [6839 KB/s].  ETA: [0 secs]    \n",
      "  4,530,510.0 Bytes [100.00%] received. Rate: [5441 KB/s].  ETA: [0 secs]    \n",
      "  3,559,410.0 Bytes [100.00%] received. Rate: [6218 KB/s].  ETA: [0 secs]    \n",
      "  3,575,994.0 Bytes [100.00%] received. Rate: [3603 KB/s].  ETA: [0 secs]    \n",
      "  2,934,256.0 Bytes [100.00%] received. Rate: [7773 KB/s].  ETA: [0 secs]    \n",
      "  4,342,804.0 Bytes [100.00%] received. Rate: [4180 KB/s].  ETA: [0 secs]    \n"
     ]
    },
    {
     "name": "stderr",
     "output_type": "stream",
     "text": [
      "ERROR: -NUOlQiy4K4: YouTube said: Unable to extract video data\n"
     ]
    },
    {
     "name": "stdout",
     "output_type": "stream",
     "text": [
      "Failed!\n",
      "  3,963,790.0 Bytes [100.00%] received. Rate: [3440 KB/s].  ETA: [0 secs]    \n"
     ]
    },
    {
     "name": "stderr",
     "output_type": "stream",
     "text": [
      "ERROR: de1O6X7T5PU: YouTube said: Unable to extract video data\n"
     ]
    },
    {
     "name": "stdout",
     "output_type": "stream",
     "text": [
      "Failed!\n",
      "  4,440,732.0 Bytes [100.00%] received. Rate: [6486 KB/s].  ETA: [0 secs]    \n",
      "  4,402,149.0 Bytes [100.00%] received. Rate: [10664 KB/s].  ETA: [0 secs]    \n"
     ]
    },
    {
     "name": "stderr",
     "output_type": "stream",
     "text": [
      "ERROR: ylauF8Qnjfo: YouTube said: Unable to extract video data\n"
     ]
    },
    {
     "name": "stdout",
     "output_type": "stream",
     "text": [
      "Failed!\n",
      "  2,210,564.0 Bytes [100.00%] received. Rate: [7440 KB/s].  ETA: [0 secs]    \n",
      "  4,547,714.0 Bytes [100.00%] received. Rate: [9117 KB/s].  ETA: [0 secs]    \n",
      "  2,702,412.0 Bytes [100.00%] received. Rate: [4994 KB/s].  ETA: [0 secs]    \n",
      "  22,540.0 Bytes [100.00%] received. Rate: [ 572 KB/s].  ETA: [0 secs]    \n"
     ]
    },
    {
     "name": "stderr",
     "output_type": "stream",
     "text": [
      "ERROR: Video unavailable\n"
     ]
    },
    {
     "name": "stdout",
     "output_type": "stream",
     "text": [
      "Failed!\n",
      "  4,189,515.0 Bytes [100.00%] received. Rate: [11108 KB/s].  ETA: [0 secs]    \n",
      "  19,816.0 Bytes [100.00%] received. Rate: [1181 KB/s].  ETA: [0 secs]    \n",
      "  4,127,739.0 Bytes [100.00%] received. Rate: [9475 KB/s].  ETA: [0 secs]    \n",
      "  5,586,066.0 Bytes [100.00%] received. Rate: [9068 KB/s].  ETA: [0 secs]    \n",
      "  3,662,708.0 Bytes [100.00%] received. Rate: [9044 KB/s].  ETA: [0 secs]    \n",
      "  5,528,787.0 Bytes [100.00%] received. Rate: [4051 KB/s].  ETA: [0 secs]    \n",
      "  4,339,166.0 Bytes [100.00%] received. Rate: [4963 KB/s].  ETA: [0 secs]    \n",
      "  3,394,530.0 Bytes [100.00%] received. Rate: [9465 KB/s].  ETA: [0 secs]    \n",
      "  5,126,834.0 Bytes [100.00%] received. Rate: [10783 KB/s].  ETA: [0 secs]    \n",
      "  4,199,597.0 Bytes [100.00%] received. Rate: [3456 KB/s].  ETA: [0 secs]    \n",
      "  4,544,807.0 Bytes [100.00%] received. Rate: [12031 KB/s].  ETA: [0 secs]    \n",
      "  3,610,266.0 Bytes [100.00%] received. Rate: [8601 KB/s].  ETA: [0 secs]    \n"
     ]
    },
    {
     "name": "stderr",
     "output_type": "stream",
     "text": [
      "ERROR: yUe1qZwQTFc: YouTube said: Unable to extract video data\n"
     ]
    },
    {
     "name": "stdout",
     "output_type": "stream",
     "text": [
      "Failed!\n",
      "  3,718,082.0 Bytes [100.00%] received. Rate: [6669 KB/s].  ETA: [0 secs]    \n",
      "  4,135,225.0 Bytes [100.00%] received. Rate: [11118 KB/s].  ETA: [0 secs]    \n",
      "  2,448,496.0 Bytes [100.00%] received. Rate: [3093 KB/s].  ETA: [0 secs]    \n",
      "  7,816,990.0 Bytes [100.00%] received. Rate: [11378 KB/s].  ETA: [0 secs]    \n",
      "  3,580,508.0 Bytes [100.00%] received. Rate: [10239 KB/s].  ETA: [0 secs]    \n"
     ]
    },
    {
     "name": "stderr",
     "output_type": "stream",
     "text": [
      "ERROR: FT62Gwv70kM: YouTube said: Unable to extract video data\n"
     ]
    },
    {
     "name": "stdout",
     "output_type": "stream",
     "text": [
      "Failed!\n",
      "  2,885,732.0 Bytes [100.00%] received. Rate: [7605 KB/s].  ETA: [0 secs]    \n"
     ]
    },
    {
     "name": "stderr",
     "output_type": "stream",
     "text": [
      "ERROR: Video unavailable\n"
     ]
    },
    {
     "name": "stdout",
     "output_type": "stream",
     "text": [
      "Failed!\n"
     ]
    },
    {
     "name": "stderr",
     "output_type": "stream",
     "text": [
      "ERROR: Iej8BWJ4FYE: YouTube said: Unable to extract video data\n"
     ]
    },
    {
     "name": "stdout",
     "output_type": "stream",
     "text": [
      "Failed!\n",
      "  7,121,951.0 Bytes [100.00%] received. Rate: [12579 KB/s].  ETA: [0 secs]    \n",
      "  7,593,482.0 Bytes [100.00%] received. Rate: [13375 KB/s].  ETA: [0 secs]    \n"
     ]
    },
    {
     "name": "stderr",
     "output_type": "stream",
     "text": [
      "ERROR: Video unavailable\n"
     ]
    },
    {
     "name": "stdout",
     "output_type": "stream",
     "text": [
      "Failed!\n",
      "  6,623,220.0 Bytes [100.00%] received. Rate: [ 183 KB/s].  ETA: [0 secs]    \n",
      "  3,798,445.0 Bytes [100.00%] received. Rate: [9974 KB/s].  ETA: [0 secs]    \n",
      "  4,423,961.0 Bytes [100.00%] received. Rate: [10781 KB/s].  ETA: [0 secs]    \n",
      "  2,246,959.0 Bytes [100.00%] received. Rate: [9559 KB/s].  ETA: [0 secs]    \n"
     ]
    },
    {
     "name": "stderr",
     "output_type": "stream",
     "text": [
      "ERROR: Q2Xusdyg0_I: YouTube said: Unable to extract video data\n"
     ]
    },
    {
     "name": "stdout",
     "output_type": "stream",
     "text": [
      "Failed!\n",
      "  4,233,575.0 Bytes [100.00%] received. Rate: [5387 KB/s].  ETA: [0 secs]    \n"
     ]
    },
    {
     "name": "stderr",
     "output_type": "stream",
     "text": [
      "ERROR: Video unavailable\n"
     ]
    },
    {
     "name": "stdout",
     "output_type": "stream",
     "text": [
      "Failed!\n",
      "  2,123,076.0 Bytes [100.00%] received. Rate: [9272 KB/s].  ETA: [0 secs]    \n",
      "  3,770,125.0 Bytes [100.00%] received. Rate: [6342 KB/s].  ETA: [0 secs]    \n",
      "  5,304,195.0 Bytes [100.00%] received. Rate: [7720 KB/s].  ETA: [0 secs]    \n",
      "  4,739,945.0 Bytes [100.00%] received. Rate: [3498 KB/s].  ETA: [0 secs]    \n",
      "  4,176,029.0 Bytes [100.00%] received. Rate: [6438 KB/s].  ETA: [0 secs]    \n",
      "  6,332,739.0 Bytes [100.00%] received. Rate: [5319 KB/s].  ETA: [0 secs]    \n",
      "  3,757,513.0 Bytes [100.00%] received. Rate: [9716 KB/s].  ETA: [0 secs]    \n",
      "  4,044,453.0 Bytes [100.00%] received. Rate: [13315 KB/s].  ETA: [0 secs]    \n",
      "  3,629,153.0 Bytes [100.00%] received. Rate: [8417 KB/s].  ETA: [0 secs]    \n",
      "  5,127,238.0 Bytes [100.00%] received. Rate: [ 303 KB/s].  ETA: [0 secs]    \n",
      "  8,657,390.0 Bytes [100.00%] received. Rate: [ 882 KB/s].  ETA: [0 secs]    \n",
      "  6,082,980.0 Bytes [100.00%] received. Rate: [ 724 KB/s].  ETA: [0 secs]    \n",
      "  3,289,343.0 Bytes [100.00%] received. Rate: [11067 KB/s].  ETA: [0 secs]    \n",
      "  2,305,977.0 Bytes [100.00%] received. Rate: [8794 KB/s].  ETA: [0 secs]    \n",
      "  4,922,811.0 Bytes [100.00%] received. Rate: [10096 KB/s].  ETA: [0 secs]    \n",
      "  2,758,218.0 Bytes [100.00%] received. Rate: [11464 KB/s].  ETA: [0 secs]    \n",
      "  2,662,903.0 Bytes [100.00%] received. Rate: [3825 KB/s].  ETA: [0 secs]    \n",
      "  4,862,041.0 Bytes [100.00%] received. Rate: [18454 KB/s].  ETA: [0 secs]    \n",
      "  3,789,206.0 Bytes [100.00%] received. Rate: [12115 KB/s].  ETA: [0 secs]    \n",
      "  76,652.0 Bytes [100.00%] received. Rate: [ 626 KB/s].  ETA: [0 secs]    \n",
      "  3,116,314.0 Bytes [100.00%] received. Rate: [9536 KB/s].  ETA: [0 secs]    \n",
      "  4,193,820.0 Bytes [100.00%] received. Rate: [4355 KB/s].  ETA: [0 secs]    \n",
      "  3,221,559.0 Bytes [100.00%] received. Rate: [1797 KB/s].  ETA: [0 secs]    \n"
     ]
    },
    {
     "name": "stderr",
     "output_type": "stream",
     "text": [
      "ERROR: Xp4SGYnqv8k: YouTube said: Unable to extract video data\n"
     ]
    },
    {
     "name": "stdout",
     "output_type": "stream",
     "text": [
      "Failed!\n"
     ]
    },
    {
     "name": "stderr",
     "output_type": "stream",
     "text": [
      "ERROR: YQqOoNKZbiQ: YouTube said: Unable to extract video data\n"
     ]
    },
    {
     "name": "stdout",
     "output_type": "stream",
     "text": [
      "Failed!\n",
      "  3,886,808.0 Bytes [100.00%] received. Rate: [6975 KB/s].  ETA: [0 secs]    \n",
      "  3,774,788.0 Bytes [100.00%] received. Rate: [1546 KB/s].  ETA: [0 secs]    \n",
      "  4,899,261.0 Bytes [100.00%] received. Rate: [13132 KB/s].  ETA: [0 secs]    \n"
     ]
    },
    {
     "name": "stderr",
     "output_type": "stream",
     "text": [
      "ERROR: TcC8vP0aMd8: YouTube said: Unable to extract video data\n"
     ]
    },
    {
     "name": "stdout",
     "output_type": "stream",
     "text": [
      "Failed!\n",
      "  6,112,916.0 Bytes [100.00%] received. Rate: [3952 KB/s].  ETA: [0 secs]    \n",
      "  8,154,248.0 Bytes [100.00%] received. Rate: [16319 KB/s].  ETA: [0 secs]    \n",
      "  4,104,490.0 Bytes [100.00%] received. Rate: [5953 KB/s].  ETA: [0 secs]    \n",
      "  2,414,364.0 Bytes [100.00%] received. Rate: [8940 KB/s].  ETA: [0 secs]    \n",
      "  5,404,965.0 Bytes [100.00%] received. Rate: [14696 KB/s].  ETA: [0 secs]    \n"
     ]
    },
    {
     "name": "stderr",
     "output_type": "stream",
     "text": [
      "ERROR: bLB4r6SzQiQ: YouTube said: Unable to extract video data\n"
     ]
    },
    {
     "name": "stdout",
     "output_type": "stream",
     "text": [
      "Failed!\n",
      "  1,814,405.0 Bytes [100.00%] received. Rate: [6548 KB/s].  ETA: [0 secs]    \n",
      "  22,651.0 Bytes [100.00%] received. Rate: [ 664 KB/s].  ETA: [0 secs]    \n",
      "  3,618,126.0 Bytes [100.00%] received. Rate: [13181 KB/s].  ETA: [0 secs]    \n",
      "  5,112,809.0 Bytes [100.00%] received. Rate: [10266 KB/s].  ETA: [0 secs]    \n",
      "  4,156,123.0 Bytes [100.00%] received. Rate: [7717 KB/s].  ETA: [0 secs]    \n",
      "  3,410,677.0 Bytes [100.00%] received. Rate: [10822 KB/s].  ETA: [0 secs]    \n",
      "  4,421,896.0 Bytes [100.00%] received. Rate: [13995 KB/s].  ETA: [0 secs]    \n",
      "  1,495,264.0 Bytes [100.00%] received. Rate: [6840 KB/s].  ETA: [0 secs]    \n"
     ]
    },
    {
     "name": "stderr",
     "output_type": "stream",
     "text": [
      "ERROR: Video unavailable\n"
     ]
    },
    {
     "name": "stdout",
     "output_type": "stream",
     "text": [
      "Failed!\n"
     ]
    },
    {
     "name": "stderr",
     "output_type": "stream",
     "text": [
      "ERROR: ZpAVbYhI9I0: YouTube said: Unable to extract video data\n"
     ]
    },
    {
     "name": "stdout",
     "output_type": "stream",
     "text": [
      "Failed!\n",
      "  2,632,736.0 Bytes [88.10%] received. Rate: [  20 KB/s].  ETA: [17 secs]    \n",
      "  4,294,585.0 Bytes [100.00%] received. Rate: [11643 KB/s].  ETA: [0 secs]    \n",
      "  3,764,170.0 Bytes [100.00%] received. Rate: [4657 KB/s].  ETA: [0 secs]    \n",
      "  2,624,576.0 Bytes [100.00%] received. Rate: [13447 KB/s].  ETA: [0 secs]    \n",
      "  4,429,176.0 Bytes [100.00%] received. Rate: [5234 KB/s].  ETA: [0 secs]    \n",
      "  3,616,202.0 Bytes [100.00%] received. Rate: [15596 KB/s].  ETA: [0 secs]    \n",
      "  4,350,813.0 Bytes [100.00%] received. Rate: [13691 KB/s].  ETA: [0 secs]    \n"
     ]
    },
    {
     "name": "stderr",
     "output_type": "stream",
     "text": [
      "ERROR: jfrYk384_xY: YouTube said: Unable to extract video data\n"
     ]
    },
    {
     "name": "stdout",
     "output_type": "stream",
     "text": [
      "Failed!\n",
      "  4,069,409.0 Bytes [100.00%] received. Rate: [14388 KB/s].  ETA: [0 secs]    \n",
      "  4,171,232.0 Bytes [100.00%] received. Rate: [5112 KB/s].  ETA: [0 secs]    \n"
     ]
    },
    {
     "name": "stderr",
     "output_type": "stream",
     "text": [
      "ERROR: Video unavailable\n"
     ]
    },
    {
     "name": "stdout",
     "output_type": "stream",
     "text": [
      "Failed!\n",
      "  37,771.0 Bytes [100.00%] received. Rate: [ 316 KB/s].  ETA: [0 secs]    \n",
      "  3,450,673.0 Bytes [100.00%] received. Rate: [ 574 KB/s].  ETA: [0 secs]    \n",
      "  3,653,435.0 Bytes [100.00%] received. Rate: [12784 KB/s].  ETA: [0 secs]    \n",
      "  3,227,603.0 Bytes [100.00%] received. Rate: [10733 KB/s].  ETA: [0 secs]    \n",
      "  8,417,576.0 Bytes [100.00%] received. Rate: [8490 KB/s].  ETA: [0 secs]    \n",
      "  5,524,106.0 Bytes [100.00%] received. Rate: [10138 KB/s].  ETA: [0 secs]    \n",
      "  4,409,519.0 Bytes [100.00%] received. Rate: [8734 KB/s].  ETA: [0 secs]    \n",
      "  3,067,838.0 Bytes [100.00%] received. Rate: [13117 KB/s].  ETA: [0 secs]    \n",
      "  4,600,759.0 Bytes [100.00%] received. Rate: [8043 KB/s].  ETA: [0 secs]    \n",
      "  6,420,932.0 Bytes [100.00%] received. Rate: [20362 KB/s].  ETA: [0 secs]    \n",
      "  3,527,073.0 Bytes [100.00%] received. Rate: [13815 KB/s].  ETA: [0 secs]    \n"
     ]
    },
    {
     "name": "stderr",
     "output_type": "stream",
     "text": [
      "ERROR: pFSelvCtObM: YouTube said: Unable to extract video data\n"
     ]
    },
    {
     "name": "stdout",
     "output_type": "stream",
     "text": [
      "Failed!\n",
      "  43,753.0 Bytes [100.00%] received. Rate: [1171 KB/s].  ETA: [0 secs]    \n"
     ]
    },
    {
     "name": "stderr",
     "output_type": "stream",
     "text": [
      "ERROR: wAd223vZWSU: YouTube said: Unable to extract video data\n"
     ]
    },
    {
     "name": "stdout",
     "output_type": "stream",
     "text": [
      "Failed!\n",
      "  3,027,750.0 Bytes [100.00%] received. Rate: [3521 KB/s].  ETA: [0 secs]    \n",
      "  4,000,111.0 Bytes [100.00%] received. Rate: [5415 KB/s].  ETA: [0 secs]    \n"
     ]
    },
    {
     "name": "stderr",
     "output_type": "stream",
     "text": [
      "ERROR: Video unavailable\n"
     ]
    },
    {
     "name": "stdout",
     "output_type": "stream",
     "text": [
      "Failed!\n",
      "  6,742,171.0 Bytes [100.00%] received. Rate: [14137 KB/s].  ETA: [0 secs]    \n",
      "  3,481,275.0 Bytes [100.00%] received. Rate: [6253 KB/s].  ETA: [0 secs]    \n",
      "  3,874,700.0 Bytes [100.00%] received. Rate: [13455 KB/s].  ETA: [0 secs]    \n",
      "  4,368,476.0 Bytes [100.00%] received. Rate: [14208 KB/s].  ETA: [0 secs]    \n",
      "  5,347,895.0 Bytes [100.00%] received. Rate: [11526 KB/s].  ETA: [0 secs]    \n",
      "  3,211,757.0 Bytes [100.00%] received. Rate: [10422 KB/s].  ETA: [0 secs]    \n",
      "  2,543,099.0 Bytes [100.00%] received. Rate: [12344 KB/s].  ETA: [0 secs]    \n",
      "  3,111,532.0 Bytes [100.00%] received. Rate: [11436 KB/s].  ETA: [0 secs]    \n",
      "  4,052,561.0 Bytes [100.00%] received. Rate: [13329 KB/s].  ETA: [0 secs]    \n",
      "  3,575,670.0 Bytes [100.00%] received. Rate: [13429 KB/s].  ETA: [0 secs]    \n",
      "  3,273,872.0 Bytes [100.00%] received. Rate: [13477 KB/s].  ETA: [0 secs]    \n"
     ]
    },
    {
     "name": "stderr",
     "output_type": "stream",
     "text": [
      "ERROR: CmwIYDTi5_k: YouTube said: Unable to extract video data\n"
     ]
    },
    {
     "name": "stdout",
     "output_type": "stream",
     "text": [
      "Failed!\n",
      "  2,633,096.0 Bytes [100.00%] received. Rate: [4394 KB/s].  ETA: [0 secs]    \n",
      "  5,339,700.0 Bytes [100.00%] received. Rate: [9216 KB/s].  ETA: [0 secs]    \n",
      "  4,219,750.0 Bytes [100.00%] received. Rate: [9272 KB/s].  ETA: [0 secs]    \n",
      "  4,278,103.0 Bytes [100.00%] received. Rate: [10158 KB/s].  ETA: [0 secs]    \n",
      "  2,105,789.0 Bytes [100.00%] received. Rate: [4800 KB/s].  ETA: [0 secs]    \n",
      "  2,425,589.0 Bytes [100.00%] received. Rate: [9977 KB/s].  ETA: [0 secs]    \n",
      "  3,311,448.0 Bytes [100.00%] received. Rate: [ 339 KB/s].  ETA: [0 secs]    \n",
      "  5,624,685.0 Bytes [100.00%] received. Rate: [1948 KB/s].  ETA: [0 secs]    \n",
      "  3,635,325.0 Bytes [100.00%] received. Rate: [8715 KB/s].  ETA: [0 secs]    \n",
      "  3,019,642.0 Bytes [100.00%] received. Rate: [10138 KB/s].  ETA: [0 secs]    \n",
      "  4,970,502.0 Bytes [100.00%] received. Rate: [2958 KB/s].  ETA: [0 secs]    \n",
      "  3,735,026.0 Bytes [100.00%] received. Rate: [ 284 KB/s].  ETA: [0 secs]    \n"
     ]
    },
    {
     "name": "stderr",
     "output_type": "stream",
     "text": [
      "ERROR: fKRDxq6uZIY: YouTube said: Unable to extract video data\n"
     ]
    },
    {
     "name": "stdout",
     "output_type": "stream",
     "text": [
      "Failed!\n",
      "  3,737,067.0 Bytes [100.00%] received. Rate: [12792 KB/s].  ETA: [0 secs]    \n",
      "  2,386,599.0 Bytes [100.00%] received. Rate: [11791 KB/s].  ETA: [0 secs]    \n",
      "  4,927,767.0 Bytes [100.00%] received. Rate: [18090 KB/s].  ETA: [0 secs]    \n",
      "  2,692,504.0 Bytes [100.00%] received. Rate: [12072 KB/s].  ETA: [0 secs]    \n",
      "  5,877,223.0 Bytes [100.00%] received. Rate: [7667 KB/s].  ETA: [0 secs]    \n",
      "  3,592,669.0 Bytes [100.00%] received. Rate: [11496 KB/s].  ETA: [0 secs]    \n",
      "  3,046,920.0 Bytes [100.00%] received. Rate: [10451 KB/s].  ETA: [0 secs]    \n",
      "  3,417,771.0 Bytes [100.00%] received. Rate: [7542 KB/s].  ETA: [0 secs]    \n",
      "  2,223,626.0 Bytes [100.00%] received. Rate: [6777 KB/s].  ETA: [0 secs]    \n",
      "  3,419,349.0 Bytes [100.00%] received. Rate: [14228 KB/s].  ETA: [0 secs]    \n",
      "  3,970,654.0 Bytes [100.00%] received. Rate: [9797 KB/s].  ETA: [0 secs]    \n",
      "  3,441,829.0 Bytes [100.00%] received. Rate: [10506 KB/s].  ETA: [0 secs]    \n"
     ]
    },
    {
     "name": "stderr",
     "output_type": "stream",
     "text": [
      "ERROR: Video unavailable\n"
     ]
    },
    {
     "name": "stdout",
     "output_type": "stream",
     "text": [
      "Failed!\n",
      "  3,519,578.0 Bytes [100.00%] received. Rate: [12026 KB/s].  ETA: [0 secs]    \n",
      "  4,009,228.0 Bytes [100.00%] received. Rate: [17717 KB/s].  ETA: [0 secs]    \n",
      "  3,209,191.0 Bytes [100.00%] received. Rate: [10928 KB/s].  ETA: [0 secs]    \n",
      "  4,228,460.0 Bytes [100.00%] received. Rate: [14635 KB/s].  ETA: [0 secs]    \n",
      "  3,808,000.0 Bytes [100.00%] received. Rate: [15677 KB/s].  ETA: [0 secs]    \n",
      "  4,531,247.0 Bytes [100.00%] received. Rate: [ 430 KB/s].  ETA: [0 secs]    \n",
      "  2,673,024.0 Bytes [100.00%] received. Rate: [10065 KB/s].  ETA: [0 secs]    \n",
      "  2,679,888.0 Bytes [100.00%] received. Rate: [9719 KB/s].  ETA: [0 secs]    \n"
     ]
    },
    {
     "name": "stderr",
     "output_type": "stream",
     "text": [
      "ERROR: Video unavailable\n"
     ]
    },
    {
     "name": "stdout",
     "output_type": "stream",
     "text": [
      "Failed!\n",
      "  3,528,522.0 Bytes [100.00%] received. Rate: [11599 KB/s].  ETA: [0 secs]    \n",
      "  3,980,227.0 Bytes [100.00%] received. Rate: [7929 KB/s].  ETA: [0 secs]    \n",
      "  4,103,223.0 Bytes [100.00%] received. Rate: [9605 KB/s].  ETA: [0 secs]    \n",
      "  7,471,094.0 Bytes [100.00%] received. Rate: [7799 KB/s].  ETA: [0 secs]    \n",
      "  5,232,119.0 Bytes [100.00%] received. Rate: [ 907 KB/s].  ETA: [0 secs]    \n",
      "  4,497,000.0 Bytes [100.00%] received. Rate: [12628 KB/s].  ETA: [0 secs]    \n",
      "  3,191,051.0 Bytes [100.00%] received. Rate: [7539 KB/s].  ETA: [0 secs]    \n",
      "  6,458,889.0 Bytes [100.00%] received. Rate: [21915 KB/s].  ETA: [0 secs]    \n",
      "  3,599,036.0 Bytes [100.00%] received. Rate: [9605 KB/s].  ETA: [0 secs]    \n",
      "  5,593,026.0 Bytes [100.00%] received. Rate: [20408 KB/s].  ETA: [0 secs]    \n",
      "  3,037,218.0 Bytes [100.00%] received. Rate: [4518 KB/s].  ETA: [0 secs]    \n",
      "  5,733,113.0 Bytes [100.00%] received. Rate: [7266 KB/s].  ETA: [0 secs]    \n",
      "  3,833,457.0 Bytes [96.39%] received. Rate: [  56 KB/s].  ETA: [2 secs]     \n",
      "  35,327.0 Bytes [100.00%] received. Rate: [1067 KB/s].  ETA: [0 secs]    \n",
      "  3,197,150.0 Bytes [100.00%] received. Rate: [5770 KB/s].  ETA: [0 secs]    \n",
      "  3,967,920.0 Bytes [100.00%] received. Rate: [16466 KB/s].  ETA: [0 secs]    \n",
      "  4,142,487.0 Bytes [100.00%] received. Rate: [2559 KB/s].  ETA: [0 secs]    \n",
      "  7,909,902.0 Bytes [100.00%] received. Rate: [20921 KB/s].  ETA: [0 secs]    \n",
      "  4,803,280.0 Bytes [100.00%] received. Rate: [17386 KB/s].  ETA: [0 secs]    \n",
      "  4,815,672.0 Bytes [100.00%] received. Rate: [12584 KB/s].  ETA: [0 secs]    \n",
      "  2,999,919.0 Bytes [100.00%] received. Rate: [  47 KB/s].  ETA: [0 secs]    \n",
      "  3,758,664.0 Bytes [100.00%] received. Rate: [8806 KB/s].  ETA: [0 secs]    \n",
      "  3,682,294.0 Bytes [100.00%] received. Rate: [13154 KB/s].  ETA: [0 secs]    \n",
      "  3,938,841.0 Bytes [100.00%] received. Rate: [10052 KB/s].  ETA: [0 secs]    \n",
      "  3,634,978.0 Bytes [100.00%] received. Rate: [11026 KB/s].  ETA: [0 secs]    \n",
      "  27,492.0 Bytes [100.00%] received. Rate: [1114 KB/s].  ETA: [0 secs]    \n"
     ]
    },
    {
     "name": "stderr",
     "output_type": "stream",
     "text": [
      "ERROR: Xz3keodNEV8: YouTube said: Unable to extract video data\n"
     ]
    },
    {
     "name": "stdout",
     "output_type": "stream",
     "text": [
      "Failed!\n",
      "  4,322,291.0 Bytes [100.00%] received. Rate: [13708 KB/s].  ETA: [0 secs]    \n",
      "  28,369.0 Bytes [100.00%] received. Rate: [1004 KB/s].  ETA: [0 secs]    \n",
      "  3,934,787.0 Bytes [100.00%] received. Rate: [8357 KB/s].  ETA: [0 secs]    \n"
     ]
    },
    {
     "name": "stderr",
     "output_type": "stream",
     "text": [
      "ERROR: cHJRIlNXwdk: YouTube said: Unable to extract video data\n"
     ]
    },
    {
     "name": "stdout",
     "output_type": "stream",
     "text": [
      "Failed!\n",
      "  5,075,412.0 Bytes [100.00%] received. Rate: [13688 KB/s].  ETA: [0 secs]    \n",
      "  3,827,648.0 Bytes [100.00%] received. Rate: [16183 KB/s].  ETA: [0 secs]    \n",
      "  3,523,756.0 Bytes [100.00%] received. Rate: [3189 KB/s].  ETA: [0 secs]    \n",
      "  3,754,934.0 Bytes [100.00%] received. Rate: [12848 KB/s].  ETA: [0 secs]    \n",
      "  5,651,108.0 Bytes [100.00%] received. Rate: [ 601 KB/s].  ETA: [0 secs]    \n",
      "  3,957,267.0 Bytes [100.00%] received. Rate: [7988 KB/s].  ETA: [0 secs]    \n",
      "  3,187,387.0 Bytes [100.00%] received. Rate: [16083 KB/s].  ETA: [0 secs]    \n",
      "  6,607,072.0 Bytes [100.00%] received. Rate: [3009 KB/s].  ETA: [0 secs]    \n",
      "  3,236,079.0 Bytes [100.00%] received. Rate: [16717 KB/s].  ETA: [0 secs]    \n",
      "  3,700,297.0 Bytes [100.00%] received. Rate: [8545 KB/s].  ETA: [0 secs]    \n",
      "  3,628,243.0 Bytes [100.00%] received. Rate: [5421 KB/s].  ETA: [0 secs]    \n",
      "  3,893,981.0 Bytes [100.00%] received. Rate: [10897 KB/s].  ETA: [0 secs]    \n",
      "  3,736,508.0 Bytes [100.00%] received. Rate: [13355 KB/s].  ETA: [0 secs]    \n",
      "  5,464,282.0 Bytes [100.00%] received. Rate: [9792 KB/s].  ETA: [0 secs]    \n",
      "  3,033,277.0 Bytes [100.00%] received. Rate: [14101 KB/s].  ETA: [0 secs]    \n",
      "  3,251,104.0 Bytes [100.00%] received. Rate: [15380 KB/s].  ETA: [0 secs]    \n"
     ]
    },
    {
     "name": "stderr",
     "output_type": "stream",
     "text": [
      "ERROR: LNm3GblFfBw: YouTube said: Unable to extract video data\n"
     ]
    },
    {
     "name": "stdout",
     "output_type": "stream",
     "text": [
      "Failed!\n",
      "  5,525,983.0 Bytes [100.00%] received. Rate: [12930 KB/s].  ETA: [0 secs]    \n",
      "  5,624,565.0 Bytes [100.00%] received. Rate: [8554 KB/s].  ETA: [0 secs]    \n",
      "  2,345,778.0 Bytes [100.00%] received. Rate: [11517 KB/s].  ETA: [0 secs]    \n",
      "  5,535,942.0 Bytes [100.00%] received. Rate: [20618 KB/s].  ETA: [0 secs]    \n"
     ]
    },
    {
     "name": "stderr",
     "output_type": "stream",
     "text": [
      "ERROR: DXbowzsk-Ao: YouTube said: Unable to extract video data\n"
     ]
    },
    {
     "name": "stdout",
     "output_type": "stream",
     "text": [
      "Failed!\n",
      "  4,921,222.0 Bytes [100.00%] received. Rate: [8028 KB/s].  ETA: [0 secs]    \n",
      "  8,814,985.0 Bytes [100.00%] received. Rate: [15444 KB/s].  ETA: [0 secs]    \n",
      "  3,580,528.0 Bytes [100.00%] received. Rate: [19203 KB/s].  ETA: [0 secs]    \n",
      "  3,387,710.0 Bytes [100.00%] received. Rate: [8341 KB/s].  ETA: [0 secs]    \n",
      "  3,568,347.0 Bytes [100.00%] received. Rate: [ 392 KB/s].  ETA: [0 secs]    \n",
      "  1,324,247.0 Bytes [100.00%] received. Rate: [5361 KB/s].  ETA: [0 secs]    \n"
     ]
    },
    {
     "name": "stderr",
     "output_type": "stream",
     "text": [
      "ERROR: KDTXljIqxRE: YouTube said: Unable to extract video data\n"
     ]
    },
    {
     "name": "stdout",
     "output_type": "stream",
     "text": [
      "Failed!\n",
      "  3,348,625.0 Bytes [100.00%] received. Rate: [11074 KB/s].  ETA: [0 secs]    \n",
      "  6,418,446.0 Bytes [100.00%] received. Rate: [11493 KB/s].  ETA: [0 secs]    \n",
      "  5,907,386.0 Bytes [100.00%] received. Rate: [7166 KB/s].  ETA: [0 secs]    \n"
     ]
    },
    {
     "name": "stderr",
     "output_type": "stream",
     "text": [
      "ERROR: Video unavailable\n"
     ]
    },
    {
     "name": "stdout",
     "output_type": "stream",
     "text": [
      "Failed!\n",
      "  5,740,033.0 Bytes [100.00%] received. Rate: [7338 KB/s].  ETA: [0 secs]    \n",
      "  3,728,223.0 Bytes [100.00%] received. Rate: [10362 KB/s].  ETA: [0 secs]    \n",
      "  3,389,131.0 Bytes [100.00%] received. Rate: [13250 KB/s].  ETA: [0 secs]    \n",
      "  5,245,614.0 Bytes [100.00%] received. Rate: [12156 KB/s].  ETA: [0 secs]    \n",
      "  1,834,490.0 Bytes [100.00%] received. Rate: [5707 KB/s].  ETA: [0 secs]    \n",
      "  45,112.0 Bytes [100.00%] received. Rate: [1228 KB/s].  ETA: [0 secs]    \n",
      "  4,852,704.0 Bytes [100.00%] received. Rate: [14812 KB/s].  ETA: [0 secs]    \n",
      "  3,904,458.0 Bytes [100.00%] received. Rate: [12696 KB/s].  ETA: [0 secs]    \n",
      "  3,477,944.0 Bytes [100.00%] received. Rate: [11269 KB/s].  ETA: [0 secs]    \n",
      "  4,249,466.0 Bytes [100.00%] received. Rate: [12740 KB/s].  ETA: [0 secs]    \n",
      "  2,646,721.0 Bytes [100.00%] received. Rate: [11208 KB/s].  ETA: [0 secs]    \n",
      "  4,619,070.0 Bytes [100.00%] received. Rate: [7144 KB/s].  ETA: [0 secs]    \n",
      "  4,247,539.0 Bytes [100.00%] received. Rate: [13044 KB/s].  ETA: [0 secs]    \n",
      "  2,894,230.0 Bytes [100.00%] received. Rate: [12986 KB/s].  ETA: [0 secs]    \n",
      "  4,345,766.0 Bytes [100.00%] received. Rate: [11194 KB/s].  ETA: [0 secs]    \n",
      "  3,402,397.0 Bytes [100.00%] received. Rate: [7788 KB/s].  ETA: [0 secs]    \n",
      "  2,693,523.0 Bytes [100.00%] received. Rate: [4095 KB/s].  ETA: [0 secs]    \n"
     ]
    },
    {
     "name": "stderr",
     "output_type": "stream",
     "text": [
      "ERROR: ADcCU61j4LU: YouTube said: Unable to extract video data\n"
     ]
    },
    {
     "name": "stdout",
     "output_type": "stream",
     "text": [
      "Failed!\n",
      "  3,581,982.0 Bytes [100.00%] received. Rate: [11608 KB/s].  ETA: [0 secs]    \n",
      "  3,244,730.0 Bytes [100.00%] received. Rate: [13966 KB/s].  ETA: [0 secs]    \n",
      "  3,887,985.0 Bytes [100.00%] received. Rate: [9713 KB/s].  ETA: [0 secs]    \n"
     ]
    },
    {
     "name": "stderr",
     "output_type": "stream",
     "text": [
      "ERROR: zNknwwGEnR4: YouTube said: Unable to extract video data\n"
     ]
    },
    {
     "name": "stdout",
     "output_type": "stream",
     "text": [
      "Failed!\n"
     ]
    },
    {
     "name": "stderr",
     "output_type": "stream",
     "text": [
      "ERROR: Video unavailable\n"
     ]
    },
    {
     "name": "stdout",
     "output_type": "stream",
     "text": [
      "Failed!\n",
      "  4,719,915.0 Bytes [100.00%] received. Rate: [15083 KB/s].  ETA: [0 secs]    \n",
      "  3,960,434.0 Bytes [100.00%] received. Rate: [13775 KB/s].  ETA: [0 secs]    \n",
      "  4,218,223.0 Bytes [100.00%] received. Rate: [11391 KB/s].  ETA: [0 secs]    \n",
      "  1,634,027.0 Bytes [100.00%] received. Rate: [10493 KB/s].  ETA: [0 secs]    \n",
      "  3,509,814.0 Bytes [100.00%] received. Rate: [4386 KB/s].  ETA: [0 secs]    \n",
      "  6,229,044.0 Bytes [100.00%] received. Rate: [7938 KB/s].  ETA: [0 secs]    \n",
      "  6,799,922.0 Bytes [100.00%] received. Rate: [23621 KB/s].  ETA: [0 secs]    \n",
      "  6,475,265.0 Bytes [100.00%] received. Rate: [16173 KB/s].  ETA: [0 secs]    \n"
     ]
    },
    {
     "name": "stderr",
     "output_type": "stream",
     "text": [
      "ERROR: h_dRYMV1EN0: YouTube said: Unable to extract video data\n"
     ]
    },
    {
     "name": "stdout",
     "output_type": "stream",
     "text": [
      "Failed!\n",
      "  59,976.0 Bytes [100.00%] received. Rate: [1075 KB/s].  ETA: [0 secs]    \n",
      "  4,273,098.0 Bytes [100.00%] received. Rate: [12527 KB/s].  ETA: [0 secs]    \n",
      "  3,646,244.0 Bytes [100.00%] received. Rate: [8621 KB/s].  ETA: [0 secs]    \n",
      "  3,811,824.0 Bytes [100.00%] received. Rate: [9472 KB/s].  ETA: [0 secs]    \n",
      "  1,725,937.0 Bytes [100.00%] received. Rate: [9768 KB/s].  ETA: [0 secs]    \n",
      "  3,324,273.0 Bytes [100.00%] received. Rate: [13096 KB/s].  ETA: [0 secs]    \n",
      "  1,944,779.0 Bytes [100.00%] received. Rate: [7209 KB/s].  ETA: [0 secs]    \n",
      "  3,000,662.0 Bytes [100.00%] received. Rate: [12539 KB/s].  ETA: [0 secs]    \n",
      "  3,968,397.0 Bytes [100.00%] received. Rate: [10522 KB/s].  ETA: [0 secs]    \n",
      "  3,085,380.0 Bytes [100.00%] received. Rate: [5667 KB/s].  ETA: [0 secs]    \n",
      "  5,041,129.0 Bytes [100.00%] received. Rate: [9573 KB/s].  ETA: [0 secs]    \n",
      "  4,023,122.0 Bytes [100.00%] received. Rate: [17577 KB/s].  ETA: [0 secs]    \n",
      "  3,534,998.0 Bytes [100.00%] received. Rate: [15296 KB/s].  ETA: [0 secs]    \n",
      "  6,038,795.0 Bytes [100.00%] received. Rate: [13389 KB/s].  ETA: [0 secs]    \n",
      "  4,938,982.0 Bytes [100.00%] received. Rate: [20339 KB/s].  ETA: [0 secs]    \n",
      "  5,284,930.0 Bytes [100.00%] received. Rate: [7474 KB/s].  ETA: [0 secs]    \n",
      "  3,122,011.0 Bytes [100.00%] received. Rate: [14514 KB/s].  ETA: [0 secs]    \n",
      "  3,879,322.0 Bytes [100.00%] received. Rate: [16577 KB/s].  ETA: [0 secs]    \n",
      "  3,359,115.0 Bytes [100.00%] received. Rate: [7609 KB/s].  ETA: [0 secs]    \n",
      "  1,984,538.0 Bytes [100.00%] received. Rate: [10197 KB/s].  ETA: [0 secs]    \n",
      "  3,276,616.0 Bytes [100.00%] received. Rate: [13591 KB/s].  ETA: [0 secs]    \n",
      "  3,448,831.0 Bytes [100.00%] received. Rate: [ 960 KB/s].  ETA: [0 secs]    \n",
      "  5,448,802.0 Bytes [100.00%] received. Rate: [14454 KB/s].  ETA: [0 secs]    \n",
      "  3,820,976.0 Bytes [100.00%] received. Rate: [12827 KB/s].  ETA: [0 secs]    \n",
      "  3,946,813.0 Bytes [100.00%] received. Rate: [ 845 KB/s].  ETA: [0 secs]    \n"
     ]
    },
    {
     "name": "stderr",
     "output_type": "stream",
     "text": [
      "ERROR: eIxF3ApNr5w: YouTube said: Unable to extract video data\n"
     ]
    },
    {
     "name": "stdout",
     "output_type": "stream",
     "text": [
      "Failed!\n"
     ]
    },
    {
     "name": "stderr",
     "output_type": "stream",
     "text": [
      "ERROR: SiOF4TnBFrA: YouTube said: Unable to extract video data\n"
     ]
    },
    {
     "name": "stdout",
     "output_type": "stream",
     "text": [
      "Failed!\n",
      "  2,938,808.0 Bytes [100.00%] received. Rate: [14254 KB/s].  ETA: [0 secs]    \n",
      "  4,197,492.0 Bytes [100.00%] received. Rate: [18576 KB/s].  ETA: [0 secs]    \n"
     ]
    },
    {
     "name": "stderr",
     "output_type": "stream",
     "text": [
      "ERROR: v3poKNMk3QQ: YouTube said: Unable to extract video data\n"
     ]
    },
    {
     "name": "stdout",
     "output_type": "stream",
     "text": [
      "Failed!\n"
     ]
    },
    {
     "name": "stderr",
     "output_type": "stream",
     "text": [
      "ERROR: iWna_AB5b0U: YouTube said: Unable to extract video data\n"
     ]
    },
    {
     "name": "stdout",
     "output_type": "stream",
     "text": [
      "Failed!\n"
     ]
    },
    {
     "name": "stderr",
     "output_type": "stream",
     "text": [
      "ERROR: Video unavailable\n"
     ]
    },
    {
     "name": "stdout",
     "output_type": "stream",
     "text": [
      "Failed!\n",
      "  35,803.0 Bytes [100.00%] received. Rate: [1158 KB/s].  ETA: [0 secs]    \n",
      "  3,552,319.0 Bytes [100.00%] received. Rate: [16930 KB/s].  ETA: [0 secs]    \n",
      "  3,732,729.0 Bytes [100.00%] received. Rate: [11881 KB/s].  ETA: [0 secs]    \n",
      "  4,255,800.0 Bytes [100.00%] received. Rate: [14163 KB/s].  ETA: [0 secs]    \n",
      "  2,530,458.0 Bytes [100.00%] received. Rate: [8431 KB/s].  ETA: [0 secs]    \n",
      "  4,137,068.0 Bytes [100.00%] received. Rate: [17668 KB/s].  ETA: [0 secs]    \n",
      "  3,845,760.0 Bytes [100.00%] received. Rate: [11176 KB/s].  ETA: [0 secs]    \n",
      "  3,217,570.0 Bytes [100.00%] received. Rate: [10427 KB/s].  ETA: [0 secs]    \n",
      "  5,299,723.0 Bytes [100.00%] received. Rate: [5901 KB/s].  ETA: [0 secs]    \n",
      "  5,516,619.0 Bytes [100.00%] received. Rate: [12625 KB/s].  ETA: [0 secs]    \n",
      "  3,768,404.0 Bytes [100.00%] received. Rate: [13385 KB/s].  ETA: [0 secs]    \n"
     ]
    },
    {
     "name": "stderr",
     "output_type": "stream",
     "text": [
      "ERROR: Video unavailable\n"
     ]
    },
    {
     "name": "stdout",
     "output_type": "stream",
     "text": [
      "Failed!\n",
      "  2,984,072.0 Bytes [100.00%] received. Rate: [5606 KB/s].  ETA: [0 secs]    \n",
      "  2,880,731.0 Bytes [100.00%] received. Rate: [10471 KB/s].  ETA: [0 secs]    \n",
      "  4,550,064.0 Bytes [100.00%] received. Rate: [6067 KB/s].  ETA: [0 secs]    \n",
      "  4,517,653.0 Bytes [100.00%] received. Rate: [17256 KB/s].  ETA: [0 secs]    \n"
     ]
    },
    {
     "name": "stderr",
     "output_type": "stream",
     "text": [
      "ERROR: v0BdteB7HNs: YouTube said: Unable to extract video data\n"
     ]
    },
    {
     "name": "stdout",
     "output_type": "stream",
     "text": [
      "Failed!\n"
     ]
    },
    {
     "name": "stderr",
     "output_type": "stream",
     "text": [
      "ERROR: Video unavailable\n"
     ]
    },
    {
     "name": "stdout",
     "output_type": "stream",
     "text": [
      "Failed!\n"
     ]
    },
    {
     "name": "stderr",
     "output_type": "stream",
     "text": [
      "ERROR: 57sfRo26fAc: YouTube said: Unable to extract video data\n"
     ]
    },
    {
     "name": "stdout",
     "output_type": "stream",
     "text": [
      "Failed!\n",
      "  2,250,013.0 Bytes [100.00%] received. Rate: [8848 KB/s].  ETA: [0 secs]    \n",
      "  4,335,447.0 Bytes [100.00%] received. Rate: [11779 KB/s].  ETA: [0 secs]    \n",
      "  3,612,109.0 Bytes [100.00%] received. Rate: [11912 KB/s].  ETA: [0 secs]    \n",
      "  5,732,811.0 Bytes [100.00%] received. Rate: [20013 KB/s].  ETA: [0 secs]    \n",
      "  3,977,684.0 Bytes [100.00%] received. Rate: [8952 KB/s].  ETA: [0 secs]    \n"
     ]
    },
    {
     "name": "stderr",
     "output_type": "stream",
     "text": [
      "ERROR: fzm1DY3hJL8: YouTube said: Unable to extract video data\n"
     ]
    },
    {
     "name": "stdout",
     "output_type": "stream",
     "text": [
      "Failed!\n"
     ]
    },
    {
     "name": "stderr",
     "output_type": "stream",
     "text": [
      "ERROR: H7FtYNHtrTA: YouTube said: Unable to extract video data\n"
     ]
    },
    {
     "name": "stdout",
     "output_type": "stream",
     "text": [
      "Failed!\n",
      "  5,946,788.0 Bytes [100.00%] received. Rate: [13308 KB/s].  ETA: [0 secs]    \n",
      "  51,913.0 Bytes [100.00%] received. Rate: [1404 KB/s].  ETA: [0 secs]    \n",
      "  6,196,022.0 Bytes [100.00%] received. Rate: [21810 KB/s].  ETA: [0 secs]    \n",
      "  3,236,364.0 Bytes [100.00%] received. Rate: [16450 KB/s].  ETA: [0 secs]    \n",
      "  2,881,396.0 Bytes [100.00%] received. Rate: [12253 KB/s].  ETA: [0 secs]    \n"
     ]
    },
    {
     "name": "stderr",
     "output_type": "stream",
     "text": [
      "ERROR: fyuAunIFjzQ: YouTube said: Unable to extract video data\n"
     ]
    },
    {
     "name": "stdout",
     "output_type": "stream",
     "text": [
      "Failed!\n",
      "  2,495,967.0 Bytes [100.00%] received. Rate: [8013 KB/s].  ETA: [0 secs]    \n",
      "  2,918,946.0 Bytes [100.00%] received. Rate: [15282 KB/s].  ETA: [0 secs]    \n"
     ]
    },
    {
     "name": "stderr",
     "output_type": "stream",
     "text": [
      "ERROR: Video unavailable\n"
     ]
    },
    {
     "name": "stdout",
     "output_type": "stream",
     "text": [
      "Failed!\n",
      "  4,604,538.0 Bytes [100.00%] received. Rate: [16874 KB/s].  ETA: [0 secs]    \n",
      "  3,620,357.0 Bytes [100.00%] received. Rate: [9972 KB/s].  ETA: [0 secs]    \n"
     ]
    },
    {
     "name": "stderr",
     "output_type": "stream",
     "text": [
      "ERROR: Video unavailable\n"
     ]
    },
    {
     "name": "stdout",
     "output_type": "stream",
     "text": [
      "Failed!\n",
      "  3,408,824.0 Bytes [100.00%] received. Rate: [9655 KB/s].  ETA: [0 secs]    \n",
      "  5,285,817.0 Bytes [100.00%] received. Rate: [13593 KB/s].  ETA: [0 secs]    \n"
     ]
    },
    {
     "name": "stderr",
     "output_type": "stream",
     "text": [
      "ERROR: Video unavailable\n"
     ]
    },
    {
     "name": "stdout",
     "output_type": "stream",
     "text": [
      "Failed!\n",
      "  3,027,699.0 Bytes [100.00%] received. Rate: [13681 KB/s].  ETA: [0 secs]    \n",
      "  4,519,707.0 Bytes [100.00%] received. Rate: [8475 KB/s].  ETA: [0 secs]    \n",
      "  2,962,241.0 Bytes [100.00%] received. Rate: [13940 KB/s].  ETA: [0 secs]    \n",
      "  3,774,031.0 Bytes [100.00%] received. Rate: [13735 KB/s].  ETA: [0 secs]    \n",
      "  72,612.0 Bytes [100.00%] received. Rate: [1247 KB/s].  ETA: [0 secs]    \n",
      "  3,571,295.0 Bytes [100.00%] received. Rate: [13777 KB/s].  ETA: [0 secs]    \n"
     ]
    },
    {
     "name": "stderr",
     "output_type": "stream",
     "text": [
      "ERROR: eUPxgigVgWc: YouTube said: Unable to extract video data\n"
     ]
    },
    {
     "name": "stdout",
     "output_type": "stream",
     "text": [
      "Failed!\n",
      "  5,240,318.0 Bytes [100.00%] received. Rate: [20488 KB/s].  ETA: [0 secs]    \n",
      "  3,007,773.0 Bytes [100.00%] received. Rate: [3889 KB/s].  ETA: [0 secs]    \n",
      "  3,199,964.0 Bytes [100.00%] received. Rate: [12513 KB/s].  ETA: [0 secs]    \n",
      "  2,381,552.0 Bytes [100.00%] received. Rate: [1697 KB/s].  ETA: [0 secs]    \n",
      "  4,698,182.0 Bytes [100.00%] received. Rate: [12378 KB/s].  ETA: [0 secs]    \n",
      "  3,992,861.0 Bytes [100.00%] received. Rate: [16068 KB/s].  ETA: [0 secs]    \n"
     ]
    },
    {
     "name": "stderr",
     "output_type": "stream",
     "text": [
      "ERROR: scftGsyGtKI: YouTube said: Unable to extract video data\n"
     ]
    },
    {
     "name": "stdout",
     "output_type": "stream",
     "text": [
      "Failed!\n",
      "  19,637.0 Bytes [100.00%] received. Rate: [1135 KB/s].  ETA: [0 secs]    \n",
      "  3,219,127.0 Bytes [100.00%] received. Rate: [16059 KB/s].  ETA: [0 secs]    \n",
      "  2,410,304.0 Bytes [100.00%] received. Rate: [5166 KB/s].  ETA: [0 secs]    \n",
      "  3,665,776.0 Bytes [100.00%] received. Rate: [9476 KB/s].  ETA: [0 secs]    \n",
      "  3,908,682.0 Bytes [100.00%] received. Rate: [8623 KB/s].  ETA: [0 secs]    \n",
      "  7,553,643.0 Bytes [100.00%] received. Rate: [15532 KB/s].  ETA: [0 secs]    \n",
      "  6,909,597.0 Bytes [100.00%] received. Rate: [19242 KB/s].  ETA: [0 secs]    \n",
      "  3,776,212.0 Bytes [100.00%] received. Rate: [16571 KB/s].  ETA: [0 secs]    \n",
      "  3,268,793.0 Bytes [100.00%] received. Rate: [14521 KB/s].  ETA: [0 secs]    \n",
      "  2,336,705.0 Bytes [100.00%] received. Rate: [7245 KB/s].  ETA: [0 secs]    \n",
      "  4,973,530.0 Bytes [100.00%] received. Rate: [8800 KB/s].  ETA: [0 secs]    \n",
      "  4,158,800.0 Bytes [100.00%] received. Rate: [12422 KB/s].  ETA: [0 secs]    \n",
      "  2,556,802.0 Bytes [100.00%] received. Rate: [9077 KB/s].  ETA: [0 secs]    \n"
     ]
    },
    {
     "name": "stderr",
     "output_type": "stream",
     "text": [
      "ERROR: Video unavailable\n"
     ]
    },
    {
     "name": "stdout",
     "output_type": "stream",
     "text": [
      "Failed!\n",
      "  41,985.0 Bytes [100.00%] received. Rate: [1133 KB/s].  ETA: [0 secs]    \n",
      "  5,026,148.0 Bytes [100.00%] received. Rate: [17531 KB/s].  ETA: [0 secs]    \n",
      "  2,851,293.0 Bytes [100.00%] received. Rate: [7775 KB/s].  ETA: [0 secs]    \n",
      "  3,691,917.0 Bytes [100.00%] received. Rate: [14918 KB/s].  ETA: [0 secs]    \n",
      "  4,409,888.0 Bytes [100.00%] received. Rate: [8123 KB/s].  ETA: [0 secs]    \n"
     ]
    },
    {
     "name": "stderr",
     "output_type": "stream",
     "text": [
      "ERROR: cGg82K4Tabs: YouTube said: Unable to extract video data\n"
     ]
    },
    {
     "name": "stdout",
     "output_type": "stream",
     "text": [
      "Failed!\n"
     ]
    },
    {
     "name": "stderr",
     "output_type": "stream",
     "text": [
      "ERROR: 82wzP8J0JoQ: YouTube said: Unable to extract video data\n"
     ]
    },
    {
     "name": "stdout",
     "output_type": "stream",
     "text": [
      "Failed!\n",
      "  4,529,036.0 Bytes [100.00%] received. Rate: [14351 KB/s].  ETA: [0 secs]    \n",
      "  37,832.0 Bytes [100.00%] received. Rate: [1067 KB/s].  ETA: [0 secs]    \n",
      "  3,964,541.0 Bytes [100.00%] received. Rate: [15397 KB/s].  ETA: [0 secs]    \n",
      "  2,440,118.0 Bytes [100.00%] received. Rate: [4322 KB/s].  ETA: [0 secs]    \n",
      "  4,427,529.0 Bytes [100.00%] received. Rate: [10265 KB/s].  ETA: [0 secs]    \n",
      "  3,104,690.0 Bytes [100.00%] received. Rate: [9850 KB/s].  ETA: [0 secs]    \n",
      "  3,605,936.0 Bytes [100.00%] received. Rate: [15695 KB/s].  ETA: [0 secs]    \n"
     ]
    },
    {
     "name": "stderr",
     "output_type": "stream",
     "text": [
      "ERROR: Video unavailable\n"
     ]
    },
    {
     "name": "stdout",
     "output_type": "stream",
     "text": [
      "Failed!\n",
      "  4,176,488.0 Bytes [100.00%] received. Rate: [8948 KB/s].  ETA: [0 secs]    \n",
      "  4,608,752.0 Bytes [100.00%] received. Rate: [10894 KB/s].  ETA: [0 secs]    \n",
      "  2,826,305.0 Bytes [100.00%] received. Rate: [5334 KB/s].  ETA: [0 secs]    \n",
      "  32,956.0 Bytes [100.00%] received. Rate: [1094 KB/s].  ETA: [0 secs]    \n",
      "  2,638,546.0 Bytes [100.00%] received. Rate: [3647 KB/s].  ETA: [0 secs]    \n",
      "  4,242,306.0 Bytes [100.00%] received. Rate: [14282 KB/s].  ETA: [0 secs]    \n",
      "  4,574,732.0 Bytes [100.00%] received. Rate: [16000 KB/s].  ETA: [0 secs]    \n",
      "  2,778,214.0 Bytes [100.00%] received. Rate: [4361 KB/s].  ETA: [0 secs]    \n",
      "  3,933,029.0 Bytes [100.00%] received. Rate: [  31 KB/s].  ETA: [0 secs]     \n",
      "  52,235.0 Bytes [100.00%] received. Rate: [1339 KB/s].  ETA: [0 secs]    \n",
      "  3,609,336.0 Bytes [100.00%] received. Rate: [9229 KB/s].  ETA: [0 secs]    \n",
      "  2,543,836.0 Bytes [100.00%] received. Rate: [12320 KB/s].  ETA: [0 secs]    \n"
     ]
    },
    {
     "name": "stderr",
     "output_type": "stream",
     "text": [
      "ERROR: fvTVnX5PiVQ: YouTube said: Unable to extract video data\n"
     ]
    },
    {
     "name": "stdout",
     "output_type": "stream",
     "text": [
      "Failed!\n",
      "  1,859,157.0 Bytes [100.00%] received. Rate: [11349 KB/s].  ETA: [0 secs]    \n",
      "  1,981,817.0 Bytes [100.00%] received. Rate: [10055 KB/s].  ETA: [0 secs]    \n",
      "  2,330,116.0 Bytes [100.00%] received. Rate: [11018 KB/s].  ETA: [0 secs]    \n",
      "  2,903,811.0 Bytes [100.00%] received. Rate: [11222 KB/s].  ETA: [0 secs]    \n",
      "  4,358,100.0 Bytes [100.00%] received. Rate: [10245 KB/s].  ETA: [0 secs]    \n",
      "  3,086,772.0 Bytes [100.00%] received. Rate: [12336 KB/s].  ETA: [0 secs]    \n",
      "  3,447,303.0 Bytes [95.18%] received. Rate: [  36 KB/s].  ETA: [4 secs]     \n"
     ]
    },
    {
     "name": "stderr",
     "output_type": "stream",
     "text": [
      "ERROR: Kvmlswwzt7o: YouTube said: Unable to extract video data\n"
     ]
    },
    {
     "name": "stdout",
     "output_type": "stream",
     "text": [
      "Failed!\n"
     ]
    },
    {
     "name": "stderr",
     "output_type": "stream",
     "text": [
      "ERROR: ysbeWPgktzM: YouTube said: Unable to extract video data\n"
     ]
    },
    {
     "name": "stdout",
     "output_type": "stream",
     "text": [
      "Failed!\n",
      "  4,533,917.0 Bytes [100.00%] received. Rate: [8690 KB/s].  ETA: [0 secs]    \n",
      "  2,222,735.0 Bytes [100.00%] received. Rate: [4499 KB/s].  ETA: [0 secs]    \n",
      "  2,900,495.0 Bytes [100.00%] received. Rate: [11088 KB/s].  ETA: [0 secs]    \n"
     ]
    },
    {
     "name": "stderr",
     "output_type": "stream",
     "text": [
      "ERROR: pGtROSGaGc0: YouTube said: Unable to extract video data\n"
     ]
    },
    {
     "name": "stdout",
     "output_type": "stream",
     "text": [
      "Failed!\n",
      "  42,826.0 Bytes [100.00%] received. Rate: [ 635 KB/s].  ETA: [0 secs]    \n",
      "  3,085,976.0 Bytes [100.00%] received. Rate: [9358 KB/s].  ETA: [0 secs]    \n",
      "  3,433,157.0 Bytes [100.00%] received. Rate: [9451 KB/s].  ETA: [0 secs]    \n",
      "  4,138,179.0 Bytes [100.00%] received. Rate: [ 943 KB/s].  ETA: [0 secs]    \n",
      "  3,712,711.0 Bytes [100.00%] received. Rate: [ 219 KB/s].  ETA: [0 secs]    \n",
      "  2,591,090.0 Bytes [100.00%] received. Rate: [6738 KB/s].  ETA: [0 secs]    \n",
      "  2,494,090.0 Bytes [100.00%] received. Rate: [5333 KB/s].  ETA: [0 secs]    \n",
      "  3,594,566.0 Bytes [100.00%] received. Rate: [11379 KB/s].  ETA: [0 secs]    \n",
      "  4,507,538.0 Bytes [100.00%] received. Rate: [3201 KB/s].  ETA: [0 secs]    \n",
      "  3,382,046.0 Bytes [100.00%] received. Rate: [8152 KB/s].  ETA: [0 secs]    \n",
      "  4,240,028.0 Bytes [100.00%] received. Rate: [17145 KB/s].  ETA: [0 secs]    \n",
      "  3,886,433.0 Bytes [100.00%] received. Rate: [11669 KB/s].  ETA: [0 secs]    \n",
      "  7,144,987.0 Bytes [100.00%] received. Rate: [6113 KB/s].  ETA: [0 secs]    \n",
      "  4,300,177.0 Bytes [100.00%] received. Rate: [8990 KB/s].  ETA: [0 secs]    \n",
      "  5,405,702.0 Bytes [100.00%] received. Rate: [9330 KB/s].  ETA: [0 secs]    \n",
      "  4,293,988.0 Bytes [100.00%] received. Rate: [5833 KB/s].  ETA: [0 secs]    \n"
     ]
    },
    {
     "name": "stderr",
     "output_type": "stream",
     "text": [
      "ERROR: JgsuSu_Rv7E: YouTube said: Unable to extract video data\n"
     ]
    },
    {
     "name": "stdout",
     "output_type": "stream",
     "text": [
      "Failed!\n"
     ]
    },
    {
     "name": "stderr",
     "output_type": "stream",
     "text": [
      "ERROR: Video unavailable\n"
     ]
    },
    {
     "name": "stdout",
     "output_type": "stream",
     "text": [
      "Failed!\n",
      "  2,676,940.0 Bytes [100.00%] received. Rate: [8732 KB/s].  ETA: [0 secs]    \n",
      "  4,203,060.0 Bytes [100.00%] received. Rate: [8570 KB/s].  ETA: [0 secs]    \n",
      "  727,029.0 Bytes [100.00%] received. Rate: [1902 KB/s].  ETA: [0 secs]    \n",
      "  7,350,665.0 Bytes [100.00%] received. Rate: [2989 KB/s].  ETA: [0 secs]    \n",
      "  43,937.0 Bytes [100.00%] received. Rate: [1213 KB/s].  ETA: [0 secs]    \n",
      "  8,227,739.0 Bytes [100.00%] received. Rate: [6461 KB/s].  ETA: [0 secs]    \n",
      "  30,652.0 Bytes [100.00%] received. Rate: [ 740 KB/s].  ETA: [0 secs]    \n"
     ]
    },
    {
     "name": "stderr",
     "output_type": "stream",
     "text": [
      "ERROR: Video unavailable\n"
     ]
    },
    {
     "name": "stdout",
     "output_type": "stream",
     "text": [
      "Failed!\n",
      "  3,250,083.0 Bytes [100.00%] received. Rate: [15067 KB/s].  ETA: [0 secs]    \n",
      "  6,751,375.0 Bytes [100.00%] received. Rate: [6335 KB/s].  ETA: [0 secs]    \n",
      "  2,847,686.0 Bytes [100.00%] received. Rate: [7518 KB/s].  ETA: [0 secs]    \n",
      "  2,911,668.0 Bytes [100.00%] received. Rate: [6568 KB/s].  ETA: [0 secs]    \n"
     ]
    },
    {
     "name": "stderr",
     "output_type": "stream",
     "text": [
      "ERROR: Video unavailable\n"
     ]
    },
    {
     "name": "stdout",
     "output_type": "stream",
     "text": [
      "Failed!\n"
     ]
    },
    {
     "name": "stderr",
     "output_type": "stream",
     "text": [
      "ERROR: Video unavailable\n"
     ]
    },
    {
     "name": "stdout",
     "output_type": "stream",
     "text": [
      "Failed!\n"
     ]
    },
    {
     "name": "stderr",
     "output_type": "stream",
     "text": [
      "ERROR: Video unavailable\n"
     ]
    },
    {
     "name": "stdout",
     "output_type": "stream",
     "text": [
      "Failed!\n",
      "  6,610,028.0 Bytes [100.00%] received. Rate: [  49 KB/s].  ETA: [0 secs]     \n",
      "  2,638,245.0 Bytes [100.00%] received. Rate: [2929 KB/s].  ETA: [0 secs]    \n",
      "  2,386,367.0 Bytes [100.00%] received. Rate: [5240 KB/s].  ETA: [0 secs]    \n",
      "  9,047,013.0 Bytes [100.00%] received. Rate: [16093 KB/s].  ETA: [0 secs]    \n"
     ]
    },
    {
     "name": "stderr",
     "output_type": "stream",
     "text": [
      "ERROR: M6JwtEfa5Xk: YouTube said: Unable to extract video data\n"
     ]
    },
    {
     "name": "stdout",
     "output_type": "stream",
     "text": [
      "Failed!\n"
     ]
    },
    {
     "name": "stderr",
     "output_type": "stream",
     "text": [
      "ERROR: jWcYRlEpNZY: YouTube said: Unable to extract video data\n"
     ]
    },
    {
     "name": "stdout",
     "output_type": "stream",
     "text": [
      "Failed!\n"
     ]
    },
    {
     "name": "stderr",
     "output_type": "stream",
     "text": [
      "ERROR: TRI5QLHbs9I: YouTube said: Unable to extract video data\n"
     ]
    },
    {
     "name": "stdout",
     "output_type": "stream",
     "text": [
      "Failed!\n",
      "  9,370,437.0 Bytes [100.00%] received. Rate: [14540 KB/s].  ETA: [0 secs]    \n"
     ]
    },
    {
     "name": "stderr",
     "output_type": "stream",
     "text": [
      "ERROR: oGEz3x2GVck: YouTube said: Unable to extract video data\n"
     ]
    },
    {
     "name": "stdout",
     "output_type": "stream",
     "text": [
      "Failed!\n"
     ]
    },
    {
     "name": "stderr",
     "output_type": "stream",
     "text": [
      "ERROR: pZvFQ8rofak: YouTube said: Unable to extract video data\n"
     ]
    },
    {
     "name": "stdout",
     "output_type": "stream",
     "text": [
      "Failed!\n"
     ]
    },
    {
     "name": "stderr",
     "output_type": "stream",
     "text": [
      "ERROR: vgK_sR1CFcc: YouTube said: Unable to extract video data\n"
     ]
    },
    {
     "name": "stdout",
     "output_type": "stream",
     "text": [
      "Failed!\n",
      "  7,699,870.0 Bytes [100.00%] received. Rate: [11900 KB/s].  ETA: [0 secs]    \n",
      "  5,823,098.0 Bytes [100.00%] received. Rate: [21384 KB/s].  ETA: [0 secs]    \n",
      "  3,660,514.0 Bytes [100.00%] received. Rate: [8753 KB/s].  ETA: [0 secs]    \n",
      "  3,873,799.0 Bytes [100.00%] received. Rate: [8177 KB/s].  ETA: [0 secs]    \n",
      "  4,812,073.0 Bytes [100.00%] received. Rate: [13042 KB/s].  ETA: [0 secs]    \n",
      "  3,552,319.0 Bytes [100.00%] received. Rate: [12655 KB/s].  ETA: [0 secs]    \n",
      "  4,584,411.0 Bytes [100.00%] received. Rate: [15878 KB/s].  ETA: [0 secs]    \n",
      "  2,597,474.0 Bytes [100.00%] received. Rate: [14505 KB/s].  ETA: [0 secs]    \n",
      "  5,555,531.0 Bytes [100.00%] received. Rate: [1742 KB/s].  ETA: [0 secs]    \n",
      "  3,664,646.0 Bytes [100.00%] received. Rate: [17803 KB/s].  ETA: [0 secs]    \n",
      "  3,541,296.0 Bytes [100.00%] received. Rate: [16771 KB/s].  ETA: [0 secs]    \n",
      "  3,049,124.0 Bytes [100.00%] received. Rate: [13097 KB/s].  ETA: [0 secs]    \n"
     ]
    },
    {
     "name": "stderr",
     "output_type": "stream",
     "text": [
      "ERROR: ia6Tvpj6dPw: YouTube said: Unable to extract video data\n"
     ]
    },
    {
     "name": "stdout",
     "output_type": "stream",
     "text": [
      "Failed!\n",
      "  3,770,935.0 Bytes [100.00%] received. Rate: [13589 KB/s].  ETA: [0 secs]    \n",
      "  3,137,443.0 Bytes [100.00%] received. Rate: [8330 KB/s].  ETA: [0 secs]    \n"
     ]
    },
    {
     "name": "stderr",
     "output_type": "stream",
     "text": [
      "ERROR: Video unavailable\n"
     ]
    },
    {
     "name": "stdout",
     "output_type": "stream",
     "text": [
      "Failed!\n"
     ]
    },
    {
     "name": "stderr",
     "output_type": "stream",
     "text": [
      "ERROR: 7PmtS_qMdXg: YouTube said: Unable to extract video data\n"
     ]
    },
    {
     "name": "stdout",
     "output_type": "stream",
     "text": [
      "Failed!\n"
     ]
    },
    {
     "name": "stderr",
     "output_type": "stream",
     "text": [
      "ERROR: Video unavailable\n"
     ]
    },
    {
     "name": "stdout",
     "output_type": "stream",
     "text": [
      "Failed!\n",
      "  3,941,152.0 Bytes [100.00%] received. Rate: [6964 KB/s].  ETA: [0 secs]    \n",
      "  3,782,573.0 Bytes [100.00%] received. Rate: [11180 KB/s].  ETA: [0 secs]    \n",
      "  5,481,580.0 Bytes [100.00%] received. Rate: [8765 KB/s].  ETA: [0 secs]    \n",
      "  6,195,247.0 Bytes [100.00%] received. Rate: [20425 KB/s].  ETA: [0 secs]    \n",
      "  2,546,484.0 Bytes [100.00%] received. Rate: [10969 KB/s].  ETA: [0 secs]    \n",
      "  4,815,852.0 Bytes [100.00%] received. Rate: [2889 KB/s].  ETA: [0 secs]    \n",
      "  3,387,288.0 Bytes [100.00%] received. Rate: [4434 KB/s].  ETA: [0 secs]    \n",
      "  3,568,623.0 Bytes [100.00%] received. Rate: [8177 KB/s].  ETA: [0 secs]    \n",
      "  3,257,001.0 Bytes [100.00%] received. Rate: [3831 KB/s].  ETA: [0 secs]    \n",
      "  5,506,775.0 Bytes [100.00%] received. Rate: [7610 KB/s].  ETA: [0 secs]    \n",
      "  3,109,319.0 Bytes [100.00%] received. Rate: [7170 KB/s].  ETA: [0 secs]    \n",
      "  9,405,691.0 Bytes [100.00%] received. Rate: [16623 KB/s].  ETA: [0 secs]    \n",
      "  4,387,829.0 Bytes [100.00%] received. Rate: [16307 KB/s].  ETA: [0 secs]    \n",
      "  2,251,745.0 Bytes [100.00%] received. Rate: [7108 KB/s].  ETA: [0 secs]    \n",
      "  2,512,890.0 Bytes [100.00%] received. Rate: [6247 KB/s].  ETA: [0 secs]    \n",
      "  5,057,408.0 Bytes [100.00%] received. Rate: [7129 KB/s].  ETA: [0 secs]    \n",
      "  4,836,120.0 Bytes [100.00%] received. Rate: [13685 KB/s].  ETA: [0 secs]    \n",
      "  3,101,026.0 Bytes [100.00%] received. Rate: [11703 KB/s].  ETA: [0 secs]    \n",
      "  21,717.0 Bytes [100.00%] received. Rate: [ 973 KB/s].  ETA: [0 secs]    \n",
      "  5,361,414.0 Bytes [100.00%] received. Rate: [16236 KB/s].  ETA: [0 secs]    \n"
     ]
    },
    {
     "name": "stderr",
     "output_type": "stream",
     "text": [
      "ERROR: t8N7UjnIrv8: YouTube said: Unable to extract video data\n"
     ]
    },
    {
     "name": "stdout",
     "output_type": "stream",
     "text": [
      "Failed!\n",
      "  4,386,671.0 Bytes [100.00%] received. Rate: [5312 KB/s].  ETA: [0 secs]    \n",
      "  4,351,182.0 Bytes [100.00%] received. Rate: [8479 KB/s].  ETA: [0 secs]    \n",
      "  4,047,295.0 Bytes [100.00%] received. Rate: [8267 KB/s].  ETA: [0 secs]    \n",
      "  4,780,373.0 Bytes [100.00%] received. Rate: [10706 KB/s].  ETA: [0 secs]    \n",
      "  3,320,101.0 Bytes [100.00%] received. Rate: [  91 KB/s].  ETA: [0 secs]    \n",
      "  3,562,157.0 Bytes [100.00%] received. Rate: [9493 KB/s].  ETA: [0 secs]    \n",
      "  3,017,161.0 Bytes [100.00%] received. Rate: [11053 KB/s].  ETA: [0 secs]    \n",
      "  3,268,768.0 Bytes [100.00%] received. Rate: [2813 KB/s].  ETA: [0 secs]    \n",
      "  6,485,054.0 Bytes [100.00%] received. Rate: [5308 KB/s].  ETA: [0 secs]    \n",
      "  4,458,111.0 Bytes [100.00%] received. Rate: [ 160 KB/s].  ETA: [0 secs]    \n",
      "  3,035,937.0 Bytes [100.00%] received. Rate: [4750 KB/s].  ETA: [0 secs]    \n",
      "  3,787,555.0 Bytes [100.00%] received. Rate: [4007 KB/s].  ETA: [0 secs]    \n",
      "  4,316,634.0 Bytes [100.00%] received. Rate: [4770 KB/s].  ETA: [0 secs]    \n",
      "  3,923,712.0 Bytes [100.00%] received. Rate: [4675 KB/s].  ETA: [0 secs]    \n",
      "  2,107,230.0 Bytes [100.00%] received. Rate: [4713 KB/s].  ETA: [0 secs]    \n",
      "  3,278,027.0 Bytes [100.00%] received. Rate: [8919 KB/s].  ETA: [0 secs]    \n",
      "  2,864,994.0 Bytes [100.00%] received. Rate: [5011 KB/s].  ETA: [0 secs]    \n",
      "  2,786,506.0 Bytes [100.00%] received. Rate: [9545 KB/s].  ETA: [0 secs]    \n",
      "  4,056,246.0 Bytes [100.00%] received. Rate: [9520 KB/s].  ETA: [0 secs]    \n",
      "  3,878,269.0 Bytes [100.00%] received. Rate: [14285 KB/s].  ETA: [0 secs]    \n",
      "  4,120,497.0 Bytes [100.00%] received. Rate: [5414 KB/s].  ETA: [0 secs]    \n",
      "  4,601,510.0 Bytes [100.00%] received. Rate: [6424 KB/s].  ETA: [0 secs]    \n",
      "  4,565,519.0 Bytes [100.00%] received. Rate: [2094 KB/s].  ETA: [0 secs]    \n",
      "  3,236,079.0 Bytes [100.00%] received. Rate: [7138 KB/s].  ETA: [0 secs]    \n",
      "  3,286,114.0 Bytes [100.00%] received. Rate: [2472 KB/s].  ETA: [0 secs]    \n"
     ]
    },
    {
     "name": "stderr",
     "output_type": "stream",
     "text": [
      "ERROR: Video unavailable\n"
     ]
    },
    {
     "name": "stdout",
     "output_type": "stream",
     "text": [
      "Failed!\n",
      "  5,601,111.0 Bytes [100.00%] received. Rate: [18023 KB/s].  ETA: [0 secs]    \n"
     ]
    },
    {
     "name": "stderr",
     "output_type": "stream",
     "text": [
      "ERROR: 4XrebBVL1KU: YouTube said: Unable to extract video data\n"
     ]
    },
    {
     "name": "stdout",
     "output_type": "stream",
     "text": [
      "Failed!\n",
      "  3,796,660.0 Bytes [100.00%] received. Rate: [11336 KB/s].  ETA: [0 secs]    \n",
      "  7,840,079.0 Bytes [100.00%] received. Rate: [21267 KB/s].  ETA: [0 secs]    \n",
      "  5,607,398.0 Bytes [100.00%] received. Rate: [8211 KB/s].  ETA: [0 secs]    \n",
      "  2,989,308.0 Bytes [100.00%] received. Rate: [8797 KB/s].  ETA: [0 secs]    \n",
      "  3,716,490.0 Bytes [100.00%] received. Rate: [10728 KB/s].  ETA: [0 secs]    \n",
      "  2,691,378.0 Bytes [100.00%] received. Rate: [12203 KB/s].  ETA: [0 secs]    \n"
     ]
    },
    {
     "name": "stderr",
     "output_type": "stream",
     "text": [
      "ERROR: CT891qlczBw: YouTube said: Unable to extract video data\n"
     ]
    },
    {
     "name": "stdout",
     "output_type": "stream",
     "text": [
      "Failed!\n",
      "  21,388.0 Bytes [100.00%] received. Rate: [ 711 KB/s].  ETA: [0 secs]    \n",
      "  1,813,462.0 Bytes [100.00%] received. Rate: [5930 KB/s].  ETA: [0 secs]    \n",
      "  5,176,542.0 Bytes [100.00%] received. Rate: [10489 KB/s].  ETA: [0 secs]    \n",
      "  3,792,437.0 Bytes [100.00%] received. Rate: [7094 KB/s].  ETA: [0 secs]    \n",
      "  4,315,446.0 Bytes [100.00%] received. Rate: [13264 KB/s].  ETA: [0 secs]    \n",
      "  3,578,675.0 Bytes [100.00%] received. Rate: [12138 KB/s].  ETA: [0 secs]    \n",
      "  3,446,532.0 Bytes [100.00%] received. Rate: [8756 KB/s].  ETA: [0 secs]    \n",
      "  2,608,388.0 Bytes [100.00%] received. Rate: [5747 KB/s].  ETA: [0 secs]    \n",
      "  2,821,147.0 Bytes [100.00%] received. Rate: [12149 KB/s].  ETA: [0 secs]    \n",
      "  6,094,516.0 Bytes [100.00%] received. Rate: [19957 KB/s].  ETA: [0 secs]    \n"
     ]
    },
    {
     "name": "stderr",
     "output_type": "stream",
     "text": [
      "ERROR: OY-v97BNVCQ: YouTube said: Unable to extract video data\n"
     ]
    },
    {
     "name": "stdout",
     "output_type": "stream",
     "text": [
      "Failed!\n",
      "  2,216,349.0 Bytes [100.00%] received. Rate: [8550 KB/s].  ETA: [0 secs]    \n",
      "  3,703,245.0 Bytes [100.00%] received. Rate: [16091 KB/s].  ETA: [0 secs]    \n",
      "  3,258,716.0 Bytes [100.00%] received. Rate: [16076 KB/s].  ETA: [0 secs]    \n"
     ]
    },
    {
     "name": "stderr",
     "output_type": "stream",
     "text": [
      "ERROR: 6CEY19UwD48: YouTube said: Unable to extract video data\n"
     ]
    },
    {
     "name": "stdout",
     "output_type": "stream",
     "text": [
      "Failed!\n",
      "  3,149,483.0 Bytes [100.00%] received. Rate: [7068 KB/s].  ETA: [0 secs]    \n",
      "  3,350,848.0 Bytes [100.00%] received. Rate: [8390 KB/s].  ETA: [0 secs]    \n",
      "  2,780,371.0 Bytes [100.00%] received. Rate: [5426 KB/s].  ETA: [0 secs]    \n"
     ]
    },
    {
     "name": "stderr",
     "output_type": "stream",
     "text": [
      "ERROR: CU6id0U2hGA: YouTube said: Unable to extract video data\n"
     ]
    },
    {
     "name": "stdout",
     "output_type": "stream",
     "text": [
      "Failed!\n",
      "  3,534,756.0 Bytes [100.00%] received. Rate: [ 204 KB/s].  ETA: [0 secs]    \n",
      "  3,206,530.0 Bytes [100.00%] received. Rate: [2331 KB/s].  ETA: [0 secs]    \n",
      "  3,115,391.0 Bytes [100.00%] received. Rate: [7931 KB/s].  ETA: [0 secs]    \n",
      "  3,895,366.0 Bytes [100.00%] received. Rate: [13619 KB/s].  ETA: [0 secs]    \n",
      "  3,262,607.0 Bytes [100.00%] received. Rate: [14258 KB/s].  ETA: [0 secs]    \n",
      "  3,252,578.0 Bytes [100.00%] received. Rate: [13778 KB/s].  ETA: [0 secs]    \n",
      "  3,259,402.0 Bytes [93.61%] received. Rate: [  34 KB/s].  ETA: [6 secs]     \n",
      "  2,394,170.0 Bytes [100.00%] received. Rate: [11101 KB/s].  ETA: [0 secs]    \n",
      "  4,297,483.0 Bytes [100.00%] received. Rate: [12215 KB/s].  ETA: [0 secs]    \n",
      "  3,533,246.0 Bytes [100.00%] received. Rate: [9123 KB/s].  ETA: [0 secs]    \n",
      "  3,512,977.0 Bytes [100.00%] received. Rate: [7868 KB/s].  ETA: [0 secs]    \n",
      "  3,506,171.0 Bytes [100.00%] received. Rate: [ 802 KB/s].  ETA: [0 secs]    \n",
      "  5,462,780.0 Bytes [100.00%] received. Rate: [11813 KB/s].  ETA: [0 secs]    \n",
      "  3,976,277.0 Bytes [100.00%] received. Rate: [5268 KB/s].  ETA: [0 secs]    \n",
      "  5,842,778.0 Bytes [100.00%] received. Rate: [19878 KB/s].  ETA: [0 secs]    \n"
     ]
    },
    {
     "name": "stderr",
     "output_type": "stream",
     "text": [
      "ERROR: Video unavailable\n"
     ]
    },
    {
     "name": "stdout",
     "output_type": "stream",
     "text": [
      "Failed!\n",
      "  3,807,833.0 Bytes [100.00%] received. Rate: [13151 KB/s].  ETA: [0 secs]    \n",
      "  5,993,686.0 Bytes [100.00%] received. Rate: [5520 KB/s].  ETA: [0 secs]    \n",
      "  2,369,325.0 Bytes [100.00%] received. Rate: [11659 KB/s].  ETA: [0 secs]    \n"
     ]
    },
    {
     "name": "stderr",
     "output_type": "stream",
     "text": [
      "ERROR: Video unavailable\n"
     ]
    },
    {
     "name": "stdout",
     "output_type": "stream",
     "text": [
      "Failed!\n",
      "  4,395,078.0 Bytes [100.00%] received. Rate: [4106 KB/s].  ETA: [0 secs]    \n",
      "  3,439,249.0 Bytes [100.00%] received. Rate: [11745 KB/s].  ETA: [0 secs]    \n"
     ]
    },
    {
     "name": "stderr",
     "output_type": "stream",
     "text": [
      "ERROR: Video unavailable\n"
     ]
    },
    {
     "name": "stdout",
     "output_type": "stream",
     "text": [
      "Failed!\n",
      "  4,027,766.0 Bytes [100.00%] received. Rate: [ 298 KB/s].  ETA: [0 secs]    \n",
      "  42,287.0 Bytes [100.00%] received. Rate: [1172 KB/s].  ETA: [0 secs]    \n",
      "  4,727,664.0 Bytes [100.00%] received. Rate: [1673 KB/s].  ETA: [0 secs]    \n",
      "  8,416,381.0 Bytes [100.00%] received. Rate: [17906 KB/s].  ETA: [0 secs]    \n",
      "  2,570,231.0 Bytes [100.00%] received. Rate: [9015 KB/s].  ETA: [0 secs]    \n",
      "  3,441,092.0 Bytes [100.00%] received. Rate: [15577 KB/s].  ETA: [0 secs]    \n",
      "  2,806,729.0 Bytes [100.00%] received. Rate: [  88 KB/s].  ETA: [0 secs]    \n",
      "  3,857,402.0 Bytes [100.00%] received. Rate: [4298 KB/s].  ETA: [0 secs]    \n",
      "  2,186,556.0 Bytes [100.00%] received. Rate: [10800 KB/s].  ETA: [0 secs]    \n"
     ]
    },
    {
     "name": "stderr",
     "output_type": "stream",
     "text": [
      "ERROR: dDwyOApJzSw: YouTube said: Unable to extract video data\n"
     ]
    },
    {
     "name": "stdout",
     "output_type": "stream",
     "text": [
      "Failed!\n",
      "  6,770,514.0 Bytes [100.00%] received. Rate: [9878 KB/s].  ETA: [0 secs]    \n",
      "  3,172,262.0 Bytes [100.00%] received. Rate: [13343 KB/s].  ETA: [0 secs]    \n",
      "  3,853,713.0 Bytes [100.00%] received. Rate: [12224 KB/s].  ETA: [0 secs]    \n",
      "  3,338,613.0 Bytes [100.00%] received. Rate: [12793 KB/s].  ETA: [0 secs]    \n"
     ]
    },
    {
     "name": "stderr",
     "output_type": "stream",
     "text": [
      "ERROR: zwQmKpAMl5Q: YouTube said: Unable to extract video data\n"
     ]
    },
    {
     "name": "stdout",
     "output_type": "stream",
     "text": [
      "Failed!\n"
     ]
    },
    {
     "name": "stderr",
     "output_type": "stream",
     "text": [
      "ERROR: 3fy16VHj0q0: YouTube said: Unable to extract video data\n"
     ]
    },
    {
     "name": "stdout",
     "output_type": "stream",
     "text": [
      "Failed!\n"
     ]
    },
    {
     "name": "stderr",
     "output_type": "stream",
     "text": [
      "ERROR: GHpk7xiqdpw: YouTube said: Unable to extract video data\n"
     ]
    },
    {
     "name": "stdout",
     "output_type": "stream",
     "text": [
      "Failed!\n"
     ]
    },
    {
     "name": "stderr",
     "output_type": "stream",
     "text": [
      "ERROR: TU8x9ikqAvI: YouTube said: Unable to extract video data\n"
     ]
    },
    {
     "name": "stdout",
     "output_type": "stream",
     "text": [
      "Failed!\n",
      "  4,264,944.0 Bytes [100.00%] received. Rate: [8029 KB/s].  ETA: [0 secs]    \n",
      "  2,874,698.0 Bytes [100.00%] received. Rate: [8340 KB/s].  ETA: [0 secs]    \n",
      "  5,220,473.0 Bytes [100.00%] received. Rate: [17643 KB/s].  ETA: [0 secs]    \n",
      "  2,563,818.0 Bytes [100.00%] received. Rate: [8873 KB/s].  ETA: [0 secs]    \n",
      "  3,893,144.0 Bytes [100.00%] received. Rate: [10876 KB/s].  ETA: [0 secs]    \n",
      "  3,928,154.0 Bytes [100.00%] received. Rate: [14555 KB/s].  ETA: [0 secs]    \n",
      "  1,990,610.0 Bytes [100.00%] received. Rate: [8174 KB/s].  ETA: [0 secs]    \n",
      "  5,061,593.0 Bytes [100.00%] received. Rate: [17579 KB/s].  ETA: [0 secs]    \n",
      "  4,123,316.0 Bytes [100.00%] received. Rate: [3468 KB/s].  ETA: [0 secs]    \n",
      "  38,685.0 Bytes [100.00%] received. Rate: [1193 KB/s].  ETA: [0 secs]    \n",
      "  3,889,559.0 Bytes [100.00%] received. Rate: [  37 KB/s].  ETA: [0 secs]    \n"
     ]
    },
    {
     "name": "stderr",
     "output_type": "stream",
     "text": [
      "ERROR: Video unavailable\n"
     ]
    },
    {
     "name": "stdout",
     "output_type": "stream",
     "text": [
      "Failed!\n",
      "  3,737,613.0 Bytes [100.00%] received. Rate: [15410 KB/s].  ETA: [0 secs]    \n",
      "  6,142,091.0 Bytes [100.00%] received. Rate: [8249 KB/s].  ETA: [0 secs]    \n"
     ]
    },
    {
     "name": "stderr",
     "output_type": "stream",
     "text": [
      "ERROR: Video unavailable\n"
     ]
    },
    {
     "name": "stdout",
     "output_type": "stream",
     "text": [
      "Failed!\n",
      "  3,658,285.0 Bytes [100.00%] received. Rate: [14104 KB/s].  ETA: [0 secs]    \n",
      "  4,482,602.0 Bytes [100.00%] received. Rate: [14236 KB/s].  ETA: [0 secs]    \n"
     ]
    },
    {
     "name": "stderr",
     "output_type": "stream",
     "text": [
      "ERROR: kCnIB2aH09o: YouTube said: Unable to extract video data\n"
     ]
    },
    {
     "name": "stdout",
     "output_type": "stream",
     "text": [
      "Failed!\n"
     ]
    },
    {
     "name": "stderr",
     "output_type": "stream",
     "text": [
      "ERROR: pmlZPN1qGi4: YouTube said: Unable to extract video data\n"
     ]
    },
    {
     "name": "stdout",
     "output_type": "stream",
     "text": [
      "Failed!\n"
     ]
    },
    {
     "name": "stderr",
     "output_type": "stream",
     "text": [
      "ERROR: noOs8J47lXc: YouTube said: Unable to extract video data\n"
     ]
    },
    {
     "name": "stdout",
     "output_type": "stream",
     "text": [
      "Failed!\n"
     ]
    },
    {
     "name": "stderr",
     "output_type": "stream",
     "text": [
      "ERROR: 0idgTVgfiHs: YouTube said: Unable to extract video data\n"
     ]
    },
    {
     "name": "stdout",
     "output_type": "stream",
     "text": [
      "Failed!\n",
      "  37,694.0 Bytes [100.00%] received. Rate: [1088 KB/s].  ETA: [0 secs]    \n",
      "  5,693,205.0 Bytes [100.00%] received. Rate: [19292 KB/s].  ETA: [0 secs]    \n"
     ]
    },
    {
     "name": "stderr",
     "output_type": "stream",
     "text": [
      "ERROR: nJbaO8UK8CI: YouTube said: Unable to extract video data\n"
     ]
    },
    {
     "name": "stdout",
     "output_type": "stream",
     "text": [
      "Failed!\n"
     ]
    },
    {
     "name": "stderr",
     "output_type": "stream",
     "text": [
      "ERROR: U80SfkHpqPI: YouTube said: Unable to extract video data\n"
     ]
    },
    {
     "name": "stdout",
     "output_type": "stream",
     "text": [
      "Failed!\n",
      "  58,067.0 Bytes [100.00%] received. Rate: [1276 KB/s].  ETA: [0 secs]    \n",
      "  2,477,759.0 Bytes [100.00%] received. Rate: [11527 KB/s].  ETA: [0 secs]    \n",
      "  2,641,386.0 Bytes [100.00%] received. Rate: [8089 KB/s].  ETA: [0 secs]    \n",
      "  2,186,830.0 Bytes [100.00%] received. Rate: [8892 KB/s].  ETA: [0 secs]    \n",
      "  2,909,443.0 Bytes [100.00%] received. Rate: [5252 KB/s].  ETA: [0 secs]    \n"
     ]
    },
    {
     "name": "stderr",
     "output_type": "stream",
     "text": [
      "ERROR: Video unavailable\n"
     ]
    },
    {
     "name": "stdout",
     "output_type": "stream",
     "text": [
      "Failed!\n",
      "  3,628,219.0 Bytes [100.00%] received. Rate: [14861 KB/s].  ETA: [0 secs]    \n"
     ]
    },
    {
     "name": "stderr",
     "output_type": "stream",
     "text": [
      "ERROR: ntcE_-4q_rk: YouTube said: Unable to extract video data\n"
     ]
    },
    {
     "name": "stdout",
     "output_type": "stream",
     "text": [
      "Failed!\n"
     ]
    },
    {
     "name": "stderr",
     "output_type": "stream",
     "text": [
      "ERROR: UtM_Fp2Y0N0: YouTube said: Unable to extract video data\n"
     ]
    },
    {
     "name": "stdout",
     "output_type": "stream",
     "text": [
      "Failed!\n",
      "  7,763,767.0 Bytes [100.00%] received. Rate: [15916 KB/s].  ETA: [0 secs]    \n",
      "  3,210,919.0 Bytes [100.00%] received. Rate: [13449 KB/s].  ETA: [0 secs]    \n",
      "  3,246,251.0 Bytes [100.00%] received. Rate: [9034 KB/s].  ETA: [0 secs]    \n",
      "  4,008,477.0 Bytes [100.00%] received. Rate: [12835 KB/s].  ETA: [0 secs]    \n",
      "  3,136,716.0 Bytes [100.00%] received. Rate: [15799 KB/s].  ETA: [0 secs]    \n",
      "  4,112,260.0 Bytes [100.00%] received. Rate: [12150 KB/s].  ETA: [0 secs]    \n",
      "  3,974,680.0 Bytes [100.00%] received. Rate: [11770 KB/s].  ETA: [0 secs]    \n",
      "  3,753,828.0 Bytes [100.00%] received. Rate: [1982 KB/s].  ETA: [0 secs]    \n"
     ]
    },
    {
     "name": "stderr",
     "output_type": "stream",
     "text": [
      "ERROR: dNjAEjz4eFY: YouTube said: Unable to extract video data\n"
     ]
    },
    {
     "name": "stdout",
     "output_type": "stream",
     "text": [
      "Failed!\n"
     ]
    },
    {
     "name": "stderr",
     "output_type": "stream",
     "text": [
      "ERROR: Video unavailable\n"
     ]
    },
    {
     "name": "stdout",
     "output_type": "stream",
     "text": [
      "Failed!\n",
      "  37,754.0 Bytes [100.00%] received. Rate: [1185 KB/s].  ETA: [0 secs]    \n",
      "  3,570,413.0 Bytes [100.00%] received. Rate: [4932 KB/s].  ETA: [0 secs]    \n",
      "  4,237,048.0 Bytes [100.00%] received. Rate: [16907 KB/s].  ETA: [0 secs]    \n",
      "  3,139,043.0 Bytes [100.00%] received. Rate: [9528 KB/s].  ETA: [0 secs]    \n",
      "  3,931,120.0 Bytes [100.00%] received. Rate: [14420 KB/s].  ETA: [0 secs]    \n",
      "  4,492,921.0 Bytes [100.00%] received. Rate: [ 220 KB/s].  ETA: [0 secs]    \n",
      "  3,765,252.0 Bytes [100.00%] received. Rate: [7720 KB/s].  ETA: [0 secs]    \n"
     ]
    },
    {
     "name": "stderr",
     "output_type": "stream",
     "text": [
      "ERROR: 9BuaN2Pz0Ns: YouTube said: Unable to extract video data\n"
     ]
    },
    {
     "name": "stdout",
     "output_type": "stream",
     "text": [
      "Failed!\n",
      "  3,778,150.0 Bytes [100.00%] received. Rate: [8738 KB/s].  ETA: [0 secs]    \n"
     ]
    },
    {
     "name": "stderr",
     "output_type": "stream",
     "text": [
      "ERROR: lmMHvKaWXF0: YouTube said: Unable to extract video data\n"
     ]
    },
    {
     "name": "stdout",
     "output_type": "stream",
     "text": [
      "Failed!\n",
      "  3,483,840.0 Bytes [100.00%] received. Rate: [14900 KB/s].  ETA: [0 secs]    \n",
      "  3,254,369.0 Bytes [100.00%] received. Rate: [11766 KB/s].  ETA: [0 secs]    \n"
     ]
    },
    {
     "name": "stderr",
     "output_type": "stream",
     "text": [
      "ERROR: Video unavailable\n"
     ]
    },
    {
     "name": "stdout",
     "output_type": "stream",
     "text": [
      "Failed!\n"
     ]
    },
    {
     "name": "stderr",
     "output_type": "stream",
     "text": [
      "ERROR: Video unavailable\n"
     ]
    },
    {
     "name": "stdout",
     "output_type": "stream",
     "text": [
      "Failed!\n"
     ]
    },
    {
     "name": "stderr",
     "output_type": "stream",
     "text": [
      "ERROR: CXC4wgc_hxk: YouTube said: Unable to extract video data\n"
     ]
    },
    {
     "name": "stdout",
     "output_type": "stream",
     "text": [
      "Failed!\n"
     ]
    },
    {
     "name": "stderr",
     "output_type": "stream",
     "text": [
      "ERROR: cVbFTCfK4K0: YouTube said: Unable to extract video data\n"
     ]
    },
    {
     "name": "stdout",
     "output_type": "stream",
     "text": [
      "Failed!\n",
      "  3,008,395.0 Bytes [100.00%] received. Rate: [10165 KB/s].  ETA: [0 secs]    \n",
      "  5,980,572.0 Bytes [100.00%] received. Rate: [8555 KB/s].  ETA: [0 secs]    \n",
      "  3,368,128.0 Bytes [100.00%] received. Rate: [2192 KB/s].  ETA: [0 secs]    \n"
     ]
    },
    {
     "name": "stderr",
     "output_type": "stream",
     "text": [
      "ERROR: T7wPwmYdxe8: YouTube said: Unable to extract video data\n"
     ]
    },
    {
     "name": "stdout",
     "output_type": "stream",
     "text": [
      "Failed!\n"
     ]
    },
    {
     "name": "stderr",
     "output_type": "stream",
     "text": [
      "ERROR: WtywVhtaUUE: YouTube said: Unable to extract video data\n"
     ]
    },
    {
     "name": "stdout",
     "output_type": "stream",
     "text": [
      "Failed!\n"
     ]
    },
    {
     "name": "stderr",
     "output_type": "stream",
     "text": [
      "ERROR: YfaSLw4O1Oo: YouTube said: Unable to extract video data\n"
     ]
    },
    {
     "name": "stdout",
     "output_type": "stream",
     "text": [
      "Failed!\n",
      "  3,702,902.0 Bytes [100.00%] received. Rate: [5927 KB/s].  ETA: [0 secs]    \n",
      "  3,143,451.0 Bytes [100.00%] received. Rate: [6332 KB/s].  ETA: [0 secs]    \n",
      "  5,300,053.0 Bytes [100.00%] received. Rate: [15674 KB/s].  ETA: [0 secs]    \n",
      "  3,774,973.0 Bytes [100.00%] received. Rate: [11903 KB/s].  ETA: [0 secs]    \n",
      "  5,899,364.0 Bytes [100.00%] received. Rate: [6871 KB/s].  ETA: [0 secs]    \n",
      "  3,405,069.0 Bytes [100.00%] received. Rate: [14427 KB/s].  ETA: [0 secs]    \n",
      "  2,754,741.0 Bytes [100.00%] received. Rate: [11253 KB/s].  ETA: [0 secs]    \n",
      "  6,199,913.0 Bytes [100.00%] received. Rate: [6826 KB/s].  ETA: [0 secs]    \n",
      "  2,085,855.0 Bytes [100.00%] received. Rate: [  52 KB/s].  ETA: [0 secs]    \n"
     ]
    },
    {
     "name": "stderr",
     "output_type": "stream",
     "text": [
      "ERROR: Rtzw6rbGqBs: YouTube said: Unable to extract video data\n"
     ]
    },
    {
     "name": "stdout",
     "output_type": "stream",
     "text": [
      "Failed!\n",
      "  4,614,682.0 Bytes [100.00%] received. Rate: [8908 KB/s].  ETA: [0 secs]    \n",
      "  3,635,729.0 Bytes [100.00%] received. Rate: [8380 KB/s].  ETA: [0 secs]    \n",
      "  3,992,020.0 Bytes [100.00%] received. Rate: [9078 KB/s].  ETA: [0 secs]    \n"
     ]
    },
    {
     "name": "stderr",
     "output_type": "stream",
     "text": [
      "ERROR: Video unavailable\n"
     ]
    },
    {
     "name": "stdout",
     "output_type": "stream",
     "text": [
      "Failed!\n",
      "  4,387,401.0 Bytes [100.00%] received. Rate: [6651 KB/s].  ETA: [0 secs]    \n",
      "  43,892.0 Bytes [100.00%] received. Rate: [1057 KB/s].  ETA: [0 secs]    \n",
      "  4,356,848.0 Bytes [100.00%] received. Rate: [11455 KB/s].  ETA: [0 secs]    \n",
      "  3,100,917.0 Bytes [100.00%] received. Rate: [11881 KB/s].  ETA: [0 secs]    \n",
      "  2,989,308.0 Bytes [100.00%] received. Rate: [9588 KB/s].  ETA: [0 secs]    \n",
      "  3,401,292.0 Bytes [100.00%] received. Rate: [1250 KB/s].  ETA: [0 secs]    \n",
      "  2,272,751.0 Bytes [100.00%] received. Rate: [8779 KB/s].  ETA: [0 secs]    \n"
     ]
    },
    {
     "name": "stderr",
     "output_type": "stream",
     "text": [
      "ERROR: Video unavailable\n"
     ]
    },
    {
     "name": "stdout",
     "output_type": "stream",
     "text": [
      "Failed!\n",
      "  3,305,645.0 Bytes [100.00%] received. Rate: [5173 KB/s].  ETA: [0 secs]    \n"
     ]
    },
    {
     "name": "stderr",
     "output_type": "stream",
     "text": [
      "ERROR: hh7Vpr4V6HM: YouTube said: Unable to extract video data\n"
     ]
    },
    {
     "name": "stdout",
     "output_type": "stream",
     "text": [
      "Failed!\n",
      "  2,205,993.0 Bytes [100.00%] received. Rate: [2639 KB/s].  ETA: [0 secs]    \n",
      "  3,615,886.0 Bytes [100.00%] received. Rate: [6103 KB/s].  ETA: [0 secs]    \n",
      "  2,827,708.0 Bytes [100.00%] received. Rate: [4672 KB/s].  ETA: [0 secs]    \n",
      "  3,017,056.0 Bytes [100.00%] received. Rate: [5716 KB/s].  ETA: [0 secs]    \n",
      "  3,339,657.0 Bytes [100.00%] received. Rate: [9982 KB/s].  ETA: [0 secs]    \n",
      "  3,166,757.0 Bytes [100.00%] received. Rate: [8007 KB/s].  ETA: [0 secs]    \n",
      "  4,032,571.0 Bytes [100.00%] received. Rate: [5750 KB/s].  ETA: [0 secs]    \n",
      "  3,691,917.0 Bytes [100.00%] received. Rate: [6573 KB/s].  ETA: [0 secs]    \n",
      "  2,860,987.0 Bytes [100.00%] received. Rate: [5297 KB/s].  ETA: [0 secs]    \n",
      "  4,941,235.0 Bytes [100.00%] received. Rate: [8228 KB/s].  ETA: [0 secs]    \n",
      "  14,580.0 Bytes [100.00%] received. Rate: [1604 KB/s].  ETA: [0 secs]    \n",
      "  4,768,068.0 Bytes [100.00%] received. Rate: [10337 KB/s].  ETA: [0 secs]    \n",
      "  40,176.0 Bytes [100.00%] received. Rate: [ 794 KB/s].  ETA: [0 secs]    \n",
      "  3,662,437.0 Bytes [100.00%] received. Rate: [11443 KB/s].  ETA: [0 secs]    \n"
     ]
    },
    {
     "name": "stderr",
     "output_type": "stream",
     "text": [
      "ERROR: Video unavailable\n"
     ]
    },
    {
     "name": "stdout",
     "output_type": "stream",
     "text": [
      "Failed!\n",
      "  4,488,867.0 Bytes [100.00%] received. Rate: [11870 KB/s].  ETA: [0 secs]    \n",
      "  2,226,377.0 Bytes [100.00%] received. Rate: [12096 KB/s].  ETA: [0 secs]    \n",
      "  2,728,280.0 Bytes [100.00%] received. Rate: [10883 KB/s].  ETA: [0 secs]    \n",
      "  3,582,273.0 Bytes [100.00%] received. Rate: [8241 KB/s].  ETA: [0 secs]    \n",
      "  4,628,547.0 Bytes [100.00%] received. Rate: [17275 KB/s].  ETA: [0 secs]    \n",
      "  3,519,556.0 Bytes [100.00%] received. Rate: [14592 KB/s].  ETA: [0 secs]    \n",
      "  3,271,376.0 Bytes [100.00%] received. Rate: [3274 KB/s].  ETA: [0 secs]    \n",
      "  3,187,011.0 Bytes [100.00%] received. Rate: [4538 KB/s].  ETA: [0 secs]    \n",
      "  3,724,619.0 Bytes [100.00%] received. Rate: [11097 KB/s].  ETA: [0 secs]    \n",
      "  3,976,957.0 Bytes [100.00%] received. Rate: [11210 KB/s].  ETA: [0 secs]    \n",
      "  5,444,765.0 Bytes [100.00%] received. Rate: [11419 KB/s].  ETA: [0 secs]    \n",
      "  7,586,076.0 Bytes [100.00%] received. Rate: [6015 KB/s].  ETA: [0 secs]    \n",
      "  6,335,910.0 Bytes [100.00%] received. Rate: [13182 KB/s].  ETA: [0 secs]    \n",
      "  3,701,070.0 Bytes [100.00%] received. Rate: [13841 KB/s].  ETA: [0 secs]    \n"
     ]
    },
    {
     "name": "stderr",
     "output_type": "stream",
     "text": [
      "ERROR: Video unavailable\n"
     ]
    },
    {
     "name": "stdout",
     "output_type": "stream",
     "text": [
      "Failed!\n",
      "  2,572,135.0 Bytes [100.00%] received. Rate: [7775 KB/s].  ETA: [0 secs]    \n",
      "  3,295,042.0 Bytes [100.00%] received. Rate: [15483 KB/s].  ETA: [0 secs]    \n",
      "Failed!\n"
     ]
    },
    {
     "name": "stderr",
     "output_type": "stream",
     "text": [
      "ERROR: Video unavailable\n"
     ]
    },
    {
     "name": "stdout",
     "output_type": "stream",
     "text": [
      "Failed!\n"
     ]
    },
    {
     "name": "stderr",
     "output_type": "stream",
     "text": [
      "ERROR: _nNxzQsQheQ: YouTube said: Unable to extract video data\n"
     ]
    },
    {
     "name": "stdout",
     "output_type": "stream",
     "text": [
      "Failed!\n",
      "  2,949,876.0 Bytes [100.00%] received. Rate: [  57 KB/s].  ETA: [0 secs]    \n",
      "  3,861,183.0 Bytes [100.00%] received. Rate: [12786 KB/s].  ETA: [0 secs]    \n",
      "  2,892,387.0 Bytes [100.00%] received. Rate: [8667 KB/s].  ETA: [0 secs]    \n",
      "  3,432,857.0 Bytes [100.00%] received. Rate: [11799 KB/s].  ETA: [0 secs]    \n",
      "  3,872,683.0 Bytes [100.00%] received. Rate: [13114 KB/s].  ETA: [0 secs]    \n",
      "  37,394.0 Bytes [100.00%] received. Rate: [1261 KB/s].  ETA: [0 secs]    \n",
      "  4,007,726.0 Bytes [100.00%] received. Rate: [9650 KB/s].  ETA: [0 secs]    \n",
      "  4,051,402.0 Bytes [100.00%] received. Rate: [16425 KB/s].  ETA: [0 secs]    \n",
      "  2,942,137.0 Bytes [100.00%] received. Rate: [12635 KB/s].  ETA: [0 secs]    \n",
      "  3,328,844.0 Bytes [100.00%] received. Rate: [10374 KB/s].  ETA: [0 secs]    \n",
      "  3,826,103.0 Bytes [100.00%] received. Rate: [10350 KB/s].  ETA: [0 secs]    \n"
     ]
    },
    {
     "name": "stderr",
     "output_type": "stream",
     "text": [
      "ERROR: Video unavailable\n"
     ]
    },
    {
     "name": "stdout",
     "output_type": "stream",
     "text": [
      "Failed!\n",
      "  4,826,211.0 Bytes [100.00%] received. Rate: [16391 KB/s].  ETA: [0 secs]    \n",
      "  3,407,469.0 Bytes [100.00%] received. Rate: [11434 KB/s].  ETA: [0 secs]    \n",
      "  3,966,794.0 Bytes [100.00%] received. Rate: [11246 KB/s].  ETA: [0 secs]    \n",
      "  2,591,101.0 Bytes [100.00%] received. Rate: [9962 KB/s].  ETA: [0 secs]    \n",
      "  2,645,484.0 Bytes [100.00%] received. Rate: [11965 KB/s].  ETA: [0 secs]    \n"
     ]
    },
    {
     "name": "stderr",
     "output_type": "stream",
     "text": [
      "ERROR: lG5kdcoHfhc: YouTube said: Unable to extract video data\n"
     ]
    },
    {
     "name": "stdout",
     "output_type": "stream",
     "text": [
      "Failed!\n",
      "  6,620,319.0 Bytes [100.00%] received. Rate: [6467 KB/s].  ETA: [0 secs]    \n",
      "  4,144,330.0 Bytes [100.00%] received. Rate: [4393 KB/s].  ETA: [0 secs]    \n",
      "  6,999,797.0 Bytes [100.00%] received. Rate: [10821 KB/s].  ETA: [0 secs]    \n",
      "  3,966,043.0 Bytes [100.00%] received. Rate: [12136 KB/s].  ETA: [0 secs]    \n",
      "  5,345,798.0 Bytes [100.00%] received. Rate: [16582 KB/s].  ETA: [0 secs]    \n",
      "  3,605,567.0 Bytes [100.00%] received. Rate: [ 722 KB/s].  ETA: [0 secs]    \n",
      "  4,118,684.0 Bytes [100.00%] received. Rate: [17936 KB/s].  ETA: [0 secs]    \n",
      "  4,533,165.0 Bytes [100.00%] received. Rate: [17959 KB/s].  ETA: [0 secs]    \n"
     ]
    },
    {
     "name": "stderr",
     "output_type": "stream",
     "text": [
      "ERROR: TR0_I3ABOHI: YouTube said: Unable to extract video data\n"
     ]
    },
    {
     "name": "stdout",
     "output_type": "stream",
     "text": [
      "Failed!\n"
     ]
    },
    {
     "name": "stderr",
     "output_type": "stream",
     "text": [
      "ERROR: ybkTkCBF24Y: YouTube said: Unable to extract video data\n"
     ]
    },
    {
     "name": "stdout",
     "output_type": "stream",
     "text": [
      "Failed!\n"
     ]
    },
    {
     "name": "stderr",
     "output_type": "stream",
     "text": [
      "ERROR: FWAWbmBm6lw: YouTube said: Unable to extract video data\n"
     ]
    },
    {
     "name": "stdout",
     "output_type": "stream",
     "text": [
      "Failed!\n"
     ]
    },
    {
     "name": "stderr",
     "output_type": "stream",
     "text": [
      "ERROR: rc84d1_jlUY: YouTube said: Unable to extract video data\n"
     ]
    },
    {
     "name": "stdout",
     "output_type": "stream",
     "text": [
      "Failed!\n",
      "  4,084,253.0 Bytes [100.00%] received. Rate: [ 737 KB/s].  ETA: [0 secs]    \n"
     ]
    },
    {
     "name": "stderr",
     "output_type": "stream",
     "text": [
      "ERROR: Video unavailable\n"
     ]
    },
    {
     "name": "stdout",
     "output_type": "stream",
     "text": [
      "Failed!\n",
      "  5,791,216.0 Bytes [100.00%] received. Rate: [18406 KB/s].  ETA: [0 secs]    \n",
      "  3,379,393.0 Bytes [100.00%] received. Rate: [  70 KB/s].  ETA: [0 secs]    \n",
      "  2,935,796.0 Bytes [100.00%] received. Rate: [4544 KB/s].  ETA: [0 secs]    \n"
     ]
    },
    {
     "name": "stderr",
     "output_type": "stream",
     "text": [
      "ERROR: Video unavailable\n"
     ]
    },
    {
     "name": "stdout",
     "output_type": "stream",
     "text": [
      "Failed!\n",
      "  4,349,819.0 Bytes [100.00%] received. Rate: [9432 KB/s].  ETA: [0 secs]    \n",
      "  6,117,777.0 Bytes [100.00%] received. Rate: [17074 KB/s].  ETA: [0 secs]    \n",
      "  4,427,529.0 Bytes [100.00%] received. Rate: [13048 KB/s].  ETA: [0 secs]    \n",
      "  3,626,287.0 Bytes [100.00%] received. Rate: [8468 KB/s].  ETA: [0 secs]    \n",
      "  40,296.0 Bytes [100.00%] received. Rate: [1131 KB/s].  ETA: [0 secs]    \n",
      "  4,354,673.0 Bytes [100.00%] received. Rate: [9276 KB/s].  ETA: [0 secs]    \n",
      "  3,937,835.0 Bytes [100.00%] received. Rate: [15298 KB/s].  ETA: [0 secs]    \n",
      "  4,885,283.0 Bytes [100.00%] received. Rate: [12161 KB/s].  ETA: [0 secs]    \n",
      "  3,260,945.0 Bytes [100.00%] received. Rate: [9952 KB/s].  ETA: [0 secs]    \n",
      "  6,974,303.0 Bytes [100.00%] received. Rate: [12566 KB/s].  ETA: [0 secs]    \n",
      "  3,354,609.0 Bytes [100.00%] received. Rate: [9518 KB/s].  ETA: [0 secs]    \n",
      "  3,155,109.0 Bytes [100.00%] received. Rate: [6830 KB/s].  ETA: [0 secs]    \n",
      "  6,356,072.0 Bytes [100.00%] received. Rate: [12937 KB/s].  ETA: [0 secs]    \n",
      "  3,501,701.0 Bytes [100.00%] received. Rate: [10963 KB/s].  ETA: [0 secs]    \n",
      "  2,640,658.0 Bytes [100.00%] received. Rate: [9817 KB/s].  ETA: [0 secs]    \n",
      "  3,832,339.0 Bytes [100.00%] received. Rate: [5218 KB/s].  ETA: [0 secs]    \n",
      "  3,577,148.0 Bytes [100.00%] received. Rate: [12411 KB/s].  ETA: [0 secs]    \n",
      "  2,336,978.0 Bytes [100.00%] received. Rate: [4962 KB/s].  ETA: [0 secs]    \n",
      "  3,892,876.0 Bytes [100.00%] received. Rate: [16966 KB/s].  ETA: [0 secs]    \n",
      "  2,961,961.0 Bytes [100.00%] received. Rate: [6359 KB/s].  ETA: [0 secs]    \n",
      "  1,476,558.0 Bytes [100.00%] received. Rate: [6076 KB/s].  ETA: [0 secs]    \n",
      "  2,370,053.0 Bytes [100.00%] received. Rate: [4074 KB/s].  ETA: [0 secs]    \n",
      "  3,337,538.0 Bytes [100.00%] received. Rate: [12407 KB/s].  ETA: [0 secs]    \n",
      "  3,576,849.0 Bytes [100.00%] received. Rate: [8967 KB/s].  ETA: [0 secs]    \n"
     ]
    },
    {
     "name": "stderr",
     "output_type": "stream",
     "text": [
      "ERROR: elXkEDUMqMA: YouTube said: Unable to extract video data\n"
     ]
    },
    {
     "name": "stdout",
     "output_type": "stream",
     "text": [
      "Failed!\n",
      "  1,491,999.0 Bytes [100.00%] received. Rate: [5044 KB/s].  ETA: [0 secs]    \n",
      "  3,535,350.0 Bytes [100.00%] received. Rate: [  76 KB/s].  ETA: [0 secs]    \n",
      "  2,960,856.0 Bytes [100.00%] received. Rate: [9468 KB/s].  ETA: [0 secs]    \n",
      "  5,366,154.0 Bytes [100.00%] received. Rate: [15319 KB/s].  ETA: [0 secs]    \n",
      "  3,211,020.0 Bytes [100.00%] received. Rate: [4085 KB/s].  ETA: [0 secs]    \n",
      "  5,678,560.0 Bytes [100.00%] received. Rate: [14479 KB/s].  ETA: [0 secs]    \n",
      "  3,100,717.0 Bytes [100.00%] received. Rate: [8676 KB/s].  ETA: [0 secs]    \n",
      "  3,936,730.0 Bytes [100.00%] received. Rate: [9656 KB/s].  ETA: [0 secs]    \n"
     ]
    },
    {
     "name": "stderr",
     "output_type": "stream",
     "text": [
      "ERROR: kStzzS6n3dA: YouTube said: Unable to extract video data\n"
     ]
    },
    {
     "name": "stdout",
     "output_type": "stream",
     "text": [
      "Failed!\n",
      "  3,387,613.0 Bytes [100.00%] received. Rate: [10105 KB/s].  ETA: [0 secs]    \n",
      "  4,743,402.0 Bytes [100.00%] received. Rate: [10755 KB/s].  ETA: [0 secs]    \n",
      "  3,898,074.0 Bytes [100.00%] received. Rate: [17573 KB/s].  ETA: [0 secs]    \n"
     ]
    },
    {
     "name": "stderr",
     "output_type": "stream",
     "text": [
      "ERROR: Video unavailable\n"
     ]
    },
    {
     "name": "stdout",
     "output_type": "stream",
     "text": [
      "Failed!\n",
      "  3,125,070.0 Bytes [100.00%] received. Rate: [12309 KB/s].  ETA: [0 secs]    \n",
      "  3,738,719.0 Bytes [100.00%] received. Rate: [15084 KB/s].  ETA: [0 secs]    \n",
      "  5,157,693.0 Bytes [100.00%] received. Rate: [15317 KB/s].  ETA: [0 secs]    \n",
      "  4,606,125.0 Bytes [100.00%] received. Rate: [18934 KB/s].  ETA: [0 secs]    \n",
      "  3,034,015.0 Bytes [100.00%] received. Rate: [12789 KB/s].  ETA: [0 secs]    \n",
      "  5,449,235.0 Bytes [100.00%] received. Rate: [3595 KB/s].  ETA: [0 secs]    \n",
      "  3,709,331.0 Bytes [100.00%] received. Rate: [  87 KB/s].  ETA: [0 secs]    \n",
      "  5,997,632.0 Bytes [100.00%] received. Rate: [  34 KB/s].  ETA: [0 secs]     \n",
      "  3,576,397.0 Bytes [100.00%] received. Rate: [6755 KB/s].  ETA: [0 secs]    \n",
      "  2,956,878.0 Bytes [100.00%] received. Rate: [5898 KB/s].  ETA: [0 secs]    \n"
     ]
    },
    {
     "name": "stderr",
     "output_type": "stream",
     "text": [
      "ERROR: gEZoYlaZQ44: YouTube said: Unable to extract video data\n"
     ]
    },
    {
     "name": "stdout",
     "output_type": "stream",
     "text": [
      "Failed!\n",
      "  3,544,841.0 Bytes [100.00%] received. Rate: [7317 KB/s].  ETA: [0 secs]    \n",
      "  3,123,933.0 Bytes [100.00%] received. Rate: [10335 KB/s].  ETA: [0 secs]    \n",
      "  43,812.0 Bytes [100.00%] received. Rate: [ 637 KB/s].  ETA: [0 secs]    \n",
      "  3,710,298.0 Bytes [100.00%] received. Rate: [6782 KB/s].  ETA: [0 secs]    \n",
      "  3,814,217.0 Bytes [100.00%] received. Rate: [18168 KB/s].  ETA: [0 secs]    \n"
     ]
    },
    {
     "name": "stderr",
     "output_type": "stream",
     "text": [
      "ERROR: 4HLY1NTe04M: YouTube said: Unable to extract video data\n"
     ]
    },
    {
     "name": "stdout",
     "output_type": "stream",
     "text": [
      "Failed!\n",
      "  3,509,814.0 Bytes [100.00%] received. Rate: [5838 KB/s].  ETA: [0 secs]    \n",
      "  3,393,288.0 Bytes [100.00%] received. Rate: [14422 KB/s].  ETA: [0 secs]    \n",
      "  3,886,464.0 Bytes [100.00%] received. Rate: [10076 KB/s].  ETA: [0 secs]    \n",
      "  8,542,735.0 Bytes [100.00%] received. Rate: [10160 KB/s].  ETA: [0 secs]    \n",
      "  2,255,057.0 Bytes [100.00%] received. Rate: [4164 KB/s].  ETA: [0 secs]    \n"
     ]
    },
    {
     "name": "stderr",
     "output_type": "stream",
     "text": [
      "ERROR: Video unavailable\n"
     ]
    },
    {
     "name": "stdout",
     "output_type": "stream",
     "text": [
      "Failed!\n",
      "  3,432,082.0 Bytes [100.00%] received. Rate: [9732 KB/s].  ETA: [0 secs]    \n",
      "  2,066,776.0 Bytes [100.00%] received. Rate: [6545 KB/s].  ETA: [0 secs]    \n",
      "  3,319,364.0 Bytes [100.00%] received. Rate: [9687 KB/s].  ETA: [0 secs]    \n",
      "  6,005,262.0 Bytes [100.00%] received. Rate: [18200 KB/s].  ETA: [0 secs]    \n",
      "  3,477,856.0 Bytes [100.00%] received. Rate: [13755 KB/s].  ETA: [0 secs]    \n",
      "  3,683,045.0 Bytes [100.00%] received. Rate: [8220 KB/s].  ETA: [0 secs]    \n",
      "  5,719,027.0 Bytes [100.00%] received. Rate: [6895 KB/s].  ETA: [0 secs]    \n",
      "  4,271,493.0 Bytes [100.00%] received. Rate: [5849 KB/s].  ETA: [0 secs]    \n",
      "  2,826,603.0 Bytes [100.00%] received. Rate: [11509 KB/s].  ETA: [0 secs]    \n",
      "  3,966,043.0 Bytes [100.00%] received. Rate: [14186 KB/s].  ETA: [0 secs]    \n",
      "  3,822,499.0 Bytes [100.00%] received. Rate: [16569 KB/s].  ETA: [0 secs]    \n",
      "  1,994,715.0 Bytes [100.00%] received. Rate: [9222 KB/s].  ETA: [0 secs]    \n",
      "  3,323,863.0 Bytes [100.00%] received. Rate: [13971 KB/s].  ETA: [0 secs]    \n",
      "  3,745,873.0 Bytes [100.00%] received. Rate: [4387 KB/s].  ETA: [0 secs]    \n",
      "  3,172,067.0 Bytes [100.00%] received. Rate: [8134 KB/s].  ETA: [0 secs]    \n",
      "  3,662,067.0 Bytes [100.00%] received. Rate: [14828 KB/s].  ETA: [0 secs]    \n",
      "  2,290,868.0 Bytes [100.00%] received. Rate: [8801 KB/s].  ETA: [0 secs]    \n",
      "  3,762,680.0 Bytes [100.00%] received. Rate: [7965 KB/s].  ETA: [0 secs]    \n",
      "  2,046,578.0 Bytes [100.00%] received. Rate: [7143 KB/s].  ETA: [0 secs]    \n",
      "  7,362,089.0 Bytes [100.00%] received. Rate: [8577 KB/s].  ETA: [0 secs]    \n",
      "  3,649,699.0 Bytes [100.00%] received. Rate: [13707 KB/s].  ETA: [0 secs]    \n",
      "  4,007,750.0 Bytes [100.00%] received. Rate: [15222 KB/s].  ETA: [0 secs]    \n",
      "  4,161,828.0 Bytes [100.00%] received. Rate: [15828 KB/s].  ETA: [0 secs]    \n",
      "  3,612,072.0 Bytes [100.00%] received. Rate: [4417 KB/s].  ETA: [0 secs]    \n",
      "  41,445.0 Bytes [100.00%] received. Rate: [ 646 KB/s].  ETA: [0 secs]    \n",
      "  3,065,227.0 Bytes [100.00%] received. Rate: [7914 KB/s].  ETA: [0 secs]    \n",
      "  3,267,772.0 Bytes [100.00%] received. Rate: [11623 KB/s].  ETA: [0 secs]    \n",
      "  2,419,165.0 Bytes [100.00%] received. Rate: [8571 KB/s].  ETA: [0 secs]    \n"
     ]
    },
    {
     "name": "stderr",
     "output_type": "stream",
     "text": [
      "ERROR: Video unavailable\n"
     ]
    },
    {
     "name": "stdout",
     "output_type": "stream",
     "text": [
      "Failed!\n",
      "  3,161,852.0 Bytes [100.00%] received. Rate: [9756 KB/s].  ETA: [0 secs]    \n",
      "  5,537,086.0 Bytes [100.00%] received. Rate: [6652 KB/s].  ETA: [0 secs]    \n",
      "  56,294.0 Bytes [100.00%] received. Rate: [ 483 KB/s].  ETA: [0 secs]    \n",
      "  1,716,936.0 Bytes [100.00%] received. Rate: [5605 KB/s].  ETA: [0 secs]    \n",
      "  21,783.0 Bytes [100.00%] received. Rate: [ 906 KB/s].  ETA: [0 secs]    \n",
      "  3,123,119.0 Bytes [100.00%] received. Rate: [10183 KB/s].  ETA: [0 secs]    \n"
     ]
    },
    {
     "name": "stderr",
     "output_type": "stream",
     "text": [
      "ERROR: tROoaROYVew: YouTube said: Unable to extract video data\n"
     ]
    },
    {
     "name": "stdout",
     "output_type": "stream",
     "text": [
      "Failed!\n",
      "  6,010,000.0 Bytes [100.00%] received. Rate: [11073 KB/s].  ETA: [0 secs]    \n",
      "  1,305,821.0 Bytes [100.00%] received. Rate: [7262 KB/s].  ETA: [0 secs]    \n"
     ]
    },
    {
     "name": "stderr",
     "output_type": "stream",
     "text": [
      "ERROR: NqhPJH_KvXI: YouTube said: Unable to extract video data\n"
     ]
    },
    {
     "name": "stdout",
     "output_type": "stream",
     "text": [
      "Failed!\n",
      "  4,741,927.0 Bytes [100.00%] received. Rate: [4299 KB/s].  ETA: [0 secs]    \n",
      "  3,507,937.0 Bytes [100.00%] received. Rate: [6266 KB/s].  ETA: [0 secs]    \n"
     ]
    },
    {
     "name": "stderr",
     "output_type": "stream",
     "text": [
      "ERROR: Video unavailable\n"
     ]
    },
    {
     "name": "stdout",
     "output_type": "stream",
     "text": [
      "Failed!\n",
      "  3,658,285.0 Bytes [100.00%] received. Rate: [12189 KB/s].  ETA: [0 secs]    \n",
      "  3,501,178.0 Bytes [100.00%] received. Rate: [9113 KB/s].  ETA: [0 secs]    \n",
      "  2,435,869.0 Bytes [100.00%] received. Rate: [11435 KB/s].  ETA: [0 secs]    \n",
      "  3,657,276.0 Bytes [100.00%] received. Rate: [9649 KB/s].  ETA: [0 secs]    \n",
      "  2,670,528.0 Bytes [100.00%] received. Rate: [4696 KB/s].  ETA: [0 secs]    \n",
      "  3,445,883.0 Bytes [100.00%] received. Rate: [12051 KB/s].  ETA: [0 secs]    \n",
      "  4,176,074.0 Bytes [100.00%] received. Rate: [10780 KB/s].  ETA: [0 secs]    \n",
      "  5,425,971.0 Bytes [100.00%] received. Rate: [15464 KB/s].  ETA: [0 secs]    \n",
      "  3,823,963.0 Bytes [100.00%] received. Rate: [8515 KB/s].  ETA: [0 secs]    \n",
      "  2,474,389.0 Bytes [100.00%] received. Rate: [8451 KB/s].  ETA: [0 secs]    \n",
      "  3,192,301.0 Bytes [100.00%] received. Rate: [11044 KB/s].  ETA: [0 secs]    \n",
      "  5,105,054.0 Bytes [100.00%] received. Rate: [11160 KB/s].  ETA: [0 secs]    \n",
      "  3,238,574.0 Bytes [100.00%] received. Rate: [9540 KB/s].  ETA: [0 secs]    \n",
      "  3,924,469.0 Bytes [100.00%] received. Rate: [10129 KB/s].  ETA: [0 secs]    \n",
      "  3,775,489.0 Bytes [100.00%] received. Rate: [15563 KB/s].  ETA: [0 secs]    \n",
      "  5,243,302.0 Bytes [100.00%] received. Rate: [15578 KB/s].  ETA: [0 secs]    \n",
      "  3,973,225.0 Bytes [100.00%] received. Rate: [9331 KB/s].  ETA: [0 secs]    \n"
     ]
    },
    {
     "name": "stderr",
     "output_type": "stream",
     "text": [
      "ERROR: Video unavailable\n"
     ]
    },
    {
     "name": "stdout",
     "output_type": "stream",
     "text": [
      "Failed!\n",
      "  3,174,326.0 Bytes [100.00%] received. Rate: [10182 KB/s].  ETA: [0 secs]    \n",
      "  7,246,995.0 Bytes [100.00%] received. Rate: [14958 KB/s].  ETA: [0 secs]    \n",
      "  3,802,952.0 Bytes [100.00%] received. Rate: [14007 KB/s].  ETA: [0 secs]    \n"
     ]
    },
    {
     "name": "stderr",
     "output_type": "stream",
     "text": [
      "ERROR: de1O6X7T5PU: YouTube said: Unable to extract video data\n"
     ]
    },
    {
     "name": "stdout",
     "output_type": "stream",
     "text": [
      "Failed!\n",
      "  4,440,732.0 Bytes [100.00%] received. Rate: [14990 KB/s].  ETA: [0 secs]    \n",
      "  5,936,361.0 Bytes [100.00%] received. Rate: [15122 KB/s].  ETA: [0 secs]    \n",
      "  8,603,055.0 Bytes [100.00%] received. Rate: [9178 KB/s].  ETA: [0 secs]    \n",
      "  2,897,102.0 Bytes [100.00%] received. Rate: [11999 KB/s].  ETA: [0 secs]    \n",
      "  2,506,568.0 Bytes [100.00%] received. Rate: [  35 KB/s].  ETA: [0 secs]    \n",
      "  2,984,072.0 Bytes [100.00%] received. Rate: [10925 KB/s].  ETA: [0 secs]    \n",
      "  3,153,115.0 Bytes [100.00%] received. Rate: [11861 KB/s].  ETA: [0 secs]    \n",
      "  6,563,512.0 Bytes [100.00%] received. Rate: [7584 KB/s].  ETA: [0 secs]    \n",
      "  3,790,584.0 Bytes [100.00%] received. Rate: [10625 KB/s].  ETA: [0 secs]    \n",
      "  8,089,020.0 Bytes [100.00%] received. Rate: [6954 KB/s].  ETA: [0 secs]    \n",
      "  3,991,420.0 Bytes [100.00%] received. Rate: [11123 KB/s].  ETA: [0 secs]    \n"
     ]
    },
    {
     "name": "stderr",
     "output_type": "stream",
     "text": [
      "ERROR: Video unavailable\n"
     ]
    },
    {
     "name": "stdout",
     "output_type": "stream",
     "text": [
      "Failed!\n",
      "  3,916,730.0 Bytes [100.00%] received. Rate: [5424 KB/s].  ETA: [0 secs]    \n",
      "  3,249,024.0 Bytes [100.00%] received. Rate: [8284 KB/s].  ETA: [0 secs]    \n",
      "  7,336,292.0 Bytes [100.00%] received. Rate: [6249 KB/s].  ETA: [0 secs]    \n",
      "  2,884,377.0 Bytes [100.00%] received. Rate: [2981 KB/s].  ETA: [0 secs]    \n",
      "  4,259,048.0 Bytes [100.00%] received. Rate: [10049 KB/s].  ETA: [0 secs]    \n",
      "  3,995,487.0 Bytes [100.00%] received. Rate: [10973 KB/s].  ETA: [0 secs]    \n",
      "  3,123,933.0 Bytes [100.00%] received. Rate: [13125 KB/s].  ETA: [0 secs]    \n",
      "  4,630,800.0 Bytes [100.00%] received. Rate: [13083 KB/s].  ETA: [0 secs]    \n"
     ]
    },
    {
     "name": "stderr",
     "output_type": "stream",
     "text": [
      "ERROR: _lHg1EECVzQ: YouTube said: Unable to extract video data\n"
     ]
    },
    {
     "name": "stdout",
     "output_type": "stream",
     "text": [
      "Failed!\n",
      "  3,930,527.0 Bytes [100.00%] received. Rate: [9604 KB/s].  ETA: [0 secs]    \n"
     ]
    },
    {
     "name": "stderr",
     "output_type": "stream",
     "text": [
      "ERROR: LlBZvlwy_90: YouTube said: Unable to extract video data\n"
     ]
    },
    {
     "name": "stdout",
     "output_type": "stream",
     "text": [
      "Failed!\n",
      "  2,865,117.0 Bytes [100.00%] received. Rate: [10394 KB/s].  ETA: [0 secs]    \n",
      "  4,716,359.0 Bytes [100.00%] received. Rate: [10455 KB/s].  ETA: [0 secs]    \n",
      "  3,654,529.0 Bytes [100.00%] received. Rate: [13429 KB/s].  ETA: [0 secs]    \n",
      "  3,787,267.0 Bytes [100.00%] received. Rate: [15764 KB/s].  ETA: [0 secs]    \n"
     ]
    },
    {
     "name": "stderr",
     "output_type": "stream",
     "text": [
      "ERROR: MAbDkfNF08k: YouTube said: Unable to extract video data\n"
     ]
    },
    {
     "name": "stdout",
     "output_type": "stream",
     "text": [
      "Failed!\n",
      "  7,809,251.0 Bytes [100.00%] received. Rate: [8007 KB/s].  ETA: [0 secs]    \n",
      "  4,266,714.0 Bytes [100.00%] received. Rate: [15688 KB/s].  ETA: [0 secs]    \n",
      "  4,131,800.0 Bytes [100.00%] received. Rate: [8635 KB/s].  ETA: [0 secs]    \n",
      "  3,372,091.0 Bytes [100.00%] received. Rate: [ 483 KB/s].  ETA: [0 secs]    \n",
      "  3,694,668.0 Bytes [100.00%] received. Rate: [14255 KB/s].  ETA: [0 secs]    \n",
      "  4,193,451.0 Bytes [100.00%] received. Rate: [18390 KB/s].  ETA: [0 secs]    \n",
      "  8,548,427.0 Bytes [100.00%] received. Rate: [  45 KB/s].  ETA: [0 secs]     \n"
     ]
    },
    {
     "name": "stderr",
     "output_type": "stream",
     "text": [
      "ERROR: Fy_JRGjc1To: YouTube said: Unable to extract video data\n"
     ]
    },
    {
     "name": "stdout",
     "output_type": "stream",
     "text": [
      "Failed!\n",
      "  3,061,653.0 Bytes [100.00%] received. Rate: [13537 KB/s].  ETA: [0 secs]    \n",
      "  3,074,356.0 Bytes [100.00%] received. Rate: [10420 KB/s].  ETA: [0 secs]    \n",
      "  4,797,624.0 Bytes [100.00%] received. Rate: [18683 KB/s].  ETA: [0 secs]    \n",
      "  4,280,053.0 Bytes [100.00%] received. Rate: [ 117 KB/s].  ETA: [0 secs]    \n",
      "  2,753,641.0 Bytes [100.00%] received. Rate: [12130 KB/s].  ETA: [0 secs]    \n",
      "  4,682,271.0 Bytes [100.00%] received. Rate: [11713 KB/s].  ETA: [0 secs]    \n",
      "  3,474,662.0 Bytes [100.00%] received. Rate: [15086 KB/s].  ETA: [0 secs]    \n"
     ]
    },
    {
     "name": "stderr",
     "output_type": "stream",
     "text": [
      "ERROR: KO2WKCB2cBc: YouTube said: Unable to extract video data\n"
     ]
    },
    {
     "name": "stdout",
     "output_type": "stream",
     "text": [
      "Failed!\n",
      "  38,719.0 Bytes [100.00%] received. Rate: [1496 KB/s].  ETA: [0 secs]    \n",
      "  5,319,585.0 Bytes [100.00%] received. Rate: [12896 KB/s].  ETA: [0 secs]    \n",
      "  4,512,821.0 Bytes [100.00%] received. Rate: [15824 KB/s].  ETA: [0 secs]    \n",
      "  3,502,997.0 Bytes [100.00%] received. Rate: [16466 KB/s].  ETA: [0 secs]    \n",
      "  2,824,076.0 Bytes [100.00%] received. Rate: [7316 KB/s].  ETA: [0 secs]    \n",
      "  2,562,434.0 Bytes [100.00%] received. Rate: [8006 KB/s].  ETA: [0 secs]    \n",
      "  3,438,922.0 Bytes [100.00%] received. Rate: [15780 KB/s].  ETA: [0 secs]    \n",
      "  9,085,829.0 Bytes [100.00%] received. Rate: [18453 KB/s].  ETA: [0 secs]    \n",
      "  2,907,496.0 Bytes [100.00%] received. Rate: [9530 KB/s].  ETA: [0 secs]    \n",
      "  7,382,169.0 Bytes [100.00%] received. Rate: [16454 KB/s].  ETA: [0 secs]    \n",
      "  4,370,456.0 Bytes [100.00%] received. Rate: [ 573 KB/s].  ETA: [0 secs]    \n",
      "  4,256,220.0 Bytes [100.00%] received. Rate: [10190 KB/s].  ETA: [0 secs]    \n",
      "  3,626,112.0 Bytes [100.00%] received. Rate: [13613 KB/s].  ETA: [0 secs]    \n",
      "  3,258,475.0 Bytes [100.00%] received. Rate: [11960 KB/s].  ETA: [0 secs]    \n",
      "  4,870,407.0 Bytes [100.00%] received. Rate: [14172 KB/s].  ETA: [0 secs]    \n",
      "  3,973,962.0 Bytes [100.00%] received. Rate: [12294 KB/s].  ETA: [0 secs]    \n",
      "  5,273,402.0 Bytes [100.00%] received. Rate: [11820 KB/s].  ETA: [0 secs]    \n",
      "  4,692,901.0 Bytes [100.00%] received. Rate: [17568 KB/s].  ETA: [0 secs]    \n",
      "  3,385,445.0 Bytes [100.00%] received. Rate: [15908 KB/s].  ETA: [0 secs]    \n",
      "  3,952,576.0 Bytes [100.00%] received. Rate: [18123 KB/s].  ETA: [0 secs]    \n",
      "  7,185,461.0 Bytes [100.00%] received. Rate: [14458 KB/s].  ETA: [0 secs]    \n",
      "  3,481,928.0 Bytes [100.00%] received. Rate: [10417 KB/s].  ETA: [0 secs]    \n",
      "  4,125,779.0 Bytes [100.00%] received. Rate: [15017 KB/s].  ETA: [0 secs]    \n",
      "  6,942,190.0 Bytes [100.00%] received. Rate: [16867 KB/s].  ETA: [0 secs]    \n",
      "  4,622,539.0 Bytes [100.00%] received. Rate: [13184 KB/s].  ETA: [0 secs]    \n",
      "  5,449,187.0 Bytes [100.00%] received. Rate: [18512 KB/s].  ETA: [0 secs]    \n",
      "  4,780,520.0 Bytes [100.00%] received. Rate: [11394 KB/s].  ETA: [0 secs]    \n",
      "  4,423,523.0 Bytes [100.00%] received. Rate: [10945 KB/s].  ETA: [0 secs]    \n",
      "  4,240,547.0 Bytes [100.00%] received. Rate: [16295 KB/s].  ETA: [0 secs]    \n",
      "  7,227,648.0 Bytes [100.00%] received. Rate: [15196 KB/s].  ETA: [0 secs]    \n",
      "  3,749,772.0 Bytes [100.00%] received. Rate: [15747 KB/s].  ETA: [0 secs]    \n",
      "  2,105,571.0 Bytes [100.00%] received. Rate: [6019 KB/s].  ETA: [0 secs]    \n",
      "  4,129,307.0 Bytes [100.00%] received. Rate: [6159 KB/s].  ETA: [0 secs]    \n"
     ]
    },
    {
     "name": "stderr",
     "output_type": "stream",
     "text": [
      "ERROR: Video unavailable\n"
     ]
    },
    {
     "name": "stdout",
     "output_type": "stream",
     "text": [
      "Failed!\n",
      "  4,048,453.0 Bytes [100.00%] received. Rate: [12097 KB/s].  ETA: [0 secs]    \n",
      "  3,823,028.0 Bytes [100.00%] received. Rate: [9868 KB/s].  ETA: [0 secs]    \n"
     ]
    },
    {
     "name": "stderr",
     "output_type": "stream",
     "text": [
      "ERROR: Video unavailable\n"
     ]
    },
    {
     "name": "stdout",
     "output_type": "stream",
     "text": [
      "Failed!\n",
      "  2,890,119.0 Bytes [100.00%] received. Rate: [13080 KB/s].  ETA: [0 secs]    \n",
      "  3,411,428.0 Bytes [100.00%] received. Rate: [15381 KB/s].  ETA: [0 secs]    \n",
      "  4,827,031.0 Bytes [100.00%] received. Rate: [6498 KB/s].  ETA: [0 secs]    \n",
      "  7,158,550.0 Bytes [100.00%] received. Rate: [18118 KB/s].  ETA: [0 secs]    \n",
      "  5,292,819.0 Bytes [100.00%] received. Rate: [8971 KB/s].  ETA: [0 secs]    \n",
      "  2,924,741.0 Bytes [100.00%] received. Rate: [9163 KB/s].  ETA: [0 secs]    \n",
      "  7,346,542.0 Bytes [100.00%] received. Rate: [20430 KB/s].  ETA: [0 secs]    \n",
      "  3,423,445.0 Bytes [100.00%] received. Rate: [ 884 KB/s].  ETA: [0 secs]    \n",
      "  3,064,994.0 Bytes [100.00%] received. Rate: [8727 KB/s].  ETA: [0 secs]    \n",
      "  2,940,295.0 Bytes [100.00%] received. Rate: [13088 KB/s].  ETA: [0 secs]    \n",
      "  42,288.0 Bytes [100.00%] received. Rate: [1255 KB/s].  ETA: [0 secs]    \n",
      "  3,227,235.0 Bytes [100.00%] received. Rate: [13805 KB/s].  ETA: [0 secs]    \n",
      "  5,116,551.0 Bytes [100.00%] received. Rate: [  37 KB/s].  ETA: [0 secs]     \n",
      "  3,270,267.0 Bytes [100.00%] received. Rate: [7896 KB/s].  ETA: [0 secs]    \n",
      "  3,766,262.0 Bytes [100.00%] received. Rate: [5693 KB/s].  ETA: [0 secs]    \n",
      "  22,496.0 Bytes [100.00%] received. Rate: [1081 KB/s].  ETA: [0 secs]    \n",
      "  4,504,597.0 Bytes [100.00%] received. Rate: [11276 KB/s].  ETA: [0 secs]    \n",
      "  2,147,030.0 Bytes [100.00%] received. Rate: [9577 KB/s].  ETA: [0 secs]    \n",
      "  3,795,462.0 Bytes [100.00%] received. Rate: [6111 KB/s].  ETA: [0 secs]    \n",
      "  4,945,754.0 Bytes [100.00%] received. Rate: [14619 KB/s].  ETA: [0 secs]    \n",
      "  3,918,672.0 Bytes [100.00%] received. Rate: [15056 KB/s].  ETA: [0 secs]    \n",
      "  5,126,083.0 Bytes [100.00%] received. Rate: [  70 KB/s].  ETA: [0 secs]    \n",
      "  4,073,820.0 Bytes [100.00%] received. Rate: [12973 KB/s].  ETA: [0 secs]    \n",
      "  2,988,939.0 Bytes [100.00%] received. Rate: [9490 KB/s].  ETA: [0 secs]    \n",
      "  6,479,526.0 Bytes [100.00%] received. Rate: [12584 KB/s].  ETA: [0 secs]    \n",
      "  4,401,043.0 Bytes [100.00%] received. Rate: [15498 KB/s].  ETA: [0 secs]    \n"
     ]
    },
    {
     "name": "stderr",
     "output_type": "stream",
     "text": [
      "ERROR: MkivGULndck: YouTube said: Unable to extract video data\n"
     ]
    },
    {
     "name": "stdout",
     "output_type": "stream",
     "text": [
      "Failed!\n",
      "  35,991.0 Bytes [100.00%] received. Rate: [1338 KB/s].  ETA: [0 secs]    \n",
      "  1,977,383.0 Bytes [100.00%] received. Rate: [7375 KB/s].  ETA: [0 secs]    \n",
      "  2,263,966.0 Bytes [100.00%] received. Rate: [10448 KB/s].  ETA: [0 secs]    \n",
      "  3,918,376.0 Bytes [100.00%] received. Rate: [10506 KB/s].  ETA: [0 secs]    \n",
      "  4,127,266.0 Bytes [100.00%] received. Rate: [8645 KB/s].  ETA: [0 secs]    \n"
     ]
    },
    {
     "name": "stderr",
     "output_type": "stream",
     "text": [
      "ERROR: nciLdnZ_KG4: YouTube said: Unable to extract video data\n"
     ]
    },
    {
     "name": "stdout",
     "output_type": "stream",
     "text": [
      "Failed!\n",
      "  3,161,074.0 Bytes [100.00%] received. Rate: [7254 KB/s].  ETA: [0 secs]    \n",
      "  4,510,610.0 Bytes [100.00%] received. Rate: [14785 KB/s].  ETA: [0 secs]    \n",
      "  4,967,227.0 Bytes [100.00%] received. Rate: [15264 KB/s].  ETA: [0 secs]    \n",
      "  3,746,942.0 Bytes [100.00%] received. Rate: [13642 KB/s].  ETA: [0 secs]    \n",
      "  2,770,754.0 Bytes [100.00%] received. Rate: [10875 KB/s].  ETA: [0 secs]    \n",
      "  7,696,491.0 Bytes [100.00%] received. Rate: [20037 KB/s].  ETA: [0 secs]    \n",
      "  3,955,786.0 Bytes [100.00%] received. Rate: [12294 KB/s].  ETA: [0 secs]    \n",
      "  3,397,910.0 Bytes [100.00%] received. Rate: [14434 KB/s].  ETA: [0 secs]    \n"
     ]
    },
    {
     "name": "stderr",
     "output_type": "stream",
     "text": [
      "ERROR: ubp4jl4W_aU: YouTube said: Unable to extract video data\n"
     ]
    },
    {
     "name": "stdout",
     "output_type": "stream",
     "text": [
      "Failed!\n"
     ]
    },
    {
     "name": "stderr",
     "output_type": "stream",
     "text": [
      "ERROR: YuKaSlSVjjU: YouTube said: Unable to extract video data\n"
     ]
    },
    {
     "name": "stdout",
     "output_type": "stream",
     "text": [
      "Failed!\n",
      "  14,320.0 Bytes [100.00%] received. Rate: [1787 KB/s].  ETA: [0 secs]    \n",
      "  4,290,491.0 Bytes [100.00%] received. Rate: [10799 KB/s].  ETA: [0 secs]    \n",
      "  36,059.0 Bytes [100.00%] received. Rate: [1129 KB/s].  ETA: [0 secs]    \n",
      "  2,848,242.0 Bytes [100.00%] received. Rate: [9550 KB/s].  ETA: [0 secs]    \n"
     ]
    },
    {
     "name": "stderr",
     "output_type": "stream",
     "text": [
      "ERROR: nSoxia4Tyic: YouTube said: Unable to extract video data\n"
     ]
    },
    {
     "name": "stdout",
     "output_type": "stream",
     "text": [
      "Failed!\n",
      "  4,758,002.0 Bytes [100.00%] received. Rate: [8525 KB/s].  ETA: [0 secs]    \n",
      "  2,837,755.0 Bytes [100.00%] received. Rate: [8452 KB/s].  ETA: [0 secs]    \n"
     ]
    },
    {
     "name": "stderr",
     "output_type": "stream",
     "text": [
      "ERROR: zTLj4EdX5oU: YouTube said: Unable to extract video data\n"
     ]
    },
    {
     "name": "stdout",
     "output_type": "stream",
     "text": [
      "Failed!\n",
      "  5,250,120.0 Bytes [100.00%] received. Rate: [11684 KB/s].  ETA: [0 secs]    \n",
      "  4,331,655.0 Bytes [100.00%] received. Rate: [13798 KB/s].  ETA: [0 secs]    \n",
      "  3,486,332.0 Bytes [100.00%] received. Rate: [6589 KB/s].  ETA: [0 secs]    \n"
     ]
    },
    {
     "name": "stderr",
     "output_type": "stream",
     "text": [
      "ERROR: y8pvXLVu8Yk: YouTube said: Unable to extract video data\n"
     ]
    },
    {
     "name": "stdout",
     "output_type": "stream",
     "text": [
      "Failed!\n",
      "  3,393,553.0 Bytes [100.00%] received. Rate: [10746 KB/s].  ETA: [0 secs]    \n",
      "  2,183,481.0 Bytes [100.00%] received. Rate: [12668 KB/s].  ETA: [0 secs]    \n",
      "  3,984,434.0 Bytes [100.00%] received. Rate: [14385 KB/s].  ETA: [0 secs]    \n",
      "  4,699,661.0 Bytes [100.00%] received. Rate: [7191 KB/s].  ETA: [0 secs]    \n",
      "  5,044,244.0 Bytes [100.00%] received. Rate: [14347 KB/s].  ETA: [0 secs]    \n"
     ]
    },
    {
     "name": "stderr",
     "output_type": "stream",
     "text": [
      "ERROR: vDWs2emG8KM: YouTube said: Unable to extract video data\n"
     ]
    },
    {
     "name": "stdout",
     "output_type": "stream",
     "text": [
      "Failed!\n",
      "  29,924.0 Bytes [100.00%] received. Rate: [1409 KB/s].  ETA: [0 secs]    \n",
      "  7,273,294.0 Bytes [100.00%] received. Rate: [13591 KB/s].  ETA: [0 secs]    \n"
     ]
    },
    {
     "name": "stderr",
     "output_type": "stream",
     "text": [
      "ERROR: Video unavailable\n"
     ]
    },
    {
     "name": "stdout",
     "output_type": "stream",
     "text": [
      "Failed!\n",
      "  6,273,039.0 Bytes [100.00%] received. Rate: [12732 KB/s].  ETA: [0 secs]    \n",
      "  3,469,515.0 Bytes [100.00%] received. Rate: [9056 KB/s].  ETA: [0 secs]    \n",
      "  3,687,927.0 Bytes [100.00%] received. Rate: [9258 KB/s].  ETA: [0 secs]    \n",
      "  3,986,696.0 Bytes [100.00%] received. Rate: [10398 KB/s].  ETA: [0 secs]    \n",
      "  4,041,863.0 Bytes [100.00%] received. Rate: [11481 KB/s].  ETA: [0 secs]    \n",
      "  3,789,110.0 Bytes [100.00%] received. Rate: [6995 KB/s].  ETA: [0 secs]    \n",
      "  6,999,361.0 Bytes [100.00%] received. Rate: [15223 KB/s].  ETA: [0 secs]    \n"
     ]
    },
    {
     "name": "stderr",
     "output_type": "stream",
     "text": [
      "ERROR: Video unavailable\n"
     ]
    },
    {
     "name": "stdout",
     "output_type": "stream",
     "text": [
      "Failed!\n",
      "  4,741,419.0 Bytes [100.00%] received. Rate: [1345 KB/s].  ETA: [0 secs]    \n",
      "  4,739,945.0 Bytes [100.00%] received. Rate: [14437 KB/s].  ETA: [0 secs]    \n",
      "  4,857,994.0 Bytes [100.00%] received. Rate: [10725 KB/s].  ETA: [0 secs]    \n",
      "  4,939,546.0 Bytes [100.00%] received. Rate: [13096 KB/s].  ETA: [0 secs]    \n",
      "  5,497,468.0 Bytes [100.00%] received. Rate: [11130 KB/s].  ETA: [0 secs]    \n",
      "  3,405,218.0 Bytes [100.00%] received. Rate: [9215 KB/s].  ETA: [0 secs]    \n",
      "  2,656,430.0 Bytes [100.00%] received. Rate: [7514 KB/s].  ETA: [0 secs]    \n"
     ]
    },
    {
     "name": "stderr",
     "output_type": "stream",
     "text": [
      "ERROR: _4RZSt4A3jU: YouTube said: Unable to extract video data\n"
     ]
    },
    {
     "name": "stdout",
     "output_type": "stream",
     "text": [
      "Failed!\n",
      "  5,575,705.0 Bytes [100.00%] received. Rate: [7402 KB/s].  ETA: [0 secs]    \n",
      "  3,409,688.0 Bytes [100.00%] received. Rate: [7279 KB/s].  ETA: [0 secs]    \n",
      "  2,783,558.0 Bytes [100.00%] received. Rate: [8147 KB/s].  ETA: [0 secs]    \n"
     ]
    },
    {
     "name": "stderr",
     "output_type": "stream",
     "text": [
      "ERROR: O8kyIIX9zcI: YouTube said: Unable to extract video data\n"
     ]
    },
    {
     "name": "stdout",
     "output_type": "stream",
     "text": [
      "Failed!\n",
      "  3,923,732.0 Bytes [100.00%] received. Rate: [2505 KB/s].  ETA: [0 secs]    \n",
      "  3,553,750.0 Bytes [100.00%] received. Rate: [3671 KB/s].  ETA: [0 secs]    \n",
      "  3,462,213.0 Bytes [100.00%] received. Rate: [14707 KB/s].  ETA: [0 secs]    \n",
      "  2,780,978.0 Bytes [100.00%] received. Rate: [13200 KB/s].  ETA: [0 secs]    \n",
      "  3,103,665.0 Bytes [100.00%] received. Rate: [10351 KB/s].  ETA: [0 secs]    \n",
      "  3,924,384.0 Bytes [100.00%] received. Rate: [9847 KB/s].  ETA: [0 secs]    \n",
      "  4,272,164.0 Bytes [100.00%] received. Rate: [11254 KB/s].  ETA: [0 secs]    \n",
      "  3,115,009.0 Bytes [100.00%] received. Rate: [9317 KB/s].  ETA: [0 secs]    \n",
      "  3,575,717.0 Bytes [100.00%] received. Rate: [14966 KB/s].  ETA: [0 secs]    \n",
      "  3,966,948.0 Bytes [100.00%] received. Rate: [12832 KB/s].  ETA: [0 secs]    \n",
      "  21,077.0 Bytes [100.00%] received. Rate: [1012 KB/s].  ETA: [0 secs]    \n"
     ]
    },
    {
     "name": "stderr",
     "output_type": "stream",
     "text": [
      "ERROR: Video unavailable\n"
     ]
    },
    {
     "name": "stdout",
     "output_type": "stream",
     "text": [
      "Failed!\n"
     ]
    },
    {
     "name": "stderr",
     "output_type": "stream",
     "text": [
      "ERROR: 4DvP3N1IeOA: YouTube said: Unable to extract video data\n"
     ]
    },
    {
     "name": "stdout",
     "output_type": "stream",
     "text": [
      "Failed!\n",
      "  3,921,252.0 Bytes [100.00%] received. Rate: [15181 KB/s].  ETA: [0 secs]    \n",
      "  3,980,656.0 Bytes [100.00%] received. Rate: [7155 KB/s].  ETA: [0 secs]    \n",
      "  3,739,137.0 Bytes [100.00%] received. Rate: [6453 KB/s].  ETA: [0 secs]    \n",
      "  3,503,396.0 Bytes [100.00%] received. Rate: [ 224 KB/s].  ETA: [0 secs]    \n",
      "  2,196,316.0 Bytes [100.00%] received. Rate: [6644 KB/s].  ETA: [0 secs]    \n",
      "  3,506,067.0 Bytes [100.00%] received. Rate: [11397 KB/s].  ETA: [0 secs]    \n"
     ]
    },
    {
     "name": "stderr",
     "output_type": "stream",
     "text": [
      "ERROR: Video unavailable\n"
     ]
    },
    {
     "name": "stdout",
     "output_type": "stream",
     "text": [
      "Failed!\n",
      "  3,104,897.0 Bytes [100.00%] received. Rate: [12476 KB/s].  ETA: [0 secs]    \n",
      "  7,609,180.0 Bytes [100.00%] received. Rate: [5254 KB/s].  ETA: [0 secs]    \n",
      "  3,418,587.0 Bytes [100.00%] received. Rate: [12976 KB/s].  ETA: [0 secs]    \n",
      "  3,782,845.0 Bytes [100.00%] received. Rate: [8832 KB/s].  ETA: [0 secs]    \n",
      "  3,870,569.0 Bytes [100.00%] received. Rate: [10684 KB/s].  ETA: [0 secs]    \n",
      "  3,831,224.0 Bytes [100.00%] received. Rate: [9945 KB/s].  ETA: [0 secs]    \n",
      "  3,631,223.0 Bytes [100.00%] received. Rate: [10054 KB/s].  ETA: [0 secs]    \n",
      "  3,980,313.0 Bytes [100.00%] received. Rate: [16563 KB/s].  ETA: [0 secs]    \n"
     ]
    },
    {
     "name": "stderr",
     "output_type": "stream",
     "text": [
      "ERROR: UhXLlQ2Gur0: YouTube said: Unable to extract video data\n"
     ]
    },
    {
     "name": "stdout",
     "output_type": "stream",
     "text": [
      "Failed!\n",
      "  3,217,569.0 Bytes [100.00%] received. Rate: [10565 KB/s].  ETA: [0 secs]    \n",
      "  33,940.0 Bytes [100.00%] received. Rate: [1160 KB/s].  ETA: [0 secs]    \n",
      "  3,636,800.0 Bytes [100.00%] received. Rate: [  38 KB/s].  ETA: [0 secs]     \n",
      "  4,542,186.0 Bytes [100.00%] received. Rate: [8160 KB/s].  ETA: [0 secs]    \n",
      "  4,131,063.0 Bytes [100.00%] received. Rate: [1099 KB/s].  ETA: [0 secs]    \n",
      "  3,287,391.0 Bytes [100.00%] received. Rate: [7673 KB/s].  ETA: [0 secs]    \n",
      "  3,133,066.0 Bytes [100.00%] received. Rate: [6885 KB/s].  ETA: [0 secs]    \n"
     ]
    },
    {
     "name": "stderr",
     "output_type": "stream",
     "text": [
      "ERROR: FgDU17xqNXo: YouTube said: Unable to extract video data\n"
     ]
    },
    {
     "name": "stdout",
     "output_type": "stream",
     "text": [
      "Failed!\n",
      "  4,322,667.0 Bytes [100.00%] received. Rate: [4430 KB/s].  ETA: [0 secs]    \n",
      "  2,913,761.0 Bytes [100.00%] received. Rate: [11143 KB/s].  ETA: [0 secs]    \n",
      "  5,283,903.0 Bytes [100.00%] received. Rate: [13565 KB/s].  ETA: [0 secs]    \n",
      "  3,398,144.0 Bytes [100.00%] received. Rate: [8527 KB/s].  ETA: [0 secs]    \n"
     ]
    },
    {
     "name": "stderr",
     "output_type": "stream",
     "text": [
      "ERROR: GWrm4u3XA68: YouTube said: Unable to extract video data\n"
     ]
    },
    {
     "name": "stdout",
     "output_type": "stream",
     "text": [
      "Failed!\n",
      "  6,944,872.0 Bytes [100.00%] received. Rate: [6723 KB/s].  ETA: [0 secs]    \n",
      "  5,156,129.0 Bytes [100.00%] received. Rate: [15712 KB/s].  ETA: [0 secs]    \n",
      "  4,005,848.0 Bytes [100.00%] received. Rate: [5832 KB/s].  ETA: [0 secs]    \n",
      "  1,002,702.0 Bytes [100.00%] received. Rate: [6820 KB/s].  ETA: [0 secs]    \n",
      "  55,142.0 Bytes [100.00%] received. Rate: [ 811 KB/s].  ETA: [0 secs]    \n",
      "  3,179,327.0 Bytes [100.00%] received. Rate: [6767 KB/s].  ETA: [0 secs]    \n",
      "  5,036,466.0 Bytes [100.00%] received. Rate: [11810 KB/s].  ETA: [0 secs]    \n",
      "  2,803,264.0 Bytes [100.00%] received. Rate: [7223 KB/s].  ETA: [0 secs]    \n",
      "  4,113,566.0 Bytes [100.00%] received. Rate: [7726 KB/s].  ETA: [0 secs]    \n",
      "  3,612,800.0 Bytes [100.00%] received. Rate: [8703 KB/s].  ETA: [0 secs]    \n",
      "  2,451,502.0 Bytes [100.00%] received. Rate: [6202 KB/s].  ETA: [0 secs]    \n",
      "  4,410,994.0 Bytes [100.00%] received. Rate: [11707 KB/s].  ETA: [0 secs]    \n"
     ]
    },
    {
     "name": "stderr",
     "output_type": "stream",
     "text": [
      "ERROR: WxqaxAKI930: YouTube said: Unable to extract video data\n"
     ]
    },
    {
     "name": "stdout",
     "output_type": "stream",
     "text": [
      "Failed!\n",
      "  52,285.0 Bytes [100.00%] received. Rate: [ 655 KB/s].  ETA: [0 secs]    \n",
      "  3,324,273.0 Bytes [100.00%] received. Rate: [9357 KB/s].  ETA: [0 secs]    \n",
      "  5,867,938.0 Bytes [100.00%] received. Rate: [16349 KB/s].  ETA: [0 secs]    \n",
      "  4,223,670.0 Bytes [100.00%] received. Rate: [14275 KB/s].  ETA: [0 secs]    \n",
      "  4,299,861.0 Bytes [100.00%] received. Rate: [9438 KB/s].  ETA: [0 secs]    \n"
     ]
    },
    {
     "name": "stderr",
     "output_type": "stream",
     "text": [
      "ERROR: lNHtNDBSx8E: YouTube said: Unable to extract video data\n"
     ]
    },
    {
     "name": "stdout",
     "output_type": "stream",
     "text": [
      "Failed!\n",
      "  6,461,474.0 Bytes [100.00%] received. Rate: [7789 KB/s].  ETA: [0 secs]    \n",
      "  3,963,532.0 Bytes [100.00%] received. Rate: [6966 KB/s].  ETA: [0 secs]    \n",
      "  5,285,813.0 Bytes [100.00%] received. Rate: [7485 KB/s].  ETA: [0 secs]    \n",
      "  6,197,196.0 Bytes [100.00%] received. Rate: [6960 KB/s].  ETA: [0 secs]    \n",
      "  4,896,924.0 Bytes [100.00%] received. Rate: [ 202 KB/s].  ETA: [0 secs]    \n",
      "  4,866,108.0 Bytes [100.00%] received. Rate: [10870 KB/s].  ETA: [0 secs]    \n",
      "  6,212,811.0 Bytes [100.00%] received. Rate: [6831 KB/s].  ETA: [0 secs]    \n",
      "  2,896,527.0 Bytes [100.00%] received. Rate: [9770 KB/s].  ETA: [0 secs]    \n"
     ]
    },
    {
     "name": "stderr",
     "output_type": "stream",
     "text": [
      "ERROR: uTnxi7i_yWg: YouTube said: Unable to extract video data\n"
     ]
    },
    {
     "name": "stdout",
     "output_type": "stream",
     "text": [
      "Failed!\n"
     ]
    },
    {
     "name": "stderr",
     "output_type": "stream",
     "text": [
      "ERROR: Nr7wcGmh12A: YouTube said: Unable to extract video data\n"
     ]
    },
    {
     "name": "stdout",
     "output_type": "stream",
     "text": [
      "Failed!\n"
     ]
    },
    {
     "name": "stderr",
     "output_type": "stream",
     "text": [
      "ERROR: XR-_nMx1HWk: YouTube said: Unable to extract video data\n"
     ]
    },
    {
     "name": "stdout",
     "output_type": "stream",
     "text": [
      "Failed!\n"
     ]
    },
    {
     "name": "stderr",
     "output_type": "stream",
     "text": [
      "ERROR: Video unavailable\n"
     ]
    },
    {
     "name": "stdout",
     "output_type": "stream",
     "text": [
      "Failed!\n",
      "  6,932,129.0 Bytes [100.00%] received. Rate: [15478 KB/s].  ETA: [0 secs]    \n"
     ]
    },
    {
     "name": "stderr",
     "output_type": "stream",
     "text": [
      "ERROR: 4YkfwHNj5oI: YouTube said: Unable to extract video data\n"
     ]
    },
    {
     "name": "stdout",
     "output_type": "stream",
     "text": [
      "Failed!\n",
      "  2,526,773.0 Bytes [100.00%] received. Rate: [7544 KB/s].  ETA: [0 secs]    \n",
      "  3,949,896.0 Bytes [100.00%] received. Rate: [14530 KB/s].  ETA: [0 secs]    \n",
      "  2,760,941.0 Bytes [100.00%] received. Rate: [10979 KB/s].  ETA: [0 secs]    \n",
      "  2,906,012.0 Bytes [100.00%] received. Rate: [5432 KB/s].  ETA: [0 secs]    \n",
      "  9,469,309.0 Bytes [100.00%] received. Rate: [9510 KB/s].  ETA: [0 secs]    \n",
      "  4,473,642.0 Bytes [100.00%] received. Rate: [9780 KB/s].  ETA: [0 secs]    \n",
      "  4,920,182.0 Bytes [100.00%] received. Rate: [12016 KB/s].  ETA: [0 secs]    \n",
      "  3,359,515.0 Bytes [100.00%] received. Rate: [14384 KB/s].  ETA: [0 secs]    \n",
      "  3,727,472.0 Bytes [100.00%] received. Rate: [16107 KB/s].  ETA: [0 secs]    \n",
      "  3,321,492.0 Bytes [100.00%] received. Rate: [11337 KB/s].  ETA: [0 secs]    \n",
      "  2,557,928.0 Bytes [100.00%] received. Rate: [2568 KB/s].  ETA: [0 secs]    \n",
      "  39,303.0 Bytes [100.00%] received. Rate: [ 879 KB/s].  ETA: [0 secs]    \n",
      "  2,930,658.0 Bytes [100.00%] received. Rate: [9438 KB/s].  ETA: [0 secs]    \n",
      "  3,268,793.0 Bytes [100.00%] received. Rate: [12186 KB/s].  ETA: [0 secs]    \n",
      "  3,224,630.0 Bytes [100.00%] received. Rate: [13173 KB/s].  ETA: [0 secs]    \n"
     ]
    },
    {
     "name": "stderr",
     "output_type": "stream",
     "text": [
      "ERROR: iGK0xWddnNk: YouTube said: Unable to extract video data\n"
     ]
    },
    {
     "name": "stdout",
     "output_type": "stream",
     "text": [
      "Failed!\n"
     ]
    },
    {
     "name": "stderr",
     "output_type": "stream",
     "text": [
      "ERROR: Video unavailable\n"
     ]
    },
    {
     "name": "stdout",
     "output_type": "stream",
     "text": [
      "Failed!\n"
     ]
    },
    {
     "name": "stderr",
     "output_type": "stream",
     "text": [
      "ERROR: Video unavailable\n"
     ]
    },
    {
     "name": "stdout",
     "output_type": "stream",
     "text": [
      "Failed!\n",
      "  3,291,585.0 Bytes [100.00%] received. Rate: [12702 KB/s].  ETA: [0 secs]    \n",
      "  2,687,223.0 Bytes [100.00%] received. Rate: [13661 KB/s].  ETA: [0 secs]    \n",
      "  3,217,762.0 Bytes [100.00%] received. Rate: [  27 KB/s].  ETA: [0 secs]    \n"
     ]
    },
    {
     "name": "stderr",
     "output_type": "stream",
     "text": [
      "ERROR: Video unavailable\n"
     ]
    },
    {
     "name": "stdout",
     "output_type": "stream",
     "text": [
      "Failed!\n",
      "  5,766,432.0 Bytes [100.00%] received. Rate: [5148 KB/s].  ETA: [0 secs]    \n",
      "  3,806,895.0 Bytes [100.00%] received. Rate: [ 400 KB/s].  ETA: [0 secs]    \n",
      "  3,433,921.0 Bytes [100.00%] received. Rate: [2131 KB/s].  ETA: [0 secs]    \n",
      "  4,384,804.0 Bytes [100.00%] received. Rate: [5754 KB/s].  ETA: [0 secs]    \n",
      "  5,556,650.0 Bytes [100.00%] received. Rate: [13383 KB/s].  ETA: [0 secs]    \n",
      "  41,661.0 Bytes [100.00%] received. Rate: [ 862 KB/s].  ETA: [0 secs]    \n"
     ]
    },
    {
     "name": "stderr",
     "output_type": "stream",
     "text": [
      "ERROR: V0_6FoOIlSQ: YouTube said: Unable to extract video data\n"
     ]
    },
    {
     "name": "stdout",
     "output_type": "stream",
     "text": [
      "Failed!\n",
      "  3,962,368.0 Bytes [100.00%] received. Rate: [7092 KB/s].  ETA: [0 secs]    \n",
      "  3,453,487.0 Bytes [100.00%] received. Rate: [15299 KB/s].  ETA: [0 secs]    \n",
      "  3,939,745.0 Bytes [100.00%] received. Rate: [12549 KB/s].  ETA: [0 secs]    \n",
      "  1,924,119.0 Bytes [100.00%] received. Rate: [10648 KB/s].  ETA: [0 secs]    \n",
      "  1,904,633.0 Bytes [100.00%] received. Rate: [10295 KB/s].  ETA: [0 secs]    \n",
      "  9,200,201.0 Bytes [100.00%] received. Rate: [14166 KB/s].  ETA: [0 secs]    \n",
      "  9,670,275.0 Bytes [100.00%] received. Rate: [10671 KB/s].  ETA: [0 secs]    \n",
      "  3,020,827.0 Bytes [100.00%] received. Rate: [7273 KB/s].  ETA: [0 secs]    \n",
      "  3,972,451.0 Bytes [100.00%] received. Rate: [10756 KB/s].  ETA: [0 secs]    \n",
      "  4,722,633.0 Bytes [100.00%] received. Rate: [14728 KB/s].  ETA: [0 secs]    \n"
     ]
    },
    {
     "name": "stderr",
     "output_type": "stream",
     "text": [
      "ERROR: RXCEdrnaFlY: YouTube said: Unable to extract video data\n"
     ]
    },
    {
     "name": "stdout",
     "output_type": "stream",
     "text": [
      "Failed!\n"
     ]
    },
    {
     "name": "stderr",
     "output_type": "stream",
     "text": [
      "ERROR: 2xKGc0-PUp8: YouTube said: Unable to extract video data\n"
     ]
    },
    {
     "name": "stdout",
     "output_type": "stream",
     "text": [
      "Failed!\n",
      "  4,616,555.0 Bytes [100.00%] received. Rate: [13071 KB/s].  ETA: [0 secs]    \n",
      "  5,161,304.0 Bytes [100.00%] received. Rate: [14523 KB/s].  ETA: [0 secs]    \n",
      "  3,374,390.0 Bytes [100.00%] received. Rate: [13257 KB/s].  ETA: [0 secs]    \n"
     ]
    },
    {
     "name": "stderr",
     "output_type": "stream",
     "text": [
      "ERROR: JSUIQgEVDM4: YouTube said: Unable to extract video data\n"
     ]
    },
    {
     "name": "stdout",
     "output_type": "stream",
     "text": [
      "Failed!\n"
     ]
    },
    {
     "name": "stderr",
     "output_type": "stream",
     "text": [
      "ERROR: Video unavailable\n"
     ]
    },
    {
     "name": "stdout",
     "output_type": "stream",
     "text": [
      "Failed!\n",
      "  6,176,740.0 Bytes [100.00%] received. Rate: [12246 KB/s].  ETA: [0 secs]    \n",
      "  4,001,705.0 Bytes [100.00%] received. Rate: [8347 KB/s].  ETA: [0 secs]    \n",
      "  4,440,475.0 Bytes [100.00%] received. Rate: [16451 KB/s].  ETA: [0 secs]    \n",
      "  3,329,314.0 Bytes [100.00%] received. Rate: [12813 KB/s].  ETA: [0 secs]    \n",
      "  3,334,474.0 Bytes [100.00%] received. Rate: [15148 KB/s].  ETA: [0 secs]    \n",
      "  2,587,335.0 Bytes [100.00%] received. Rate: [7721 KB/s].  ETA: [0 secs]    \n",
      "  4,126,633.0 Bytes [100.00%] received. Rate: [15953 KB/s].  ETA: [0 secs]    \n",
      "  3,946,580.0 Bytes [100.00%] received. Rate: [12838 KB/s].  ETA: [0 secs]    \n",
      "  3,082,127.0 Bytes [100.00%] received. Rate: [9578 KB/s].  ETA: [0 secs]    \n",
      "  6,781,825.0 Bytes [100.00%] received. Rate: [8752 KB/s].  ETA: [0 secs]    \n",
      "  3,030,329.0 Bytes [100.00%] received. Rate: [8832 KB/s].  ETA: [0 secs]    \n",
      "  3,323,542.0 Bytes [100.00%] received. Rate: [7766 KB/s].  ETA: [0 secs]    \n",
      "  2,803,641.0 Bytes [100.00%] received. Rate: [6416 KB/s].  ETA: [0 secs]    \n",
      "  2,807,153.0 Bytes [100.00%] received. Rate: [9944 KB/s].  ETA: [0 secs]    \n",
      "  64,654.0 Bytes [100.00%] received. Rate: [1479 KB/s].  ETA: [0 secs]    \n",
      "  3,735,415.0 Bytes [100.00%] received. Rate: [9879 KB/s].  ETA: [0 secs]    \n"
     ]
    },
    {
     "name": "stderr",
     "output_type": "stream",
     "text": [
      "ERROR: Video unavailable\n"
     ]
    },
    {
     "name": "stdout",
     "output_type": "stream",
     "text": [
      "Failed!\n",
      "  2,842,153.0 Bytes [100.00%] received. Rate: [11243 KB/s].  ETA: [0 secs]    \n",
      "  4,258,528.0 Bytes [100.00%] received. Rate: [12294 KB/s].  ETA: [0 secs]    \n",
      "  6,441,773.0 Bytes [100.00%] received. Rate: [14750 KB/s].  ETA: [0 secs]    \n",
      "  4,646,257.0 Bytes [100.00%] received. Rate: [7202 KB/s].  ETA: [0 secs]    \n",
      "  2,595,701.0 Bytes [100.00%] received. Rate: [9480 KB/s].  ETA: [0 secs]    \n",
      "  3,717,709.0 Bytes [100.00%] received. Rate: [10564 KB/s].  ETA: [0 secs]    \n",
      "  6,088,108.0 Bytes [100.00%] received. Rate: [21693 KB/s].  ETA: [0 secs]    \n",
      "  5,504,978.0 Bytes [100.00%] received. Rate: [13518 KB/s].  ETA: [0 secs]    \n",
      "  3,432,082.0 Bytes [100.00%] received. Rate: [8180 KB/s].  ETA: [0 secs]    \n",
      "  4,300,069.0 Bytes [100.00%] received. Rate: [16028 KB/s].  ETA: [0 secs]    \n",
      "  3,018,905.0 Bytes [100.00%] received. Rate: [14758 KB/s].  ETA: [0 secs]    \n",
      "  3,835,387.0 Bytes [100.00%] received. Rate: [13691 KB/s].  ETA: [0 secs]    \n",
      "  5,787,836.0 Bytes [100.00%] received. Rate: [20126 KB/s].  ETA: [0 secs]    \n",
      "  4,470,441.0 Bytes [100.00%] received. Rate: [20728 KB/s].  ETA: [0 secs]    \n",
      "  3,792,437.0 Bytes [100.00%] received. Rate: [18457 KB/s].  ETA: [0 secs]    \n",
      "  3,229,077.0 Bytes [100.00%] received. Rate: [14125 KB/s].  ETA: [0 secs]    \n",
      "  70,758.0 Bytes [100.00%] received. Rate: [1110 KB/s].  ETA: [0 secs]    \n",
      "  2,938,452.0 Bytes [100.00%] received. Rate: [10152 KB/s].  ETA: [0 secs]    \n",
      "  22,442.0 Bytes [100.00%] received. Rate: [1049 KB/s].  ETA: [0 secs]    \n",
      "  5,246,386.0 Bytes [100.00%] received. Rate: [16848 KB/s].  ETA: [0 secs]    \n",
      "  4,275,999.0 Bytes [100.00%] received. Rate: [15716 KB/s].  ETA: [0 secs]    \n",
      "  4,326,998.0 Bytes [100.00%] received. Rate: [12156 KB/s].  ETA: [0 secs]    \n",
      "  3,445,514.0 Bytes [100.00%] received. Rate: [13783 KB/s].  ETA: [0 secs]    \n",
      "  5,535,789.0 Bytes [100.00%] received. Rate: [ 667 KB/s].  ETA: [0 secs]    \n"
     ]
    },
    {
     "name": "stderr",
     "output_type": "stream",
     "text": [
      "ERROR: Video unavailable\n"
     ]
    },
    {
     "name": "stdout",
     "output_type": "stream",
     "text": [
      "Failed!\n"
     ]
    },
    {
     "name": "stderr",
     "output_type": "stream",
     "text": [
      "ERROR: jK8JGpCmDw8: YouTube said: Unable to extract video data\n"
     ]
    },
    {
     "name": "stdout",
     "output_type": "stream",
     "text": [
      "Failed!\n",
      "  6,266,072.0 Bytes [100.00%] received. Rate: [13986 KB/s].  ETA: [0 secs]    \n",
      "  6,144,891.0 Bytes [100.00%] received. Rate: [3105 KB/s].  ETA: [0 secs]    \n",
      "  2,914,498.0 Bytes [100.00%] received. Rate: [9009 KB/s].  ETA: [0 secs]    \n",
      "  4,030,694.0 Bytes [100.00%] received. Rate: [10335 KB/s].  ETA: [0 secs]    \n"
     ]
    },
    {
     "name": "stderr",
     "output_type": "stream",
     "text": [
      "ERROR: Video unavailable\n"
     ]
    },
    {
     "name": "stdout",
     "output_type": "stream",
     "text": [
      "Failed!\n",
      "  3,776,662.0 Bytes [100.00%] received. Rate: [7901 KB/s].  ETA: [0 secs]    \n"
     ]
    },
    {
     "name": "stderr",
     "output_type": "stream",
     "text": [
      "ERROR: 9w9fUZZfA78: YouTube said: Unable to extract video data\n"
     ]
    },
    {
     "name": "stdout",
     "output_type": "stream",
     "text": [
      "Failed!\n",
      "  57,117.0 Bytes [100.00%] received. Rate: [1348 KB/s].  ETA: [0 secs]    \n",
      "  3,688,969.0 Bytes [100.00%] received. Rate: [6577 KB/s].  ETA: [0 secs]    \n"
     ]
    },
    {
     "name": "stderr",
     "output_type": "stream",
     "text": [
      "ERROR: SUn4DOGiY_A: YouTube said: Unable to extract video data\n"
     ]
    },
    {
     "name": "stdout",
     "output_type": "stream",
     "text": [
      "Failed!\n",
      "  2,447,669.0 Bytes [100.00%] received. Rate: [10951 KB/s].  ETA: [0 secs]    \n",
      "  2,681,214.0 Bytes [100.00%] received. Rate: [7356 KB/s].  ETA: [0 secs]    \n",
      "  2,141,133.0 Bytes [100.00%] received. Rate: [9021 KB/s].  ETA: [0 secs]    \n",
      "  2,794,224.0 Bytes [100.00%] received. Rate: [7932 KB/s].  ETA: [0 secs]    \n",
      "  3,258,852.0 Bytes [100.00%] received. Rate: [10571 KB/s].  ETA: [0 secs]    \n",
      "  5,625,872.0 Bytes [100.00%] received. Rate: [5629 KB/s].  ETA: [0 secs]    \n"
     ]
    },
    {
     "name": "stderr",
     "output_type": "stream",
     "text": [
      "ERROR: fC7PEQnjKl4: YouTube said: Unable to extract video data\n"
     ]
    },
    {
     "name": "stdout",
     "output_type": "stream",
     "text": [
      "Failed!\n",
      "  2,698,512.0 Bytes [100.00%] received. Rate: [9998 KB/s].  ETA: [0 secs]    \n"
     ]
    },
    {
     "name": "stderr",
     "output_type": "stream",
     "text": [
      "ERROR: PIobamAlrCY: YouTube said: Unable to extract video data\n"
     ]
    },
    {
     "name": "stdout",
     "output_type": "stream",
     "text": [
      "Failed!\n",
      "  7,561,750.0 Bytes [100.00%] received. Rate: [5559 KB/s].  ETA: [0 secs]    \n",
      "  4,210,738.0 Bytes [100.00%] received. Rate: [6125 KB/s].  ETA: [0 secs]    \n",
      "  5,104,995.0 Bytes [100.00%] received. Rate: [7018 KB/s].  ETA: [0 secs]    \n",
      "  2,699,239.0 Bytes [100.00%] received. Rate: [9812 KB/s].  ETA: [0 secs]    \n",
      "  2,852,712.0 Bytes [100.00%] received. Rate: [8340 KB/s].  ETA: [0 secs]    \n",
      "  4,047,501.0 Bytes [100.00%] received. Rate: [10042 KB/s].  ETA: [0 secs]    \n",
      "  5,989,722.0 Bytes [100.00%] received. Rate: [9314 KB/s].  ETA: [0 secs]    \n"
     ]
    },
    {
     "name": "stderr",
     "output_type": "stream",
     "text": [
      "ERROR: Video unavailable\n"
     ]
    },
    {
     "name": "stdout",
     "output_type": "stream",
     "text": [
      "Failed!\n"
     ]
    },
    {
     "name": "stderr",
     "output_type": "stream",
     "text": [
      "ERROR: 0HTFdCfK46A: YouTube said: Unable to extract video data\n"
     ]
    },
    {
     "name": "stdout",
     "output_type": "stream",
     "text": [
      "Failed!\n"
     ]
    },
    {
     "name": "stderr",
     "output_type": "stream",
     "text": [
      "ERROR: Video unavailable\n"
     ]
    },
    {
     "name": "stdout",
     "output_type": "stream",
     "text": [
      "Failed!\n"
     ]
    },
    {
     "name": "stderr",
     "output_type": "stream",
     "text": [
      "ERROR: YdIP8tWITpk: YouTube said: Unable to extract video data\n"
     ]
    },
    {
     "name": "stdout",
     "output_type": "stream",
     "text": [
      "Failed!\n"
     ]
    },
    {
     "name": "stderr",
     "output_type": "stream",
     "text": [
      "ERROR: xAGHFnnk5Cc: YouTube said: Unable to extract video data\n"
     ]
    },
    {
     "name": "stdout",
     "output_type": "stream",
     "text": [
      "Failed!\n",
      "  4,663,119.0 Bytes [100.00%] received. Rate: [13897 KB/s].  ETA: [0 secs]    \n",
      "  5,299,685.0 Bytes [100.00%] received. Rate: [10800 KB/s].  ETA: [0 secs]    \n",
      "  2,594,098.0 Bytes [100.00%] received. Rate: [2838 KB/s].  ETA: [0 secs]    \n",
      "  3,648,592.0 Bytes [100.00%] received. Rate: [6315 KB/s].  ETA: [0 secs]    \n"
     ]
    },
    {
     "name": "stderr",
     "output_type": "stream",
     "text": [
      "ERROR: WmuU7XV45Qk: YouTube said: Unable to extract video data\n"
     ]
    },
    {
     "name": "stdout",
     "output_type": "stream",
     "text": [
      "Failed!\n",
      "  8,725,007.0 Bytes [100.00%] received. Rate: [9318 KB/s].  ETA: [0 secs]    \n"
     ]
    },
    {
     "name": "stderr",
     "output_type": "stream",
     "text": [
      "ERROR: Video unavailable\n"
     ]
    },
    {
     "name": "stdout",
     "output_type": "stream",
     "text": [
      "Failed!\n"
     ]
    },
    {
     "name": "stderr",
     "output_type": "stream",
     "text": [
      "ERROR: Video unavailable\n"
     ]
    },
    {
     "name": "stdout",
     "output_type": "stream",
     "text": [
      "Failed!\n",
      "  6,414,531.0 Bytes [100.00%] received. Rate: [10091 KB/s].  ETA: [0 secs]    \n",
      "  2,900,658.0 Bytes [100.00%] received. Rate: [9086 KB/s].  ETA: [0 secs]    \n",
      "  2,663,891.0 Bytes [100.00%] received. Rate: [7912 KB/s].  ETA: [0 secs]    \n",
      "  4,242,306.0 Bytes [100.00%] received. Rate: [12346 KB/s].  ETA: [0 secs]    \n",
      "  4,369,976.0 Bytes [100.00%] received. Rate: [8654 KB/s].  ETA: [0 secs]    \n",
      "  3,904,082.0 Bytes [100.00%] received. Rate: [9662 KB/s].  ETA: [0 secs]    \n",
      "  4,470,393.0 Bytes [100.00%] received. Rate: [8829 KB/s].  ETA: [0 secs]    \n",
      "  3,218,022.0 Bytes [100.00%] received. Rate: [11734 KB/s].  ETA: [0 secs]    \n",
      "  2,394,474.0 Bytes [100.00%] received. Rate: [6777 KB/s].  ETA: [0 secs]    \n",
      "  3,428,071.0 Bytes [100.00%] received. Rate: [5407 KB/s].  ETA: [0 secs]    \n"
     ]
    },
    {
     "name": "stderr",
     "output_type": "stream",
     "text": [
      "ERROR: KjNpxPM1O3s: YouTube said: Unable to extract video data\n"
     ]
    },
    {
     "name": "stdout",
     "output_type": "stream",
     "text": [
      "Failed!\n",
      "  3,411,891.0 Bytes [100.00%] received. Rate: [11168 KB/s].  ETA: [0 secs]    \n",
      "  2,706,495.0 Bytes [100.00%] received. Rate: [9360 KB/s].  ETA: [0 secs]    \n",
      "  3,922,995.0 Bytes [100.00%] received. Rate: [11947 KB/s].  ETA: [0 secs]    \n"
     ]
    },
    {
     "name": "stderr",
     "output_type": "stream",
     "text": [
      "ERROR: Video unavailable\n"
     ]
    },
    {
     "name": "stdout",
     "output_type": "stream",
     "text": [
      "Failed!\n",
      "  4,703,461.0 Bytes [100.00%] received. Rate: [12021 KB/s].  ETA: [0 secs]    \n",
      "  6,571,403.0 Bytes [100.00%] received. Rate: [5472 KB/s].  ETA: [0 secs]    \n",
      "  4,000,231.0 Bytes [100.00%] received. Rate: [14657 KB/s].  ETA: [0 secs]    \n",
      "  2,817,093.0 Bytes [100.00%] received. Rate: [ 524 KB/s].  ETA: [0 secs]    \n",
      "  6,112,617.0 Bytes [100.00%] received. Rate: [12186 KB/s].  ETA: [0 secs]    \n",
      "  3,286,935.0 Bytes [100.00%] received. Rate: [12207 KB/s].  ETA: [0 secs]    \n",
      "  52,001.0 Bytes [100.00%] received. Rate: [1142 KB/s].  ETA: [0 secs]    \n",
      "  3,778,150.0 Bytes [100.00%] received. Rate: [10984 KB/s].  ETA: [0 secs]    \n",
      "  4,777,393.0 Bytes [100.00%] received. Rate: [10635 KB/s].  ETA: [0 secs]    \n",
      "  3,454,359.0 Bytes [100.00%] received. Rate: [9588 KB/s].  ETA: [0 secs]    \n",
      "  3,395,281.0 Bytes [100.00%] received. Rate: [ 993 KB/s].  ETA: [0 secs]    \n",
      "  3,700,024.0 Bytes [100.00%] received. Rate: [9910 KB/s].  ETA: [0 secs]    \n",
      "  1,988,853.0 Bytes [100.00%] received. Rate: [7041 KB/s].  ETA: [0 secs]    \n",
      "  9,368,752.0 Bytes [100.00%] received. Rate: [4948 KB/s].  ETA: [0 secs]    \n",
      "  3,938,630.0 Bytes [100.00%] received. Rate: [9831 KB/s].  ETA: [0 secs]    \n",
      "  21,058.0 Bytes [100.00%] received. Rate: [ 858 KB/s].  ETA: [0 secs]    \n",
      "  3,847,638.0 Bytes [100.00%] received. Rate: [13179 KB/s].  ETA: [0 secs]    \n",
      "  3,745,993.0 Bytes [100.00%] received. Rate: [12005 KB/s].  ETA: [0 secs]    \n",
      "  4,321,165.0 Bytes [100.00%] received. Rate: [8583 KB/s].  ETA: [0 secs]    \n",
      "  4,656,908.0 Bytes [100.00%] received. Rate: [8945 KB/s].  ETA: [0 secs]    \n",
      "  6,893,802.0 Bytes [100.00%] received. Rate: [13364 KB/s].  ETA: [0 secs]    \n",
      "  4,210,772.0 Bytes [100.00%] received. Rate: [9940 KB/s].  ETA: [0 secs]    \n",
      "  4,908,560.0 Bytes [100.00%] received. Rate: [11197 KB/s].  ETA: [0 secs]    \n",
      "  2,241,118.0 Bytes [100.00%] received. Rate: [6250 KB/s].  ETA: [0 secs]    \n",
      "  3,226,414.0 Bytes [100.00%] received. Rate: [9311 KB/s].  ETA: [0 secs]    \n",
      "  5,966,199.0 Bytes [100.00%] received. Rate: [14092 KB/s].  ETA: [0 secs]    \n",
      "  4,511,269.0 Bytes [100.00%] received. Rate: [15699 KB/s].  ETA: [0 secs]    \n",
      "  4,385,934.0 Bytes [100.00%] received. Rate: [12160 KB/s].  ETA: [0 secs]    \n",
      "  8,627,747.0 Bytes [100.00%] received. Rate: [12704 KB/s].  ETA: [0 secs]    \n",
      "  4,258,528.0 Bytes [100.00%] received. Rate: [9413 KB/s].  ETA: [0 secs]    \n",
      "  2,742,652.0 Bytes [100.00%] received. Rate: [10012 KB/s].  ETA: [0 secs]    \n",
      "  3,317,057.0 Bytes [100.00%] received. Rate: [10699 KB/s].  ETA: [0 secs]    \n"
     ]
    },
    {
     "name": "stderr",
     "output_type": "stream",
     "text": [
      "ERROR: JJTXWBlc9A8: YouTube said: Unable to extract video data\n"
     ]
    },
    {
     "name": "stdout",
     "output_type": "stream",
     "text": [
      "Failed!\n"
     ]
    },
    {
     "name": "stderr",
     "output_type": "stream",
     "text": [
      "ERROR: Rn1uqSLRnqg: YouTube said: Unable to extract video data\n"
     ]
    },
    {
     "name": "stdout",
     "output_type": "stream",
     "text": [
      "Failed!\n",
      "  4,600,044.0 Bytes [100.00%] received. Rate: [7571 KB/s].  ETA: [0 secs]    \n",
      "  2,437,783.0 Bytes [100.00%] received. Rate: [1805 KB/s].  ETA: [0 secs]    \n",
      "  3,181,003.0 Bytes [100.00%] received. Rate: [5674 KB/s].  ETA: [0 secs]    \n",
      "  3,391,411.0 Bytes [100.00%] received. Rate: [9174 KB/s].  ETA: [0 secs]    \n",
      "  4,421,354.0 Bytes [100.00%] received. Rate: [12734 KB/s].  ETA: [0 secs]    \n",
      "  3,945,005.0 Bytes [100.00%] received. Rate: [10955 KB/s].  ETA: [0 secs]    \n"
     ]
    },
    {
     "name": "stderr",
     "output_type": "stream",
     "text": [
      "ERROR: y-vn_KhnDW0: YouTube said: Unable to extract video data\n"
     ]
    },
    {
     "name": "stdout",
     "output_type": "stream",
     "text": [
      "Failed!\n",
      "  4,583,507.0 Bytes [100.00%] received. Rate: [6084 KB/s].  ETA: [0 secs]    \n",
      "  3,922,995.0 Bytes [100.00%] received. Rate: [15311 KB/s].  ETA: [0 secs]    \n",
      "  4,381,143.0 Bytes [100.00%] received. Rate: [5231 KB/s].  ETA: [0 secs]    \n",
      "  6,337,002.0 Bytes [100.00%] received. Rate: [4817 KB/s].  ETA: [0 secs]    \n",
      "  5,997,740.0 Bytes [100.00%] received. Rate: [11762 KB/s].  ETA: [0 secs]    \n",
      "  3,936,377.0 Bytes [100.00%] received. Rate: [8487 KB/s].  ETA: [0 secs]    \n",
      "  3,424,877.0 Bytes [100.00%] received. Rate: [11023 KB/s].  ETA: [0 secs]    \n"
     ]
    },
    {
     "name": "stderr",
     "output_type": "stream",
     "text": [
      "ERROR: gVXPjMwBbIc: YouTube said: Unable to extract video data\n"
     ]
    },
    {
     "name": "stdout",
     "output_type": "stream",
     "text": [
      "Failed!\n",
      "  4,469,521.0 Bytes [100.00%] received. Rate: [12514 KB/s].  ETA: [0 secs]    \n",
      "  2,985,266.0 Bytes [100.00%] received. Rate: [10638 KB/s].  ETA: [0 secs]    \n",
      "  1,966,339.0 Bytes [100.00%] received. Rate: [7968 KB/s].  ETA: [0 secs]    \n",
      "  3,869,442.0 Bytes [100.00%] received. Rate: [8514 KB/s].  ETA: [0 secs]    \n",
      "  6,147,627.0 Bytes [100.00%] received. Rate: [12346 KB/s].  ETA: [0 secs]    \n",
      "  4,304,618.0 Bytes [100.00%] received. Rate: [9535 KB/s].  ETA: [0 secs]    \n",
      "  6,667,050.0 Bytes [100.00%] received. Rate: [12076 KB/s].  ETA: [0 secs]    \n",
      "  2,713,171.0 Bytes [100.00%] received. Rate: [7409 KB/s].  ETA: [0 secs]    \n",
      "  4,072,924.0 Bytes [100.00%] received. Rate: [10066 KB/s].  ETA: [0 secs]    \n",
      "  6,896,806.0 Bytes [100.00%] received. Rate: [13497 KB/s].  ETA: [0 secs]    \n",
      "  4,146,968.0 Bytes [100.00%] received. Rate: [11688 KB/s].  ETA: [0 secs]    \n"
     ]
    },
    {
     "name": "stderr",
     "output_type": "stream",
     "text": [
      "ERROR: U7aaB0hzL7k: YouTube said: Unable to extract video data\n"
     ]
    },
    {
     "name": "stdout",
     "output_type": "stream",
     "text": [
      "Failed!\n",
      "  6,199,594.0 Bytes [100.00%] received. Rate: [6659 KB/s].  ETA: [0 secs]    \n",
      "  3,818,435.0 Bytes [100.00%] received. Rate: [7448 KB/s].  ETA: [0 secs]    \n",
      "  4,079,359.0 Bytes [100.00%] received. Rate: [6295 KB/s].  ETA: [0 secs]    \n",
      "  6,978,849.0 Bytes [100.00%] received. Rate: [13298 KB/s].  ETA: [0 secs]    \n",
      "  3,735,402.0 Bytes [100.00%] received. Rate: [8833 KB/s].  ETA: [0 secs]    \n",
      "  3,723,341.0 Bytes [100.00%] received. Rate: [8487 KB/s].  ETA: [0 secs]    \n",
      "  4,144,807.0 Bytes [100.00%] received. Rate: [10006 KB/s].  ETA: [0 secs]    \n",
      "  3,764,170.0 Bytes [100.00%] received. Rate: [9749 KB/s].  ETA: [0 secs]    \n",
      "  3,812,401.0 Bytes [100.00%] received. Rate: [10074 KB/s].  ETA: [0 secs]    \n",
      "  4,029,344.0 Bytes [100.00%] received. Rate: [12860 KB/s].  ETA: [0 secs]    \n",
      "  3,395,458.0 Bytes [100.00%] received. Rate: [6226 KB/s].  ETA: [0 secs]    \n",
      "  3,823,963.0 Bytes [100.00%] received. Rate: [11134 KB/s].  ETA: [0 secs]    \n",
      "  3,089,292.0 Bytes [100.00%] received. Rate: [ 403 KB/s].  ETA: [0 secs]    \n",
      "  4,098,188.0 Bytes [100.00%] received. Rate: [7634 KB/s].  ETA: [0 secs]    \n",
      "  4,864,620.0 Bytes [100.00%] received. Rate: [3065 KB/s].  ETA: [0 secs]    \n",
      "  3,690,555.0 Bytes [100.00%] received. Rate: [7472 KB/s].  ETA: [0 secs]    \n",
      "  4,166,810.0 Bytes [100.00%] received. Rate: [12237 KB/s].  ETA: [0 secs]    \n",
      "  3,904,767.0 Bytes [100.00%] received. Rate: [14555 KB/s].  ETA: [0 secs]    \n",
      "  5,431,498.0 Bytes [100.00%] received. Rate: [5847 KB/s].  ETA: [0 secs]    \n",
      "  3,568,992.0 Bytes [100.00%] received. Rate: [4902 KB/s].  ETA: [0 secs]    \n",
      "  4,556,306.0 Bytes [100.00%] received. Rate: [5681 KB/s].  ETA: [0 secs]    \n",
      "  5,227,475.0 Bytes [100.00%] received. Rate: [8491 KB/s].  ETA: [0 secs]    \n",
      "  4,388,475.0 Bytes [100.00%] received. Rate: [3932 KB/s].  ETA: [0 secs]    \n"
     ]
    },
    {
     "name": "stderr",
     "output_type": "stream",
     "text": [
      "ERROR: Video unavailable\n"
     ]
    },
    {
     "name": "stdout",
     "output_type": "stream",
     "text": [
      "Failed!\n",
      "  46,945.0 Bytes [100.00%] received. Rate: [1250 KB/s].  ETA: [0 secs]    \n",
      "  4,708,649.0 Bytes [100.00%] received. Rate: [4762 KB/s].  ETA: [0 secs]    \n",
      "  3,484,279.0 Bytes [100.00%] received. Rate: [11567 KB/s].  ETA: [0 secs]    \n",
      "  5,278,768.0 Bytes [100.00%] received. Rate: [13424 KB/s].  ETA: [0 secs]    \n",
      "  3,263,733.0 Bytes [100.00%] received. Rate: [12899 KB/s].  ETA: [0 secs]    \n",
      "  4,480,086.0 Bytes [100.00%] received. Rate: [12342 KB/s].  ETA: [0 secs]    \n",
      "  2,962,513.0 Bytes [100.00%] received. Rate: [10790 KB/s].  ETA: [0 secs]    \n"
     ]
    },
    {
     "name": "stderr",
     "output_type": "stream",
     "text": [
      "ERROR: Video unavailable\n"
     ]
    },
    {
     "name": "stdout",
     "output_type": "stream",
     "text": [
      "Failed!\n",
      "  3,695,971.0 Bytes [100.00%] received. Rate: [7262 KB/s].  ETA: [0 secs]    \n",
      "  3,514,543.0 Bytes [100.00%] received. Rate: [6892 KB/s].  ETA: [0 secs]    \n",
      "  4,192,519.0 Bytes [100.00%] received. Rate: [8424 KB/s].  ETA: [0 secs]    \n",
      "  3,633,483.0 Bytes [100.00%] received. Rate: [12848 KB/s].  ETA: [0 secs]    \n",
      "  3,750,511.0 Bytes [100.00%] received. Rate: [9520 KB/s].  ETA: [0 secs]    \n",
      "  3,038,805.0 Bytes [100.00%] received. Rate: [8987 KB/s].  ETA: [0 secs]    \n",
      "  4,606,392.0 Bytes [100.00%] received. Rate: [11750 KB/s].  ETA: [0 secs]    \n",
      "  4,484,983.0 Bytes [100.00%] received. Rate: [8339 KB/s].  ETA: [0 secs]    \n",
      "  3,719,876.0 Bytes [100.00%] received. Rate: [12271 KB/s].  ETA: [0 secs]    \n",
      "  3,977,383.0 Bytes [100.00%] received. Rate: [9107 KB/s].  ETA: [0 secs]    \n",
      "  3,119,280.0 Bytes [100.00%] received. Rate: [8375 KB/s].  ETA: [0 secs]    \n",
      "  4,204,354.0 Bytes [100.00%] received. Rate: [10925 KB/s].  ETA: [0 secs]    \n",
      "  30,827.0 Bytes [100.00%] received. Rate: [1039 KB/s].  ETA: [0 secs]    \n",
      "  8,372,528.0 Bytes [100.00%] received. Rate: [11960 KB/s].  ETA: [0 secs]    \n",
      "  8,142,456.0 Bytes [100.00%] received. Rate: [ 340 KB/s].  ETA: [0 secs]    \n",
      "  4,503,239.0 Bytes [100.00%] received. Rate: [11513 KB/s].  ETA: [0 secs]    \n",
      "  2,612,315.0 Bytes [100.00%] received. Rate: [5754 KB/s].  ETA: [0 secs]    \n",
      "  6,848,739.0 Bytes [100.00%] received. Rate: [11587 KB/s].  ETA: [0 secs]    \n",
      "  5,064,714.0 Bytes [100.00%] received. Rate: [12676 KB/s].  ETA: [0 secs]    \n",
      "  6,479,526.0 Bytes [100.00%] received. Rate: [5101 KB/s].  ETA: [0 secs]    \n",
      "  3,713,435.0 Bytes [100.00%] received. Rate: [10666 KB/s].  ETA: [0 secs]    \n",
      "  6,236,027.0 Bytes [100.00%] received. Rate: [12567 KB/s].  ETA: [0 secs]    \n",
      "  5,326,851.0 Bytes [100.00%] received. Rate: [11970 KB/s].  ETA: [0 secs]    \n",
      "  6,741,235.0 Bytes [100.00%] received. Rate: [8920 KB/s].  ETA: [0 secs]    \n",
      "  4,739,779.0 Bytes [100.00%] received. Rate: [2444 KB/s].  ETA: [0 secs]    \n",
      "  3,173,517.0 Bytes [100.00%] received. Rate: [13108 KB/s].  ETA: [0 secs]    \n"
     ]
    },
    {
     "name": "stderr",
     "output_type": "stream",
     "text": [
      "ERROR: Video unavailable\n"
     ]
    },
    {
     "name": "stdout",
     "output_type": "stream",
     "text": [
      "Failed!\n"
     ]
    },
    {
     "name": "stderr",
     "output_type": "stream",
     "text": [
      "ERROR: EEE11i50D8k: YouTube said: Unable to extract video data\n"
     ]
    },
    {
     "name": "stdout",
     "output_type": "stream",
     "text": [
      "Failed!\n",
      "  3,396,120.0 Bytes [100.00%] received. Rate: [10003 KB/s].  ETA: [0 secs]    \n",
      "  3,269,015.0 Bytes [100.00%] received. Rate: [11963 KB/s].  ETA: [0 secs]    \n",
      "  5,100,705.0 Bytes [100.00%] received. Rate: [11052 KB/s].  ETA: [0 secs]    \n",
      "  3,935,524.0 Bytes [100.00%] received. Rate: [10410 KB/s].  ETA: [0 secs]    \n",
      "  3,590,667.0 Bytes [100.00%] received. Rate: [8906 KB/s].  ETA: [0 secs]    \n",
      "  4,090,414.0 Bytes [100.00%] received. Rate: [12334 KB/s].  ETA: [0 secs]    \n",
      "  2,685,716.0 Bytes [100.00%] received. Rate: [9788 KB/s].  ETA: [0 secs]    \n",
      "  7,598,998.0 Bytes [100.00%] received. Rate: [15689 KB/s].  ETA: [0 secs]    \n",
      "  2,284,235.0 Bytes [100.00%] received. Rate: [9355 KB/s].  ETA: [0 secs]    \n",
      "  3,205,677.0 Bytes [100.00%] received. Rate: [8138 KB/s].  ETA: [0 secs]    \n",
      "  5,089,517.0 Bytes [100.00%] received. Rate: [11375 KB/s].  ETA: [0 secs]    \n",
      "  2,457,491.0 Bytes [100.00%] received. Rate: [9299 KB/s].  ETA: [0 secs]    \n",
      "  2,681,731.0 Bytes [100.00%] received. Rate: [9564 KB/s].  ETA: [0 secs]    \n",
      "  3,466,029.0 Bytes [100.00%] received. Rate: [13428 KB/s].  ETA: [0 secs]    \n",
      "  4,584,085.0 Bytes [100.00%] received. Rate: [11750 KB/s].  ETA: [0 secs]    \n",
      "  3,702,139.0 Bytes [100.00%] received. Rate: [12788 KB/s].  ETA: [0 secs]    \n",
      "  6,024,270.0 Bytes [100.00%] received. Rate: [7294 KB/s].  ETA: [0 secs]    \n",
      "  2,209,309.0 Bytes [100.00%] received. Rate: [7099 KB/s].  ETA: [0 secs]    \n",
      "  3,680,041.0 Bytes [100.00%] received. Rate: [12315 KB/s].  ETA: [0 secs]    \n",
      "  35,251.0 Bytes [100.00%] received. Rate: [1079 KB/s].  ETA: [0 secs]    \n",
      "  3,620,028.0 Bytes [100.00%] received. Rate: [5392 KB/s].  ETA: [0 secs]    \n"
     ]
    },
    {
     "name": "stderr",
     "output_type": "stream",
     "text": [
      "ERROR: l8uRhUSPBjk: YouTube said: Unable to extract video data\n"
     ]
    },
    {
     "name": "stdout",
     "output_type": "stream",
     "text": [
      "Failed!\n",
      "  3,465,566.0 Bytes [100.00%] received. Rate: [11356 KB/s].  ETA: [0 secs]    \n"
     ]
    },
    {
     "name": "stderr",
     "output_type": "stream",
     "text": [
      "ERROR: r3ntHpYocc0: YouTube said: Unable to extract video data\n"
     ]
    },
    {
     "name": "stdout",
     "output_type": "stream",
     "text": [
      "Failed!\n"
     ]
    },
    {
     "name": "stderr",
     "output_type": "stream",
     "text": [
      "ERROR: 3Y6MiMpCeAk: YouTube said: Unable to extract video data\n"
     ]
    },
    {
     "name": "stdout",
     "output_type": "stream",
     "text": [
      "Failed!\n"
     ]
    },
    {
     "name": "stderr",
     "output_type": "stream",
     "text": [
      "ERROR: 6tMf1XqJiVk: YouTube said: Unable to extract video data\n"
     ]
    },
    {
     "name": "stdout",
     "output_type": "stream",
     "text": [
      "Failed!\n",
      "  3,961,136.0 Bytes [100.00%] received. Rate: [12045 KB/s].  ETA: [0 secs]    \n",
      "  2,992,548.0 Bytes [100.00%] received. Rate: [11107 KB/s].  ETA: [0 secs]    \n",
      "  30,637.0 Bytes [100.00%] received. Rate: [1176 KB/s].  ETA: [0 secs]    \n",
      "  3,494,995.0 Bytes [100.00%] received. Rate: [9970 KB/s].  ETA: [0 secs]    \n",
      "  5,436,869.0 Bytes [100.00%] received. Rate: [12310 KB/s].  ETA: [0 secs]    \n",
      "  3,285,461.0 Bytes [100.00%] received. Rate: [7669 KB/s].  ETA: [0 secs]    \n",
      "  3,701,821.0 Bytes [100.00%] received. Rate: [9049 KB/s].  ETA: [0 secs]    \n",
      "  3,145,307.0 Bytes [100.00%] received. Rate: [7749 KB/s].  ETA: [0 secs]    \n",
      "  7,161,498.0 Bytes [100.00%] received. Rate: [12749 KB/s].  ETA: [0 secs]    \n",
      "  41,253.0 Bytes [100.00%] received. Rate: [1319 KB/s].  ETA: [0 secs]    \n",
      "  33,509.0 Bytes [100.00%] received. Rate: [1297 KB/s].  ETA: [0 secs]    \n",
      "  3,366,626.0 Bytes [100.00%] received. Rate: [10399 KB/s].  ETA: [0 secs]    \n",
      "  4,178,288.0 Bytes [100.00%] received. Rate: [10842 KB/s].  ETA: [0 secs]    \n",
      "  4,011,760.0 Bytes [100.00%] received. Rate: [10363 KB/s].  ETA: [0 secs]    \n",
      "  5,209,399.0 Bytes [100.00%] received. Rate: [12844 KB/s].  ETA: [0 secs]    \n",
      "  4,751,083.0 Bytes [100.00%] received. Rate: [10782 KB/s].  ETA: [0 secs]    \n",
      "  4,525,991.0 Bytes [100.00%] received. Rate: [9944 KB/s].  ETA: [0 secs]    \n",
      "  5,823,098.0 Bytes [100.00%] received. Rate: [4499 KB/s].  ETA: [0 secs]    \n"
     ]
    },
    {
     "name": "stderr",
     "output_type": "stream",
     "text": [
      "ERROR: Video unavailable\n"
     ]
    },
    {
     "name": "stdout",
     "output_type": "stream",
     "text": [
      "Failed!\n",
      "  6,405,655.0 Bytes [100.00%] received. Rate: [3831 KB/s].  ETA: [0 secs]    \n",
      "  3,301,498.0 Bytes [100.00%] received. Rate: [8917 KB/s].  ETA: [0 secs]    \n",
      "  5,188,044.0 Bytes [100.00%] received. Rate: [9461 KB/s].  ETA: [0 secs]    \n",
      "  4,640,188.0 Bytes [100.00%] received. Rate: [10715 KB/s].  ETA: [0 secs]    \n",
      "  3,631,599.0 Bytes [100.00%] received. Rate: [8209 KB/s].  ETA: [0 secs]    \n",
      "  3,365,177.0 Bytes [100.00%] received. Rate: [11388 KB/s].  ETA: [0 secs]    \n",
      "  4,517,485.0 Bytes [100.00%] received. Rate: [10932 KB/s].  ETA: [0 secs]    \n"
     ]
    },
    {
     "name": "stderr",
     "output_type": "stream",
     "text": [
      "ERROR: Video unavailable\n"
     ]
    },
    {
     "name": "stdout",
     "output_type": "stream",
     "text": [
      "Failed!\n",
      "  7,288,269.0 Bytes [100.00%] received. Rate: [17488 KB/s].  ETA: [0 secs]    \n"
     ]
    },
    {
     "name": "stderr",
     "output_type": "stream",
     "text": [
      "ERROR: 4-wUJcx2d7c: YouTube said: Unable to extract video data\n"
     ]
    },
    {
     "name": "stdout",
     "output_type": "stream",
     "text": [
      "Failed!\n",
      "  5,432,945.0 Bytes [100.00%] received. Rate: [8700 KB/s].  ETA: [0 secs]    \n",
      "  3,132,329.0 Bytes [100.00%] received. Rate: [12187 KB/s].  ETA: [0 secs]    \n",
      "  2,901,407.0 Bytes [100.00%] received. Rate: [9064 KB/s].  ETA: [0 secs]    \n",
      "  4,211,032.0 Bytes [100.00%] received. Rate: [6280 KB/s].  ETA: [0 secs]    \n",
      "  3,840,503.0 Bytes [100.00%] received. Rate: [11484 KB/s].  ETA: [0 secs]    \n",
      "  4,093,321.0 Bytes [100.00%] received. Rate: [11969 KB/s].  ETA: [0 secs]    \n"
     ]
    },
    {
     "name": "stderr",
     "output_type": "stream",
     "text": [
      "ERROR: z7Xr3soljrY: YouTube said: Unable to extract video data\n"
     ]
    },
    {
     "name": "stdout",
     "output_type": "stream",
     "text": [
      "Failed!\n",
      "  4,588,391.0 Bytes [100.00%] received. Rate: [11580 KB/s].  ETA: [0 secs]    \n",
      "  3,577,928.0 Bytes [100.00%] received. Rate: [11971 KB/s].  ETA: [0 secs]    \n"
     ]
    },
    {
     "name": "stderr",
     "output_type": "stream",
     "text": [
      "ERROR: PtFQMtbkXTo: YouTube said: Unable to extract video data\n"
     ]
    },
    {
     "name": "stdout",
     "output_type": "stream",
     "text": [
      "Failed!\n",
      "  4,210,166.0 Bytes [100.00%] received. Rate: [11144 KB/s].  ETA: [0 secs]    \n",
      "  5,283,102.0 Bytes [100.00%] received. Rate: [7884 KB/s].  ETA: [0 secs]    \n",
      "  3,277,722.0 Bytes [100.00%] received. Rate: [6333 KB/s].  ETA: [0 secs]    \n",
      "  3,330,975.0 Bytes [100.00%] received. Rate: [12046 KB/s].  ETA: [0 secs]    \n"
     ]
    },
    {
     "name": "stderr",
     "output_type": "stream",
     "text": [
      "ERROR: Video unavailable\n"
     ]
    },
    {
     "name": "stdout",
     "output_type": "stream",
     "text": [
      "Failed!\n",
      "  4,531,984.0 Bytes [100.00%] received. Rate: [13459 KB/s].  ETA: [0 secs]    \n"
     ]
    },
    {
     "name": "stderr",
     "output_type": "stream",
     "text": [
      "ERROR: AW3mgjqwHiM: YouTube said: Unable to extract video data\n"
     ]
    },
    {
     "name": "stdout",
     "output_type": "stream",
     "text": [
      "Failed!\n",
      "  3,452,736.0 Bytes [100.00%] received. Rate: [8717 KB/s].  ETA: [0 secs]    \n",
      "  4,093,731.0 Bytes [100.00%] received. Rate: [7107 KB/s].  ETA: [0 secs]    \n",
      "  4,065,827.0 Bytes [100.00%] received. Rate: [10236 KB/s].  ETA: [0 secs]    \n",
      "  3,034,015.0 Bytes [100.00%] received. Rate: [11725 KB/s].  ETA: [0 secs]    \n",
      "  5,547,490.0 Bytes [100.00%] received. Rate: [11423 KB/s].  ETA: [0 secs]    \n",
      "  3,802,745.0 Bytes [100.00%] received. Rate: [7987 KB/s].  ETA: [0 secs]    \n",
      "  2,649,295.0 Bytes [100.00%] received. Rate: [7096 KB/s].  ETA: [0 secs]    \n",
      "  4,629,020.0 Bytes [100.00%] received. Rate: [7002 KB/s].  ETA: [0 secs]    \n",
      "  4,449,684.0 Bytes [100.00%] received. Rate: [10472 KB/s].  ETA: [0 secs]    \n",
      "  47,131.0 Bytes [100.00%] received. Rate: [ 965 KB/s].  ETA: [0 secs]    \n",
      "  4,721,448.0 Bytes [100.00%] received. Rate: [4859 KB/s].  ETA: [0 secs]    \n",
      "  3,518,965.0 Bytes [100.00%] received. Rate: [11690 KB/s].  ETA: [0 secs]    \n"
     ]
    },
    {
     "name": "stderr",
     "output_type": "stream",
     "text": [
      "ERROR: wozHjR5A9c4: YouTube said: Unable to extract video data\n"
     ]
    },
    {
     "name": "stdout",
     "output_type": "stream",
     "text": [
      "Failed!\n",
      "  4,841,507.0 Bytes [100.00%] received. Rate: [10781 KB/s].  ETA: [0 secs]    \n"
     ]
    },
    {
     "name": "stderr",
     "output_type": "stream",
     "text": [
      "ERROR: Video unavailable\n"
     ]
    },
    {
     "name": "stdout",
     "output_type": "stream",
     "text": [
      "Failed!\n",
      "  50,250.0 Bytes [100.00%] received. Rate: [1235 KB/s].  ETA: [0 secs]    \n",
      "  2,739,757.0 Bytes [100.00%] received. Rate: [8264 KB/s].  ETA: [0 secs]    \n",
      "  4,466,640.0 Bytes [100.00%] received. Rate: [7071 KB/s].  ETA: [0 secs]    \n",
      "  3,859,279.0 Bytes [100.00%] received. Rate: [12193 KB/s].  ETA: [0 secs]    \n"
     ]
    },
    {
     "name": "stderr",
     "output_type": "stream",
     "text": [
      "ERROR: Video unavailable\n"
     ]
    },
    {
     "name": "stdout",
     "output_type": "stream",
     "text": [
      "Failed!\n",
      "  4,178,971.0 Bytes [100.00%] received. Rate: [7458 KB/s].  ETA: [0 secs]    \n",
      "  2,767,652.0 Bytes [100.00%] received. Rate: [9309 KB/s].  ETA: [0 secs]    \n",
      "  2,123,388.0 Bytes [100.00%] received. Rate: [5162 KB/s].  ETA: [0 secs]    \n",
      "  3,895,409.0 Bytes [100.00%] received. Rate: [11227 KB/s].  ETA: [0 secs]    \n",
      "  3,307,669.0 Bytes [100.00%] received. Rate: [8813 KB/s].  ETA: [0 secs]    \n",
      "  8,059,423.0 Bytes [100.00%] received. Rate: [10618 KB/s].  ETA: [0 secs]    \n"
     ]
    },
    {
     "name": "stderr",
     "output_type": "stream",
     "text": [
      "ERROR: BLR4g33W6R8: YouTube said: Unable to extract video data\n"
     ]
    },
    {
     "name": "stdout",
     "output_type": "stream",
     "text": [
      "Failed!\n",
      "  3,627,116.0 Bytes [100.00%] received. Rate: [10368 KB/s].  ETA: [0 secs]    \n",
      "  6,588,648.0 Bytes [100.00%] received. Rate: [10343 KB/s].  ETA: [0 secs]    \n",
      "  4,122,834.0 Bytes [100.00%] received. Rate: [14878 KB/s].  ETA: [0 secs]    \n",
      "  4,974,257.0 Bytes [100.00%] received. Rate: [11741 KB/s].  ETA: [0 secs]    \n",
      "  7,313,256.0 Bytes [100.00%] received. Rate: [6640 KB/s].  ETA: [0 secs]    \n",
      "  3,636,523.0 Bytes [100.00%] received. Rate: [13790 KB/s].  ETA: [0 secs]    \n",
      "  38,838.0 Bytes [100.00%] received. Rate: [ 964 KB/s].  ETA: [0 secs]    \n",
      "  3,977,014.0 Bytes [100.00%] received. Rate: [13871 KB/s].  ETA: [0 secs]    \n",
      "  4,415,512.0 Bytes [100.00%] received. Rate: [14056 KB/s].  ETA: [0 secs]    \n",
      "  3,858,135.0 Bytes [100.00%] received. Rate: [6809 KB/s].  ETA: [0 secs]    \n",
      "  3,602,988.0 Bytes [100.00%] received. Rate: [13523 KB/s].  ETA: [0 secs]    \n",
      "  3,960,410.0 Bytes [100.00%] received. Rate: [15275 KB/s].  ETA: [0 secs]    \n",
      "  2,310,031.0 Bytes [100.00%] received. Rate: [11006 KB/s].  ETA: [0 secs]    \n",
      "  4,491,801.0 Bytes [100.00%] received. Rate: [12361 KB/s].  ETA: [0 secs]    \n",
      "  3,620,677.0 Bytes [100.00%] received. Rate: [13229 KB/s].  ETA: [0 secs]    \n"
     ]
    },
    {
     "name": "stderr",
     "output_type": "stream",
     "text": [
      "ERROR: Ta1qzDj3iGI: YouTube said: Unable to extract video data\n"
     ]
    },
    {
     "name": "stdout",
     "output_type": "stream",
     "text": [
      "Failed!\n",
      "  5,460,133.0 Bytes [100.00%] received. Rate: [9191 KB/s].  ETA: [0 secs]    \n",
      "  2,900,503.0 Bytes [100.00%] received. Rate: [8060 KB/s].  ETA: [0 secs]    \n",
      "  3,071,155.0 Bytes [100.00%] received. Rate: [8811 KB/s].  ETA: [0 secs]    \n",
      "  4,774,702.0 Bytes [100.00%] received. Rate: [9837 KB/s].  ETA: [0 secs]    \n",
      "  3,796,592.0 Bytes [100.00%] received. Rate: [11017 KB/s].  ETA: [0 secs]    \n",
      "  2,561,225.0 Bytes [100.00%] received. Rate: [10525 KB/s].  ETA: [0 secs]    \n"
     ]
    },
    {
     "name": "stderr",
     "output_type": "stream",
     "text": [
      "ERROR: uLc352tUpjA: YouTube said: Unable to extract video data\n"
     ]
    },
    {
     "name": "stdout",
     "output_type": "stream",
     "text": [
      "Failed!\n",
      "  2,996,132.0 Bytes [100.00%] received. Rate: [7783 KB/s].  ETA: [0 secs]    \n",
      "  3,263,718.0 Bytes [100.00%] received. Rate: [9010 KB/s].  ETA: [0 secs]    \n"
     ]
    },
    {
     "name": "stderr",
     "output_type": "stream",
     "text": [
      "ERROR: Video unavailable\n"
     ]
    },
    {
     "name": "stdout",
     "output_type": "stream",
     "text": [
      "Failed!\n"
     ]
    },
    {
     "name": "stderr",
     "output_type": "stream",
     "text": [
      "ERROR: Video unavailable\n"
     ]
    },
    {
     "name": "stdout",
     "output_type": "stream",
     "text": [
      "Failed!\n"
     ]
    },
    {
     "name": "stderr",
     "output_type": "stream",
     "text": [
      "ERROR: Video unavailable\n"
     ]
    },
    {
     "name": "stdout",
     "output_type": "stream",
     "text": [
      "Failed!\n",
      "  3,349,288.0 Bytes [100.00%] received. Rate: [13307 KB/s].  ETA: [0 secs]    \n",
      "  5,238,879.0 Bytes [100.00%] received. Rate: [16006 KB/s].  ETA: [0 secs]    \n",
      "  3,885,874.0 Bytes [100.00%] received. Rate: [12674 KB/s].  ETA: [0 secs]    \n",
      "  4,120,146.0 Bytes [100.00%] received. Rate: [11085 KB/s].  ETA: [0 secs]    \n",
      "  3,469,664.0 Bytes [100.00%] received. Rate: [13637 KB/s].  ETA: [0 secs]    \n",
      "  3,058,867.0 Bytes [100.00%] received. Rate: [10147 KB/s].  ETA: [0 secs]    \n",
      "  2,903,735.0 Bytes [100.00%] received. Rate: [9438 KB/s].  ETA: [0 secs]    \n",
      "  4,325,129.0 Bytes [100.00%] received. Rate: [18470 KB/s].  ETA: [0 secs]    \n",
      "  4,826,606.0 Bytes [100.00%] received. Rate: [17065 KB/s].  ETA: [0 secs]    \n",
      "  4,000,215.0 Bytes [100.00%] received. Rate: [5761 KB/s].  ETA: [0 secs]    \n",
      "  3,400,467.0 Bytes [100.00%] received. Rate: [13227 KB/s].  ETA: [0 secs]    \n",
      "  2,211,889.0 Bytes [100.00%] received. Rate: [5167 KB/s].  ETA: [0 secs]    \n",
      "  9,398,118.0 Bytes [100.00%] received. Rate: [5069 KB/s].  ETA: [0 secs]    \n",
      "  3,279,505.0 Bytes [100.00%] received. Rate: [12270 KB/s].  ETA: [0 secs]    \n",
      "  5,476,641.0 Bytes [100.00%] received. Rate: [11207 KB/s].  ETA: [0 secs]    \n",
      "  4,220,764.0 Bytes [100.00%] received. Rate: [6417 KB/s].  ETA: [0 secs]    \n",
      "  36,420.0 Bytes [100.00%] received. Rate: [ 223 KB/s].  ETA: [0 secs]    \n",
      "  6,489,910.0 Bytes [100.00%] received. Rate: [10733 KB/s].  ETA: [0 secs]    \n",
      "  2,662,568.0 Bytes [100.00%] received. Rate: [7193 KB/s].  ETA: [0 secs]    \n",
      "  5,605,976.0 Bytes [100.00%] received. Rate: [12166 KB/s].  ETA: [0 secs]    \n"
     ]
    },
    {
     "name": "stderr",
     "output_type": "stream",
     "text": [
      "ERROR: tKvwxMDmgY4: YouTube said: Unable to extract video data\n"
     ]
    },
    {
     "name": "stdout",
     "output_type": "stream",
     "text": [
      "Failed!\n"
     ]
    },
    {
     "name": "stderr",
     "output_type": "stream",
     "text": [
      "ERROR: Unable to download webpage: <urlopen error [Errno 50] Network is down> (caused by URLError(OSError(50, 'Network is down')))\n"
     ]
    },
    {
     "name": "stdout",
     "output_type": "stream",
     "text": [
      "Failed!\n",
      "  2,054,080.0 Bytes [100.00%] received. Rate: [10076 KB/s].  ETA: [0 secs]    \n"
     ]
    },
    {
     "name": "stderr",
     "output_type": "stream",
     "text": [
      "ERROR: Video unavailable\n"
     ]
    },
    {
     "name": "stdout",
     "output_type": "stream",
     "text": [
      "Failed!\n"
     ]
    },
    {
     "name": "stderr",
     "output_type": "stream",
     "text": [
      "ERROR: Video unavailable\n"
     ]
    },
    {
     "name": "stdout",
     "output_type": "stream",
     "text": [
      "Failed!\n",
      "  49,274.0 Bytes [100.00%] received. Rate: [1389 KB/s].  ETA: [0 secs]    \n",
      "  3,799,423.0 Bytes [100.00%] received. Rate: [10415 KB/s].  ETA: [0 secs]    \n",
      "  3,462,213.0 Bytes [100.00%] received. Rate: [12413 KB/s].  ETA: [0 secs]    \n",
      "  7,330,503.0 Bytes [100.00%] received. Rate: [13543 KB/s].  ETA: [0 secs]    \n",
      "  4,689,089.0 Bytes [100.00%] received. Rate: [15286 KB/s].  ETA: [0 secs]    \n",
      "  2,047,903.0 Bytes [100.00%] received. Rate: [9475 KB/s].  ETA: [0 secs]    \n",
      "  4,015,456.0 Bytes [100.00%] received. Rate: [3992 KB/s].  ETA: [0 secs]    \n",
      "  4,803,979.0 Bytes [100.00%] received. Rate: [12471 KB/s].  ETA: [0 secs]    \n",
      "  5,892,659.0 Bytes [100.00%] received. Rate: [11515 KB/s].  ETA: [0 secs]    \n",
      "  2,915,235.0 Bytes [100.00%] received. Rate: [11971 KB/s].  ETA: [0 secs]    \n",
      "  2,979,984.0 Bytes [100.00%] received. Rate: [10682 KB/s].  ETA: [0 secs]    \n",
      "  4,664,652.0 Bytes [100.00%] received. Rate: [12720 KB/s].  ETA: [0 secs]    \n"
     ]
    },
    {
     "name": "stderr",
     "output_type": "stream",
     "text": [
      "ERROR: Video unavailable\n"
     ]
    },
    {
     "name": "stdout",
     "output_type": "stream",
     "text": [
      "Failed!\n"
     ]
    },
    {
     "name": "stderr",
     "output_type": "stream",
     "text": [
      "ERROR: Video unavailable\n"
     ]
    },
    {
     "name": "stdout",
     "output_type": "stream",
     "text": [
      "Failed!\n"
     ]
    },
    {
     "name": "stderr",
     "output_type": "stream",
     "text": [
      "ERROR: Video unavailable\n"
     ]
    },
    {
     "name": "stdout",
     "output_type": "stream",
     "text": [
      "Failed!\n"
     ]
    },
    {
     "name": "stderr",
     "output_type": "stream",
     "text": [
      "ERROR: Video unavailable\n"
     ]
    },
    {
     "name": "stdout",
     "output_type": "stream",
     "text": [
      "Failed!\n"
     ]
    },
    {
     "name": "stderr",
     "output_type": "stream",
     "text": [
      "ERROR: Video unavailable\n"
     ]
    },
    {
     "name": "stdout",
     "output_type": "stream",
     "text": [
      "Failed!\n",
      "  3,157,837.0 Bytes [100.00%] received. Rate: [11668 KB/s].  ETA: [0 secs]    \n",
      "  5,524,106.0 Bytes [100.00%] received. Rate: [14952 KB/s].  ETA: [0 secs]    \n",
      "  3,687,239.0 Bytes [100.00%] received. Rate: [13565 KB/s].  ETA: [0 secs]    \n",
      "  2,971,347.0 Bytes [100.00%] received. Rate: [8374 KB/s].  ETA: [0 secs]    \n",
      "  3,999,863.0 Bytes [100.00%] received. Rate: [14501 KB/s].  ETA: [0 secs]    \n",
      "  2,779,136.0 Bytes [100.00%] received. Rate: [11656 KB/s].  ETA: [0 secs]    \n",
      "  3,818,185.0 Bytes [100.00%] received. Rate: [13193 KB/s].  ETA: [0 secs]    \n",
      "  2,241,360.0 Bytes [100.00%] received. Rate: [7570 KB/s].  ETA: [0 secs]    \n",
      "  22,308.0 Bytes [100.00%] received. Rate: [ 632 KB/s].  ETA: [0 secs]    \n",
      "  2,718,330.0 Bytes [100.00%] received. Rate: [12453 KB/s].  ETA: [0 secs]    \n",
      "  3,397,910.0 Bytes [100.00%] received. Rate: [5325 KB/s].  ETA: [0 secs]    \n",
      "  4,020,893.0 Bytes [100.00%] received. Rate: [8298 KB/s].  ETA: [0 secs]    \n",
      "  2,659,551.0 Bytes [100.00%] received. Rate: [9008 KB/s].  ETA: [0 secs]    \n",
      "  5,828,257.0 Bytes [100.00%] received. Rate: [16537 KB/s].  ETA: [0 secs]    \n"
     ]
    },
    {
     "name": "stderr",
     "output_type": "stream",
     "text": [
      "ERROR: RjKtPau8HTk: YouTube said: Unable to extract video data\n"
     ]
    },
    {
     "name": "stdout",
     "output_type": "stream",
     "text": [
      "Failed!\n",
      "  3,604,937.0 Bytes [100.00%] received. Rate: [11066 KB/s].  ETA: [0 secs]    \n"
     ]
    },
    {
     "name": "stderr",
     "output_type": "stream",
     "text": [
      "ERROR: 7-tDPbfrvNI: YouTube said: Unable to extract video data\n"
     ]
    },
    {
     "name": "stdout",
     "output_type": "stream",
     "text": [
      "Failed!\n",
      "  4,739,088.0 Bytes [100.00%] received. Rate: [9566 KB/s].  ETA: [0 secs]    \n",
      "  4,383,073.0 Bytes [100.00%] received. Rate: [11685 KB/s].  ETA: [0 secs]    \n",
      "  3,008,329.0 Bytes [100.00%] received. Rate: [12638 KB/s].  ETA: [0 secs]    \n",
      "  1,770,860.0 Bytes [100.00%] received. Rate: [5900 KB/s].  ETA: [0 secs]    \n",
      "  4,741,667.0 Bytes [100.00%] received. Rate: [2226 KB/s].  ETA: [0 secs]    \n"
     ]
    },
    {
     "name": "stderr",
     "output_type": "stream",
     "text": [
      "ERROR: 2BmJgzjZhrI: YouTube said: Unable to extract video data\n"
     ]
    },
    {
     "name": "stdout",
     "output_type": "stream",
     "text": [
      "Failed!\n"
     ]
    },
    {
     "name": "stderr",
     "output_type": "stream",
     "text": [
      "ERROR: xOB0Sy3UU4Q: YouTube said: Unable to extract video data\n"
     ]
    },
    {
     "name": "stdout",
     "output_type": "stream",
     "text": [
      "Failed!\n",
      "  5,709,109.0 Bytes [100.00%] received. Rate: [7156 KB/s].  ETA: [0 secs]    \n",
      "  3,814,013.0 Bytes [100.00%] received. Rate: [12091 KB/s].  ETA: [0 secs]    \n",
      "  3,707,112.0 Bytes [100.00%] received. Rate: [11910 KB/s].  ETA: [0 secs]    \n",
      "  4,297,490.0 Bytes [100.00%] received. Rate: [11997 KB/s].  ETA: [0 secs]    \n",
      "  4,679,618.0 Bytes [100.00%] received. Rate: [11272 KB/s].  ETA: [0 secs]    \n",
      "  5,420,726.0 Bytes [100.00%] received. Rate: [10155 KB/s].  ETA: [0 secs]    \n",
      "  5,124,205.0 Bytes [100.00%] received. Rate: [12726 KB/s].  ETA: [0 secs]    \n",
      "  2,981,861.0 Bytes [100.00%] received. Rate: [5976 KB/s].  ETA: [0 secs]    \n",
      "  47,481.0 Bytes [100.00%] received. Rate: [1393 KB/s].  ETA: [0 secs]    \n",
      "  5,364,913.0 Bytes [100.00%] received. Rate: [8963 KB/s].  ETA: [0 secs]    \n",
      "  3,707,078.0 Bytes [100.00%] received. Rate: [15309 KB/s].  ETA: [0 secs]    \n",
      "  3,465,414.0 Bytes [100.00%] received. Rate: [9657 KB/s].  ETA: [0 secs]    \n"
     ]
    },
    {
     "name": "stderr",
     "output_type": "stream",
     "text": [
      "ERROR: 6vpI-vBkRSE: YouTube said: Unable to extract video data\n"
     ]
    },
    {
     "name": "stdout",
     "output_type": "stream",
     "text": [
      "Failed!\n",
      "  3,872,507.0 Bytes [100.00%] received. Rate: [10133 KB/s].  ETA: [0 secs]    \n",
      "  7,387,399.0 Bytes [100.00%] received. Rate: [9641 KB/s].  ETA: [0 secs]    \n",
      "  3,694,728.0 Bytes [100.00%] received. Rate: [13119 KB/s].  ETA: [0 secs]    \n",
      "  3,459,024.0 Bytes [100.00%] received. Rate: [11434 KB/s].  ETA: [0 secs]    \n"
     ]
    },
    {
     "name": "stderr",
     "output_type": "stream",
     "text": [
      "ERROR: cXNIU8I0rl0: YouTube said: Unable to extract video data\n"
     ]
    },
    {
     "name": "stdout",
     "output_type": "stream",
     "text": [
      "Failed!\n"
     ]
    },
    {
     "ename": "KeyboardInterrupt",
     "evalue": "",
     "output_type": "error",
     "traceback": [
      "\u001b[0;31m---------------------------------------------------------------------------\u001b[0m",
      "\u001b[0;31mExtractorError\u001b[0m                            Traceback (most recent call last)",
      "\u001b[0;32m/Library/Frameworks/Python.framework/Versions/3.7/lib/python3.7/site-packages/youtube_dl/YoutubeDL.py\u001b[0m in \u001b[0;36mextract_info\u001b[0;34m(self, url, download, ie_key, extra_info, process, force_generic_extractor)\u001b[0m\n\u001b[1;32m    796\u001b[0m             \u001b[0;32mtry\u001b[0m\u001b[0;34m:\u001b[0m\u001b[0;34m\u001b[0m\u001b[0m\n\u001b[0;32m--> 797\u001b[0;31m                 \u001b[0mie_result\u001b[0m \u001b[0;34m=\u001b[0m \u001b[0mie\u001b[0m\u001b[0;34m.\u001b[0m\u001b[0mextract\u001b[0m\u001b[0;34m(\u001b[0m\u001b[0murl\u001b[0m\u001b[0;34m)\u001b[0m\u001b[0;34m\u001b[0m\u001b[0m\n\u001b[0m\u001b[1;32m    798\u001b[0m                 \u001b[0;32mif\u001b[0m \u001b[0mie_result\u001b[0m \u001b[0;32mis\u001b[0m \u001b[0;32mNone\u001b[0m\u001b[0;34m:\u001b[0m  \u001b[0;31m# Finished already (backwards compatibility; listformats and friends should be moved here)\u001b[0m\u001b[0;34m\u001b[0m\u001b[0m\n",
      "\u001b[0;32m/Library/Frameworks/Python.framework/Versions/3.7/lib/python3.7/site-packages/youtube_dl/extractor/common.py\u001b[0m in \u001b[0;36mextract\u001b[0;34m(self, url)\u001b[0m\n\u001b[1;32m    531\u001b[0m                     \u001b[0mself\u001b[0m\u001b[0;34m.\u001b[0m\u001b[0minitialize\u001b[0m\u001b[0;34m(\u001b[0m\u001b[0;34m)\u001b[0m\u001b[0;34m\u001b[0m\u001b[0m\n\u001b[0;32m--> 532\u001b[0;31m                     \u001b[0mie_result\u001b[0m \u001b[0;34m=\u001b[0m \u001b[0mself\u001b[0m\u001b[0;34m.\u001b[0m\u001b[0m_real_extract\u001b[0m\u001b[0;34m(\u001b[0m\u001b[0murl\u001b[0m\u001b[0;34m)\u001b[0m\u001b[0;34m\u001b[0m\u001b[0m\n\u001b[0m\u001b[1;32m    533\u001b[0m                     \u001b[0;32mif\u001b[0m \u001b[0mself\u001b[0m\u001b[0;34m.\u001b[0m\u001b[0m_x_forwarded_for_ip\u001b[0m\u001b[0;34m:\u001b[0m\u001b[0;34m\u001b[0m\u001b[0m\n",
      "\u001b[0;32m/Library/Frameworks/Python.framework/Versions/3.7/lib/python3.7/site-packages/youtube_dl/extractor/youtube.py\u001b[0m in \u001b[0;36m_real_extract\u001b[0;34m(self, url)\u001b[0m\n\u001b[1;32m   1691\u001b[0m             raise ExtractorError(\n\u001b[0;32m-> 1692\u001b[0;31m                 'YouTube said: %s' % unavailable_message, expected=True, video_id=video_id)\n\u001b[0m\u001b[1;32m   1693\u001b[0m \u001b[0;34m\u001b[0m\u001b[0m\n",
      "\u001b[0;31mExtractorError\u001b[0m: cXNIU8I0rl0: YouTube said: Unable to extract video data",
      "\nDuring handling of the above exception, another exception occurred:\n",
      "\u001b[0;31mDownloadError\u001b[0m                             Traceback (most recent call last)",
      "\u001b[0;32m/Library/Frameworks/Python.framework/Versions/3.7/lib/python3.7/site-packages/pafy/backend_youtube_dl.py\u001b[0m in \u001b[0;36m_fetch_basic\u001b[0;34m(self)\u001b[0m\n\u001b[1;32m     39\u001b[0m             \u001b[0;32mtry\u001b[0m\u001b[0;34m:\u001b[0m\u001b[0;34m\u001b[0m\u001b[0m\n\u001b[0;32m---> 40\u001b[0;31m                 \u001b[0mself\u001b[0m\u001b[0;34m.\u001b[0m\u001b[0m_ydl_info\u001b[0m \u001b[0;34m=\u001b[0m \u001b[0mydl\u001b[0m\u001b[0;34m.\u001b[0m\u001b[0mextract_info\u001b[0m\u001b[0;34m(\u001b[0m\u001b[0mself\u001b[0m\u001b[0;34m.\u001b[0m\u001b[0mvideoid\u001b[0m\u001b[0;34m,\u001b[0m \u001b[0mdownload\u001b[0m\u001b[0;34m=\u001b[0m\u001b[0;32mFalse\u001b[0m\u001b[0;34m)\u001b[0m\u001b[0;34m\u001b[0m\u001b[0m\n\u001b[0m\u001b[1;32m     41\u001b[0m             \u001b[0;31m# Turn into an IOError since that is what pafy previously raised\u001b[0m\u001b[0;34m\u001b[0m\u001b[0;34m\u001b[0m\u001b[0m\n",
      "\u001b[0;32m/Library/Frameworks/Python.framework/Versions/3.7/lib/python3.7/site-packages/youtube_dl/YoutubeDL.py\u001b[0m in \u001b[0;36mextract_info\u001b[0;34m(self, url, download, ie_key, extra_info, process, force_generic_extractor)\u001b[0m\n\u001b[1;32m    819\u001b[0m             \u001b[0;32mexcept\u001b[0m \u001b[0mExtractorError\u001b[0m \u001b[0;32mas\u001b[0m \u001b[0me\u001b[0m\u001b[0;34m:\u001b[0m  \u001b[0;31m# An error we somewhat expected\u001b[0m\u001b[0;34m\u001b[0m\u001b[0m\n\u001b[0;32m--> 820\u001b[0;31m                 \u001b[0mself\u001b[0m\u001b[0;34m.\u001b[0m\u001b[0mreport_error\u001b[0m\u001b[0;34m(\u001b[0m\u001b[0mcompat_str\u001b[0m\u001b[0;34m(\u001b[0m\u001b[0me\u001b[0m\u001b[0;34m)\u001b[0m\u001b[0;34m,\u001b[0m \u001b[0me\u001b[0m\u001b[0;34m.\u001b[0m\u001b[0mformat_traceback\u001b[0m\u001b[0;34m(\u001b[0m\u001b[0;34m)\u001b[0m\u001b[0;34m)\u001b[0m\u001b[0;34m\u001b[0m\u001b[0m\n\u001b[0m\u001b[1;32m    821\u001b[0m                 \u001b[0;32mbreak\u001b[0m\u001b[0;34m\u001b[0m\u001b[0m\n",
      "\u001b[0;32m/Library/Frameworks/Python.framework/Versions/3.7/lib/python3.7/site-packages/youtube_dl/YoutubeDL.py\u001b[0m in \u001b[0;36mreport_error\u001b[0;34m(self, message, tb)\u001b[0m\n\u001b[1;32m    624\u001b[0m         \u001b[0merror_message\u001b[0m \u001b[0;34m=\u001b[0m \u001b[0;34m'%s %s'\u001b[0m \u001b[0;34m%\u001b[0m \u001b[0;34m(\u001b[0m\u001b[0m_msg_header\u001b[0m\u001b[0;34m,\u001b[0m \u001b[0mmessage\u001b[0m\u001b[0;34m)\u001b[0m\u001b[0;34m\u001b[0m\u001b[0m\n\u001b[0;32m--> 625\u001b[0;31m         \u001b[0mself\u001b[0m\u001b[0;34m.\u001b[0m\u001b[0mtrouble\u001b[0m\u001b[0;34m(\u001b[0m\u001b[0merror_message\u001b[0m\u001b[0;34m,\u001b[0m \u001b[0mtb\u001b[0m\u001b[0;34m)\u001b[0m\u001b[0;34m\u001b[0m\u001b[0m\n\u001b[0m\u001b[1;32m    626\u001b[0m \u001b[0;34m\u001b[0m\u001b[0m\n",
      "\u001b[0;32m/Library/Frameworks/Python.framework/Versions/3.7/lib/python3.7/site-packages/youtube_dl/YoutubeDL.py\u001b[0m in \u001b[0;36mtrouble\u001b[0;34m(self, message, tb)\u001b[0m\n\u001b[1;32m    594\u001b[0m                 \u001b[0mexc_info\u001b[0m \u001b[0;34m=\u001b[0m \u001b[0msys\u001b[0m\u001b[0;34m.\u001b[0m\u001b[0mexc_info\u001b[0m\u001b[0;34m(\u001b[0m\u001b[0;34m)\u001b[0m\u001b[0;34m\u001b[0m\u001b[0m\n\u001b[0;32m--> 595\u001b[0;31m             \u001b[0;32mraise\u001b[0m \u001b[0mDownloadError\u001b[0m\u001b[0;34m(\u001b[0m\u001b[0mmessage\u001b[0m\u001b[0;34m,\u001b[0m \u001b[0mexc_info\u001b[0m\u001b[0;34m)\u001b[0m\u001b[0;34m\u001b[0m\u001b[0m\n\u001b[0m\u001b[1;32m    596\u001b[0m         \u001b[0mself\u001b[0m\u001b[0;34m.\u001b[0m\u001b[0m_download_retcode\u001b[0m \u001b[0;34m=\u001b[0m \u001b[0;36m1\u001b[0m\u001b[0;34m\u001b[0m\u001b[0m\n",
      "\u001b[0;31mDownloadError\u001b[0m: ERROR: cXNIU8I0rl0: YouTube said: Unable to extract video data",
      "\nDuring handling of the above exception, another exception occurred:\n",
      "\u001b[0;31mOSError\u001b[0m                                   Traceback (most recent call last)",
      "\u001b[0;32m<ipython-input-41-6bcb1f509a41>\u001b[0m in \u001b[0;36msave_song\u001b[0;34m(url_raw, song_id)\u001b[0m\n\u001b[1;32m      3\u001b[0m     \u001b[0;32mtry\u001b[0m\u001b[0;34m:\u001b[0m\u001b[0;34m\u001b[0m\u001b[0m\n\u001b[0;32m----> 4\u001b[0;31m         \u001b[0mvideo\u001b[0m \u001b[0;34m=\u001b[0m \u001b[0mpafy\u001b[0m\u001b[0;34m.\u001b[0m\u001b[0mnew\u001b[0m\u001b[0;34m(\u001b[0m\u001b[0mURL\u001b[0m\u001b[0;34m)\u001b[0m\u001b[0;34m\u001b[0m\u001b[0m\n\u001b[0m\u001b[1;32m      5\u001b[0m         \u001b[0;31m# Check that the duration of the video is less than 10 minutes\u001b[0m\u001b[0;34m\u001b[0m\u001b[0;34m\u001b[0m\u001b[0m\n",
      "\u001b[0;32m/Library/Frameworks/Python.framework/Versions/3.7/lib/python3.7/site-packages/pafy/pafy.py\u001b[0m in \u001b[0;36mnew\u001b[0;34m(url, basic, gdata, size, callback, ydl_opts)\u001b[0m\n\u001b[1;32m    123\u001b[0m \u001b[0;34m\u001b[0m\u001b[0m\n\u001b[0;32m--> 124\u001b[0;31m     \u001b[0;32mreturn\u001b[0m \u001b[0mPafy\u001b[0m\u001b[0;34m(\u001b[0m\u001b[0murl\u001b[0m\u001b[0;34m,\u001b[0m \u001b[0mbasic\u001b[0m\u001b[0;34m,\u001b[0m \u001b[0mgdata\u001b[0m\u001b[0;34m,\u001b[0m \u001b[0msize\u001b[0m\u001b[0;34m,\u001b[0m \u001b[0mcallback\u001b[0m\u001b[0;34m,\u001b[0m \u001b[0mydl_opts\u001b[0m\u001b[0;34m=\u001b[0m\u001b[0mydl_opts\u001b[0m\u001b[0;34m)\u001b[0m\u001b[0;34m\u001b[0m\u001b[0m\n\u001b[0m\u001b[1;32m    125\u001b[0m \u001b[0;34m\u001b[0m\u001b[0m\n",
      "\u001b[0;32m/Library/Frameworks/Python.framework/Versions/3.7/lib/python3.7/site-packages/pafy/backend_youtube_dl.py\u001b[0m in \u001b[0;36m__init__\u001b[0;34m(self, *args, **kwargs)\u001b[0m\n\u001b[1;32m     30\u001b[0m             \u001b[0mself\u001b[0m\u001b[0;34m.\u001b[0m\u001b[0m_ydl_opts\u001b[0m\u001b[0;34m.\u001b[0m\u001b[0mupdate\u001b[0m\u001b[0;34m(\u001b[0m\u001b[0mydl_opts\u001b[0m\u001b[0;34m)\u001b[0m\u001b[0;34m\u001b[0m\u001b[0m\n\u001b[0;32m---> 31\u001b[0;31m         \u001b[0msuper\u001b[0m\u001b[0;34m(\u001b[0m\u001b[0mYtdlPafy\u001b[0m\u001b[0;34m,\u001b[0m \u001b[0mself\u001b[0m\u001b[0;34m)\u001b[0m\u001b[0;34m.\u001b[0m\u001b[0m__init__\u001b[0m\u001b[0;34m(\u001b[0m\u001b[0;34m*\u001b[0m\u001b[0margs\u001b[0m\u001b[0;34m,\u001b[0m \u001b[0;34m**\u001b[0m\u001b[0mkwargs\u001b[0m\u001b[0;34m)\u001b[0m\u001b[0;34m\u001b[0m\u001b[0m\n\u001b[0m\u001b[1;32m     32\u001b[0m \u001b[0;34m\u001b[0m\u001b[0m\n",
      "\u001b[0;32m/Library/Frameworks/Python.framework/Versions/3.7/lib/python3.7/site-packages/pafy/backend_shared.py\u001b[0m in \u001b[0;36m__init__\u001b[0;34m(self, video_url, basic, gdata, size, callback, ydl_opts)\u001b[0m\n\u001b[1;32m     96\u001b[0m         \u001b[0;32mif\u001b[0m \u001b[0mbasic\u001b[0m\u001b[0;34m:\u001b[0m\u001b[0;34m\u001b[0m\u001b[0m\n\u001b[0;32m---> 97\u001b[0;31m             \u001b[0mself\u001b[0m\u001b[0;34m.\u001b[0m\u001b[0m_fetch_basic\u001b[0m\u001b[0;34m(\u001b[0m\u001b[0;34m)\u001b[0m\u001b[0;34m\u001b[0m\u001b[0m\n\u001b[0m\u001b[1;32m     98\u001b[0m \u001b[0;34m\u001b[0m\u001b[0m\n",
      "\u001b[0;32m/Library/Frameworks/Python.framework/Versions/3.7/lib/python3.7/site-packages/pafy/backend_youtube_dl.py\u001b[0m in \u001b[0;36m_fetch_basic\u001b[0;34m(self)\u001b[0m\n\u001b[1;32m     42\u001b[0m             \u001b[0;32mexcept\u001b[0m \u001b[0myoutube_dl\u001b[0m\u001b[0;34m.\u001b[0m\u001b[0mutils\u001b[0m\u001b[0;34m.\u001b[0m\u001b[0mDownloadError\u001b[0m \u001b[0;32mas\u001b[0m \u001b[0me\u001b[0m\u001b[0;34m:\u001b[0m\u001b[0;34m\u001b[0m\u001b[0m\n\u001b[0;32m---> 43\u001b[0;31m                 \u001b[0;32mraise\u001b[0m \u001b[0mIOError\u001b[0m\u001b[0;34m(\u001b[0m\u001b[0mstr\u001b[0m\u001b[0;34m(\u001b[0m\u001b[0me\u001b[0m\u001b[0;34m)\u001b[0m\u001b[0;34m.\u001b[0m\u001b[0mreplace\u001b[0m\u001b[0;34m(\u001b[0m\u001b[0;34m'YouTube said'\u001b[0m\u001b[0;34m,\u001b[0m \u001b[0;34m'Youtube says'\u001b[0m\u001b[0;34m)\u001b[0m\u001b[0;34m)\u001b[0m\u001b[0;34m\u001b[0m\u001b[0m\n\u001b[0m\u001b[1;32m     44\u001b[0m \u001b[0;34m\u001b[0m\u001b[0m\n",
      "\u001b[0;31mOSError\u001b[0m: ERROR: cXNIU8I0rl0: Youtube says: Unable to extract video data",
      "\nDuring handling of the above exception, another exception occurred:\n",
      "\u001b[0;31mKeyboardInterrupt\u001b[0m                         Traceback (most recent call last)",
      "\u001b[0;32m<ipython-input-42-2c25c5032615>\u001b[0m in \u001b[0;36m<module>\u001b[0;34m\u001b[0m\n\u001b[1;32m      8\u001b[0m \u001b[0;34m\u001b[0m\u001b[0m\n\u001b[1;32m      9\u001b[0m     \u001b[0murl_num\u001b[0m \u001b[0;34m=\u001b[0m \u001b[0;36m0\u001b[0m\u001b[0;34m\u001b[0m\u001b[0m\n\u001b[0;32m---> 10\u001b[0;31m     \u001b[0;32mwhile\u001b[0m \u001b[0murl_num\u001b[0m \u001b[0;34m<\u001b[0m \u001b[0mlen\u001b[0m\u001b[0;34m(\u001b[0m\u001b[0murls\u001b[0m\u001b[0;34m)\u001b[0m \u001b[0;32mand\u001b[0m \u001b[0;32mnot\u001b[0m \u001b[0msave_song\u001b[0m\u001b[0;34m(\u001b[0m\u001b[0murls\u001b[0m\u001b[0;34m[\u001b[0m\u001b[0murl_num\u001b[0m\u001b[0;34m]\u001b[0m\u001b[0;34m,\u001b[0m \u001b[0msong\u001b[0m\u001b[0;34m)\u001b[0m\u001b[0;34m:\u001b[0m\u001b[0;34m\u001b[0m\u001b[0m\n\u001b[0m\u001b[1;32m     11\u001b[0m         \u001b[0murl_num\u001b[0m \u001b[0;34m+=\u001b[0m \u001b[0;36m1\u001b[0m\u001b[0;34m\u001b[0m\u001b[0m\n",
      "\u001b[0;32m<ipython-input-41-6bcb1f509a41>\u001b[0m in \u001b[0;36msave_song\u001b[0;34m(url_raw, song_id)\u001b[0m\n\u001b[1;32m     13\u001b[0m     \u001b[0;32mexcept\u001b[0m\u001b[0;34m:\u001b[0m\u001b[0;34m\u001b[0m\u001b[0m\n\u001b[1;32m     14\u001b[0m         \u001b[0mprint\u001b[0m\u001b[0;34m(\u001b[0m\u001b[0;34m\"Failed!\"\u001b[0m\u001b[0;34m)\u001b[0m\u001b[0;34m\u001b[0m\u001b[0m\n\u001b[0;32m---> 15\u001b[0;31m         \u001b[0mtime\u001b[0m\u001b[0;34m.\u001b[0m\u001b[0msleep\u001b[0m\u001b[0;34m(\u001b[0m\u001b[0;36m21\u001b[0m\u001b[0;34m)\u001b[0m\u001b[0;34m\u001b[0m\u001b[0m\n\u001b[0m\u001b[1;32m     16\u001b[0m         \u001b[0;32mreturn\u001b[0m \u001b[0;32mFalse\u001b[0m\u001b[0;34m\u001b[0m\u001b[0m\n",
      "\u001b[0;31mKeyboardInterrupt\u001b[0m: "
     ]
    }
   ],
   "source": [
    "import pafy\n",
    "import time\n",
    "\n",
    "sample_URLs = ['wdPAIXBmcF0', 'FiiA9OSm5lc']\n",
    "\n",
    "for song in song_to_urls.keys():\n",
    "    urls = song_to_urls[song]\n",
    "    \n",
    "    url_num = 0\n",
    "    while url_num < len(urls) and not save_song(urls[url_num], song):\n",
    "        url_num += 1"
   ]
  },
  {
   "cell_type": "code",
   "execution_count": null,
   "metadata": {},
   "outputs": [],
   "source": [
    "# last processed url: cXNIU8I0rl0"
   ]
  }
 ],
 "metadata": {
  "kernelspec": {
   "display_name": "Python 3",
   "language": "python",
   "name": "python3"
  }
 },
 "nbformat": 4,
 "nbformat_minor": 2
}
