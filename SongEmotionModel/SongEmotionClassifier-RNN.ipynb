{
 "cells": [
  {
   "cell_type": "code",
   "execution_count": 1,
   "metadata": {},
   "outputs": [],
   "source": [
    "import numpy as np"
   ]
  },
  {
   "cell_type": "code",
   "execution_count": 2,
   "metadata": {},
   "outputs": [
    {
     "data": {
      "text/plain": [
       "array([[  1.,   7.,  16., ...,   4.,   3.,  15.],\n",
       "       [  2.,   5.,   8., ...,   1.,   1.,   5.],\n",
       "       [  3.,   8.,  16., ...,  19.,  11.,   7.],\n",
       "       ...,\n",
       "       [398.,   3.,   0., ...,   7.,   3.,   2.],\n",
       "       [399.,   4.,   1., ...,   2.,   0.,   3.],\n",
       "       [400.,   3.,   2., ...,   3.,   6.,   5.]])"
      ]
     },
     "execution_count": 2,
     "metadata": {},
     "output_type": "execute_result"
    }
   ],
   "source": [
    "totals = np.genfromtxt('data/clean.csv', delimiter=',')[1:]  # drop header\n",
    "totals"
   ]
  },
  {
   "cell_type": "code",
   "execution_count": 3,
   "metadata": {},
   "outputs": [
    {
     "data": {
      "text/plain": [
       "array([[ 7., 16., 10., ...,  4.,  3., 15.],\n",
       "       [ 5.,  8., 20., ...,  1.,  1.,  5.],\n",
       "       [ 8., 16.,  6., ..., 19., 11.,  7.],\n",
       "       ...,\n",
       "       [ 3.,  0.,  0., ...,  7.,  3.,  2.],\n",
       "       [ 4.,  1.,  7., ...,  2.,  0.,  3.],\n",
       "       [ 3.,  2.,  1., ...,  3.,  6.,  5.]])"
      ]
     },
     "execution_count": 3,
     "metadata": {},
     "output_type": "execute_result"
    }
   ],
   "source": [
    "votes = totals[:, 1:]\n",
    "votes"
   ]
  },
  {
   "cell_type": "code",
   "execution_count": 4,
   "metadata": {},
   "outputs": [
    {
     "data": {
      "text/plain": [
       "9"
      ]
     },
     "execution_count": 4,
     "metadata": {},
     "output_type": "execute_result"
    }
   ],
   "source": [
    "num_classes = votes.shape[1]\n",
    "num_classes"
   ]
  },
  {
   "cell_type": "code",
   "execution_count": 5,
   "metadata": {},
   "outputs": [
    {
     "data": {
      "text/plain": [
       "array([4, 4, 6, 4, 3, 4, 6, 4, 4, 6, 3, 6, 3, 4, 3, 5, 4, 6, 4, 4, 4, 2,\n",
       "       6, 6, 1, 6, 5, 6, 4, 6, 3, 4, 4, 6, 4, 4, 2, 4, 6, 6, 1, 4, 6, 4,\n",
       "       4, 4, 8, 1, 8, 6, 3, 6, 7, 6, 4, 4, 1, 5, 6, 3, 6, 6, 4, 6, 6, 7,\n",
       "       4, 4, 2, 3, 6, 1, 3, 7, 7, 7, 4, 6, 6, 6, 6, 4, 3, 1, 6, 7, 4, 6,\n",
       "       4, 6, 8, 4, 4, 1, 6, 4, 1, 4, 4, 5, 3, 3, 6, 3, 8, 3, 4, 3, 5, 5,\n",
       "       6, 3, 2, 5, 5, 3, 4, 2, 6, 3, 5, 2, 6, 8, 6, 6, 7, 6, 6, 1, 8, 6,\n",
       "       4, 2, 4, 5, 5, 6, 5, 6, 8, 8, 4, 6, 4, 3, 3, 0, 4, 1, 3, 5, 3, 3,\n",
       "       1, 6, 7, 0, 3, 7, 7, 5, 3, 2, 2, 3, 6, 3, 6, 3, 7, 3, 6, 5, 3, 8,\n",
       "       4, 4, 6, 8, 6, 2, 4, 4, 5, 2, 4, 3, 2, 3, 2, 2, 8, 6, 3, 3, 6, 6,\n",
       "       5, 2, 7, 4, 7, 7, 4, 6, 7, 4, 6, 7, 7, 6, 6, 6, 6, 6, 4, 4, 4, 4,\n",
       "       1, 7, 6, 4, 7, 1, 4, 5, 7, 6, 5, 5, 7, 7, 4, 6, 1, 4, 7, 7, 1, 3,\n",
       "       5, 1, 7, 1, 4, 5, 4, 6, 5, 8, 7, 7, 6, 7, 6, 4, 4, 7, 7, 7, 8, 6,\n",
       "       1, 7, 1, 7, 6, 4, 5, 6, 5, 4, 7, 6, 5, 6, 1, 1, 6, 6, 4, 4, 4, 7,\n",
       "       6, 4, 1, 4, 1, 6, 5, 4, 4, 6, 1, 6, 1, 5, 2, 4, 8, 1, 3, 3, 3, 4,\n",
       "       4, 2, 4, 8, 6, 4, 4, 4, 4, 5, 7, 1, 5, 4, 4, 3, 3, 4, 2, 6, 3, 2,\n",
       "       8, 2, 4, 3, 6, 6, 3, 3, 7, 7, 3, 4, 5, 7, 4, 1, 4, 7, 7, 2, 3, 2,\n",
       "       4, 4, 2, 4, 4, 6, 8, 4, 7, 6, 3, 4, 2, 3, 8, 6, 4, 3, 5, 2, 4, 3,\n",
       "       6, 2, 5, 6, 6, 6, 4, 3, 6, 4, 6, 0, 7, 6, 2, 3, 6, 4, 1, 5, 6, 3,\n",
       "       8, 6, 4, 7])"
      ]
     },
     "execution_count": 5,
     "metadata": {},
     "output_type": "execute_result"
    }
   ],
   "source": [
    "max_cats = votes.argmax(axis=1)\n",
    "assert max_cats.shape[0] == votes.shape[0]\n",
    "max_cats"
   ]
  },
  {
   "cell_type": "code",
   "execution_count": 6,
   "metadata": {},
   "outputs": [],
   "source": [
    "# one_hot = np.eye(num_classes)[max_cats]\n",
    "# print(one_hot[0])\n",
    "# assert one_hot[0, 4] == 1\n",
    "# one_hot"
   ]
  },
  {
   "cell_type": "code",
   "execution_count": 7,
   "metadata": {},
   "outputs": [
    {
     "data": {
      "text/plain": [
       "(array([  1.,   2.,   3.,   4.,   5.,   6.,   7.,   8.,   9.,  10.,  11.,\n",
       "         12.,  13.,  14.,  15.,  16.,  17.,  18.,  19.,  20.,  21.,  22.,\n",
       "         23.,  24.,  25.,  26.,  27.,  28.,  29.,  30.,  31.,  32.,  33.,\n",
       "         34.,  35.,  36.,  37.,  38.,  39.,  40.,  41.,  42.,  43.,  44.,\n",
       "         45.,  46.,  47.,  48.,  49.,  50.,  51.,  52.,  53.,  54.,  55.,\n",
       "         56.,  57.,  58.,  59.,  60.,  61.,  62.,  63.,  64.,  65.,  66.,\n",
       "         67.,  68.,  69.,  70.,  71.,  72.,  73.,  74.,  75.,  76.,  77.,\n",
       "         78.,  79.,  80.,  81.,  82.,  83.,  84.,  85.,  86.,  87.,  88.,\n",
       "         89.,  90.,  91.,  92.,  93.,  94.,  95.,  96.,  97.,  98.,  99.,\n",
       "        100., 101., 102., 103., 104., 105., 106., 107., 108., 109., 110.,\n",
       "        111., 112., 113., 114., 115., 116., 117., 118., 119., 120., 121.,\n",
       "        122., 123., 124., 125., 126., 127., 128., 129., 130., 131., 132.,\n",
       "        133., 134., 135., 136., 137., 138., 139., 140., 141., 142., 143.,\n",
       "        144., 145., 146., 147., 148., 149., 150., 151., 152., 153., 154.,\n",
       "        155., 156., 157., 158., 159., 160., 161., 162., 163., 164., 165.,\n",
       "        166., 167., 168., 169., 170., 171., 172., 173., 174., 175., 176.,\n",
       "        177., 178., 179., 180., 181., 182., 183., 184., 185., 186., 187.,\n",
       "        188., 189., 190., 191., 192., 193., 194., 195., 196., 197., 198.,\n",
       "        199., 200., 201., 202., 203., 204., 205., 206., 207., 208., 209.,\n",
       "        210., 211., 212., 213., 214., 215., 216., 217., 218., 219., 220.,\n",
       "        221., 222., 223., 224., 225., 226., 227., 228., 229., 230., 231.,\n",
       "        232., 233., 234., 235., 236., 237., 238., 239., 240., 241., 242.,\n",
       "        243., 244., 245., 246., 247., 248., 249., 250., 251., 252., 253.,\n",
       "        254., 255., 256., 257., 258., 259., 260., 261., 262., 263., 264.,\n",
       "        265., 266., 267., 268., 269., 270., 271., 272., 273., 274., 275.,\n",
       "        276., 277., 278., 279., 280., 281., 282., 283., 284., 285., 286.,\n",
       "        287., 288., 289., 290., 291., 292., 293., 294., 295., 296., 297.,\n",
       "        298., 299., 300., 301., 302., 303., 304., 305., 306., 307., 308.,\n",
       "        309., 310., 311., 312., 313., 314., 315., 316., 317., 318., 319.,\n",
       "        320., 321., 322., 323., 324., 325., 326., 327., 328., 329., 330.,\n",
       "        331., 332., 333., 334., 335., 336., 337., 338., 339., 340., 341.,\n",
       "        342., 343., 344., 345., 346., 347., 348., 349., 350., 351., 352.,\n",
       "        353., 354., 355., 356., 357., 358., 359., 360., 361., 362., 363.,\n",
       "        364., 365., 366., 367., 368., 369., 370., 371., 372., 373., 374.,\n",
       "        375., 376., 377., 378., 379., 380., 381., 382., 383., 384., 385.,\n",
       "        386., 387., 388., 389., 390., 391., 392., 393., 394., 395., 396.,\n",
       "        397., 398., 399., 400.]),\n",
       " array([4, 4, 6, 4, 3, 4, 6, 4, 4, 6, 3, 6, 3, 4, 3, 5, 4, 6, 4, 4, 4, 2,\n",
       "        6, 6, 1, 6, 5, 6, 4, 6, 3, 4, 4, 6, 4, 4, 2, 4, 6, 6, 1, 4, 6, 4,\n",
       "        4, 4, 8, 1, 8, 6, 3, 6, 7, 6, 4, 4, 1, 5, 6, 3, 6, 6, 4, 6, 6, 7,\n",
       "        4, 4, 2, 3, 6, 1, 3, 7, 7, 7, 4, 6, 6, 6, 6, 4, 3, 1, 6, 7, 4, 6,\n",
       "        4, 6, 8, 4, 4, 1, 6, 4, 1, 4, 4, 5, 3, 3, 6, 3, 8, 3, 4, 3, 5, 5,\n",
       "        6, 3, 2, 5, 5, 3, 4, 2, 6, 3, 5, 2, 6, 8, 6, 6, 7, 6, 6, 1, 8, 6,\n",
       "        4, 2, 4, 5, 5, 6, 5, 6, 8, 8, 4, 6, 4, 3, 3, 0, 4, 1, 3, 5, 3, 3,\n",
       "        1, 6, 7, 0, 3, 7, 7, 5, 3, 2, 2, 3, 6, 3, 6, 3, 7, 3, 6, 5, 3, 8,\n",
       "        4, 4, 6, 8, 6, 2, 4, 4, 5, 2, 4, 3, 2, 3, 2, 2, 8, 6, 3, 3, 6, 6,\n",
       "        5, 2, 7, 4, 7, 7, 4, 6, 7, 4, 6, 7, 7, 6, 6, 6, 6, 6, 4, 4, 4, 4,\n",
       "        1, 7, 6, 4, 7, 1, 4, 5, 7, 6, 5, 5, 7, 7, 4, 6, 1, 4, 7, 7, 1, 3,\n",
       "        5, 1, 7, 1, 4, 5, 4, 6, 5, 8, 7, 7, 6, 7, 6, 4, 4, 7, 7, 7, 8, 6,\n",
       "        1, 7, 1, 7, 6, 4, 5, 6, 5, 4, 7, 6, 5, 6, 1, 1, 6, 6, 4, 4, 4, 7,\n",
       "        6, 4, 1, 4, 1, 6, 5, 4, 4, 6, 1, 6, 1, 5, 2, 4, 8, 1, 3, 3, 3, 4,\n",
       "        4, 2, 4, 8, 6, 4, 4, 4, 4, 5, 7, 1, 5, 4, 4, 3, 3, 4, 2, 6, 3, 2,\n",
       "        8, 2, 4, 3, 6, 6, 3, 3, 7, 7, 3, 4, 5, 7, 4, 1, 4, 7, 7, 2, 3, 2,\n",
       "        4, 4, 2, 4, 4, 6, 8, 4, 7, 6, 3, 4, 2, 3, 8, 6, 4, 3, 5, 2, 4, 3,\n",
       "        6, 2, 5, 6, 6, 6, 4, 3, 6, 4, 6, 0, 7, 6, 2, 3, 6, 4, 1, 5, 6, 3,\n",
       "        8, 6, 4, 7]))"
      ]
     },
     "execution_count": 7,
     "metadata": {},
     "output_type": "execute_result"
    }
   ],
   "source": [
    "x, y = totals[:, 0], max_cats\n",
    "x, y"
   ]
  },
  {
   "cell_type": "code",
   "execution_count": 8,
   "metadata": {},
   "outputs": [],
   "source": [
    "emotions = ['amazement', 'solemnity', 'tenderness', 'nostalgia', 'calmness', 'power', 'joyful_activation', 'tension', 'sadness']"
   ]
  },
  {
   "cell_type": "code",
   "execution_count": 9,
   "metadata": {},
   "outputs": [],
   "source": [
    "import torch\n",
    "import torch.nn as nn\n",
    "import torch.nn.functional as F\n",
    "import torch.optim as optim\n",
    "from torch.utils.data import DataLoader, random_split, Dataset\n",
    "from torch.nn.utils.rnn import pad_sequence\n",
    "import torchaudio"
   ]
  },
  {
   "cell_type": "code",
   "execution_count": 10,
   "metadata": {},
   "outputs": [
    {
     "name": "stdout",
     "output_type": "stream",
     "text": [
      "cuda\n"
     ]
    }
   ],
   "source": [
    "device = torch.device(\"cuda\" if torch.cuda.is_available() else \"cpu\")\n",
    "print(device)"
   ]
  },
  {
   "cell_type": "code",
   "execution_count": 121,
   "metadata": {},
   "outputs": [],
   "source": [
    "waveform, sample_rate = torchaudio.load('/datasets/memories/SongEmotionDataset/1.mp3')"
   ]
  },
  {
   "cell_type": "code",
   "execution_count": 122,
   "metadata": {},
   "outputs": [
    {
     "data": {
      "text/plain": [
       "(tensor([[ 0.0000,  0.0000,  0.0000,  ..., -0.0007, -0.0024, -0.0029],\n",
       "         [ 0.0000,  0.0000,  0.0000,  ..., -0.0011, -0.0029, -0.0033]]),\n",
       " 44100,\n",
       " torch.Size([2, 2647296]))"
      ]
     },
     "execution_count": 122,
     "metadata": {},
     "output_type": "execute_result"
    }
   ],
   "source": [
    "waveform, sample_rate, waveform.shape"
   ]
  },
  {
   "cell_type": "code",
   "execution_count": 123,
   "metadata": {},
   "outputs": [
    {
     "data": {
      "text/plain": [
       "(torch.Size([2647296]),\n",
       " tensor([ 0.0000,  0.0000,  0.0000,  ..., -0.0009, -0.0027, -0.0031]))"
      ]
     },
     "execution_count": 123,
     "metadata": {},
     "output_type": "execute_result"
    }
   ],
   "source": [
    "mono = torch.mean(waveform, dim=0)\n",
    "mono.shape, mono"
   ]
  },
  {
   "cell_type": "code",
   "execution_count": 20,
   "metadata": {},
   "outputs": [],
   "source": [
    "# settings\n",
    "n_mfcc = 40\n",
    "hidden_dim = 128\n",
    "rnn_layers = 1"
   ]
  },
  {
   "cell_type": "code",
   "execution_count": 21,
   "metadata": {},
   "outputs": [],
   "source": [
    "class SongEmotionDataset(Dataset):\n",
    "    \"\"\"\n",
    "    Song Emotion Dataset. Uses librosa to process mp3 files.\n",
    "    Takes first 20 seconds, and samples every 10 to get processed audio tensor.\n",
    "    \"\"\"\n",
    "\n",
    "    def __init__(self, x, y, transform=None):\n",
    "        \"\"\"\n",
    "        Args:\n",
    "            mp3: list of paths to mp3 files\n",
    "            labels: list of labels\n",
    "        \"\"\"\n",
    "        self.x = x\n",
    "        self.y = y\n",
    "        self.cache = {}\n",
    "        self.transform = torchaudio.transforms.MFCC(44100, n_mfcc)\n",
    "        \n",
    "    def __len__(self):\n",
    "        return len(self.x)\n",
    "\n",
    "    def __getitem__(self, index):\n",
    "        if index in self.cache:\n",
    "            return self.cache[index]\n",
    "        \n",
    "        waveform, sample_rate = torchaudio.load(f'/datasets/memories/SongEmotionDataset/{int(x[index])}.mp3')\n",
    "        mono_waveform = torch.mean(waveform, dim=0)\n",
    "        mfcc = self.transform(mono_waveform).transpose(1, 0)[:5000]\n",
    "        self.cache[index] = mfcc, torch.LongTensor([self.y[index]])\n",
    "        return self.cache[index]\n",
    "\n",
    "dataset = SongEmotionDataset(x, y)"
   ]
  },
  {
   "cell_type": "code",
   "execution_count": 22,
   "metadata": {},
   "outputs": [],
   "source": [
    "traindata, testdata = random_split(dataset, [round(len(dataset)*.8), round(len(dataset)*.2)])"
   ]
  },
  {
   "cell_type": "code",
   "execution_count": 23,
   "metadata": {},
   "outputs": [
    {
     "name": "stdout",
     "output_type": "stream",
     "text": [
      "torch.Size([5000, 40]) torch.Size([1])\n"
     ]
    }
   ],
   "source": [
    "test_x, test_y = traindata[0]\n",
    "print(test_x.shape, test_y.shape)"
   ]
  },
  {
   "cell_type": "code",
   "execution_count": 15,
   "metadata": {},
   "outputs": [
    {
     "data": {
      "text/plain": [
       "(tensor([[-5.6110e+02,  5.3806e-06, -3.5935e-05,  ...,  6.2227e-05,\n",
       "          -1.5855e-04, -1.3757e-04],\n",
       "         [-5.6110e+02,  5.3806e-06, -3.5935e-05,  ...,  6.2227e-05,\n",
       "          -1.5855e-04, -1.3757e-04],\n",
       "         [-5.6110e+02,  5.3806e-06, -3.5935e-05,  ...,  6.2227e-05,\n",
       "          -1.5855e-04, -1.3757e-04],\n",
       "         ...,\n",
       "         [-2.4912e+02,  8.0029e+01, -9.2529e+01,  ..., -1.8348e+01,\n",
       "          -2.1697e+01, -6.8960e-01],\n",
       "         [-2.4490e+02,  6.5710e+01, -7.6994e+01,  ..., -8.8169e+00,\n",
       "          -1.6043e+01, -7.2640e+00],\n",
       "         [-3.2050e+02,  4.1812e+01, -5.5972e+01,  ..., -5.8749e+00,\n",
       "          -7.2861e+00, -6.6129e+00]]),\n",
       " tensor([6]))"
      ]
     },
     "execution_count": 15,
     "metadata": {},
     "output_type": "execute_result"
    }
   ],
   "source": [
    "traindata[0]"
   ]
  },
  {
   "cell_type": "code",
   "execution_count": 16,
   "metadata": {},
   "outputs": [
    {
     "data": {
      "text/plain": [
       "tensor([6])"
      ]
     },
     "execution_count": 16,
     "metadata": {},
     "output_type": "execute_result"
    }
   ],
   "source": [
    "test_y"
   ]
  },
  {
   "cell_type": "code",
   "execution_count": 24,
   "metadata": {},
   "outputs": [],
   "source": [
    "def pad_collate(batch):\n",
    "    (xx, yy) = zip(*batch)\n",
    "    xx_pad = pad_sequence(xx, batch_first=True, padding_value=0)\n",
    "    yy_stack = torch.stack(yy).view(-1)\n",
    "    return xx_pad, yy_stack\n",
    "\n",
    "train_loader = DataLoader(traindata, batch_size=16, shuffle=True, num_workers=4, collate_fn=pad_collate)"
   ]
  },
  {
   "cell_type": "code",
   "execution_count": 178,
   "metadata": {},
   "outputs": [],
   "source": [
    "test_x, test_y = next(iter(train_loader))"
   ]
  },
  {
   "cell_type": "code",
   "execution_count": 37,
   "metadata": {},
   "outputs": [
    {
     "data": {
      "text/plain": [
       "(torch.Size([5000, 40]), torch.Size([1]))"
      ]
     },
     "execution_count": 37,
     "metadata": {},
     "output_type": "execute_result"
    }
   ],
   "source": [
    "test_x.shape, test_y.shape"
   ]
  },
  {
   "cell_type": "code",
   "execution_count": 36,
   "metadata": {},
   "outputs": [],
   "source": [
    "class Net(nn.Module):\n",
    "    def __init__(self):\n",
    "        super(Net, self).__init__()\n",
    "        self.lstm = nn.LSTM(n_mfcc, hidden_dim, rnn_layers, batch_first=True)\n",
    "        self.dense = dense = nn.Linear(hidden_dim, num_classes)\n",
    "    def forward(self, x):\n",
    "        output_seq, _ = self.lstm(inputs)\n",
    "        # output_seq has shape [batch, sequence, hidden_dim]\n",
    "        last_output = output_seq[:, -1]\n",
    "        out = self.dense(last_output)\n",
    "        return out\n",
    "\n",
    "model = Net().to(device)"
   ]
  },
  {
   "cell_type": "code",
   "execution_count": 39,
   "metadata": {},
   "outputs": [
    {
     "data": {
      "text/plain": [
       "torch.Size([16, 9])"
      ]
     },
     "execution_count": 39,
     "metadata": {},
     "output_type": "execute_result"
    }
   ],
   "source": [
    "test_pred = model(test_x.to(device))\n",
    "test_pred.shape"
   ]
  },
  {
   "cell_type": "code",
   "execution_count": 140,
   "metadata": {},
   "outputs": [],
   "source": [
    "dense = nn.Linear(hidden_dim, num_classes).to(device)\n",
    "last_output = test_pred[:, -1]\n",
    "out = dense(last_output)"
   ]
  },
  {
   "cell_type": "code",
   "execution_count": 141,
   "metadata": {},
   "outputs": [
    {
     "data": {
      "text/plain": [
       "torch.Size([1, 9])"
      ]
     },
     "execution_count": 141,
     "metadata": {},
     "output_type": "execute_result"
    }
   ],
   "source": [
    "out.shape"
   ]
  },
  {
   "cell_type": "code",
   "execution_count": 143,
   "metadata": {},
   "outputs": [
    {
     "data": {
      "text/plain": [
       "torch.Size([1, 1])"
      ]
     },
     "execution_count": 143,
     "metadata": {},
     "output_type": "execute_result"
    }
   ],
   "source": [
    "test_y.shape"
   ]
  },
  {
   "cell_type": "code",
   "execution_count": 144,
   "metadata": {},
   "outputs": [
    {
     "data": {
      "text/plain": [
       "tensor(2.2591, device='cuda:0', grad_fn=<NllLossBackward>)"
      ]
     },
     "execution_count": 144,
     "metadata": {},
     "output_type": "execute_result"
    }
   ],
   "source": [
    "criterion(out, test_y.to(device).view(-1))"
   ]
  },
  {
   "cell_type": "code",
   "execution_count": 34,
   "metadata": {},
   "outputs": [],
   "source": [
    "criterion = nn.CrossEntropyLoss()\n",
    "optimizer = optim.Adam(model.parameters(), lr=0.01)"
   ]
  },
  {
   "cell_type": "code",
   "execution_count": 41,
   "metadata": {
    "scrolled": false
   },
   "outputs": [
    {
     "name": "stdout",
     "output_type": "stream",
     "text": [
      "  - latest loss 2.2128078937530518\n",
      "  - latest loss 2.2544779777526855\n",
      "  - latest loss 2.1909148693084717\n",
      "  - latest loss 2.296206474304199\n",
      "  - latest loss 2.200183153152466\n",
      "  - latest loss 2.21799373626709\n",
      "  - latest loss 2.220433235168457\n",
      "  - latest loss 2.2295567989349365\n",
      "  - latest loss 2.2066664695739746\n",
      "  - latest loss 2.229936122894287\n",
      "  - latest loss 2.1914634704589844\n",
      "  - latest loss 2.1699812412261963\n",
      "  - latest loss 2.179621934890747\n",
      "  - latest loss 2.097020387649536\n",
      "  - latest loss 2.2164359092712402\n",
      "  - latest loss 2.1480345726013184\n",
      "  - latest loss 2.169774055480957\n",
      "  - latest loss 2.33172869682312\n",
      "  - latest loss 2.2681100368499756\n",
      "  - latest loss 2.327770709991455\n",
      "Epoch 0 - loss: 44.35911774635315\n",
      "  - latest loss 2.2703921794891357\n",
      "  - latest loss 2.353577136993408\n",
      "  - latest loss 2.231715202331543\n",
      "  - latest loss 2.2401745319366455\n",
      "  - latest loss 2.1168324947357178\n",
      "  - latest loss 2.2503437995910645\n",
      "  - latest loss 2.243340015411377\n",
      "  - latest loss 2.162245035171509\n",
      "  - latest loss 2.1424527168273926\n",
      "  - latest loss 2.1884047985076904\n",
      "  - latest loss 2.079019546508789\n",
      "  - latest loss 2.1998283863067627\n",
      "  - latest loss 2.230997085571289\n",
      "  - latest loss 2.2439756393432617\n",
      "  - latest loss 2.3310136795043945\n",
      "  - latest loss 1.979980230331421\n",
      "  - latest loss 2.1661934852600098\n",
      "  - latest loss 2.2390122413635254\n",
      "  - latest loss 2.40628719329834\n",
      "  - latest loss 2.283332586288452\n",
      "Epoch 1 - loss: 44.35911798477173\n",
      "  - latest loss 2.2571451663970947\n",
      "  - latest loss 2.077998399734497\n",
      "  - latest loss 2.2129950523376465\n",
      "  - latest loss 2.2727482318878174\n",
      "  - latest loss 2.2070882320404053\n",
      "  - latest loss 2.2339179515838623\n",
      "  - latest loss 2.3319711685180664\n",
      "  - latest loss 2.211094856262207\n",
      "  - latest loss 2.12857985496521\n",
      "  - latest loss 2.3302619457244873\n",
      "  - latest loss 2.120743989944458\n",
      "  - latest loss 2.121882915496826\n",
      "  - latest loss 2.133164167404175\n",
      "  - latest loss 2.0731558799743652\n",
      "  - latest loss 2.172863245010376\n",
      "  - latest loss 2.35817289352417\n",
      "  - latest loss 2.265627861022949\n",
      "  - latest loss 2.2108161449432373\n",
      "  - latest loss 2.4472272396087646\n",
      "  - latest loss 2.1916635036468506\n",
      "Epoch 2 - loss: 44.359118700027466\n",
      "  - latest loss 2.1939616203308105\n",
      "  - latest loss 2.151076555252075\n",
      "  - latest loss 2.140902042388916\n",
      "  - latest loss 2.3961234092712402\n",
      "  - latest loss 2.1753783226013184\n",
      "  - latest loss 2.2315990924835205\n",
      "  - latest loss 2.1104652881622314\n",
      "  - latest loss 2.301670551300049\n",
      "  - latest loss 2.3110222816467285\n",
      "  - latest loss 2.231748104095459\n",
      "  - latest loss 2.267568826675415\n",
      "  - latest loss 2.259307384490967\n",
      "  - latest loss 2.0952653884887695\n",
      "  - latest loss 2.134620189666748\n",
      "  - latest loss 2.2646324634552\n",
      "  - latest loss 2.1249544620513916\n",
      "  - latest loss 2.1659629344940186\n",
      "  - latest loss 2.4095935821533203\n",
      "  - latest loss 2.194345235824585\n",
      "  - latest loss 2.1989212036132812\n",
      "Epoch 3 - loss: 44.359118938446045\n",
      "  - latest loss 2.1823577880859375\n",
      "  - latest loss 2.2455294132232666\n",
      "  - latest loss 2.197481870651245\n",
      "  - latest loss 2.275759220123291\n",
      "  - latest loss 2.139366626739502\n",
      "  - latest loss 2.389794111251831\n",
      "  - latest loss 2.2581911087036133\n",
      "  - latest loss 2.298247814178467\n",
      "  - latest loss 2.3001482486724854\n",
      "  - latest loss 2.191295862197876\n",
      "  - latest loss 2.0439605712890625\n",
      "  - latest loss 2.2646334171295166\n",
      "  - latest loss 2.143354654312134\n",
      "  - latest loss 2.213028907775879\n",
      "  - latest loss 2.168307304382324\n",
      "  - latest loss 2.228825330734253\n",
      "  - latest loss 2.1632392406463623\n",
      "  - latest loss 2.210675001144409\n",
      "  - latest loss 2.2270193099975586\n",
      "  - latest loss 2.217902660369873\n",
      "Epoch 4 - loss: 44.35911846160889\n",
      "Finished training\n"
     ]
    }
   ],
   "source": [
    "epochs = 5\n",
    "\n",
    "for epoch in range(epochs):\n",
    "    running_loss = 0.0\n",
    "    for data in train_loader:\n",
    "        inputs, labels = data\n",
    "        inputs = inputs.to(device)\n",
    "        labels = labels.to(device)\n",
    "        \n",
    "        optimizer.zero_grad()\n",
    "        \n",
    "        out = model(inputs)\n",
    "        \n",
    "        loss = criterion(out, labels)\n",
    "        loss.backward()\n",
    "        optimizer.step()\n",
    "        \n",
    "        running_loss += loss.item()\n",
    "        print(f'  - latest loss {loss.item()}')\n",
    "    print(f'Epoch {epoch} - loss: {running_loss}')\n",
    "\n",
    "print('Finished training')"
   ]
  },
  {
   "cell_type": "code",
   "execution_count": null,
   "metadata": {},
   "outputs": [],
   "source": []
  }
 ],
 "metadata": {
  "kernelspec": {
   "display_name": "memories",
   "language": "python",
   "name": "memories"
  },
  "language_info": {
   "codemirror_mode": {
    "name": "ipython",
    "version": 3
   },
   "file_extension": ".py",
   "mimetype": "text/x-python",
   "name": "python",
   "nbconvert_exporter": "python",
   "pygments_lexer": "ipython3",
   "version": "3.6.9"
  }
 },
 "nbformat": 4,
 "nbformat_minor": 2
}
