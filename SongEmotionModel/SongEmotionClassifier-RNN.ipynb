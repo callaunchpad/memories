{
 "cells": [
  {
   "cell_type": "code",
   "execution_count": 1,
   "metadata": {},
   "outputs": [],
   "source": [
    "import numpy as np"
   ]
  },
  {
   "cell_type": "code",
   "execution_count": 2,
   "metadata": {},
   "outputs": [
    {
     "data": {
      "text/plain": [
       "array([[  1.,   7.,  16., ...,   4.,   3.,  15.],\n",
       "       [  2.,   5.,   8., ...,   1.,   1.,   5.],\n",
       "       [  3.,   8.,  16., ...,  19.,  11.,   7.],\n",
       "       ...,\n",
       "       [398.,   3.,   0., ...,   7.,   3.,   2.],\n",
       "       [399.,   4.,   1., ...,   2.,   0.,   3.],\n",
       "       [400.,   3.,   2., ...,   3.,   6.,   5.]])"
      ]
     },
     "execution_count": 2,
     "metadata": {},
     "output_type": "execute_result"
    }
   ],
   "source": [
    "totals = np.genfromtxt('data/clean.csv', delimiter=',')[1:]  # drop header\n",
    "totals"
   ]
  },
  {
   "cell_type": "code",
   "execution_count": 3,
   "metadata": {},
   "outputs": [
    {
     "data": {
      "text/plain": [
       "array([[ 7., 16., 10., ...,  4.,  3., 15.],\n",
       "       [ 5.,  8., 20., ...,  1.,  1.,  5.],\n",
       "       [ 8., 16.,  6., ..., 19., 11.,  7.],\n",
       "       ...,\n",
       "       [ 3.,  0.,  0., ...,  7.,  3.,  2.],\n",
       "       [ 4.,  1.,  7., ...,  2.,  0.,  3.],\n",
       "       [ 3.,  2.,  1., ...,  3.,  6.,  5.]])"
      ]
     },
     "execution_count": 3,
     "metadata": {},
     "output_type": "execute_result"
    }
   ],
   "source": [
    "votes = totals[:, 1:]\n",
    "votes"
   ]
  },
  {
   "cell_type": "code",
   "execution_count": 4,
   "metadata": {},
   "outputs": [
    {
     "data": {
      "text/plain": [
       "9"
      ]
     },
     "execution_count": 4,
     "metadata": {},
     "output_type": "execute_result"
    }
   ],
   "source": [
    "num_classes = votes.shape[1]\n",
    "num_classes"
   ]
  },
  {
   "cell_type": "code",
   "execution_count": 5,
   "metadata": {},
   "outputs": [
    {
     "data": {
      "text/plain": [
       "array([4, 4, 6, 4, 3, 4, 6, 4, 4, 6, 3, 6, 3, 4, 3, 5, 4, 6, 4, 4, 4, 2,\n",
       "       6, 6, 1, 6, 5, 6, 4, 6, 3, 4, 4, 6, 4, 4, 2, 4, 6, 6, 1, 4, 6, 4,\n",
       "       4, 4, 8, 1, 8, 6, 3, 6, 7, 6, 4, 4, 1, 5, 6, 3, 6, 6, 4, 6, 6, 7,\n",
       "       4, 4, 2, 3, 6, 1, 3, 7, 7, 7, 4, 6, 6, 6, 6, 4, 3, 1, 6, 7, 4, 6,\n",
       "       4, 6, 8, 4, 4, 1, 6, 4, 1, 4, 4, 5, 3, 3, 6, 3, 8, 3, 4, 3, 5, 5,\n",
       "       6, 3, 2, 5, 5, 3, 4, 2, 6, 3, 5, 2, 6, 8, 6, 6, 7, 6, 6, 1, 8, 6,\n",
       "       4, 2, 4, 5, 5, 6, 5, 6, 8, 8, 4, 6, 4, 3, 3, 0, 4, 1, 3, 5, 3, 3,\n",
       "       1, 6, 7, 0, 3, 7, 7, 5, 3, 2, 2, 3, 6, 3, 6, 3, 7, 3, 6, 5, 3, 8,\n",
       "       4, 4, 6, 8, 6, 2, 4, 4, 5, 2, 4, 3, 2, 3, 2, 2, 8, 6, 3, 3, 6, 6,\n",
       "       5, 2, 7, 4, 7, 7, 4, 6, 7, 4, 6, 7, 7, 6, 6, 6, 6, 6, 4, 4, 4, 4,\n",
       "       1, 7, 6, 4, 7, 1, 4, 5, 7, 6, 5, 5, 7, 7, 4, 6, 1, 4, 7, 7, 1, 3,\n",
       "       5, 1, 7, 1, 4, 5, 4, 6, 5, 8, 7, 7, 6, 7, 6, 4, 4, 7, 7, 7, 8, 6,\n",
       "       1, 7, 1, 7, 6, 4, 5, 6, 5, 4, 7, 6, 5, 6, 1, 1, 6, 6, 4, 4, 4, 7,\n",
       "       6, 4, 1, 4, 1, 6, 5, 4, 4, 6, 1, 6, 1, 5, 2, 4, 8, 1, 3, 3, 3, 4,\n",
       "       4, 2, 4, 8, 6, 4, 4, 4, 4, 5, 7, 1, 5, 4, 4, 3, 3, 4, 2, 6, 3, 2,\n",
       "       8, 2, 4, 3, 6, 6, 3, 3, 7, 7, 3, 4, 5, 7, 4, 1, 4, 7, 7, 2, 3, 2,\n",
       "       4, 4, 2, 4, 4, 6, 8, 4, 7, 6, 3, 4, 2, 3, 8, 6, 4, 3, 5, 2, 4, 3,\n",
       "       6, 2, 5, 6, 6, 6, 4, 3, 6, 4, 6, 0, 7, 6, 2, 3, 6, 4, 1, 5, 6, 3,\n",
       "       8, 6, 4, 7])"
      ]
     },
     "execution_count": 5,
     "metadata": {},
     "output_type": "execute_result"
    }
   ],
   "source": [
    "max_cats = votes.argmax(axis=1)\n",
    "assert max_cats.shape[0] == votes.shape[0]\n",
    "max_cats"
   ]
  },
  {
   "cell_type": "code",
   "execution_count": 6,
   "metadata": {},
   "outputs": [
    {
     "name": "stdout",
     "output_type": "stream",
     "text": [
      "[0. 0. 0. 0. 1. 0. 0. 0. 0.]\n"
     ]
    },
    {
     "data": {
      "text/plain": [
       "array([[0., 0., 0., ..., 0., 0., 0.],\n",
       "       [0., 0., 0., ..., 0., 0., 0.],\n",
       "       [0., 0., 0., ..., 1., 0., 0.],\n",
       "       ...,\n",
       "       [0., 0., 0., ..., 1., 0., 0.],\n",
       "       [0., 0., 0., ..., 0., 0., 0.],\n",
       "       [0., 0., 0., ..., 0., 1., 0.]])"
      ]
     },
     "execution_count": 6,
     "metadata": {},
     "output_type": "execute_result"
    }
   ],
   "source": [
    "one_hot = np.eye(num_classes)[max_cats]\n",
    "print(one_hot[0])\n",
    "assert one_hot[0, 4] == 1\n",
    "one_hot"
   ]
  },
  {
   "cell_type": "code",
   "execution_count": 7,
   "metadata": {},
   "outputs": [
    {
     "data": {
      "text/plain": [
       "(array([  1.,   2.,   3.,   4.,   5.,   6.,   7.,   8.,   9.,  10.,  11.,\n",
       "         12.,  13.,  14.,  15.,  16.,  17.,  18.,  19.,  20.,  21.,  22.,\n",
       "         23.,  24.,  25.,  26.,  27.,  28.,  29.,  30.,  31.,  32.,  33.,\n",
       "         34.,  35.,  36.,  37.,  38.,  39.,  40.,  41.,  42.,  43.,  44.,\n",
       "         45.,  46.,  47.,  48.,  49.,  50.,  51.,  52.,  53.,  54.,  55.,\n",
       "         56.,  57.,  58.,  59.,  60.,  61.,  62.,  63.,  64.,  65.,  66.,\n",
       "         67.,  68.,  69.,  70.,  71.,  72.,  73.,  74.,  75.,  76.,  77.,\n",
       "         78.,  79.,  80.,  81.,  82.,  83.,  84.,  85.,  86.,  87.,  88.,\n",
       "         89.,  90.,  91.,  92.,  93.,  94.,  95.,  96.,  97.,  98.,  99.,\n",
       "        100., 101., 102., 103., 104., 105., 106., 107., 108., 109., 110.,\n",
       "        111., 112., 113., 114., 115., 116., 117., 118., 119., 120., 121.,\n",
       "        122., 123., 124., 125., 126., 127., 128., 129., 130., 131., 132.,\n",
       "        133., 134., 135., 136., 137., 138., 139., 140., 141., 142., 143.,\n",
       "        144., 145., 146., 147., 148., 149., 150., 151., 152., 153., 154.,\n",
       "        155., 156., 157., 158., 159., 160., 161., 162., 163., 164., 165.,\n",
       "        166., 167., 168., 169., 170., 171., 172., 173., 174., 175., 176.,\n",
       "        177., 178., 179., 180., 181., 182., 183., 184., 185., 186., 187.,\n",
       "        188., 189., 190., 191., 192., 193., 194., 195., 196., 197., 198.,\n",
       "        199., 200., 201., 202., 203., 204., 205., 206., 207., 208., 209.,\n",
       "        210., 211., 212., 213., 214., 215., 216., 217., 218., 219., 220.,\n",
       "        221., 222., 223., 224., 225., 226., 227., 228., 229., 230., 231.,\n",
       "        232., 233., 234., 235., 236., 237., 238., 239., 240., 241., 242.,\n",
       "        243., 244., 245., 246., 247., 248., 249., 250., 251., 252., 253.,\n",
       "        254., 255., 256., 257., 258., 259., 260., 261., 262., 263., 264.,\n",
       "        265., 266., 267., 268., 269., 270., 271., 272., 273., 274., 275.,\n",
       "        276., 277., 278., 279., 280., 281., 282., 283., 284., 285., 286.,\n",
       "        287., 288., 289., 290., 291., 292., 293., 294., 295., 296., 297.,\n",
       "        298., 299., 300., 301., 302., 303., 304., 305., 306., 307., 308.,\n",
       "        309., 310., 311., 312., 313., 314., 315., 316., 317., 318., 319.,\n",
       "        320., 321., 322., 323., 324., 325., 326., 327., 328., 329., 330.,\n",
       "        331., 332., 333., 334., 335., 336., 337., 338., 339., 340., 341.,\n",
       "        342., 343., 344., 345., 346., 347., 348., 349., 350., 351., 352.,\n",
       "        353., 354., 355., 356., 357., 358., 359., 360., 361., 362., 363.,\n",
       "        364., 365., 366., 367., 368., 369., 370., 371., 372., 373., 374.,\n",
       "        375., 376., 377., 378., 379., 380., 381., 382., 383., 384., 385.,\n",
       "        386., 387., 388., 389., 390., 391., 392., 393., 394., 395., 396.,\n",
       "        397., 398., 399., 400.]),\n",
       " array([[0., 0., 0., ..., 0., 0., 0.],\n",
       "        [0., 0., 0., ..., 0., 0., 0.],\n",
       "        [0., 0., 0., ..., 1., 0., 0.],\n",
       "        ...,\n",
       "        [0., 0., 0., ..., 1., 0., 0.],\n",
       "        [0., 0., 0., ..., 0., 0., 0.],\n",
       "        [0., 0., 0., ..., 0., 1., 0.]]))"
      ]
     },
     "execution_count": 7,
     "metadata": {},
     "output_type": "execute_result"
    }
   ],
   "source": [
    "x, y = totals[:, 0], one_hot\n",
    "x, y"
   ]
  },
  {
   "cell_type": "code",
   "execution_count": 8,
   "metadata": {},
   "outputs": [],
   "source": [
    "emotions = ['amazement', 'solemnity', 'tenderness', 'nostalgia', 'calmness', 'power', 'joyful_activation', 'tension', 'sadness']"
   ]
  },
  {
   "cell_type": "code",
   "execution_count": 21,
   "metadata": {},
   "outputs": [],
   "source": [
    "import torch\n",
    "import torch.nn as nn\n",
    "import torch.nn.functional as F\n",
    "import torch.optim as optim\n",
    "from torch.utils.data import DataLoader, random_split, Dataset\n",
    "import torchaudio"
   ]
  },
  {
   "cell_type": "code",
   "execution_count": 56,
   "metadata": {},
   "outputs": [
    {
     "name": "stdout",
     "output_type": "stream",
     "text": [
      "cuda\n"
     ]
    }
   ],
   "source": [
    "device = torch.device(\"cuda\" if torch.cuda.is_available() else \"cpu\")\n",
    "print(device)"
   ]
  },
  {
   "cell_type": "code",
   "execution_count": 16,
   "metadata": {},
   "outputs": [],
   "source": [
    "waveform, sample_rate = torchaudio.load('/datasets/memories/SongEmotionDataset/1.mp3')"
   ]
  },
  {
   "cell_type": "code",
   "execution_count": 39,
   "metadata": {},
   "outputs": [
    {
     "data": {
      "text/plain": [
       "(tensor([[ 0.0000,  0.0000,  0.0000,  ..., -0.0007, -0.0024, -0.0029],\n",
       "         [ 0.0000,  0.0000,  0.0000,  ..., -0.0011, -0.0029, -0.0033]]),\n",
       " 44100,\n",
       " torch.Size([2, 2647296]))"
      ]
     },
     "execution_count": 39,
     "metadata": {},
     "output_type": "execute_result"
    }
   ],
   "source": [
    "waveform, sample_rate, waveform.shape"
   ]
  },
  {
   "cell_type": "code",
   "execution_count": 38,
   "metadata": {},
   "outputs": [
    {
     "data": {
      "text/plain": [
       "(torch.Size([2647296]),\n",
       " tensor([ 0.0000,  0.0000,  0.0000,  ..., -0.0009, -0.0027, -0.0031]))"
      ]
     },
     "execution_count": 38,
     "metadata": {},
     "output_type": "execute_result"
    }
   ],
   "source": [
    "mono = torch.mean(waveform, dim=0).unsequeeze(0)\n",
    "mono.shape, mono"
   ]
  },
  {
   "cell_type": "code",
   "execution_count": 52,
   "metadata": {},
   "outputs": [],
   "source": [
    "# settings\n",
    "n_mfcc = 40\n",
    "hidden_dim = 128\n",
    "rnn_layers = 2"
   ]
  },
  {
   "cell_type": "code",
   "execution_count": 53,
   "metadata": {},
   "outputs": [],
   "source": [
    "class SongEmotionDataset(Dataset):\n",
    "    \"\"\"\n",
    "    Song Emotion Dataset. Uses librosa to process mp3 files.\n",
    "    Takes first 20 seconds, and samples every 10 to get processed audio tensor.\n",
    "    \"\"\"\n",
    "\n",
    "    def __init__(self, x, y, transform=None):\n",
    "        \"\"\"\n",
    "        Args:\n",
    "            mp3: list of paths to mp3 files\n",
    "            labels: list of labels\n",
    "        \"\"\"\n",
    "        self.x = x\n",
    "        self.y = y\n",
    "        self.cache = {}\n",
    "        self.transform = torchaudio.transforms.MFCC(44100, n_mfcc)\n",
    "        \n",
    "    def __len__(self):\n",
    "        return len(self.x)\n",
    "\n",
    "    def __getitem__(self, index):\n",
    "        waveform, sample_rate = torchaudio.load(f'/datasets/memories/SongEmotionDataset/{int(x[index])}.mp3')\n",
    "        mono_waveform = torch.mean(waveform, dim=0)\n",
    "        return self.transform(mono_waveform).transpose(1, 0)\n",
    "\n",
    "dataset = SongEmotionDataset(x, y)"
   ]
  },
  {
   "cell_type": "code",
   "execution_count": 54,
   "metadata": {},
   "outputs": [],
   "source": [
    "traindata, testdata = random_split(dataset, [round(len(dataset)*.8), round(len(dataset)*.2)])"
   ]
  },
  {
   "cell_type": "code",
   "execution_count": 55,
   "metadata": {},
   "outputs": [
    {
     "name": "stdout",
     "output_type": "stream",
     "text": [
      "torch.Size([13237, 40])\n"
     ]
    }
   ],
   "source": [
    "test = traindata[0]\n",
    "print(test.shape)"
   ]
  },
  {
   "cell_type": "code",
   "execution_count": null,
   "metadata": {},
   "outputs": [],
   "source": [
    "train_loader = DataLoader(traindata, batch_size=16, shuffle=True, num_workers=2)"
   ]
  },
  {
   "cell_type": "code",
   "execution_count": 57,
   "metadata": {},
   "outputs": [],
   "source": [
    "model = nn.LSTM(n_mfcc, hidden_dim, rnn_layers).to(device)"
   ]
  },
  {
   "cell_type": "code",
   "execution_count": null,
   "metadata": {},
   "outputs": [],
   "source": [
    "epochs = 10\n",
    "\n",
    "for epoch in range(epochs):\n",
    "    running_loss = 0.0"
   ]
  }
 ],
 "metadata": {
  "kernelspec": {
   "display_name": "memories",
   "language": "python",
   "name": "memories"
  },
  "language_info": {
   "codemirror_mode": {
    "name": "ipython",
    "version": 3
   },
   "file_extension": ".py",
   "mimetype": "text/x-python",
   "name": "python",
   "nbconvert_exporter": "python",
   "pygments_lexer": "ipython3",
   "version": "3.6.9"
  }
 },
 "nbformat": 4,
 "nbformat_minor": 2
}
